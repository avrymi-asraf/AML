{
  "cells": [
    {
      "cell_type": "code",
      "execution_count": 1,
      "metadata": {
        "id": "3cq4YZBjHieK"
      },
      "outputs": [],
      "source": [
        "from torchvision import transforms\n",
        "\n",
        "train_transform = transforms.Compose([\n",
        "    transforms.ToPILImage(),\n",
        "    transforms.RandomResizedCrop(32, scale=(0.2, 1.0)),\n",
        "    transforms.RandomHorizontalFlip(p=0.5),\n",
        "    transforms.ColorJitter(brightness=0.4, contrast=0.4, saturation=0.2, hue=0.1),\n",
        "    transforms.RandomGrayscale(p=0.2),\n",
        "    transforms.RandomApply([transforms.GaussianBlur(kernel_size=3)], p=0.5),\n",
        "    transforms.ToTensor(),\n",
        "    transforms.Normalize((0.4914, 0.4822, 0.4465), (0.247, 0.243, 0.261))\n",
        "])\n",
        "test_transform = transforms.Compose([\n",
        "    transforms.ToPILImage(),\n",
        "    transforms.ToTensor(),\n",
        "    transforms.Normalize((0.4914, 0.4822, 0.4465), (0.247, 0.243, 0.261))\n",
        "])\n"
      ]
    },
    {
      "cell_type": "code",
      "execution_count": 2,
      "metadata": {
        "id": "eBYjfH6B72e6"
      },
      "outputs": [],
      "source": [
        "transform = transforms.Compose([\n",
        "    transforms.ToTensor()  # Converts PIL images to PyTorch tensors\n",
        "])"
      ]
    },
    {
      "cell_type": "code",
      "execution_count": 3,
      "metadata": {
        "id": "p3FlOImJHmXX"
      },
      "outputs": [],
      "source": [
        "import torch\n",
        "import torch.nn as nn\n",
        "from torchvision.models import resnet18\n",
        "\n",
        "\n",
        "class Encoder(nn.Module):\n",
        "    def __init__(self, D=128, device='cuda'):\n",
        "        super(Encoder, self).__init__()\n",
        "        self.resnet = resnet18(pretrained=False).to(device)\n",
        "        self.resnet.conv1 = nn.Conv2d(3, 64, kernel_size=(3, 3), stride=1)\n",
        "        self.resnet.maxpool = nn.Identity()\n",
        "        self.resnet.fc = nn.Linear(512, 512)\n",
        "        self.fc = nn.Sequential(nn.BatchNorm1d(512), nn.ReLU(inplace=True), nn.Linear(512, D))\n",
        "\n",
        "    def forward(self, x):\n",
        "        x = self.resnet(x)\n",
        "        x = self.fc(x)\n",
        "        return x\n",
        "\n",
        "    def encode(self, x):\n",
        "        return self.forward(x)\n",
        "\n",
        "\n",
        "class Projector(nn.Module):\n",
        "    def __init__(self, D, proj_dim=512):\n",
        "        super(Projector, self).__init__()\n",
        "        self.model = nn.Sequential(nn.Linear(D, proj_dim),\n",
        "                                   nn.BatchNorm1d(proj_dim),\n",
        "                                   nn.ReLU(inplace=True),\n",
        "                                   nn.Linear(proj_dim, proj_dim),\n",
        "                                   nn.BatchNorm1d(proj_dim),\n",
        "                                   nn.ReLU(inplace=True),\n",
        "                                   nn.Linear(proj_dim, proj_dim)\n",
        "                                   )\n",
        "\n",
        "    def forward(self, x):\n",
        "        return self.model(x)\n",
        "\n",
        "\n"
      ]
    },
    {
      "cell_type": "code",
      "execution_count": 4,
      "metadata": {
        "id": "sLPSDKyu4gJV"
      },
      "outputs": [],
      "source": [
        "device = torch.device('cuda' if torch.cuda.is_available() else 'cpu')"
      ]
    },
    {
      "cell_type": "code",
      "execution_count": 5,
      "metadata": {
        "id": "eF1InMwoA6au"
      },
      "outputs": [],
      "source": [
        "import torch\n",
        "import torch.nn as nn\n",
        "import torch.optim as optim\n",
        "from torch.utils.data import DataLoader\n",
        "from torchvision import datasets, transforms"
      ]
    },
    {
      "cell_type": "code",
      "execution_count": 6,
      "metadata": {
        "colab": {
          "base_uri": "https://localhost:8080/"
        },
        "id": "3N4xsk-lA89Q",
        "outputId": "1470d422-4d79-4bbf-89e9-088609c4922a"
      },
      "outputs": [
        {
          "output_type": "stream",
          "name": "stdout",
          "text": [
            "Downloading https://www.cs.toronto.edu/~kriz/cifar-10-python.tar.gz to ./data/cifar-10-python.tar.gz\n"
          ]
        },
        {
          "output_type": "stream",
          "name": "stderr",
          "text": [
            "100%|██████████| 170498071/170498071 [00:02<00:00, 59378568.39it/s]\n"
          ]
        },
        {
          "output_type": "stream",
          "name": "stdout",
          "text": [
            "Extracting ./data/cifar-10-python.tar.gz to ./data\n",
            "Files already downloaded and verified\n"
          ]
        }
      ],
      "source": [
        "train_dataset = datasets.CIFAR10(root='./data', train=True, download=True, transform=transform)\n",
        "train_loader = DataLoader(train_dataset, batch_size=256, shuffle=True)\n",
        "\n",
        "test_dataset = datasets.CIFAR10(root='./data', train=False, download=True, transform=transform)\n",
        "test_loader = DataLoader(test_dataset, batch_size=256, shuffle=False)"
      ]
    },
    {
      "cell_type": "code",
      "execution_count": 7,
      "metadata": {
        "id": "BOlZMhGkB_OH"
      },
      "outputs": [],
      "source": [
        "class VICReg(nn.Module):\n",
        "    def __init__(self, encoder, projector, device='cuda'):\n",
        "        super(VICReg, self).__init__()\n",
        "        self.encoder = encoder\n",
        "        self.projector = projector\n",
        "        self.device = device\n",
        "\n",
        "    def forward(self, x):\n",
        "        z = self.encoder(x)\n",
        "        p = self.projector(z)\n",
        "        return p"
      ]
    },
    {
      "cell_type": "code",
      "execution_count": 8,
      "metadata": {
        "colab": {
          "base_uri": "https://localhost:8080/"
        },
        "id": "1xn2MAalGcxq",
        "outputId": "94a2582e-4dd2-4f22-db0a-faee70fc92c7"
      },
      "outputs": [
        {
          "output_type": "stream",
          "name": "stderr",
          "text": [
            "/usr/local/lib/python3.10/dist-packages/torchvision/models/_utils.py:208: UserWarning: The parameter 'pretrained' is deprecated since 0.13 and may be removed in the future, please use 'weights' instead.\n",
            "  warnings.warn(\n",
            "/usr/local/lib/python3.10/dist-packages/torchvision/models/_utils.py:223: UserWarning: Arguments other than a weight enum or `None` for 'weights' are deprecated since 0.13 and may be removed in the future. The current behavior is equivalent to passing `weights=None`.\n",
            "  warnings.warn(msg)\n"
          ]
        },
        {
          "output_type": "execute_result",
          "data": {
            "text/plain": [
              "VICReg(\n",
              "  (encoder): Encoder(\n",
              "    (resnet): ResNet(\n",
              "      (conv1): Conv2d(3, 64, kernel_size=(3, 3), stride=(1, 1))\n",
              "      (bn1): BatchNorm2d(64, eps=1e-05, momentum=0.1, affine=True, track_running_stats=True)\n",
              "      (relu): ReLU(inplace=True)\n",
              "      (maxpool): Identity()\n",
              "      (layer1): Sequential(\n",
              "        (0): BasicBlock(\n",
              "          (conv1): Conv2d(64, 64, kernel_size=(3, 3), stride=(1, 1), padding=(1, 1), bias=False)\n",
              "          (bn1): BatchNorm2d(64, eps=1e-05, momentum=0.1, affine=True, track_running_stats=True)\n",
              "          (relu): ReLU(inplace=True)\n",
              "          (conv2): Conv2d(64, 64, kernel_size=(3, 3), stride=(1, 1), padding=(1, 1), bias=False)\n",
              "          (bn2): BatchNorm2d(64, eps=1e-05, momentum=0.1, affine=True, track_running_stats=True)\n",
              "        )\n",
              "        (1): BasicBlock(\n",
              "          (conv1): Conv2d(64, 64, kernel_size=(3, 3), stride=(1, 1), padding=(1, 1), bias=False)\n",
              "          (bn1): BatchNorm2d(64, eps=1e-05, momentum=0.1, affine=True, track_running_stats=True)\n",
              "          (relu): ReLU(inplace=True)\n",
              "          (conv2): Conv2d(64, 64, kernel_size=(3, 3), stride=(1, 1), padding=(1, 1), bias=False)\n",
              "          (bn2): BatchNorm2d(64, eps=1e-05, momentum=0.1, affine=True, track_running_stats=True)\n",
              "        )\n",
              "      )\n",
              "      (layer2): Sequential(\n",
              "        (0): BasicBlock(\n",
              "          (conv1): Conv2d(64, 128, kernel_size=(3, 3), stride=(2, 2), padding=(1, 1), bias=False)\n",
              "          (bn1): BatchNorm2d(128, eps=1e-05, momentum=0.1, affine=True, track_running_stats=True)\n",
              "          (relu): ReLU(inplace=True)\n",
              "          (conv2): Conv2d(128, 128, kernel_size=(3, 3), stride=(1, 1), padding=(1, 1), bias=False)\n",
              "          (bn2): BatchNorm2d(128, eps=1e-05, momentum=0.1, affine=True, track_running_stats=True)\n",
              "          (downsample): Sequential(\n",
              "            (0): Conv2d(64, 128, kernel_size=(1, 1), stride=(2, 2), bias=False)\n",
              "            (1): BatchNorm2d(128, eps=1e-05, momentum=0.1, affine=True, track_running_stats=True)\n",
              "          )\n",
              "        )\n",
              "        (1): BasicBlock(\n",
              "          (conv1): Conv2d(128, 128, kernel_size=(3, 3), stride=(1, 1), padding=(1, 1), bias=False)\n",
              "          (bn1): BatchNorm2d(128, eps=1e-05, momentum=0.1, affine=True, track_running_stats=True)\n",
              "          (relu): ReLU(inplace=True)\n",
              "          (conv2): Conv2d(128, 128, kernel_size=(3, 3), stride=(1, 1), padding=(1, 1), bias=False)\n",
              "          (bn2): BatchNorm2d(128, eps=1e-05, momentum=0.1, affine=True, track_running_stats=True)\n",
              "        )\n",
              "      )\n",
              "      (layer3): Sequential(\n",
              "        (0): BasicBlock(\n",
              "          (conv1): Conv2d(128, 256, kernel_size=(3, 3), stride=(2, 2), padding=(1, 1), bias=False)\n",
              "          (bn1): BatchNorm2d(256, eps=1e-05, momentum=0.1, affine=True, track_running_stats=True)\n",
              "          (relu): ReLU(inplace=True)\n",
              "          (conv2): Conv2d(256, 256, kernel_size=(3, 3), stride=(1, 1), padding=(1, 1), bias=False)\n",
              "          (bn2): BatchNorm2d(256, eps=1e-05, momentum=0.1, affine=True, track_running_stats=True)\n",
              "          (downsample): Sequential(\n",
              "            (0): Conv2d(128, 256, kernel_size=(1, 1), stride=(2, 2), bias=False)\n",
              "            (1): BatchNorm2d(256, eps=1e-05, momentum=0.1, affine=True, track_running_stats=True)\n",
              "          )\n",
              "        )\n",
              "        (1): BasicBlock(\n",
              "          (conv1): Conv2d(256, 256, kernel_size=(3, 3), stride=(1, 1), padding=(1, 1), bias=False)\n",
              "          (bn1): BatchNorm2d(256, eps=1e-05, momentum=0.1, affine=True, track_running_stats=True)\n",
              "          (relu): ReLU(inplace=True)\n",
              "          (conv2): Conv2d(256, 256, kernel_size=(3, 3), stride=(1, 1), padding=(1, 1), bias=False)\n",
              "          (bn2): BatchNorm2d(256, eps=1e-05, momentum=0.1, affine=True, track_running_stats=True)\n",
              "        )\n",
              "      )\n",
              "      (layer4): Sequential(\n",
              "        (0): BasicBlock(\n",
              "          (conv1): Conv2d(256, 512, kernel_size=(3, 3), stride=(2, 2), padding=(1, 1), bias=False)\n",
              "          (bn1): BatchNorm2d(512, eps=1e-05, momentum=0.1, affine=True, track_running_stats=True)\n",
              "          (relu): ReLU(inplace=True)\n",
              "          (conv2): Conv2d(512, 512, kernel_size=(3, 3), stride=(1, 1), padding=(1, 1), bias=False)\n",
              "          (bn2): BatchNorm2d(512, eps=1e-05, momentum=0.1, affine=True, track_running_stats=True)\n",
              "          (downsample): Sequential(\n",
              "            (0): Conv2d(256, 512, kernel_size=(1, 1), stride=(2, 2), bias=False)\n",
              "            (1): BatchNorm2d(512, eps=1e-05, momentum=0.1, affine=True, track_running_stats=True)\n",
              "          )\n",
              "        )\n",
              "        (1): BasicBlock(\n",
              "          (conv1): Conv2d(512, 512, kernel_size=(3, 3), stride=(1, 1), padding=(1, 1), bias=False)\n",
              "          (bn1): BatchNorm2d(512, eps=1e-05, momentum=0.1, affine=True, track_running_stats=True)\n",
              "          (relu): ReLU(inplace=True)\n",
              "          (conv2): Conv2d(512, 512, kernel_size=(3, 3), stride=(1, 1), padding=(1, 1), bias=False)\n",
              "          (bn2): BatchNorm2d(512, eps=1e-05, momentum=0.1, affine=True, track_running_stats=True)\n",
              "        )\n",
              "      )\n",
              "      (avgpool): AdaptiveAvgPool2d(output_size=(1, 1))\n",
              "      (fc): Linear(in_features=512, out_features=512, bias=True)\n",
              "    )\n",
              "    (fc): Sequential(\n",
              "      (0): BatchNorm1d(512, eps=1e-05, momentum=0.1, affine=True, track_running_stats=True)\n",
              "      (1): ReLU(inplace=True)\n",
              "      (2): Linear(in_features=512, out_features=128, bias=True)\n",
              "    )\n",
              "  )\n",
              "  (projector): Projector(\n",
              "    (model): Sequential(\n",
              "      (0): Linear(in_features=128, out_features=512, bias=True)\n",
              "      (1): BatchNorm1d(512, eps=1e-05, momentum=0.1, affine=True, track_running_stats=True)\n",
              "      (2): ReLU(inplace=True)\n",
              "      (3): Linear(in_features=512, out_features=512, bias=True)\n",
              "      (4): BatchNorm1d(512, eps=1e-05, momentum=0.1, affine=True, track_running_stats=True)\n",
              "      (5): ReLU(inplace=True)\n",
              "      (6): Linear(in_features=512, out_features=512, bias=True)\n",
              "    )\n",
              "  )\n",
              ")"
            ]
          },
          "metadata": {},
          "execution_count": 8
        }
      ],
      "source": [
        "encoder = Encoder(D=128)\n",
        "projector = Projector(D=128, proj_dim=512)\n",
        "model = VICReg(encoder, projector, device)\n",
        "model.to(device)\n"
      ]
    },
    {
      "cell_type": "code",
      "execution_count": 9,
      "metadata": {
        "id": "L8_-UP5NrYRp"
      },
      "outputs": [],
      "source": [
        "def off_diagonal(x): #used chatGPT\n",
        "    n, m = x.shape\n",
        "    assert n == m\n",
        "    return x.flatten()[:-1].view(n - 1, n + 1)[:, 1:].flatten()"
      ]
    },
    {
      "cell_type": "code",
      "execution_count": 10,
      "metadata": {
        "id": "OBxICGJNGmed"
      },
      "outputs": [],
      "source": [
        "def loss(x, y, lambda_param=25., mu=25., nu=1., sigma=1e-4, d=512, eps=1e-4, gamma=1):\n",
        "  # L inverse\n",
        "  inv_loss = nn.MSELoss()(x,y)\n",
        "\n",
        "  # variance loss\n",
        "  x_sigma = torch.sqrt(torch.var(x, dim=0) + eps)\n",
        "  y_sigma = torch.sqrt(torch.var(y, dim=0) + eps)\n",
        "  x_var = torch.mean(torch.max(gamma - x_sigma, torch.zeros_like(x_sigma)))\n",
        "  y_var = torch.mean(torch.max(gamma - y_sigma, torch.zeros_like(y_sigma)))\n",
        "  var_loss = x_var + y_var\n",
        "\n",
        "  # cov loss\n",
        "  x_cov = torch.cov(x)\n",
        "  y_cov = torch.cov(y)\n",
        "  cov_loss = (off_diagonal(x_cov).pow_(2).sum() / 256) + (off_diagonal(y_cov).pow_(2).sum() / 256)\n",
        "\n",
        "  total_loss = lambda_param * inv_loss + mu * var_loss + nu * cov_loss\n",
        "\n",
        "  return total_loss, inv_loss, var_loss, cov_loss\n"
      ]
    },
    {
      "cell_type": "code",
      "execution_count": 11,
      "metadata": {
        "id": "J-7Q3QCkwFvp"
      },
      "outputs": [],
      "source": [
        "optimizer = optim.Adam(model.parameters(), lr=1e-3, betas=(0.9, 0.999), weight_decay=1e-6)"
      ]
    },
    {
      "cell_type": "code",
      "execution_count": null,
      "metadata": {
        "colab": {
          "base_uri": "https://localhost:8080/"
        },
        "id": "6wwdnrpircP9",
        "outputId": "726b5199-cbdd-4433-f515-e568bc895141"
      },
      "outputs": [
        {
          "output_type": "stream",
          "name": "stderr",
          "text": [
            "100%|██████████| 196/196 [04:16<00:00,  1.31s/it]\n"
          ]
        },
        {
          "output_type": "stream",
          "name": "stdout",
          "text": [
            "Epoch [1/10], Loss: 12.3682\n"
          ]
        },
        {
          "output_type": "stream",
          "name": "stderr",
          "text": [
            " 52%|█████▏    | 101/196 [02:08<01:57,  1.23s/it]"
          ]
        }
      ],
      "source": [
        "from tqdm import tqdm\n",
        "train_loss = []\n",
        "train_inv_loss = []\n",
        "train_var_loss = []\n",
        "train_cov_loss = []\n",
        "test_loss = []\n",
        "test_inv_loss = []\n",
        "test_var_loss = []\n",
        "test_cov_loss = []\n",
        "\n",
        "num_epochs = 10\n",
        "for epoch in range(num_epochs):\n",
        "  model.train()\n",
        "  batch_loss = []\n",
        "  batch_inv_loss = []\n",
        "  batch_var_loss = []\n",
        "  batch_cov_loss = []\n",
        "  for imgs, _ in tqdm(train_loader):\n",
        "\n",
        "    imgs = imgs.to(model.device)\n",
        "\n",
        "    imgs1 = torch.stack([train_transform(img) for img in imgs]).to(model.device)\n",
        "    imgs2 = torch.stack([train_transform(img) for img in imgs]).to(model.device)\n",
        "\n",
        "    # imgs1 = train_transform(imgs)\n",
        "    # imgs2 = test_transform(imgs)\n",
        "\n",
        "    res1, res2 = model(imgs1), model(imgs2)\n",
        "\n",
        "    total_loss, inv_loss, var_loss, cov_loss = loss(res1, res2)\n",
        "\n",
        "    optimizer.zero_grad()\n",
        "    total_loss.backward()\n",
        "    optimizer.step()\n",
        "\n",
        "    batch_inv_loss.append(inv_loss.item())\n",
        "    batch_var_loss.append(var_loss.item())\n",
        "    batch_cov_loss.append(cov_loss.item())\n",
        "    batch_loss.append(total_loss.item())\n",
        "\n",
        "  train_inv_loss.append(sum(batch_inv_loss) / len(batch_inv_loss))\n",
        "  train_var_loss.append(sum(batch_var_loss) / len(batch_var_loss))\n",
        "  train_cov_loss.append(sum(batch_cov_loss) / len(batch_cov_loss))\n",
        "  train_loss.append(sum(batch_loss) / len(batch_loss))\n",
        "\n",
        "  print(f'Epoch [{epoch+1}/{num_epochs}], Loss: {total_loss.item():.4f}')\n",
        "\n",
        "  model.eval()\n",
        "  with torch.no_grad():\n",
        "    test_batch_loss = []\n",
        "    test_batch_inv_loss = []\n",
        "    test_batch_var_loss = []\n",
        "    test_batch_cov_loss = []\n",
        "    for batch in test_loader:\n",
        "      imgs, _ = batch\n",
        "      imgs = imgs.to(model.device)\n",
        "\n",
        "      # imgs1 = test_transform(imgs)\n",
        "      # imgs2 = test_transform(imgs)\n",
        "      imgs1 = torch.stack([train_transform(img) for img in imgs]).to(model.device)\n",
        "      imgs2 = torch.stack([train_transform(img) for img in imgs]).to(model.device)\n",
        "\n",
        "\n",
        "      res1, res2 = model(imgs1), model(imgs2)\n",
        "      total_loss, inv_loss, var_loss, cov_loss = loss(res1, res2)\n",
        "      test_batch_inv_loss.append(inv_loss.item())\n",
        "      test_batch_var_loss.append(var_loss.item())\n",
        "      test_batch_cov_loss.append(cov_loss.item())\n",
        "      test_batch_loss.append(total_loss.item())\n",
        "\n",
        "    test_inv_loss.append(sum(test_batch_inv_loss) / len(test_batch_inv_loss))\n",
        "    test_var_loss.append(sum(test_batch_var_loss) / len(test_batch_var_loss))\n",
        "    test_cov_loss.append(sum(test_batch_cov_loss) / len(test_batch_cov_loss))\n",
        "    test_loss.append(sum(test_batch_loss) / len(test_batch_loss))\n",
        "\n"
      ]
    },
    {
      "cell_type": "code",
      "execution_count": null,
      "metadata": {
        "id": "1Y_69kQNyxpd"
      },
      "outputs": [],
      "source": [
        "import plotly.graph_objects as go\n",
        "import plotly.subplots as sp\n",
        "\n",
        "# Plot training and test loss components\n",
        "fig = sp.make_subplots(rows=2, cols=2, subplot_titles=(\"Invariance Loss\", \"Variance Loss\", \"Covariance Loss\"))\n",
        "\n",
        "# Invariance Loss\n",
        "fig.add_trace(go.Scatter(x=list(range(num_epochs)), y=train_inv_loss, mode='lines+markers', name='Train Invariance Loss'), row=1, col=1)\n",
        "fig.add_trace(go.Scatter(x=list(range(num_epochs)), y=test_inv_loss, mode='lines+markers', name='Test Invariance Loss', line=dict(dash='dash')), row=1, col=1)\n",
        "\n",
        "# Variance Loss\n",
        "fig.add_trace(go.Scatter(x=list(range(num_epochs)), y=train_var_loss, mode='lines+markers', name='Train Variance Loss'), row=1, col=2)\n",
        "fig.add_trace(go.Scatter(x=list(range(num_epochs)), y=test_var_loss, mode='lines+markers', name='Test Variance Loss', line=dict(dash='dash')), row=1, col=2)\n",
        "\n",
        "# Covariance Loss\n",
        "fig.add_trace(go.Scatter(x=list(range(num_epochs)), y=train_cov_loss, mode='lines+markers', name='Train Covariance Loss'), row=2, col=1)\n",
        "fig.add_trace(go.Scatter(x=list(range(num_epochs)), y=test_cov_loss, mode='lines+markers', name='Test Covariance Loss', line=dict(dash='dash')), row=2, col=1)\n",
        "\n",
        "# OverallLoss\n",
        "fig.add_trace(go.Scatter(x=list(range(num_epochs)), y=train_loss, mode='lines+markers', name='Train Loss'), row=2, col=2)\n",
        "fig.add_trace(go.Scatter(x=list(range(num_epochs)), y=test_loss, mode='lines+markers', name='Test Loss', line=dict(dash='dash')), row=2, col=2)\n",
        "# Update layout\n",
        "fig.update_layout(title_text=\"VICReg Loss Components over Training Epochs\", height=600, width=1800)\n",
        "fig.update_xaxes(title_text=\"Epochs\")\n",
        "fig.update_yaxes(title_text=\"Loss\")\n",
        "\n",
        "# Show plot\n",
        "fig.show()\n"
      ]
    },
    {
      "cell_type": "code",
      "execution_count": null,
      "metadata": {
        "id": "xjcRMQT9y29S"
      },
      "outputs": [],
      "source": [
        "import numpy as np\n",
        "import matplotlib.pyplot as plt\n",
        "from sklearn.decomposition import PCA\n",
        "from sklearn.manifold import TSNE\n",
        "\n",
        "# Step 1: Load the Test Images and Encode them\n",
        "model.eval()\n",
        "representations = []\n",
        "labels = []\n",
        "with torch.no_grad():\n",
        "    for imgs, lbls in test_loader:\n",
        "        imgs = imgs.to(model.device)\n",
        "        reps = model.encoder.encode(imgs)\n",
        "        representations.append(reps.cpu().numpy())\n",
        "        labels.extend(lbls.numpy())\n",
        "\n",
        "representations = np.concatenate(representations, axis=0)\n",
        "\n",
        "# Step 2: Apply PCA and T-SNE\n",
        "pca = PCA(n_components=2)\n",
        "pca_result = pca.fit_transform(representations)\n",
        "\n",
        "tsne = TSNE(n_components=2, perplexity=30, n_iter=300)\n",
        "tsne_result = tsne.fit_transform(representations)\n",
        "\n",
        "# Step 3: Plot the Results\n",
        "def plot_reduction(result, labels, title):\n",
        "    plt.figure(figsize=(10, 8))\n",
        "    scatter = plt.scatter(result[:, 0], result[:, 1], c=labels, cmap='viridis', alpha=0.7)\n",
        "    plt.colorbar(scatter, label='Classes')\n",
        "    plt.title(title)\n",
        "    plt.xlabel('Component 1')\n",
        "    plt.ylabel('Component 2')\n",
        "    plt.show()\n",
        "\n",
        "plot_reduction(pca_result, labels, 'PCA 2D Representation')\n",
        "plot_reduction(tsne_result, labels, 'T-SNE 2D Representation')\n"
      ]
    },
    {
      "cell_type": "code",
      "source": [
        "import torch.nn.functional as F\n",
        "\n",
        "# Step 1: Freeze the Encoder\n",
        "for param in model.encoder.parameters():\n",
        "    param.requires_grad = False\n",
        "\n",
        "# Step 2: Create the Classifier\n",
        "class LinearProbingClassifier(nn.Module):\n",
        "    def __init__(self, input_dim, num_classes):\n",
        "        super(LinearProbingClassifier, self).__init__()\n",
        "        self.fc = nn.Linear(input_dim, num_classes)\n",
        "\n",
        "    def forward(self, x):\n",
        "        return self.fc(x)\n",
        "\n",
        "classifier = LinearProbingClassifier(input_dim=128, num_classes=10)\n",
        "classifier.to(device)\n",
        "\n",
        "# Step 3: Train the Classifier\n",
        "criterion = nn.CrossEntropyLoss()\n",
        "optimizer = optim.Adam(classifier.parameters(), lr=1e-3)\n",
        "\n",
        "num_epochs = 10\n",
        "for epoch in range(num_epochs):\n",
        "    classifier.train()\n",
        "    total_loss = 0.0\n",
        "    for imgs, labels in train_loader:\n",
        "        imgs, labels = imgs.to(device), labels.to(device)\n",
        "\n",
        "        with torch.no_grad():\n",
        "            representations = model.encoder.encode(imgs)\n",
        "\n",
        "        optimizer.zero_grad()\n",
        "        outputs = classifier(representations)\n",
        "        loss = criterion(outputs, labels)\n",
        "        loss.backward()\n",
        "        optimizer.step()\n",
        "\n",
        "        total_loss += loss.item()\n",
        "\n",
        "    avg_loss = total_loss / len(train_loader)\n",
        "    print(f'Epoch [{epoch+1}/{num_epochs}], Loss: {avg_loss:.4f}')\n",
        "\n",
        "# Step 4: Evaluate the Classifier\n",
        "classifier.eval()\n",
        "correct = 0\n",
        "total = 0\n",
        "with torch.no_grad():\n",
        "    for imgs, labels in test_loader:\n",
        "        imgs, labels = imgs.to(device), labels.to(device)\n",
        "        representations = model.encoder.encode(imgs)\n",
        "        outputs = classifier(representations)\n",
        "        _, predicted = torch.max(outputs.data, 1)\n",
        "        total += labels.size(0)\n",
        "        correct += (predicted == labels).sum().item()\n",
        "\n",
        "accuracy = 100 * correct / total\n",
        "print(f'Accuracy of the classifier on the test set: {accuracy:.2f}%')\n"
      ],
      "metadata": {
        "id": "cj6DO-cWVaPv"
      },
      "execution_count": null,
      "outputs": []
    },
    {
      "cell_type": "markdown",
      "source": [],
      "metadata": {
        "id": "tziPt2c4VZXW"
      }
    }
  ],
  "metadata": {
    "accelerator": "GPU",
    "colab": {
      "gpuType": "T4",
      "provenance": []
    },
    "kernelspec": {
      "display_name": "Python 3",
      "name": "python3"
    },
    "language_info": {
      "name": "python"
    }
  },
  "nbformat": 4,
  "nbformat_minor": 0
}