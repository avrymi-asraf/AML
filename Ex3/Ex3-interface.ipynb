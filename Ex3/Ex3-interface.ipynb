{
  "cells": [
    {
      "cell_type": "markdown",
      "metadata": {
        "colab_type": "text",
        "id": "view-in-github"
      },
      "source": [
        "<a href=\"https://colab.research.google.com/github/avrymi-asraf/AML/blob/main/Ex3/Ex3-interface.ipynb\" target=\"_parent\"><img src=\"https://colab.research.google.com/assets/colab-badge.svg\" alt=\"Open In Colab\"/></a>"
      ]
    },
    {
      "cell_type": "markdown",
      "metadata": {
        "id": "fEGWYdQqm4El"
      },
      "source": [
        "# Imports and tools"
      ]
    },
    {
      "cell_type": "code",
      "execution_count": null,
      "metadata": {
        "id": "FuyL6J_Gm9XF"
      },
      "outputs": [],
      "source": [
        "import torch\n",
        "import torch.nn as nn\n",
        "from torch.utils.data import DataLoader\n",
        "from torch.nn.functional import pad\n",
        "\n",
        "from sklearn.decomposition import PCA\n",
        "from sklearn.manifold import TSNE\n",
        "\n",
        "import pandas as pd\n",
        "import numpy as np\n",
        "\n",
        "import matplotlib.pyplot as plt\n",
        "import plotly.express as px\n",
        "import plotly.graph_objects as go\n",
        "\n",
        "import re\n",
        "import math\n",
        "from tqdm import tqdm, tqdm_pandas, trange"
      ]
    },
    {
      "cell_type": "code",
      "execution_count": null,
      "metadata": {
        "id": "aO24QkWioByi"
      },
      "outputs": [],
      "source": [
        "from IPython.display import Markdown, clear_output, display\n",
        "\n",
        "md = lambda x: display(Markdown(x))\n",
        "he_md = lambda x: display(Markdown(f'<div dir=\"rtl\" lang=\"he\" xml:lang=\"he\">{x}</div>'))"
      ]
    },
    {
      "cell_type": "code",
      "execution_count": null,
      "metadata": {
        "id": "ilJTYwEipFKu"
      },
      "outputs": [],
      "source": [
        "DEVICE = \"cuda\" if torch.cuda.is_available() else \"cpu\""
      ]
    },
    {
      "cell_type": "code",
      "execution_count": null,
      "metadata": {
        "id": "-B_uSjzGm4Em"
      },
      "outputs": [],
      "source": [
        "# for colab\n",
        "# !mkdir src\n",
        "\n",
        "# !wget -O /content/src/data_load.py https://raw.githubusercontent.com/avrymi-asraf/AML/main/Ex3/src/data_load.py\n",
        "# !wget -O /content/src/models.py https://raw.githubusercontent.com/avrymi-asraf/AML/main/Ex3/src/models.py\n",
        "# !wget -O /content/src/vicreg_objectives.py https://raw.githubusercontent.com/avrymi-asraf/AML/main/Ex3/src/vicreg_objectives.py\n",
        "# clear_output()"
      ]
    },
    {
      "cell_type": "code",
      "execution_count": null,
      "metadata": {
        "id": "Vo41yKz5m4En"
      },
      "outputs": [],
      "source": [
        "# for local machine\n",
        "from src.models import Encoder, Projector, LinearProbe, VICeg\n",
        "from src.vicreg_objectives import vicreg_loss_detailed, vicreg_loss_performance\n",
        "from src.data_load import (\n",
        "    load_cifar10,\n",
        "    load_mnist,\n",
        "    load_combined_test_set,\n",
        "    load_vicreg_cifar10,\n",
        "    test,\n",
        ")"
      ]
    },
    {
      "cell_type": "markdown",
      "metadata": {
        "id": "hO6GlPxvm4Eo",
        "tags": [
          "parameters"
        ]
      },
      "source": [
        "# Q1: Training\n",
        "Train VICReg on the CIFAR10 dataset. Plot the values of each of the 3 objectives (in separate\n",
        "figures) as a function of the training batches. In your figures also include the loss terms values on the test set,computed once every epoch."
      ]
    },
    {
      "cell_type": "code",
      "execution_count": null,
      "metadata": {
        "colab": {
          "base_uri": "https://localhost:8080/"
        },
        "id": "MW3z1zqToLVc",
        "outputId": "39cc9e55-bbb1-42d8-8eb9-dab8a02908fe"
      },
      "outputs": [],
      "source": [
        "model = VICeg().to(DEVICE)\n",
        "\n",
        "\n",
        "batch_size = 256\n",
        "lr = 3 * 1e-3\n",
        "optimizer = torch.optim.Adam(\n",
        "    model.parameters(), lr=lr, betas=(0.9, 0.999), weight_decay=10e-6\n",
        ")\n",
        "epochs = 20\n",
        "loss_function = lambda z1, z2: vicreg_loss_performance(z1, z2)\n",
        "loss_function_d = lambda z1, z2: vicreg_loss_detailed(z1, z2)"
      ]
    },
    {
      "cell_type": "code",
      "execution_count": null,
      "metadata": {
        "colab": {
          "base_uri": "https://localhost:8080/"
        },
        "id": "m60fI3KbMxAL",
        "outputId": "28f0136e-0d8b-413c-d52e-5e7bc0770e5e"
      },
      "outputs": [],
      "source": [
        "recorder = pd.DataFrame(\n",
        "    columns=[\n",
        "        \"epoch\",\n",
        "        \"epoch_loss\",\n",
        "        \"inv_loss\",\n",
        "        \"var_loss\",\n",
        "        \"cov_loss\",\n",
        "        \"test_loss\",\n",
        "    ],\n",
        "    index=range(epochs),\n",
        ")\n",
        "\n",
        "train_loader, test_loader = load_vicreg_cifar10(batch_size=batch_size)"
      ]
    },
    {
      "cell_type": "code",
      "execution_count": null,
      "metadata": {
        "colab": {
          "base_uri": "https://localhost:8080/",
          "height": 542
        },
        "id": "bPc9GQdYMxAL",
        "outputId": "0c78e848-17ba-4d5c-97d0-ffc5f739567e"
      },
      "outputs": [],
      "source": [
        "for epoch in range(epochs):\n",
        "    model.train()\n",
        "    epoch_loss = 1\n",
        "    for i, (x1, x2) in tqdm(enumerate(train_loader)):\n",
        "        x1, x2 = x1.to(DEVICE), x2.to(DEVICE)\n",
        "        optimizer.zero_grad()\n",
        "        z1, z2 = model(x1), model(x2)\n",
        "        loss = loss_function(z1, z2)\n",
        "        loss.backward()\n",
        "        epoch_loss = loss.item() * 0.3 + epoch_loss * 0.7\n",
        "        optimizer.step()\n",
        "\n",
        "    model.eval()\n",
        "    with torch.no_grad():\n",
        "        inv_loss, var_loss, cov_loss, test_loss = 0, 0, 0, 0\n",
        "        for i, (x1, x2) in enumerate(test_loader):\n",
        "            x1, x2 = x1.to(DEVICE), x2.to(DEVICE)\n",
        "            z1, z2 = model(x1), model(x2)\n",
        "            _, loss_components = loss_function_d(z1, z2)\n",
        "            inv_loss += loss_components[\"inv_loss\"]\n",
        "            var_loss += loss_components[\"var_loss\"]\n",
        "            cov_loss += loss_components[\"cov_loss\"]\n",
        "            test_loss += loss_components[\"loss\"]\n",
        "\n",
        "        recorder.loc[epoch] = {\n",
        "            \"epoch\": epoch,\n",
        "            \"epoch_loss\": epoch_loss,\n",
        "            \"inv_loss\": inv_loss,\n",
        "            \"var_loss\": var_loss,\n",
        "            \"cov_loss\": cov_loss,\n",
        "            \"test_loss\": test_loss,\n",
        "        }\n",
        "        clear_output(wait=True)\n",
        "        px.line(\n",
        "            recorder,\n",
        "            y=[\"epoch_loss\", \"inv_loss\", \"var_loss\", \"cov_loss\", \"test_loss\"],\n",
        "        ).show()"
      ]
    },
    {
      "cell_type": "code",
      "execution_count": null,
      "metadata": {
        "id": "JIWMPBXxbKfj"
      },
      "outputs": [],
      "source": [
        "torch.save(model.state_dict(), \"vicreg_20_run.txt\")"
      ]
    },
    {
      "cell_type": "markdown",
      "metadata": {
        "id": "nzd3L155m4Ep"
      },
      "source": [
        "# Q2: PCA vs. T-SNE Visualizations.\n",
        "Compute the representations of each test image using your trained encoder.\n",
        "Map (using the sklearn library) the representation to a 2D space using: (i) PCA (ii) T-SNE. Plot the T-SNE and the PCA 2D representations, colored by their classes. Look at both visualizations (PCA vs. T-SNE), which one seems more effective for visualizations to you? Look at the T-SNE visualization. Did VICReg managed to capture the class information accurately? Which classes seem entangled to you? Explain.\n"
      ]
    },
    {
      "cell_type": "code",
      "execution_count": null,
      "metadata": {},
      "outputs": [],
      "source": [
        "batch_size = 256"
      ]
    },
    {
      "cell_type": "code",
      "execution_count": null,
      "metadata": {},
      "outputs": [],
      "source": [
        "model = VICeg().to(DEVICE)\n",
        "model.load_state_dict(torch.load(\"vicreg_20_run.pt\", map_location=DEVICE))\n",
        "train_loader, test_loader = load_cifar10(batch_size=batch_size)"
      ]
    },
    {
      "cell_type": "code",
      "execution_count": null,
      "metadata": {
        "id": "mb13wgQZcSOd"
      },
      "outputs": [],
      "source": [
        "model.eval()\n",
        "\n",
        "# Get the test data representations\n",
        "test_representations = []\n",
        "test_labels = []\n",
        "with torch.no_grad():\n",
        "    for images, labels in tqdm(test_loader):\n",
        "        images = images.to(DEVICE)\n",
        "        representations = model.encoder(images)\n",
        "        test_representations.append(representations.cpu().numpy())\n",
        "        test_labels.append(labels.cpu().numpy())\n",
        "\n",
        "test_representations = np.concatenate(test_representations)\n",
        "test_labels = np.concatenate(test_labels)"
      ]
    },
    {
      "cell_type": "code",
      "execution_count": null,
      "metadata": {
        "id": "a1Kjl5HocjT6"
      },
      "outputs": [],
      "source": [
        "# Perform PCA\n",
        "pca = PCA(n_components=2)\n",
        "pca_representations = pca.fit_transform(test_representations)\n",
        "\n",
        "# Perform t-SNE\n",
        "tsne = TSNE(n_components=2, perplexity=30)\n",
        "tsne_representations = tsne.fit_transform(test_representations)\n",
        "\n",
        "# Create a DataFrame for Plotly\n",
        "pca_df = pd.DataFrame(\n",
        "    {\n",
        "        \"PCA Component 1\": pca_representations[:, 0],\n",
        "        \"PCA Component 2\": pca_representations[:, 1],\n",
        "        \"Class\": test_labels,\n",
        "    }\n",
        ")\n",
        "\n",
        "tsne_df = pd.DataFrame(\n",
        "    {\n",
        "        \"t-SNE Component 1\": tsne_representations[:, 0],\n",
        "        \"t-SNE Component 2\": tsne_representations[:, 1],\n",
        "        \"Class\": test_labels,\n",
        "    }\n",
        ")"
      ]
    },
    {
      "cell_type": "code",
      "execution_count": null,
      "metadata": {
        "id": "stR4qAntcl5j"
      },
      "outputs": [],
      "source": [
        "# Plot PCA results with Plotly (fixed aspect ratio)\n",
        "fig_pca = px.scatter(\n",
        "    pca_df,\n",
        "    x=\"PCA Component 1\",\n",
        "    y=\"PCA Component 2\",\n",
        "    color=\"Class\",\n",
        "    title=\"PCA Visualization of Test Image Representations\",\n",
        ")\n",
        "fig_pca.update_layout(\n",
        "    width=800,\n",
        "    height=800,  # Set width and height to be equal\n",
        "    xaxis=dict(scaleanchor=\"y\", scaleratio=1),  # Fix aspect ratio\n",
        "    yaxis=dict(scaleanchor=\"x\", scaleratio=1),\n",
        ")\n",
        "fig_pca.show()\n",
        "\n",
        "# Plot t-SNE results with Plotly (fixed aspect ratio)\n",
        "fig_tsne = px.scatter(\n",
        "    tsne_df,\n",
        "    x=\"t-SNE Component 1\",\n",
        "    y=\"t-SNE Component 2\",\n",
        "    color=\"Class\",\n",
        "    title=\"t-SNE Visualization of Test Image Representations\",\n",
        ")\n",
        "fig_tsne.update_layout(\n",
        "    width=800,\n",
        "    height=800,  # Set width and height to be equal\n",
        "    xaxis=dict(scaleanchor=\"y\", scaleratio=1),  # Fix aspect ratio\n",
        "    yaxis=dict(scaleanchor=\"x\", scaleratio=1),\n",
        ")\n",
        "fig_tsne.show()"
      ]
    },
    {
      "cell_type": "markdown",
      "metadata": {
        "id": "CxIZq1Ofm4Ep"
      },
      "source": [
        "# Q3: Linear Probing.\n",
        "Perform a linear probing (single FC layer) to the encoder’s representation. Train this\n",
        "classifier on the representations of the CIFAR10 train set. Remember to freeze the encoder, i.e. do not update it. Compute the probing’s accuracy on the test set. What is the accuracy you reach with your classifier?\n",
        "Note: classifier accuracy should be at least 60% on the test set."
      ]
    },
    {
      "cell_type": "code",
      "execution_count": null,
      "metadata": {},
      "outputs": [],
      "source": [
        "# @title Hyperparameters Linear Probe\n",
        "\n",
        "batch_size = 256\n",
        "lr = 0.1\n",
        "vic_reg_model = VICeg().to(DEVICE)\n",
        "epochs = 20\n",
        "\n",
        "\n",
        "vic_reg_model.load_state_dict(torch.load(\"vicreg_20_run.pt\", map_location=DEVICE))\n",
        "\n",
        "\n",
        "\n",
        "encoder = vic_reg_model.encoder\n",
        "model = LinearProbe(encoder, 128, 10).to(DEVICE)\n",
        "optimizer = torch.optim.SGD(model.parameters(), lr=lr)\n",
        "loss_function = nn.CrossEntropyLoss()"
      ]
    },
    {
      "cell_type": "code",
      "execution_count": null,
      "metadata": {},
      "outputs": [],
      "source": [
        "recorder = pd.DataFrame(\n",
        "    columns=[\n",
        "        \"epoch\",\n",
        "        \"epoch_loss\",\n",
        "        \"test_loss\",\n",
        "        \"accuracy\",\n",
        "    ],\n",
        "    index=range(epochs),\n",
        ")\n",
        "\n",
        "train_loader, test_loader = load_cifar10(batch_size=batch_size)"
      ]
    },
    {
      "cell_type": "code",
      "execution_count": null,
      "metadata": {},
      "outputs": [],
      "source": [
        "for epoch in range(epochs):\n",
        "    model.train()\n",
        "    epoch_loss = 1\n",
        "    for i, (x, y) in tqdm(enumerate(train_loader)):\n",
        "        x, y = x.to(DEVICE), y.to(DEVICE)\n",
        "        optimizer.zero_grad()\n",
        "        prd = model(x)\n",
        "        loss = loss_function(prd, y)\n",
        "        loss.backward()\n",
        "        epoch_loss = loss.item() * 0.3 + epoch_loss * 0.7\n",
        "        optimizer.step()\n",
        "\n",
        "    model.eval()\n",
        "    with torch.no_grad():\n",
        "        test_loss, correct = 0, 0\n",
        "        for i, (x, y) in tqdm(enumerate(test_loader)):\n",
        "            x, y = x.to(DEVICE), y.to(DEVICE)\n",
        "            prd = model(x)\n",
        "            test_loss += loss_function(prd, y).item()\n",
        "            correct += (prd.argmax(1) == y).sum().item()\n",
        "        recorder.loc[epoch] = {\n",
        "            \"epoch\": epoch,\n",
        "            \"epoch_loss\": epoch_loss / len(train_loader.dataset),\n",
        "            \"test_loss\": test_loss / len(test_loader.dataset),\n",
        "            \"accuracy\": correct / len(test_loader.dataset),\n",
        "        }\n",
        "\n",
        "        clear_output(wait=True)\n",
        "        px.line(\n",
        "            recorder,\n",
        "            y=[\"epoch_loss\", \"test_loss\", \"accuracy\"],\n",
        "        ).show()"
      ]
    },
    {
      "cell_type": "markdown",
      "metadata": {
        "id": "SVp9vMA2m4Ep"
      },
      "source": [
        "# Q4: Ablation 1 - No Variance Term.\n",
        "Modify the optimized objective, by removing the variance objective term\n",
        "(µ = 0.). Using the representations from the modified encoder, perform the same PCA visualization from Q2, and the linear probing from Q3 (and include them in your report). Is the new accuracy better or worse? Can you see anything different in the representations visualization? Try to explain the difference in the accuracy using the visualizations.\n"
      ]
    },
    {
      "cell_type": "markdown",
      "metadata": {
        "id": "gFOvED5jm4Eq"
      },
      "source": [
        "# Q5: Ablation 2 - No Generated Neighbors.\n",
        "Now, we would like to ablate VICReg by only removing the generated neighbors, using neighbors from the data itself:\n",
        "First, compute the representations of your original VICReg, on all of the training set. In each step of training and for each image in the batch, use these representations to find the top 3 nearest neighbors, and randomly select 1 of them. Use the original image and this neighbor of it as your 2 views for the VICReg algorithm.\n",
        "\n",
        "2 Practical Tips: (i) We find that training this algorithm for only a single epoch is more\n",
        "beneficial. (ii) We recommend you to compute the neighboring indices of each image in advance, and delete the original VICReg model from your (GPU) memory. This will save both run time and GPU space.\n",
        "Compute the linear probing accuracy, and report it. Is the accuracy different from the original linear probing from 3?\n",
        "- If no, explain why do you think this change had no effect (what compensates the things that are missing?).\n",
        "- If yes, explain what added value do you think the generated neighbors adds to the algorithm."
      ]
    },
    {
      "cell_type": "markdown",
      "metadata": {
        "id": "18u4UDsfm4Eq"
      },
      "source": [
        "# Q6: Ablation 3 - Laplacian Eigenmaps.\n",
        "After removing the generated neighbors, we would like to remove both it and the amortization at once. To do so, we will perform Laplacian Eigenmaps representation learning on the training data of CIFAR10. Since this algorithm is difficult to run, we ran it for you on 10K images (due to runtime limitations) and give you the T-SNE plotting of these representations in Fig. 2 3.\n",
        "Compare this to VICReg’s T-SNE plot from Q2. Based on this visual and linear probing comparison, which method (VICReg vs. Laplacian Eigenmaps) seems more effective for downstream object classification?\n",
        "Explain your answer in detail, including what do you think makes one algorithm to be more successful.\n"
      ]
    },
    {
      "cell_type": "markdown",
      "metadata": {
        "id": "NQI_Xd5Bm4Eq"
      },
      "source": [
        "# Q7: Retrieval Evaluation\n",
        "Now that we slowly “pealed” VICReg back to the laplacian eigenmaps algorithm,\n",
        "we wish to evaluate it qualitatively. For the methods Q1 (VICReg) and Q5 (No Generated Neighbors) perform a\n",
        "qualitative retrieval evaluation. That means:\n",
        "- Select 10 random images from the training set, one from each class.\n",
        "- For each selected image, use the representations of each of the evaluated methods, to find its 5 nearest neighbors\n",
        "in the dataset.\n",
        "- Plot the images together with their neighbors.\n",
        "- Using the same images, perform the same visualization for the 5 most distant images in the dataset.\n",
        "\n",
        "Using this visualization, explain what attributes each method attends to. What are the differences you see between\n",
        "the different methods? Which one excels at keeping close images together? Which one excels at keeping distant\n",
        "images far apart? Explain the differences between the methods in detail, as seen by this visualization. You may\n",
        "select more than 1 image for a specific class if you wish to get a better understanding (Although it is not mandatory)."
      ]
    },
    {
      "cell_type": "markdown",
      "metadata": {
        "id": "CGPJzeTrm4Eq"
      },
      "source": [
        "# Q1 - Anomaly Detection.\n",
        "Using the CIFAR10 training data as reference for normal data, compute the kNN\n",
        "density estimation for all the (CIFAR10 + MNIST) test set representations. Do this for both (i) VICReg (ii) VICReg\n",
        "without generated neighbors. Use k = 2.\n"
      ]
    },
    {
      "cell_type": "markdown",
      "metadata": {
        "id": "QHY2S9ALm4Eq"
      },
      "source": [
        "# Q2 - ROC AUC Evaluation\n",
        "Plot the ROC Curve of both methods. Use the sklearn library for creating these\n",
        "figures. In the title / legend incorporate the AUC of each method. Which method is ’better’? In a sentence or two,\n",
        "explain why do you think its better."
      ]
    },
    {
      "cell_type": "markdown",
      "metadata": {
        "id": "rUmDPT5rm4Eq"
      },
      "source": [
        "# Q3 - Qualitative Evaluation - Ambiguity of Anomaly Detection.\n",
        "Plot the 7 most anomalous samples according\n",
        "to VICReg and VICReg without the generated neighbors, in two separate rows (you can split to different plots if\n",
        "more convenient). Look at the results. Explain what aspects each method found to be anomalous. Keeping in mind\n",
        "we did not give either of the methods any clues regarding which anomalies are we looking for, do you still think one\n",
        "is better than the other? Explain your answer."
      ]
    },
    {
      "cell_type": "markdown",
      "metadata": {
        "id": "uxnrN1Ccm4Eq"
      },
      "source": [
        "# Q1 - Clustering using K-Means\n",
        "Use the implementation of sklearn to cluster the CIFAR10 training set to\n",
        "10 clusters. Do this using the representations of VICReg once, and a second time for VICReg without generated\n",
        "neighbors."
      ]
    },
    {
      "cell_type": "markdown",
      "metadata": {
        "id": "6eKGKEzYm4Eq"
      },
      "source": [
        "# Q2 - Visualizing the Clusters in 2D\n",
        "Perform a dimensionality reduction to 2 dimensions using T-SNE, for\n",
        "the representations of both methods (separately). For each method, plot the reduced embeddings in a 2D space twice\n",
        "(side by side): (i) First, colored by their cluster index (according to the matching clustering from Q1). (ii) Second,\n",
        "colored by their actual class index. In each figure, also plot the clusters centers in black color.\n",
        "Look at the results, which method looks more successful at finding clusters? Which method looks more successful\n",
        "at separating between the classes? Explain your answer, keeping in mind that similarly to Anomaly Detection there\n",
        "are no clues for which clusters to look for."
      ]
    },
    {
      "cell_type": "markdown",
      "metadata": {
        "id": "iTaczS0Nm4Er"
      },
      "source": [
        "# Q3 - Quantitative Analysis\n",
        "Use the Silhouette Score on the clusterings of both methods (in their original embedding dimensions). Report the 2 different scores. Is this coherent with what you see in your visual analysis? Explain your answer"
      ]
    },
    {
      "cell_type": "markdown",
      "metadata": {
        "id": "76m0m-Xzm4Er"
      },
      "source": []
    }
  ],
  "metadata": {
    "accelerator": "GPU",
    "colab": {
      "gpuType": "L4",
      "include_colab_link": true,
      "machine_shape": "hm",
      "provenance": []
    },
    "kernelspec": {
      "display_name": "Python 3",
      "name": "python3"
    },
    "language_info": {
      "codemirror_mode": {
        "name": "ipython",
        "version": 3
      },
      "file_extension": ".py",
      "mimetype": "text/x-python",
      "name": "python",
      "nbconvert_exporter": "python",
      "pygments_lexer": "ipython3",
      "version": "3.10.11"
    }
  },
  "nbformat": 4,
  "nbformat_minor": 0
}
