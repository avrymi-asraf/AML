{
  "cells": [
    {
      "cell_type": "markdown",
      "metadata": {
        "id": "view-in-github",
        "colab_type": "text"
      },
      "source": [
        "<a href=\"https://colab.research.google.com/github/avrymi-asraf/AML/blob/main/Ex3/Ex3-interface.ipynb\" target=\"_parent\"><img src=\"https://colab.research.google.com/assets/colab-badge.svg\" alt=\"Open In Colab\"/></a>"
      ]
    },
    {
      "cell_type": "markdown",
      "metadata": {
        "id": "fEGWYdQqm4El"
      },
      "source": [
        "# Imports and tools"
      ]
    },
    {
      "cell_type": "code",
      "execution_count": 1,
      "metadata": {
        "id": "FuyL6J_Gm9XF"
      },
      "outputs": [],
      "source": [
        "import torch\n",
        "import torch.nn as nn\n",
        "from torch.utils.data import DataLoader\n",
        "from torch.nn.functional import pad\n",
        "\n",
        "from sklearn.decomposition import PCA\n",
        "from sklearn.manifold import TSNE\n",
        "\n",
        "import pandas as pd\n",
        "import numpy as np\n",
        "\n",
        "import matplotlib.pyplot as plt\n",
        "import plotly.express as px\n",
        "import plotly.graph_objects as go\n",
        "\n",
        "import re\n",
        "import math\n",
        "from tqdm import tqdm, tqdm_pandas, trange"
      ]
    },
    {
      "cell_type": "code",
      "execution_count": 2,
      "metadata": {
        "id": "aO24QkWioByi"
      },
      "outputs": [],
      "source": [
        "from IPython.display import Markdown, clear_output, display\n",
        "\n",
        "md = lambda x: display(Markdown(x))\n",
        "he_md = lambda x: display(Markdown(f'<div dir=\"rtl\" lang=\"he\" xml:lang=\"he\">{x}</div>'))"
      ]
    },
    {
      "cell_type": "code",
      "execution_count": 3,
      "metadata": {
        "id": "ilJTYwEipFKu"
      },
      "outputs": [],
      "source": [
        "DEVICE = \"cuda\" if torch.cuda.is_available() else \"cpu\""
      ]
    },
    {
      "cell_type": "code",
      "execution_count": 4,
      "metadata": {
        "id": "-B_uSjzGm4Em"
      },
      "outputs": [],
      "source": [
        "# for colab\n",
        "!mkdir src\n",
        "\n",
        "!wget -O /content/src/data_load.py https://raw.githubusercontent.com/avrymi-asraf/AML/main/Ex3/src/data_load.py\n",
        "!wget -O /content/src/models.py https://raw.githubusercontent.com/avrymi-asraf/AML/main/Ex3/src/models.py\n",
        "!wget -O /content/src/vicreg_objectives.py https://raw.githubusercontent.com/avrymi-asraf/AML/main/Ex3/src/vicreg_objectives.py\n",
        "clear_output()"
      ]
    },
    {
      "cell_type": "code",
      "execution_count": 5,
      "metadata": {
        "id": "Vo41yKz5m4En"
      },
      "outputs": [],
      "source": [
        "# for local machine\n",
        "from src.models import Encoder, Projector\n",
        "from src.vicreg_objectives import vicreg_loss_detailed, vicreg_loss_performance\n",
        "from src.data_load import (\n",
        "    load_cifar10,\n",
        "    load_mnist,\n",
        "    load_combined_test_set,\n",
        "    load_vicreg_cifar10,\n",
        "    test,\n",
        ")"
      ]
    },
    {
      "cell_type": "markdown",
      "metadata": {
        "id": "hO6GlPxvm4Eo",
        "tags": [
          "parameters"
        ]
      },
      "source": [
        "# Q1: Training\n",
        "Train VICReg on the CIFAR10 dataset. Plot the values of each of the 3 objectives (in separate\n",
        "figures) as a function of the training batches. In your figures also include the loss terms values on the test set,computed once every epoch."
      ]
    },
    {
      "cell_type": "code",
      "execution_count": 6,
      "metadata": {
        "id": "llvgNfuHo22s"
      },
      "outputs": [],
      "source": [
        "class VICeg(nn.Module):\n",
        "    def __init__(self, en_dim=128, prj_dim=512):\n",
        "        super(VICeg, self).__init__()\n",
        "        self.encoder = Encoder(D=en_dim, device=DEVICE)\n",
        "        self.projector = Projector(D=en_dim, proj_dim=prj_dim)\n",
        "\n",
        "    def forward(self, x):\n",
        "        return self.projector(self.encoder(x))"
      ]
    },
    {
      "cell_type": "code",
      "execution_count": 12,
      "metadata": {
        "id": "MW3z1zqToLVc",
        "colab": {
          "base_uri": "https://localhost:8080/"
        },
        "outputId": "39cc9e55-bbb1-42d8-8eb9-dab8a02908fe"
      },
      "outputs": [
        {
          "output_type": "stream",
          "name": "stderr",
          "text": [
            "/usr/local/lib/python3.10/dist-packages/torchvision/models/_utils.py:208: UserWarning:\n",
            "\n",
            "The parameter 'pretrained' is deprecated since 0.13 and may be removed in the future, please use 'weights' instead.\n",
            "\n",
            "/usr/local/lib/python3.10/dist-packages/torchvision/models/_utils.py:223: UserWarning:\n",
            "\n",
            "Arguments other than a weight enum or `None` for 'weights' are deprecated since 0.13 and may be removed in the future. The current behavior is equivalent to passing `weights=None`.\n",
            "\n"
          ]
        }
      ],
      "source": [
        "model = VICeg().to(DEVICE)\n",
        "\n",
        "\n",
        "batch_size = 256\n",
        "lr = 3 * 1e-3\n",
        "optimizer = torch.optim.Adam(\n",
        "    model.parameters(), lr=lr, betas=(0.9, 0.999), weight_decay=10e-6\n",
        ")\n",
        "epochs = 20\n",
        "loss_function = lambda z1, z2: vicreg_loss_performance(z1, z2)\n",
        "loss_function_d = lambda z1, z2: vicreg_loss_detailed(z1, z2)"
      ]
    },
    {
      "cell_type": "code",
      "execution_count": 13,
      "metadata": {
        "colab": {
          "base_uri": "https://localhost:8080/"
        },
        "id": "m60fI3KbMxAL",
        "outputId": "28f0136e-0d8b-413c-d52e-5e7bc0770e5e"
      },
      "outputs": [
        {
          "output_type": "stream",
          "name": "stdout",
          "text": [
            "Files already downloaded and verified\n",
            "Files already downloaded and verified\n"
          ]
        }
      ],
      "source": [
        "recorder = pd.DataFrame(\n",
        "    columns=[\n",
        "        \"epoch\",\n",
        "        \"epoch_loss\",\n",
        "        \"inv_loss\",\n",
        "        \"var_loss\",\n",
        "        \"cov_loss\",\n",
        "        \"test_loss\",\n",
        "    ],\n",
        "    index=range(epochs),\n",
        ")\n",
        "\n",
        "train_loader, test_loader = load_vicreg_cifar10(batch_size=batch_size)"
      ]
    },
    {
      "cell_type": "code",
      "execution_count": 15,
      "metadata": {
        "colab": {
          "base_uri": "https://localhost:8080/",
          "height": 542
        },
        "id": "bPc9GQdYMxAL",
        "outputId": "0c78e848-17ba-4d5c-97d0-ffc5f739567e"
      },
      "outputs": [
        {
          "output_type": "display_data",
          "data": {
            "text/html": [
              "<html>\n",
              "<head><meta charset=\"utf-8\" /></head>\n",
              "<body>\n",
              "    <div>            <script src=\"https://cdnjs.cloudflare.com/ajax/libs/mathjax/2.7.5/MathJax.js?config=TeX-AMS-MML_SVG\"></script><script type=\"text/javascript\">if (window.MathJax && window.MathJax.Hub && window.MathJax.Hub.Config) {window.MathJax.Hub.Config({SVG: {font: \"STIX-Web\"}});}</script>                <script type=\"text/javascript\">window.PlotlyConfig = {MathJaxConfig: 'local'};</script>\n",
              "        <script charset=\"utf-8\" src=\"https://cdn.plot.ly/plotly-2.24.1.min.js\"></script>                <div id=\"7eb086f0-4bcf-4690-a7f3-646d0dce9c78\" class=\"plotly-graph-div\" style=\"height:525px; width:100%;\"></div>            <script type=\"text/javascript\">                                    window.PLOTLYENV=window.PLOTLYENV || {};                                    if (document.getElementById(\"7eb086f0-4bcf-4690-a7f3-646d0dce9c78\")) {                    Plotly.newPlot(                        \"7eb086f0-4bcf-4690-a7f3-646d0dce9c78\",                        [{\"hovertemplate\":\"variable=epoch_loss\\u003cbr\\u003eindex=%{x}\\u003cbr\\u003evalue=%{y}\\u003cextra\\u003e\\u003c\\u002fextra\\u003e\",\"legendgroup\":\"epoch_loss\",\"line\":{\"color\":\"#636efa\",\"dash\":\"solid\"},\"marker\":{\"symbol\":\"circle\"},\"mode\":\"lines\",\"name\":\"epoch_loss\",\"orientation\":\"v\",\"showlegend\":true,\"x\":[0,1,2,3,4,5,6,7,8,9,10,11,12,13,14,15,16,17,18,19],\"xaxis\":\"x\",\"y\":[18.954341585416948,18.645400322004786,18.328141038897442,17.77817798825198,17.557189876065628,17.11173696355418,17.10773641743579,17.062556267437596,16.604782716740683,16.70766336154263,16.20002700853583,16.329637176312346,15.900143601861615,16.037273726138277,16.189988949316977,15.704842938363225,15.851075207980486,15.767726671039938,15.907760891157425,15.380689840424441],\"yaxis\":\"y\",\"type\":\"scatter\"},{\"hovertemplate\":\"variable=inv_loss\\u003cbr\\u003eindex=%{x}\\u003cbr\\u003evalue=%{y}\\u003cextra\\u003e\\u003c\\u002fextra\\u003e\",\"legendgroup\":\"inv_loss\",\"line\":{\"color\":\"#EF553B\",\"dash\":\"solid\"},\"marker\":{\"symbol\":\"circle\"},\"mode\":\"lines\",\"name\":\"inv_loss\",\"orientation\":\"v\",\"showlegend\":true,\"x\":[0,1,2,3,4,5,6,7,8,9,10,11,12,13,14,15,16,17,18,19],\"xaxis\":\"x\",\"y\":[0.0,0.0,0.0,0.0,0.0,0.0,0.0,0.0,0.0,0.0,0.0,0.0,0.0,0.0,0.0,0.0,0.0,0.0,0.0,0.0],\"yaxis\":\"y\",\"type\":\"scatter\"},{\"hovertemplate\":\"variable=var_loss\\u003cbr\\u003eindex=%{x}\\u003cbr\\u003evalue=%{y}\\u003cextra\\u003e\\u003c\\u002fextra\\u003e\",\"legendgroup\":\"var_loss\",\"line\":{\"color\":\"#00cc96\",\"dash\":\"solid\"},\"marker\":{\"symbol\":\"circle\"},\"mode\":\"lines\",\"name\":\"var_loss\",\"orientation\":\"v\",\"showlegend\":true,\"x\":[0,1,2,3,4,5,6,7,8,9,10,11,12,13,14,15,16,17,18,19],\"xaxis\":\"x\",\"y\":[22.297702342271805,19.7945938706398,21.62118571996689,17.59326732158661,19.944260120391846,18.59176316857338,17.50765562057495,17.212205231189728,17.510889321565628,15.199557900428772,15.933937311172485,14.02553042769432,14.673556685447693,13.981695264577866,12.335713773965836,15.049163281917572,11.41069470345974,12.836249202489853,12.913287162780762,15.310807198286057],\"yaxis\":\"y\",\"type\":\"scatter\"},{\"hovertemplate\":\"variable=cov_loss\\u003cbr\\u003eindex=%{x}\\u003cbr\\u003evalue=%{y}\\u003cextra\\u003e\\u003c\\u002fextra\\u003e\",\"legendgroup\":\"cov_loss\",\"line\":{\"color\":\"#ab63fa\",\"dash\":\"solid\"},\"marker\":{\"symbol\":\"circle\"},\"mode\":\"lines\",\"name\":\"cov_loss\",\"orientation\":\"v\",\"showlegend\":true,\"x\":[0,1,2,3,4,5,6,7,8,9,10,11,12,13,14,15,16,17,18,19],\"xaxis\":\"x\",\"y\":[137.07258129119873,165.8785858154297,104.70957374572754,173.26704263687134,89.62813544273376,115.74140357971191,129.63506269454956,145.02536153793335,111.99516439437866,159.81679129600525,133.8567099571228,191.68536472320557,156.1250524520874,165.32540941238403,214.80802536010742,124.28029227256775,220.50541758537292,173.29581141471863,164.4853973388672,125.84276509284973],\"yaxis\":\"y\",\"type\":\"scatter\"},{\"hovertemplate\":\"variable=test_loss\\u003cbr\\u003eindex=%{x}\\u003cbr\\u003evalue=%{y}\\u003cextra\\u003e\\u003c\\u002fextra\\u003e\",\"legendgroup\":\"test_loss\",\"line\":{\"color\":\"#FFA15A\",\"dash\":\"solid\"},\"marker\":{\"symbol\":\"circle\"},\"mode\":\"lines\",\"name\":\"test_loss\",\"orientation\":\"v\",\"showlegend\":true,\"x\":[0,1,2,3,4,5,6,7,8,9,10,11,12,13,14,15,16,17,18,19],\"xaxis\":\"x\",\"y\":[694.5151462554932,660.7434301376343,645.2392196655273,613.0987253189087,588.23464012146,580.5354824066162,567.3264570236206,575.3304920196533,549.7674007415771,539.8057441711426,532.2051439285278,542.3236246109009,522.9639682769775,514.867790222168,523.200870513916,500.50937271118164,505.772780418396,494.2020425796509,487.3175811767578,508.6129446029663],\"yaxis\":\"y\",\"type\":\"scatter\"}],                        {\"template\":{\"data\":{\"histogram2dcontour\":[{\"type\":\"histogram2dcontour\",\"colorbar\":{\"outlinewidth\":0,\"ticks\":\"\"},\"colorscale\":[[0.0,\"#0d0887\"],[0.1111111111111111,\"#46039f\"],[0.2222222222222222,\"#7201a8\"],[0.3333333333333333,\"#9c179e\"],[0.4444444444444444,\"#bd3786\"],[0.5555555555555556,\"#d8576b\"],[0.6666666666666666,\"#ed7953\"],[0.7777777777777778,\"#fb9f3a\"],[0.8888888888888888,\"#fdca26\"],[1.0,\"#f0f921\"]]}],\"choropleth\":[{\"type\":\"choropleth\",\"colorbar\":{\"outlinewidth\":0,\"ticks\":\"\"}}],\"histogram2d\":[{\"type\":\"histogram2d\",\"colorbar\":{\"outlinewidth\":0,\"ticks\":\"\"},\"colorscale\":[[0.0,\"#0d0887\"],[0.1111111111111111,\"#46039f\"],[0.2222222222222222,\"#7201a8\"],[0.3333333333333333,\"#9c179e\"],[0.4444444444444444,\"#bd3786\"],[0.5555555555555556,\"#d8576b\"],[0.6666666666666666,\"#ed7953\"],[0.7777777777777778,\"#fb9f3a\"],[0.8888888888888888,\"#fdca26\"],[1.0,\"#f0f921\"]]}],\"heatmap\":[{\"type\":\"heatmap\",\"colorbar\":{\"outlinewidth\":0,\"ticks\":\"\"},\"colorscale\":[[0.0,\"#0d0887\"],[0.1111111111111111,\"#46039f\"],[0.2222222222222222,\"#7201a8\"],[0.3333333333333333,\"#9c179e\"],[0.4444444444444444,\"#bd3786\"],[0.5555555555555556,\"#d8576b\"],[0.6666666666666666,\"#ed7953\"],[0.7777777777777778,\"#fb9f3a\"],[0.8888888888888888,\"#fdca26\"],[1.0,\"#f0f921\"]]}],\"heatmapgl\":[{\"type\":\"heatmapgl\",\"colorbar\":{\"outlinewidth\":0,\"ticks\":\"\"},\"colorscale\":[[0.0,\"#0d0887\"],[0.1111111111111111,\"#46039f\"],[0.2222222222222222,\"#7201a8\"],[0.3333333333333333,\"#9c179e\"],[0.4444444444444444,\"#bd3786\"],[0.5555555555555556,\"#d8576b\"],[0.6666666666666666,\"#ed7953\"],[0.7777777777777778,\"#fb9f3a\"],[0.8888888888888888,\"#fdca26\"],[1.0,\"#f0f921\"]]}],\"contourcarpet\":[{\"type\":\"contourcarpet\",\"colorbar\":{\"outlinewidth\":0,\"ticks\":\"\"}}],\"contour\":[{\"type\":\"contour\",\"colorbar\":{\"outlinewidth\":0,\"ticks\":\"\"},\"colorscale\":[[0.0,\"#0d0887\"],[0.1111111111111111,\"#46039f\"],[0.2222222222222222,\"#7201a8\"],[0.3333333333333333,\"#9c179e\"],[0.4444444444444444,\"#bd3786\"],[0.5555555555555556,\"#d8576b\"],[0.6666666666666666,\"#ed7953\"],[0.7777777777777778,\"#fb9f3a\"],[0.8888888888888888,\"#fdca26\"],[1.0,\"#f0f921\"]]}],\"surface\":[{\"type\":\"surface\",\"colorbar\":{\"outlinewidth\":0,\"ticks\":\"\"},\"colorscale\":[[0.0,\"#0d0887\"],[0.1111111111111111,\"#46039f\"],[0.2222222222222222,\"#7201a8\"],[0.3333333333333333,\"#9c179e\"],[0.4444444444444444,\"#bd3786\"],[0.5555555555555556,\"#d8576b\"],[0.6666666666666666,\"#ed7953\"],[0.7777777777777778,\"#fb9f3a\"],[0.8888888888888888,\"#fdca26\"],[1.0,\"#f0f921\"]]}],\"mesh3d\":[{\"type\":\"mesh3d\",\"colorbar\":{\"outlinewidth\":0,\"ticks\":\"\"}}],\"scatter\":[{\"fillpattern\":{\"fillmode\":\"overlay\",\"size\":10,\"solidity\":0.2},\"type\":\"scatter\"}],\"parcoords\":[{\"type\":\"parcoords\",\"line\":{\"colorbar\":{\"outlinewidth\":0,\"ticks\":\"\"}}}],\"scatterpolargl\":[{\"type\":\"scatterpolargl\",\"marker\":{\"colorbar\":{\"outlinewidth\":0,\"ticks\":\"\"}}}],\"bar\":[{\"error_x\":{\"color\":\"#2a3f5f\"},\"error_y\":{\"color\":\"#2a3f5f\"},\"marker\":{\"line\":{\"color\":\"#E5ECF6\",\"width\":0.5},\"pattern\":{\"fillmode\":\"overlay\",\"size\":10,\"solidity\":0.2}},\"type\":\"bar\"}],\"scattergeo\":[{\"type\":\"scattergeo\",\"marker\":{\"colorbar\":{\"outlinewidth\":0,\"ticks\":\"\"}}}],\"scatterpolar\":[{\"type\":\"scatterpolar\",\"marker\":{\"colorbar\":{\"outlinewidth\":0,\"ticks\":\"\"}}}],\"histogram\":[{\"marker\":{\"pattern\":{\"fillmode\":\"overlay\",\"size\":10,\"solidity\":0.2}},\"type\":\"histogram\"}],\"scattergl\":[{\"type\":\"scattergl\",\"marker\":{\"colorbar\":{\"outlinewidth\":0,\"ticks\":\"\"}}}],\"scatter3d\":[{\"type\":\"scatter3d\",\"line\":{\"colorbar\":{\"outlinewidth\":0,\"ticks\":\"\"}},\"marker\":{\"colorbar\":{\"outlinewidth\":0,\"ticks\":\"\"}}}],\"scattermapbox\":[{\"type\":\"scattermapbox\",\"marker\":{\"colorbar\":{\"outlinewidth\":0,\"ticks\":\"\"}}}],\"scatterternary\":[{\"type\":\"scatterternary\",\"marker\":{\"colorbar\":{\"outlinewidth\":0,\"ticks\":\"\"}}}],\"scattercarpet\":[{\"type\":\"scattercarpet\",\"marker\":{\"colorbar\":{\"outlinewidth\":0,\"ticks\":\"\"}}}],\"carpet\":[{\"aaxis\":{\"endlinecolor\":\"#2a3f5f\",\"gridcolor\":\"white\",\"linecolor\":\"white\",\"minorgridcolor\":\"white\",\"startlinecolor\":\"#2a3f5f\"},\"baxis\":{\"endlinecolor\":\"#2a3f5f\",\"gridcolor\":\"white\",\"linecolor\":\"white\",\"minorgridcolor\":\"white\",\"startlinecolor\":\"#2a3f5f\"},\"type\":\"carpet\"}],\"table\":[{\"cells\":{\"fill\":{\"color\":\"#EBF0F8\"},\"line\":{\"color\":\"white\"}},\"header\":{\"fill\":{\"color\":\"#C8D4E3\"},\"line\":{\"color\":\"white\"}},\"type\":\"table\"}],\"barpolar\":[{\"marker\":{\"line\":{\"color\":\"#E5ECF6\",\"width\":0.5},\"pattern\":{\"fillmode\":\"overlay\",\"size\":10,\"solidity\":0.2}},\"type\":\"barpolar\"}],\"pie\":[{\"automargin\":true,\"type\":\"pie\"}]},\"layout\":{\"autotypenumbers\":\"strict\",\"colorway\":[\"#636efa\",\"#EF553B\",\"#00cc96\",\"#ab63fa\",\"#FFA15A\",\"#19d3f3\",\"#FF6692\",\"#B6E880\",\"#FF97FF\",\"#FECB52\"],\"font\":{\"color\":\"#2a3f5f\"},\"hovermode\":\"closest\",\"hoverlabel\":{\"align\":\"left\"},\"paper_bgcolor\":\"white\",\"plot_bgcolor\":\"#E5ECF6\",\"polar\":{\"bgcolor\":\"#E5ECF6\",\"angularaxis\":{\"gridcolor\":\"white\",\"linecolor\":\"white\",\"ticks\":\"\"},\"radialaxis\":{\"gridcolor\":\"white\",\"linecolor\":\"white\",\"ticks\":\"\"}},\"ternary\":{\"bgcolor\":\"#E5ECF6\",\"aaxis\":{\"gridcolor\":\"white\",\"linecolor\":\"white\",\"ticks\":\"\"},\"baxis\":{\"gridcolor\":\"white\",\"linecolor\":\"white\",\"ticks\":\"\"},\"caxis\":{\"gridcolor\":\"white\",\"linecolor\":\"white\",\"ticks\":\"\"}},\"coloraxis\":{\"colorbar\":{\"outlinewidth\":0,\"ticks\":\"\"}},\"colorscale\":{\"sequential\":[[0.0,\"#0d0887\"],[0.1111111111111111,\"#46039f\"],[0.2222222222222222,\"#7201a8\"],[0.3333333333333333,\"#9c179e\"],[0.4444444444444444,\"#bd3786\"],[0.5555555555555556,\"#d8576b\"],[0.6666666666666666,\"#ed7953\"],[0.7777777777777778,\"#fb9f3a\"],[0.8888888888888888,\"#fdca26\"],[1.0,\"#f0f921\"]],\"sequentialminus\":[[0.0,\"#0d0887\"],[0.1111111111111111,\"#46039f\"],[0.2222222222222222,\"#7201a8\"],[0.3333333333333333,\"#9c179e\"],[0.4444444444444444,\"#bd3786\"],[0.5555555555555556,\"#d8576b\"],[0.6666666666666666,\"#ed7953\"],[0.7777777777777778,\"#fb9f3a\"],[0.8888888888888888,\"#fdca26\"],[1.0,\"#f0f921\"]],\"diverging\":[[0,\"#8e0152\"],[0.1,\"#c51b7d\"],[0.2,\"#de77ae\"],[0.3,\"#f1b6da\"],[0.4,\"#fde0ef\"],[0.5,\"#f7f7f7\"],[0.6,\"#e6f5d0\"],[0.7,\"#b8e186\"],[0.8,\"#7fbc41\"],[0.9,\"#4d9221\"],[1,\"#276419\"]]},\"xaxis\":{\"gridcolor\":\"white\",\"linecolor\":\"white\",\"ticks\":\"\",\"title\":{\"standoff\":15},\"zerolinecolor\":\"white\",\"automargin\":true,\"zerolinewidth\":2},\"yaxis\":{\"gridcolor\":\"white\",\"linecolor\":\"white\",\"ticks\":\"\",\"title\":{\"standoff\":15},\"zerolinecolor\":\"white\",\"automargin\":true,\"zerolinewidth\":2},\"scene\":{\"xaxis\":{\"backgroundcolor\":\"#E5ECF6\",\"gridcolor\":\"white\",\"linecolor\":\"white\",\"showbackground\":true,\"ticks\":\"\",\"zerolinecolor\":\"white\",\"gridwidth\":2},\"yaxis\":{\"backgroundcolor\":\"#E5ECF6\",\"gridcolor\":\"white\",\"linecolor\":\"white\",\"showbackground\":true,\"ticks\":\"\",\"zerolinecolor\":\"white\",\"gridwidth\":2},\"zaxis\":{\"backgroundcolor\":\"#E5ECF6\",\"gridcolor\":\"white\",\"linecolor\":\"white\",\"showbackground\":true,\"ticks\":\"\",\"zerolinecolor\":\"white\",\"gridwidth\":2}},\"shapedefaults\":{\"line\":{\"color\":\"#2a3f5f\"}},\"annotationdefaults\":{\"arrowcolor\":\"#2a3f5f\",\"arrowhead\":0,\"arrowwidth\":1},\"geo\":{\"bgcolor\":\"white\",\"landcolor\":\"#E5ECF6\",\"subunitcolor\":\"white\",\"showland\":true,\"showlakes\":true,\"lakecolor\":\"white\"},\"title\":{\"x\":0.05},\"mapbox\":{\"style\":\"light\"}}},\"xaxis\":{\"anchor\":\"y\",\"domain\":[0.0,1.0],\"title\":{\"text\":\"index\"}},\"yaxis\":{\"anchor\":\"x\",\"domain\":[0.0,1.0],\"title\":{\"text\":\"value\"}},\"legend\":{\"title\":{\"text\":\"variable\"},\"tracegroupgap\":0},\"margin\":{\"t\":60}},                        {\"responsive\": true}                    ).then(function(){\n",
              "                            \n",
              "var gd = document.getElementById('7eb086f0-4bcf-4690-a7f3-646d0dce9c78');\n",
              "var x = new MutationObserver(function (mutations, observer) {{\n",
              "        var display = window.getComputedStyle(gd).display;\n",
              "        if (!display || display === 'none') {{\n",
              "            console.log([gd, 'removed!']);\n",
              "            Plotly.purge(gd);\n",
              "            observer.disconnect();\n",
              "        }}\n",
              "}});\n",
              "\n",
              "// Listen for the removal of the full notebook cells\n",
              "var notebookContainer = gd.closest('#notebook-container');\n",
              "if (notebookContainer) {{\n",
              "    x.observe(notebookContainer, {childList: true});\n",
              "}}\n",
              "\n",
              "// Listen for the clearing of the current output cell\n",
              "var outputEl = gd.closest('.output');\n",
              "if (outputEl) {{\n",
              "    x.observe(outputEl, {childList: true});\n",
              "}}\n",
              "\n",
              "                        })                };                            </script>        </div>\n",
              "</body>\n",
              "</html>"
            ]
          },
          "metadata": {}
        }
      ],
      "source": [
        "for epoch in range(epochs):\n",
        "    model.train()\n",
        "    epoch_loss = 1\n",
        "    for i, (x1, x2) in tqdm(enumerate(train_loader)):\n",
        "        x1, x2 = x1.to(DEVICE), x2.to(DEVICE)\n",
        "        optimizer.zero_grad()\n",
        "        z1, z2 = model(x1), model(x2)\n",
        "        loss = loss_function(z1, z2)\n",
        "        loss.backward()\n",
        "        epoch_loss = loss.item() * 0.3 + epoch_loss * 0.7\n",
        "        optimizer.step()\n",
        "\n",
        "    model.eval()\n",
        "    with torch.no_grad():\n",
        "        inv_loss, var_loss, cov_loss, test_loss = 0, 0, 0, 0\n",
        "        for i, (x1,_) in enumerate(test_loader):\n",
        "            x1, x2 = x1.to(DEVICE), x1.clone().to(DEVICE)\n",
        "            z1, z2 = model(x1), model(x2)\n",
        "            _, loss_components = loss_function_d(z1, z2)\n",
        "            inv_loss += loss_components[\"inv_loss\"]\n",
        "            var_loss += loss_components[\"var_loss\"]\n",
        "            cov_loss += loss_components[\"cov_loss\"]\n",
        "            test_loss += loss_components[\"loss\"]\n",
        "\n",
        "        loss, compomment = loss_function_d(z1, z2)\n",
        "        recorder.loc[epoch] = {\n",
        "            \"epoch\": epoch,\n",
        "            \"epoch_loss\": epoch_loss,\n",
        "            \"inv_loss\": inv_loss,\n",
        "            \"var_loss\": var_loss,\n",
        "            \"cov_loss\": cov_loss,\n",
        "            \"test_loss\": test_loss,\n",
        "        }\n",
        "        clear_output(wait=True)\n",
        "        px.line(\n",
        "            recorder,\n",
        "            y=[\"epoch_loss\", \"inv_loss\", \"var_loss\", \"cov_loss\", \"test_loss\"],\n",
        "        ).show()"
      ]
    },
    {
      "cell_type": "code",
      "source": [
        "torch.save(model.state_dict(), \"vicreg_20_run.txt\")"
      ],
      "metadata": {
        "id": "JIWMPBXxbKfj"
      },
      "execution_count": 17,
      "outputs": []
    },
    {
      "cell_type": "markdown",
      "metadata": {
        "id": "nzd3L155m4Ep"
      },
      "source": [
        "# Q2: PCA vs. T-SNE Visualizations.\n",
        "Compute the representations of each test image using your trained encoder.\n",
        "Map (using the sklearn library) the representation to a 2D space using: (i) PCA (ii) T-SNE. Plot the T-SNE and the PCA 2D representations, colored by their classes. Look at both visualizations (PCA vs. T-SNE), which one seems more effective for visualizations to you? Look at the T-SNE visualization. Did VICReg managed to capture the class information accurately? Which classes seem entangled to you? Explain.\n"
      ]
    },
    {
      "cell_type": "code",
      "source": [
        "model.eval()\n",
        "\n",
        "# Get the test data representations\n",
        "test_representations = []\n",
        "test_labels = []\n",
        "with torch.no_grad():\n",
        "    for images, labels in test_loader:\n",
        "        images = images.to(DEVICE)\n",
        "        representations = model.encoder(images)\n",
        "        test_representations.append(representations.cpu().numpy())\n",
        "        test_labels.append(labels.cpu().numpy())\n",
        "\n",
        "test_representations = np.concatenate(test_representations)\n",
        "test_labels = np.concatenate(test_labels)\n"
      ],
      "metadata": {
        "id": "mb13wgQZcSOd"
      },
      "execution_count": null,
      "outputs": []
    },
    {
      "cell_type": "code",
      "source": [
        "\n",
        "# Perform PCA\n",
        "pca = PCA(n_components=2)\n",
        "pca_representations = pca.fit_transform(test_representations)\n",
        "\n",
        "# Perform t-SNE\n",
        "tsne = TSNE(n_components=2, perplexity=30)\n",
        "tsne_representations = tsne.fit_transform(test_representations)\n",
        "\n",
        "# Create a DataFrame for Plotly\n",
        "pca_df = pd.DataFrame(\n",
        "    {\n",
        "        'PCA Component 1': pca_representations[:, 0],\n",
        "        'PCA Component 2': pca_representations[:, 1],\n",
        "        'Class': test_labels\n",
        "    }\n",
        ")\n",
        "\n",
        "tsne_df = pd.DataFrame(\n",
        "    {\n",
        "        't-SNE Component 1': tsne_representations[:, 0],\n",
        "        't-SNE Component 2': tsne_representations[:, 1],\n",
        "        'Class': test_labels\n",
        "    }\n",
        ")\n"
      ],
      "metadata": {
        "id": "a1Kjl5HocjT6"
      },
      "execution_count": null,
      "outputs": []
    },
    {
      "cell_type": "code",
      "source": [
        "\n",
        "# Plot PCA results with Plotly\n",
        "fig_pca = px.scatter(\n",
        "    pca_df, x='PCA Component 1', y='PCA Component 2',\n",
        "    color='Class', title='PCA Visualization of Test Image Representations'\n",
        ")\n",
        "fig_pca.show()\n",
        "\n",
        "# Plot t-SNE results with Plotly\n",
        "fig_tsne = px.scatter(\n",
        "    tsne_df, x='t-SNE Component 1', y='t-SNE Component 2',\n",
        "    color='Class', title='t-SNE Visualization of Test Image Representations'\n",
        ")\n",
        "fig_tsne.show()"
      ],
      "metadata": {
        "id": "stR4qAntcl5j"
      },
      "execution_count": null,
      "outputs": []
    },
    {
      "cell_type": "markdown",
      "metadata": {
        "id": "CxIZq1Ofm4Ep"
      },
      "source": [
        "# Q3: Linear Probing.\n",
        "Perform a linear probing (single FC layer) to the encoder’s representation. Train this\n",
        "classifier on the representations of the CIFAR10 train set. Remember to freeze the encoder, i.e. do not update it. Compute the probing’s accuracy on the test set. What is the accuracy you reach with your classifier?\n",
        "Note: classifier accuracy should be at least 60% on the test set."
      ]
    },
    {
      "cell_type": "markdown",
      "metadata": {
        "id": "SVp9vMA2m4Ep"
      },
      "source": [
        "# Q4: Ablation 1 - No Variance Term.\n",
        "Modify the optimized objective, by removing the variance objective term\n",
        "(µ = 0.). Using the representations from the modified encoder, perform the same PCA visualization from Q2, and the linear probing from Q3 (and include them in your report). Is the new accuracy better or worse? Can you see anything different in the representations visualization? Try to explain the difference in the accuracy using the visualizations.\n"
      ]
    },
    {
      "cell_type": "markdown",
      "metadata": {
        "id": "gFOvED5jm4Eq"
      },
      "source": [
        "# Q5: Ablation 2 - No Generated Neighbors.\n",
        "Now, we would like to ablate VICReg by only removing the generated neighbors, using neighbors from the data itself:\n",
        "First, compute the representations of your original VICReg, on all of the training set. In each step of training and for each image in the batch, use these representations to find the top 3 nearest neighbors, and randomly select 1 of them. Use the original image and this neighbor of it as your 2 views for the VICReg algorithm.\n",
        "\n",
        "2 Practical Tips: (i) We find that training this algorithm for only a single epoch is more\n",
        "beneficial. (ii) We recommend you to compute the neighboring indices of each image in advance, and delete the original VICReg model from your (GPU) memory. This will save both run time and GPU space.\n",
        "Compute the linear probing accuracy, and report it. Is the accuracy different from the original linear probing from 3?\n",
        "- If no, explain why do you think this change had no effect (what compensates the things that are missing?).\n",
        "- If yes, explain what added value do you think the generated neighbors adds to the algorithm."
      ]
    },
    {
      "cell_type": "markdown",
      "metadata": {
        "id": "18u4UDsfm4Eq"
      },
      "source": [
        "# Q6: Ablation 3 - Laplacian Eigenmaps.\n",
        "After removing the generated neighbors, we would like to remove both it and the amortization at once. To do so, we will perform Laplacian Eigenmaps representation learning on the training data of CIFAR10. Since this algorithm is difficult to run, we ran it for you on 10K images (due to runtime limitations) and give you the T-SNE plotting of these representations in Fig. 2 3.\n",
        "Compare this to VICReg’s T-SNE plot from Q2. Based on this visual and linear probing comparison, which method (VICReg vs. Laplacian Eigenmaps) seems more effective for downstream object classification?\n",
        "Explain your answer in detail, including what do you think makes one algorithm to be more successful.\n"
      ]
    },
    {
      "cell_type": "markdown",
      "metadata": {
        "id": "NQI_Xd5Bm4Eq"
      },
      "source": [
        "# Q7: Retrieval Evaluation\n",
        "Now that we slowly “pealed” VICReg back to the laplacian eigenmaps algorithm,\n",
        "we wish to evaluate it qualitatively. For the methods Q1 (VICReg) and Q5 (No Generated Neighbors) perform a\n",
        "qualitative retrieval evaluation. That means:\n",
        "- Select 10 random images from the training set, one from each class.\n",
        "- For each selected image, use the representations of each of the evaluated methods, to find its 5 nearest neighbors\n",
        "in the dataset.\n",
        "- Plot the images together with their neighbors.\n",
        "- Using the same images, perform the same visualization for the 5 most distant images in the dataset.\n",
        "\n",
        "Using this visualization, explain what attributes each method attends to. What are the differences you see between\n",
        "the different methods? Which one excels at keeping close images together? Which one excels at keeping distant\n",
        "images far apart? Explain the differences between the methods in detail, as seen by this visualization. You may\n",
        "select more than 1 image for a specific class if you wish to get a better understanding (Although it is not mandatory)."
      ]
    },
    {
      "cell_type": "markdown",
      "metadata": {
        "id": "CGPJzeTrm4Eq"
      },
      "source": [
        "# Q1 - Anomaly Detection.\n",
        "Using the CIFAR10 training data as reference for normal data, compute the kNN\n",
        "density estimation for all the (CIFAR10 + MNIST) test set representations. Do this for both (i) VICReg (ii) VICReg\n",
        "without generated neighbors. Use k = 2.\n"
      ]
    },
    {
      "cell_type": "markdown",
      "metadata": {
        "id": "QHY2S9ALm4Eq"
      },
      "source": [
        "# Q2 - ROC AUC Evaluation\n",
        "Plot the ROC Curve of both methods. Use the sklearn library for creating these\n",
        "figures. In the title / legend incorporate the AUC of each method. Which method is ’better’? In a sentence or two,\n",
        "explain why do you think its better."
      ]
    },
    {
      "cell_type": "markdown",
      "metadata": {
        "id": "rUmDPT5rm4Eq"
      },
      "source": [
        "# Q3 - Qualitative Evaluation - Ambiguity of Anomaly Detection.\n",
        "Plot the 7 most anomalous samples according\n",
        "to VICReg and VICReg without the generated neighbors, in two separate rows (you can split to different plots if\n",
        "more convenient). Look at the results. Explain what aspects each method found to be anomalous. Keeping in mind\n",
        "we did not give either of the methods any clues regarding which anomalies are we looking for, do you still think one\n",
        "is better than the other? Explain your answer."
      ]
    },
    {
      "cell_type": "markdown",
      "metadata": {
        "id": "uxnrN1Ccm4Eq"
      },
      "source": [
        "# Q1 - Clustering using K-Means\n",
        "Use the implementation of sklearn to cluster the CIFAR10 training set to\n",
        "10 clusters. Do this using the representations of VICReg once, and a second time for VICReg without generated\n",
        "neighbors."
      ]
    },
    {
      "cell_type": "markdown",
      "metadata": {
        "id": "6eKGKEzYm4Eq"
      },
      "source": [
        "# Q2 - Visualizing the Clusters in 2D\n",
        "Perform a dimensionality reduction to 2 dimensions using T-SNE, for\n",
        "the representations of both methods (separately). For each method, plot the reduced embeddings in a 2D space twice\n",
        "(side by side): (i) First, colored by their cluster index (according to the matching clustering from Q1). (ii) Second,\n",
        "colored by their actual class index. In each figure, also plot the clusters centers in black color.\n",
        "Look at the results, which method looks more successful at finding clusters? Which method looks more successful\n",
        "at separating between the classes? Explain your answer, keeping in mind that similarly to Anomaly Detection there\n",
        "are no clues for which clusters to look for."
      ]
    },
    {
      "cell_type": "markdown",
      "metadata": {
        "id": "iTaczS0Nm4Er"
      },
      "source": [
        "# Q3 - Quantitative Analysis\n",
        "Use the Silhouette Score on the clusterings of both methods (in their original embedding dimensions). Report the 2 different scores. Is this coherent with what you see in your visual analysis? Explain your answer"
      ]
    },
    {
      "cell_type": "markdown",
      "metadata": {
        "id": "76m0m-Xzm4Er"
      },
      "source": []
    }
  ],
  "metadata": {
    "colab": {
      "provenance": [],
      "machine_shape": "hm",
      "gpuType": "L4",
      "include_colab_link": true
    },
    "kernelspec": {
      "display_name": "Python 3",
      "name": "python3"
    },
    "language_info": {
      "codemirror_mode": {
        "name": "ipython",
        "version": 3
      },
      "file_extension": ".py",
      "mimetype": "text/x-python",
      "name": "python",
      "nbconvert_exporter": "python",
      "pygments_lexer": "ipython3",
      "version": "3.10.11"
    },
    "accelerator": "GPU"
  },
  "nbformat": 4,
  "nbformat_minor": 0
}