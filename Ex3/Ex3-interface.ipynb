{
  "cells": [
    {
      "cell_type": "markdown",
      "metadata": {
        "colab_type": "text",
        "id": "view-in-github"
      },
      "source": [
        "<a href=\"https://colab.research.google.com/github/avrymi-asraf/AML/blob/main/Ex3/Ex3-interface.ipynb\" target=\"_parent\"><img src=\"https://colab.research.google.com/assets/colab-badge.svg\" alt=\"Open In Colab\"/></a>"
      ]
    },
    {
      "cell_type": "markdown",
      "metadata": {
        "id": "fEGWYdQqm4El"
      },
      "source": [
        "# Imports and tools"
      ]
    },
    {
      "cell_type": "code",
      "execution_count": 1,
      "metadata": {
        "id": "FuyL6J_Gm9XF"
      },
      "outputs": [],
      "source": [
        "import torch\n",
        "import torch.nn as nn\n",
        "from torch.utils.data import DataLoader\n",
        "from torch.nn.functional import pad\n",
        "\n",
        "from sklearn.decomposition import PCA\n",
        "from sklearn.manifold import TSNE\n",
        "\n",
        "import pandas as pd\n",
        "import numpy as np\n",
        "\n",
        "import matplotlib.pyplot as plt\n",
        "import plotly.express as px\n",
        "import plotly.graph_objects as go\n",
        "\n",
        "import re\n",
        "import math\n",
        "from tqdm import tqdm, tqdm_pandas, trange"
      ]
    },
    {
      "cell_type": "code",
      "execution_count": 2,
      "metadata": {
        "id": "aO24QkWioByi"
      },
      "outputs": [],
      "source": [
        "from IPython.display import Markdown, clear_output, display\n",
        "\n",
        "md = lambda x: display(Markdown(x))\n",
        "he_md = lambda x: display(Markdown(f'<div dir=\"rtl\" lang=\"he\" xml:lang=\"he\">{x}</div>'))"
      ]
    },
    {
      "cell_type": "code",
      "execution_count": 3,
      "metadata": {
        "id": "ilJTYwEipFKu"
      },
      "outputs": [],
      "source": [
        "DEVICE = \"cuda\" if torch.cuda.is_available() else \"cpu\""
      ]
    },
    {
      "cell_type": "code",
      "execution_count": 4,
      "metadata": {
        "id": "-B_uSjzGm4Em"
      },
      "outputs": [],
      "source": [
        "# for colab\n",
        "# !mkdir src\n",
        "\n",
        "# !wget -O /content/src/data_load.py https://raw.githubusercontent.com/avrymi-asraf/AML/main/Ex3/src/data_load.py\n",
        "# !wget -O /content/src/models.py https://raw.githubusercontent.com/avrymi-asraf/AML/main/Ex3/src/models.py\n",
        "# !wget -O /content/src/vicreg_objectives.py https://raw.githubusercontent.com/avrymi-asraf/AML/main/Ex3/src/vicreg_objectives.py\n",
        "# clear_output()"
      ]
    },
    {
      "cell_type": "code",
      "execution_count": 5,
      "metadata": {
        "id": "Vo41yKz5m4En"
      },
      "outputs": [],
      "source": [
        "# for local machine\n",
        "from src.models import Encoder, Projector\n",
        "from src.vicreg_objectives import vicreg_loss_detailed, vicreg_loss_performance\n",
        "from src.data_load import (\n",
        "    load_cifar10,\n",
        "    load_mnist,\n",
        "    load_combined_test_set,\n",
        "    load_vicreg_cifar10,\n",
        "    test,\n",
        ")"
      ]
    },
    {
      "cell_type": "code",
      "execution_count": 6,
      "metadata": {},
      "outputs": [
        {
          "name": "stdout",
          "output_type": "stream",
          "text": [
            "Files already downloaded and verified\n",
            "Files already downloaded and verified\n"
          ]
        }
      ],
      "source": [
        "tr,te = load_vicreg_cifar10()\n",
        "it = iter(tr)"
      ]
    },
    {
      "cell_type": "code",
      "execution_count": 7,
      "metadata": {},
      "outputs": [],
      "source": [
        "z1,z2 = next(it)"
      ]
    },
    {
      "cell_type": "code",
      "execution_count": 13,
      "metadata": {},
      "outputs": [
        {
          "data": {
            "application/vnd.plotly.v1+json": {
              "config": {
                "plotlyServerURL": "https://plot.ly"
              },
              "data": [
                {
                  "hovertemplate": "x: %{x}<br>y: %{y}<extra></extra>",
                  "name": "0",
                  "source": "data:image/png;base64,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",
                  "type": "image",
                  "xaxis": "x",
                  "yaxis": "y"
                }
              ],
              "layout": {
                "margin": {
                  "t": 60
                },
                "template": {
                  "data": {
                    "bar": [
                      {
                        "error_x": {
                          "color": "#2a3f5f"
                        },
                        "error_y": {
                          "color": "#2a3f5f"
                        },
                        "marker": {
                          "line": {
                            "color": "#E5ECF6",
                            "width": 0.5
                          },
                          "pattern": {
                            "fillmode": "overlay",
                            "size": 10,
                            "solidity": 0.2
                          }
                        },
                        "type": "bar"
                      }
                    ],
                    "barpolar": [
                      {
                        "marker": {
                          "line": {
                            "color": "#E5ECF6",
                            "width": 0.5
                          },
                          "pattern": {
                            "fillmode": "overlay",
                            "size": 10,
                            "solidity": 0.2
                          }
                        },
                        "type": "barpolar"
                      }
                    ],
                    "carpet": [
                      {
                        "aaxis": {
                          "endlinecolor": "#2a3f5f",
                          "gridcolor": "white",
                          "linecolor": "white",
                          "minorgridcolor": "white",
                          "startlinecolor": "#2a3f5f"
                        },
                        "baxis": {
                          "endlinecolor": "#2a3f5f",
                          "gridcolor": "white",
                          "linecolor": "white",
                          "minorgridcolor": "white",
                          "startlinecolor": "#2a3f5f"
                        },
                        "type": "carpet"
                      }
                    ],
                    "choropleth": [
                      {
                        "colorbar": {
                          "outlinewidth": 0,
                          "ticks": ""
                        },
                        "type": "choropleth"
                      }
                    ],
                    "contour": [
                      {
                        "colorbar": {
                          "outlinewidth": 0,
                          "ticks": ""
                        },
                        "colorscale": [
                          [
                            0,
                            "#0d0887"
                          ],
                          [
                            0.1111111111111111,
                            "#46039f"
                          ],
                          [
                            0.2222222222222222,
                            "#7201a8"
                          ],
                          [
                            0.3333333333333333,
                            "#9c179e"
                          ],
                          [
                            0.4444444444444444,
                            "#bd3786"
                          ],
                          [
                            0.5555555555555556,
                            "#d8576b"
                          ],
                          [
                            0.6666666666666666,
                            "#ed7953"
                          ],
                          [
                            0.7777777777777778,
                            "#fb9f3a"
                          ],
                          [
                            0.8888888888888888,
                            "#fdca26"
                          ],
                          [
                            1,
                            "#f0f921"
                          ]
                        ],
                        "type": "contour"
                      }
                    ],
                    "contourcarpet": [
                      {
                        "colorbar": {
                          "outlinewidth": 0,
                          "ticks": ""
                        },
                        "type": "contourcarpet"
                      }
                    ],
                    "heatmap": [
                      {
                        "colorbar": {
                          "outlinewidth": 0,
                          "ticks": ""
                        },
                        "colorscale": [
                          [
                            0,
                            "#0d0887"
                          ],
                          [
                            0.1111111111111111,
                            "#46039f"
                          ],
                          [
                            0.2222222222222222,
                            "#7201a8"
                          ],
                          [
                            0.3333333333333333,
                            "#9c179e"
                          ],
                          [
                            0.4444444444444444,
                            "#bd3786"
                          ],
                          [
                            0.5555555555555556,
                            "#d8576b"
                          ],
                          [
                            0.6666666666666666,
                            "#ed7953"
                          ],
                          [
                            0.7777777777777778,
                            "#fb9f3a"
                          ],
                          [
                            0.8888888888888888,
                            "#fdca26"
                          ],
                          [
                            1,
                            "#f0f921"
                          ]
                        ],
                        "type": "heatmap"
                      }
                    ],
                    "heatmapgl": [
                      {
                        "colorbar": {
                          "outlinewidth": 0,
                          "ticks": ""
                        },
                        "colorscale": [
                          [
                            0,
                            "#0d0887"
                          ],
                          [
                            0.1111111111111111,
                            "#46039f"
                          ],
                          [
                            0.2222222222222222,
                            "#7201a8"
                          ],
                          [
                            0.3333333333333333,
                            "#9c179e"
                          ],
                          [
                            0.4444444444444444,
                            "#bd3786"
                          ],
                          [
                            0.5555555555555556,
                            "#d8576b"
                          ],
                          [
                            0.6666666666666666,
                            "#ed7953"
                          ],
                          [
                            0.7777777777777778,
                            "#fb9f3a"
                          ],
                          [
                            0.8888888888888888,
                            "#fdca26"
                          ],
                          [
                            1,
                            "#f0f921"
                          ]
                        ],
                        "type": "heatmapgl"
                      }
                    ],
                    "histogram": [
                      {
                        "marker": {
                          "pattern": {
                            "fillmode": "overlay",
                            "size": 10,
                            "solidity": 0.2
                          }
                        },
                        "type": "histogram"
                      }
                    ],
                    "histogram2d": [
                      {
                        "colorbar": {
                          "outlinewidth": 0,
                          "ticks": ""
                        },
                        "colorscale": [
                          [
                            0,
                            "#0d0887"
                          ],
                          [
                            0.1111111111111111,
                            "#46039f"
                          ],
                          [
                            0.2222222222222222,
                            "#7201a8"
                          ],
                          [
                            0.3333333333333333,
                            "#9c179e"
                          ],
                          [
                            0.4444444444444444,
                            "#bd3786"
                          ],
                          [
                            0.5555555555555556,
                            "#d8576b"
                          ],
                          [
                            0.6666666666666666,
                            "#ed7953"
                          ],
                          [
                            0.7777777777777778,
                            "#fb9f3a"
                          ],
                          [
                            0.8888888888888888,
                            "#fdca26"
                          ],
                          [
                            1,
                            "#f0f921"
                          ]
                        ],
                        "type": "histogram2d"
                      }
                    ],
                    "histogram2dcontour": [
                      {
                        "colorbar": {
                          "outlinewidth": 0,
                          "ticks": ""
                        },
                        "colorscale": [
                          [
                            0,
                            "#0d0887"
                          ],
                          [
                            0.1111111111111111,
                            "#46039f"
                          ],
                          [
                            0.2222222222222222,
                            "#7201a8"
                          ],
                          [
                            0.3333333333333333,
                            "#9c179e"
                          ],
                          [
                            0.4444444444444444,
                            "#bd3786"
                          ],
                          [
                            0.5555555555555556,
                            "#d8576b"
                          ],
                          [
                            0.6666666666666666,
                            "#ed7953"
                          ],
                          [
                            0.7777777777777778,
                            "#fb9f3a"
                          ],
                          [
                            0.8888888888888888,
                            "#fdca26"
                          ],
                          [
                            1,
                            "#f0f921"
                          ]
                        ],
                        "type": "histogram2dcontour"
                      }
                    ],
                    "mesh3d": [
                      {
                        "colorbar": {
                          "outlinewidth": 0,
                          "ticks": ""
                        },
                        "type": "mesh3d"
                      }
                    ],
                    "parcoords": [
                      {
                        "line": {
                          "colorbar": {
                            "outlinewidth": 0,
                            "ticks": ""
                          }
                        },
                        "type": "parcoords"
                      }
                    ],
                    "pie": [
                      {
                        "automargin": true,
                        "type": "pie"
                      }
                    ],
                    "scatter": [
                      {
                        "fillpattern": {
                          "fillmode": "overlay",
                          "size": 10,
                          "solidity": 0.2
                        },
                        "type": "scatter"
                      }
                    ],
                    "scatter3d": [
                      {
                        "line": {
                          "colorbar": {
                            "outlinewidth": 0,
                            "ticks": ""
                          }
                        },
                        "marker": {
                          "colorbar": {
                            "outlinewidth": 0,
                            "ticks": ""
                          }
                        },
                        "type": "scatter3d"
                      }
                    ],
                    "scattercarpet": [
                      {
                        "marker": {
                          "colorbar": {
                            "outlinewidth": 0,
                            "ticks": ""
                          }
                        },
                        "type": "scattercarpet"
                      }
                    ],
                    "scattergeo": [
                      {
                        "marker": {
                          "colorbar": {
                            "outlinewidth": 0,
                            "ticks": ""
                          }
                        },
                        "type": "scattergeo"
                      }
                    ],
                    "scattergl": [
                      {
                        "marker": {
                          "colorbar": {
                            "outlinewidth": 0,
                            "ticks": ""
                          }
                        },
                        "type": "scattergl"
                      }
                    ],
                    "scattermapbox": [
                      {
                        "marker": {
                          "colorbar": {
                            "outlinewidth": 0,
                            "ticks": ""
                          }
                        },
                        "type": "scattermapbox"
                      }
                    ],
                    "scatterpolar": [
                      {
                        "marker": {
                          "colorbar": {
                            "outlinewidth": 0,
                            "ticks": ""
                          }
                        },
                        "type": "scatterpolar"
                      }
                    ],
                    "scatterpolargl": [
                      {
                        "marker": {
                          "colorbar": {
                            "outlinewidth": 0,
                            "ticks": ""
                          }
                        },
                        "type": "scatterpolargl"
                      }
                    ],
                    "scatterternary": [
                      {
                        "marker": {
                          "colorbar": {
                            "outlinewidth": 0,
                            "ticks": ""
                          }
                        },
                        "type": "scatterternary"
                      }
                    ],
                    "surface": [
                      {
                        "colorbar": {
                          "outlinewidth": 0,
                          "ticks": ""
                        },
                        "colorscale": [
                          [
                            0,
                            "#0d0887"
                          ],
                          [
                            0.1111111111111111,
                            "#46039f"
                          ],
                          [
                            0.2222222222222222,
                            "#7201a8"
                          ],
                          [
                            0.3333333333333333,
                            "#9c179e"
                          ],
                          [
                            0.4444444444444444,
                            "#bd3786"
                          ],
                          [
                            0.5555555555555556,
                            "#d8576b"
                          ],
                          [
                            0.6666666666666666,
                            "#ed7953"
                          ],
                          [
                            0.7777777777777778,
                            "#fb9f3a"
                          ],
                          [
                            0.8888888888888888,
                            "#fdca26"
                          ],
                          [
                            1,
                            "#f0f921"
                          ]
                        ],
                        "type": "surface"
                      }
                    ],
                    "table": [
                      {
                        "cells": {
                          "fill": {
                            "color": "#EBF0F8"
                          },
                          "line": {
                            "color": "white"
                          }
                        },
                        "header": {
                          "fill": {
                            "color": "#C8D4E3"
                          },
                          "line": {
                            "color": "white"
                          }
                        },
                        "type": "table"
                      }
                    ]
                  },
                  "layout": {
                    "annotationdefaults": {
                      "arrowcolor": "#2a3f5f",
                      "arrowhead": 0,
                      "arrowwidth": 1
                    },
                    "autotypenumbers": "strict",
                    "coloraxis": {
                      "colorbar": {
                        "outlinewidth": 0,
                        "ticks": ""
                      }
                    },
                    "colorscale": {
                      "diverging": [
                        [
                          0,
                          "#8e0152"
                        ],
                        [
                          0.1,
                          "#c51b7d"
                        ],
                        [
                          0.2,
                          "#de77ae"
                        ],
                        [
                          0.3,
                          "#f1b6da"
                        ],
                        [
                          0.4,
                          "#fde0ef"
                        ],
                        [
                          0.5,
                          "#f7f7f7"
                        ],
                        [
                          0.6,
                          "#e6f5d0"
                        ],
                        [
                          0.7,
                          "#b8e186"
                        ],
                        [
                          0.8,
                          "#7fbc41"
                        ],
                        [
                          0.9,
                          "#4d9221"
                        ],
                        [
                          1,
                          "#276419"
                        ]
                      ],
                      "sequential": [
                        [
                          0,
                          "#0d0887"
                        ],
                        [
                          0.1111111111111111,
                          "#46039f"
                        ],
                        [
                          0.2222222222222222,
                          "#7201a8"
                        ],
                        [
                          0.3333333333333333,
                          "#9c179e"
                        ],
                        [
                          0.4444444444444444,
                          "#bd3786"
                        ],
                        [
                          0.5555555555555556,
                          "#d8576b"
                        ],
                        [
                          0.6666666666666666,
                          "#ed7953"
                        ],
                        [
                          0.7777777777777778,
                          "#fb9f3a"
                        ],
                        [
                          0.8888888888888888,
                          "#fdca26"
                        ],
                        [
                          1,
                          "#f0f921"
                        ]
                      ],
                      "sequentialminus": [
                        [
                          0,
                          "#0d0887"
                        ],
                        [
                          0.1111111111111111,
                          "#46039f"
                        ],
                        [
                          0.2222222222222222,
                          "#7201a8"
                        ],
                        [
                          0.3333333333333333,
                          "#9c179e"
                        ],
                        [
                          0.4444444444444444,
                          "#bd3786"
                        ],
                        [
                          0.5555555555555556,
                          "#d8576b"
                        ],
                        [
                          0.6666666666666666,
                          "#ed7953"
                        ],
                        [
                          0.7777777777777778,
                          "#fb9f3a"
                        ],
                        [
                          0.8888888888888888,
                          "#fdca26"
                        ],
                        [
                          1,
                          "#f0f921"
                        ]
                      ]
                    },
                    "colorway": [
                      "#636efa",
                      "#EF553B",
                      "#00cc96",
                      "#ab63fa",
                      "#FFA15A",
                      "#19d3f3",
                      "#FF6692",
                      "#B6E880",
                      "#FF97FF",
                      "#FECB52"
                    ],
                    "font": {
                      "color": "#2a3f5f"
                    },
                    "geo": {
                      "bgcolor": "white",
                      "lakecolor": "white",
                      "landcolor": "#E5ECF6",
                      "showlakes": true,
                      "showland": true,
                      "subunitcolor": "white"
                    },
                    "hoverlabel": {
                      "align": "left"
                    },
                    "hovermode": "closest",
                    "mapbox": {
                      "style": "light"
                    },
                    "paper_bgcolor": "white",
                    "plot_bgcolor": "#E5ECF6",
                    "polar": {
                      "angularaxis": {
                        "gridcolor": "white",
                        "linecolor": "white",
                        "ticks": ""
                      },
                      "bgcolor": "#E5ECF6",
                      "radialaxis": {
                        "gridcolor": "white",
                        "linecolor": "white",
                        "ticks": ""
                      }
                    },
                    "scene": {
                      "xaxis": {
                        "backgroundcolor": "#E5ECF6",
                        "gridcolor": "white",
                        "gridwidth": 2,
                        "linecolor": "white",
                        "showbackground": true,
                        "ticks": "",
                        "zerolinecolor": "white"
                      },
                      "yaxis": {
                        "backgroundcolor": "#E5ECF6",
                        "gridcolor": "white",
                        "gridwidth": 2,
                        "linecolor": "white",
                        "showbackground": true,
                        "ticks": "",
                        "zerolinecolor": "white"
                      },
                      "zaxis": {
                        "backgroundcolor": "#E5ECF6",
                        "gridcolor": "white",
                        "gridwidth": 2,
                        "linecolor": "white",
                        "showbackground": true,
                        "ticks": "",
                        "zerolinecolor": "white"
                      }
                    },
                    "shapedefaults": {
                      "line": {
                        "color": "#2a3f5f"
                      }
                    },
                    "ternary": {
                      "aaxis": {
                        "gridcolor": "white",
                        "linecolor": "white",
                        "ticks": ""
                      },
                      "baxis": {
                        "gridcolor": "white",
                        "linecolor": "white",
                        "ticks": ""
                      },
                      "bgcolor": "#E5ECF6",
                      "caxis": {
                        "gridcolor": "white",
                        "linecolor": "white",
                        "ticks": ""
                      }
                    },
                    "title": {
                      "x": 0.05
                    },
                    "xaxis": {
                      "automargin": true,
                      "gridcolor": "white",
                      "linecolor": "white",
                      "ticks": "",
                      "title": {
                        "standoff": 15
                      },
                      "zerolinecolor": "white",
                      "zerolinewidth": 2
                    },
                    "yaxis": {
                      "automargin": true,
                      "gridcolor": "white",
                      "linecolor": "white",
                      "ticks": "",
                      "title": {
                        "standoff": 15
                      },
                      "zerolinecolor": "white",
                      "zerolinewidth": 2
                    }
                  }
                },
                "xaxis": {
                  "anchor": "y",
                  "domain": [
                    0,
                    1
                  ]
                },
                "yaxis": {
                  "anchor": "x",
                  "domain": [
                    0,
                    1
                  ]
                }
              }
            }
          },
          "metadata": {},
          "output_type": "display_data"
        },
        {
          "data": {
            "application/vnd.plotly.v1+json": {
              "config": {
                "plotlyServerURL": "https://plot.ly"
              },
              "data": [
                {
                  "hovertemplate": "x: %{x}<br>y: %{y}<extra></extra>",
                  "name": "0",
                  "source": "data:image/png;base64,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",
                  "type": "image",
                  "xaxis": "x",
                  "yaxis": "y"
                }
              ],
              "layout": {
                "margin": {
                  "t": 60
                },
                "template": {
                  "data": {
                    "bar": [
                      {
                        "error_x": {
                          "color": "#2a3f5f"
                        },
                        "error_y": {
                          "color": "#2a3f5f"
                        },
                        "marker": {
                          "line": {
                            "color": "#E5ECF6",
                            "width": 0.5
                          },
                          "pattern": {
                            "fillmode": "overlay",
                            "size": 10,
                            "solidity": 0.2
                          }
                        },
                        "type": "bar"
                      }
                    ],
                    "barpolar": [
                      {
                        "marker": {
                          "line": {
                            "color": "#E5ECF6",
                            "width": 0.5
                          },
                          "pattern": {
                            "fillmode": "overlay",
                            "size": 10,
                            "solidity": 0.2
                          }
                        },
                        "type": "barpolar"
                      }
                    ],
                    "carpet": [
                      {
                        "aaxis": {
                          "endlinecolor": "#2a3f5f",
                          "gridcolor": "white",
                          "linecolor": "white",
                          "minorgridcolor": "white",
                          "startlinecolor": "#2a3f5f"
                        },
                        "baxis": {
                          "endlinecolor": "#2a3f5f",
                          "gridcolor": "white",
                          "linecolor": "white",
                          "minorgridcolor": "white",
                          "startlinecolor": "#2a3f5f"
                        },
                        "type": "carpet"
                      }
                    ],
                    "choropleth": [
                      {
                        "colorbar": {
                          "outlinewidth": 0,
                          "ticks": ""
                        },
                        "type": "choropleth"
                      }
                    ],
                    "contour": [
                      {
                        "colorbar": {
                          "outlinewidth": 0,
                          "ticks": ""
                        },
                        "colorscale": [
                          [
                            0,
                            "#0d0887"
                          ],
                          [
                            0.1111111111111111,
                            "#46039f"
                          ],
                          [
                            0.2222222222222222,
                            "#7201a8"
                          ],
                          [
                            0.3333333333333333,
                            "#9c179e"
                          ],
                          [
                            0.4444444444444444,
                            "#bd3786"
                          ],
                          [
                            0.5555555555555556,
                            "#d8576b"
                          ],
                          [
                            0.6666666666666666,
                            "#ed7953"
                          ],
                          [
                            0.7777777777777778,
                            "#fb9f3a"
                          ],
                          [
                            0.8888888888888888,
                            "#fdca26"
                          ],
                          [
                            1,
                            "#f0f921"
                          ]
                        ],
                        "type": "contour"
                      }
                    ],
                    "contourcarpet": [
                      {
                        "colorbar": {
                          "outlinewidth": 0,
                          "ticks": ""
                        },
                        "type": "contourcarpet"
                      }
                    ],
                    "heatmap": [
                      {
                        "colorbar": {
                          "outlinewidth": 0,
                          "ticks": ""
                        },
                        "colorscale": [
                          [
                            0,
                            "#0d0887"
                          ],
                          [
                            0.1111111111111111,
                            "#46039f"
                          ],
                          [
                            0.2222222222222222,
                            "#7201a8"
                          ],
                          [
                            0.3333333333333333,
                            "#9c179e"
                          ],
                          [
                            0.4444444444444444,
                            "#bd3786"
                          ],
                          [
                            0.5555555555555556,
                            "#d8576b"
                          ],
                          [
                            0.6666666666666666,
                            "#ed7953"
                          ],
                          [
                            0.7777777777777778,
                            "#fb9f3a"
                          ],
                          [
                            0.8888888888888888,
                            "#fdca26"
                          ],
                          [
                            1,
                            "#f0f921"
                          ]
                        ],
                        "type": "heatmap"
                      }
                    ],
                    "heatmapgl": [
                      {
                        "colorbar": {
                          "outlinewidth": 0,
                          "ticks": ""
                        },
                        "colorscale": [
                          [
                            0,
                            "#0d0887"
                          ],
                          [
                            0.1111111111111111,
                            "#46039f"
                          ],
                          [
                            0.2222222222222222,
                            "#7201a8"
                          ],
                          [
                            0.3333333333333333,
                            "#9c179e"
                          ],
                          [
                            0.4444444444444444,
                            "#bd3786"
                          ],
                          [
                            0.5555555555555556,
                            "#d8576b"
                          ],
                          [
                            0.6666666666666666,
                            "#ed7953"
                          ],
                          [
                            0.7777777777777778,
                            "#fb9f3a"
                          ],
                          [
                            0.8888888888888888,
                            "#fdca26"
                          ],
                          [
                            1,
                            "#f0f921"
                          ]
                        ],
                        "type": "heatmapgl"
                      }
                    ],
                    "histogram": [
                      {
                        "marker": {
                          "pattern": {
                            "fillmode": "overlay",
                            "size": 10,
                            "solidity": 0.2
                          }
                        },
                        "type": "histogram"
                      }
                    ],
                    "histogram2d": [
                      {
                        "colorbar": {
                          "outlinewidth": 0,
                          "ticks": ""
                        },
                        "colorscale": [
                          [
                            0,
                            "#0d0887"
                          ],
                          [
                            0.1111111111111111,
                            "#46039f"
                          ],
                          [
                            0.2222222222222222,
                            "#7201a8"
                          ],
                          [
                            0.3333333333333333,
                            "#9c179e"
                          ],
                          [
                            0.4444444444444444,
                            "#bd3786"
                          ],
                          [
                            0.5555555555555556,
                            "#d8576b"
                          ],
                          [
                            0.6666666666666666,
                            "#ed7953"
                          ],
                          [
                            0.7777777777777778,
                            "#fb9f3a"
                          ],
                          [
                            0.8888888888888888,
                            "#fdca26"
                          ],
                          [
                            1,
                            "#f0f921"
                          ]
                        ],
                        "type": "histogram2d"
                      }
                    ],
                    "histogram2dcontour": [
                      {
                        "colorbar": {
                          "outlinewidth": 0,
                          "ticks": ""
                        },
                        "colorscale": [
                          [
                            0,
                            "#0d0887"
                          ],
                          [
                            0.1111111111111111,
                            "#46039f"
                          ],
                          [
                            0.2222222222222222,
                            "#7201a8"
                          ],
                          [
                            0.3333333333333333,
                            "#9c179e"
                          ],
                          [
                            0.4444444444444444,
                            "#bd3786"
                          ],
                          [
                            0.5555555555555556,
                            "#d8576b"
                          ],
                          [
                            0.6666666666666666,
                            "#ed7953"
                          ],
                          [
                            0.7777777777777778,
                            "#fb9f3a"
                          ],
                          [
                            0.8888888888888888,
                            "#fdca26"
                          ],
                          [
                            1,
                            "#f0f921"
                          ]
                        ],
                        "type": "histogram2dcontour"
                      }
                    ],
                    "mesh3d": [
                      {
                        "colorbar": {
                          "outlinewidth": 0,
                          "ticks": ""
                        },
                        "type": "mesh3d"
                      }
                    ],
                    "parcoords": [
                      {
                        "line": {
                          "colorbar": {
                            "outlinewidth": 0,
                            "ticks": ""
                          }
                        },
                        "type": "parcoords"
                      }
                    ],
                    "pie": [
                      {
                        "automargin": true,
                        "type": "pie"
                      }
                    ],
                    "scatter": [
                      {
                        "fillpattern": {
                          "fillmode": "overlay",
                          "size": 10,
                          "solidity": 0.2
                        },
                        "type": "scatter"
                      }
                    ],
                    "scatter3d": [
                      {
                        "line": {
                          "colorbar": {
                            "outlinewidth": 0,
                            "ticks": ""
                          }
                        },
                        "marker": {
                          "colorbar": {
                            "outlinewidth": 0,
                            "ticks": ""
                          }
                        },
                        "type": "scatter3d"
                      }
                    ],
                    "scattercarpet": [
                      {
                        "marker": {
                          "colorbar": {
                            "outlinewidth": 0,
                            "ticks": ""
                          }
                        },
                        "type": "scattercarpet"
                      }
                    ],
                    "scattergeo": [
                      {
                        "marker": {
                          "colorbar": {
                            "outlinewidth": 0,
                            "ticks": ""
                          }
                        },
                        "type": "scattergeo"
                      }
                    ],
                    "scattergl": [
                      {
                        "marker": {
                          "colorbar": {
                            "outlinewidth": 0,
                            "ticks": ""
                          }
                        },
                        "type": "scattergl"
                      }
                    ],
                    "scattermapbox": [
                      {
                        "marker": {
                          "colorbar": {
                            "outlinewidth": 0,
                            "ticks": ""
                          }
                        },
                        "type": "scattermapbox"
                      }
                    ],
                    "scatterpolar": [
                      {
                        "marker": {
                          "colorbar": {
                            "outlinewidth": 0,
                            "ticks": ""
                          }
                        },
                        "type": "scatterpolar"
                      }
                    ],
                    "scatterpolargl": [
                      {
                        "marker": {
                          "colorbar": {
                            "outlinewidth": 0,
                            "ticks": ""
                          }
                        },
                        "type": "scatterpolargl"
                      }
                    ],
                    "scatterternary": [
                      {
                        "marker": {
                          "colorbar": {
                            "outlinewidth": 0,
                            "ticks": ""
                          }
                        },
                        "type": "scatterternary"
                      }
                    ],
                    "surface": [
                      {
                        "colorbar": {
                          "outlinewidth": 0,
                          "ticks": ""
                        },
                        "colorscale": [
                          [
                            0,
                            "#0d0887"
                          ],
                          [
                            0.1111111111111111,
                            "#46039f"
                          ],
                          [
                            0.2222222222222222,
                            "#7201a8"
                          ],
                          [
                            0.3333333333333333,
                            "#9c179e"
                          ],
                          [
                            0.4444444444444444,
                            "#bd3786"
                          ],
                          [
                            0.5555555555555556,
                            "#d8576b"
                          ],
                          [
                            0.6666666666666666,
                            "#ed7953"
                          ],
                          [
                            0.7777777777777778,
                            "#fb9f3a"
                          ],
                          [
                            0.8888888888888888,
                            "#fdca26"
                          ],
                          [
                            1,
                            "#f0f921"
                          ]
                        ],
                        "type": "surface"
                      }
                    ],
                    "table": [
                      {
                        "cells": {
                          "fill": {
                            "color": "#EBF0F8"
                          },
                          "line": {
                            "color": "white"
                          }
                        },
                        "header": {
                          "fill": {
                            "color": "#C8D4E3"
                          },
                          "line": {
                            "color": "white"
                          }
                        },
                        "type": "table"
                      }
                    ]
                  },
                  "layout": {
                    "annotationdefaults": {
                      "arrowcolor": "#2a3f5f",
                      "arrowhead": 0,
                      "arrowwidth": 1
                    },
                    "autotypenumbers": "strict",
                    "coloraxis": {
                      "colorbar": {
                        "outlinewidth": 0,
                        "ticks": ""
                      }
                    },
                    "colorscale": {
                      "diverging": [
                        [
                          0,
                          "#8e0152"
                        ],
                        [
                          0.1,
                          "#c51b7d"
                        ],
                        [
                          0.2,
                          "#de77ae"
                        ],
                        [
                          0.3,
                          "#f1b6da"
                        ],
                        [
                          0.4,
                          "#fde0ef"
                        ],
                        [
                          0.5,
                          "#f7f7f7"
                        ],
                        [
                          0.6,
                          "#e6f5d0"
                        ],
                        [
                          0.7,
                          "#b8e186"
                        ],
                        [
                          0.8,
                          "#7fbc41"
                        ],
                        [
                          0.9,
                          "#4d9221"
                        ],
                        [
                          1,
                          "#276419"
                        ]
                      ],
                      "sequential": [
                        [
                          0,
                          "#0d0887"
                        ],
                        [
                          0.1111111111111111,
                          "#46039f"
                        ],
                        [
                          0.2222222222222222,
                          "#7201a8"
                        ],
                        [
                          0.3333333333333333,
                          "#9c179e"
                        ],
                        [
                          0.4444444444444444,
                          "#bd3786"
                        ],
                        [
                          0.5555555555555556,
                          "#d8576b"
                        ],
                        [
                          0.6666666666666666,
                          "#ed7953"
                        ],
                        [
                          0.7777777777777778,
                          "#fb9f3a"
                        ],
                        [
                          0.8888888888888888,
                          "#fdca26"
                        ],
                        [
                          1,
                          "#f0f921"
                        ]
                      ],
                      "sequentialminus": [
                        [
                          0,
                          "#0d0887"
                        ],
                        [
                          0.1111111111111111,
                          "#46039f"
                        ],
                        [
                          0.2222222222222222,
                          "#7201a8"
                        ],
                        [
                          0.3333333333333333,
                          "#9c179e"
                        ],
                        [
                          0.4444444444444444,
                          "#bd3786"
                        ],
                        [
                          0.5555555555555556,
                          "#d8576b"
                        ],
                        [
                          0.6666666666666666,
                          "#ed7953"
                        ],
                        [
                          0.7777777777777778,
                          "#fb9f3a"
                        ],
                        [
                          0.8888888888888888,
                          "#fdca26"
                        ],
                        [
                          1,
                          "#f0f921"
                        ]
                      ]
                    },
                    "colorway": [
                      "#636efa",
                      "#EF553B",
                      "#00cc96",
                      "#ab63fa",
                      "#FFA15A",
                      "#19d3f3",
                      "#FF6692",
                      "#B6E880",
                      "#FF97FF",
                      "#FECB52"
                    ],
                    "font": {
                      "color": "#2a3f5f"
                    },
                    "geo": {
                      "bgcolor": "white",
                      "lakecolor": "white",
                      "landcolor": "#E5ECF6",
                      "showlakes": true,
                      "showland": true,
                      "subunitcolor": "white"
                    },
                    "hoverlabel": {
                      "align": "left"
                    },
                    "hovermode": "closest",
                    "mapbox": {
                      "style": "light"
                    },
                    "paper_bgcolor": "white",
                    "plot_bgcolor": "#E5ECF6",
                    "polar": {
                      "angularaxis": {
                        "gridcolor": "white",
                        "linecolor": "white",
                        "ticks": ""
                      },
                      "bgcolor": "#E5ECF6",
                      "radialaxis": {
                        "gridcolor": "white",
                        "linecolor": "white",
                        "ticks": ""
                      }
                    },
                    "scene": {
                      "xaxis": {
                        "backgroundcolor": "#E5ECF6",
                        "gridcolor": "white",
                        "gridwidth": 2,
                        "linecolor": "white",
                        "showbackground": true,
                        "ticks": "",
                        "zerolinecolor": "white"
                      },
                      "yaxis": {
                        "backgroundcolor": "#E5ECF6",
                        "gridcolor": "white",
                        "gridwidth": 2,
                        "linecolor": "white",
                        "showbackground": true,
                        "ticks": "",
                        "zerolinecolor": "white"
                      },
                      "zaxis": {
                        "backgroundcolor": "#E5ECF6",
                        "gridcolor": "white",
                        "gridwidth": 2,
                        "linecolor": "white",
                        "showbackground": true,
                        "ticks": "",
                        "zerolinecolor": "white"
                      }
                    },
                    "shapedefaults": {
                      "line": {
                        "color": "#2a3f5f"
                      }
                    },
                    "ternary": {
                      "aaxis": {
                        "gridcolor": "white",
                        "linecolor": "white",
                        "ticks": ""
                      },
                      "baxis": {
                        "gridcolor": "white",
                        "linecolor": "white",
                        "ticks": ""
                      },
                      "bgcolor": "#E5ECF6",
                      "caxis": {
                        "gridcolor": "white",
                        "linecolor": "white",
                        "ticks": ""
                      }
                    },
                    "title": {
                      "x": 0.05
                    },
                    "xaxis": {
                      "automargin": true,
                      "gridcolor": "white",
                      "linecolor": "white",
                      "ticks": "",
                      "title": {
                        "standoff": 15
                      },
                      "zerolinecolor": "white",
                      "zerolinewidth": 2
                    },
                    "yaxis": {
                      "automargin": true,
                      "gridcolor": "white",
                      "linecolor": "white",
                      "ticks": "",
                      "title": {
                        "standoff": 15
                      },
                      "zerolinecolor": "white",
                      "zerolinewidth": 2
                    }
                  }
                },
                "xaxis": {
                  "anchor": "y",
                  "domain": [
                    0,
                    1
                  ]
                },
                "yaxis": {
                  "anchor": "x",
                  "domain": [
                    0,
                    1
                  ]
                }
              }
            }
          },
          "metadata": {},
          "output_type": "display_data"
        }
      ],
      "source": [
        "ind = 8\n",
        "px.imshow(z2[ind].cpu().numpy().transpose(1,2,0)).show()\n",
        "px.imshow(z1[ind].cpu().numpy().transpose(1,2,0)).show()"
      ]
    },
    {
      "cell_type": "markdown",
      "metadata": {
        "id": "hO6GlPxvm4Eo",
        "tags": [
          "parameters"
        ]
      },
      "source": [
        "# Q1: Training\n",
        "Train VICReg on the CIFAR10 dataset. Plot the values of each of the 3 objectives (in separate\n",
        "figures) as a function of the training batches. In your figures also include the loss terms values on the test set,computed once every epoch."
      ]
    },
    {
      "cell_type": "code",
      "execution_count": null,
      "metadata": {
        "id": "llvgNfuHo22s"
      },
      "outputs": [],
      "source": [
        "class VICeg(nn.Module):\n",
        "    def __init__(self, en_dim=128, prj_dim=512):\n",
        "        super(VICeg, self).__init__()\n",
        "        self.encoder = Encoder(D=en_dim, device=DEVICE)\n",
        "        self.projector = Projector(D=en_dim, proj_dim=prj_dim)\n",
        "\n",
        "    def forward(self, x):\n",
        "        return self.projector(self.encoder(x))"
      ]
    },
    {
      "cell_type": "code",
      "execution_count": null,
      "metadata": {
        "colab": {
          "base_uri": "https://localhost:8080/"
        },
        "id": "MW3z1zqToLVc",
        "outputId": "39cc9e55-bbb1-42d8-8eb9-dab8a02908fe"
      },
      "outputs": [],
      "source": [
        "model = VICeg().to(DEVICE)\n",
        "\n",
        "\n",
        "batch_size = 256\n",
        "lr = 3 * 1e-3\n",
        "optimizer = torch.optim.Adam(\n",
        "    model.parameters(), lr=lr, betas=(0.9, 0.999), weight_decay=10e-6\n",
        ")\n",
        "epochs = 20\n",
        "loss_function = lambda z1, z2: vicreg_loss_performance(z1, z2)\n",
        "loss_function_d = lambda z1, z2: vicreg_loss_detailed(z1, z2)"
      ]
    },
    {
      "cell_type": "code",
      "execution_count": null,
      "metadata": {
        "colab": {
          "base_uri": "https://localhost:8080/"
        },
        "id": "m60fI3KbMxAL",
        "outputId": "28f0136e-0d8b-413c-d52e-5e7bc0770e5e"
      },
      "outputs": [],
      "source": [
        "recorder = pd.DataFrame(\n",
        "    columns=[\n",
        "        \"epoch\",\n",
        "        \"epoch_loss\",\n",
        "        \"inv_loss\",\n",
        "        \"var_loss\",\n",
        "        \"cov_loss\",\n",
        "        \"test_loss\",\n",
        "    ],\n",
        "    index=range(epochs),\n",
        ")\n",
        "\n",
        "train_loader, test_loader = load_vicreg_cifar10(batch_size=batch_size)"
      ]
    },
    {
      "cell_type": "code",
      "execution_count": null,
      "metadata": {
        "colab": {
          "base_uri": "https://localhost:8080/",
          "height": 542
        },
        "id": "bPc9GQdYMxAL",
        "outputId": "0c78e848-17ba-4d5c-97d0-ffc5f739567e"
      },
      "outputs": [],
      "source": [
        "for epoch in range(epochs):\n",
        "    model.train()\n",
        "    epoch_loss = 1\n",
        "    for i, (x1, x2) in tqdm(enumerate(train_loader)):\n",
        "        x1, x2 = x1.to(DEVICE), x2.to(DEVICE)\n",
        "        optimizer.zero_grad()\n",
        "        z1, z2 = model(x1), model(x2)\n",
        "        loss = loss_function(z1, z2)\n",
        "        loss.backward()\n",
        "        epoch_loss = loss.item() * 0.3 + epoch_loss * 0.7\n",
        "        optimizer.step()\n",
        "\n",
        "    model.eval()\n",
        "    with torch.no_grad():\n",
        "        inv_loss, var_loss, cov_loss, test_loss = 0, 0, 0, 0\n",
        "        for i, (x1,x2) in enumerate(test_loader):\n",
        "            x1, x2 = x1.to(DEVICE), x2.to(DEVICE)\n",
        "            z1, z2 = model(x1), model(x2)\n",
        "            _, loss_components = loss_function_d(z1, z2)\n",
        "            inv_loss += loss_components[\"inv_loss\"]\n",
        "            var_loss += loss_components[\"var_loss\"]\n",
        "            cov_loss += loss_components[\"cov_loss\"]\n",
        "            test_loss += loss_components[\"loss\"]\n",
        "\n",
        "        recorder.loc[epoch] = {\n",
        "            \"epoch\": epoch,\n",
        "            \"epoch_loss\": epoch_loss,\n",
        "            \"inv_loss\": inv_loss,\n",
        "            \"var_loss\": var_loss,\n",
        "            \"cov_loss\": cov_loss,\n",
        "            \"test_loss\": test_loss,\n",
        "        }\n",
        "        clear_output(wait=True)\n",
        "        px.line(\n",
        "            recorder,\n",
        "            y=[\"epoch_loss\", \"inv_loss\", \"var_loss\", \"cov_loss\", \"test_loss\"],\n",
        "        ).show()"
      ]
    },
    {
      "cell_type": "code",
      "execution_count": null,
      "metadata": {
        "id": "JIWMPBXxbKfj"
      },
      "outputs": [],
      "source": [
        "torch.save(model.state_dict(), \"vicreg_20_run.txt\")"
      ]
    },
    {
      "cell_type": "markdown",
      "metadata": {
        "id": "nzd3L155m4Ep"
      },
      "source": [
        "# Q2: PCA vs. T-SNE Visualizations.\n",
        "Compute the representations of each test image using your trained encoder.\n",
        "Map (using the sklearn library) the representation to a 2D space using: (i) PCA (ii) T-SNE. Plot the T-SNE and the PCA 2D representations, colored by their classes. Look at both visualizations (PCA vs. T-SNE), which one seems more effective for visualizations to you? Look at the T-SNE visualization. Did VICReg managed to capture the class information accurately? Which classes seem entangled to you? Explain.\n"
      ]
    },
    {
      "cell_type": "code",
      "execution_count": null,
      "metadata": {
        "id": "mb13wgQZcSOd"
      },
      "outputs": [],
      "source": [
        "model.eval()\n",
        "\n",
        "# Get the test data representations\n",
        "test_representations = []\n",
        "test_labels = []\n",
        "with torch.no_grad():\n",
        "    for images, labels in test_loader:\n",
        "        images = images.to(DEVICE)\n",
        "        representations = model.encoder(images)\n",
        "        test_representations.append(representations.cpu().numpy())\n",
        "        test_labels.append(labels.cpu().numpy())\n",
        "\n",
        "test_representations = np.concatenate(test_representations)\n",
        "test_labels = np.concatenate(test_labels)\n"
      ]
    },
    {
      "cell_type": "code",
      "execution_count": null,
      "metadata": {
        "id": "a1Kjl5HocjT6"
      },
      "outputs": [],
      "source": [
        "\n",
        "# Perform PCA\n",
        "pca = PCA(n_components=2)\n",
        "pca_representations = pca.fit_transform(test_representations)\n",
        "\n",
        "# Perform t-SNE\n",
        "tsne = TSNE(n_components=2, perplexity=30)\n",
        "tsne_representations = tsne.fit_transform(test_representations)\n",
        "\n",
        "# Create a DataFrame for Plotly\n",
        "pca_df = pd.DataFrame(\n",
        "    {\n",
        "        'PCA Component 1': pca_representations[:, 0],\n",
        "        'PCA Component 2': pca_representations[:, 1],\n",
        "        'Class': test_labels\n",
        "    }\n",
        ")\n",
        "\n",
        "tsne_df = pd.DataFrame(\n",
        "    {\n",
        "        't-SNE Component 1': tsne_representations[:, 0],\n",
        "        't-SNE Component 2': tsne_representations[:, 1],\n",
        "        'Class': test_labels\n",
        "    }\n",
        ")\n"
      ]
    },
    {
      "cell_type": "code",
      "execution_count": null,
      "metadata": {
        "id": "stR4qAntcl5j"
      },
      "outputs": [],
      "source": [
        "\n",
        "# Plot PCA results with Plotly\n",
        "fig_pca = px.scatter(\n",
        "    pca_df, x='PCA Component 1', y='PCA Component 2',\n",
        "    color='Class', title='PCA Visualization of Test Image Representations'\n",
        ")\n",
        "fig_pca.show()\n",
        "\n",
        "# Plot t-SNE results with Plotly\n",
        "fig_tsne = px.scatter(\n",
        "    tsne_df, x='t-SNE Component 1', y='t-SNE Component 2',\n",
        "    color='Class', title='t-SNE Visualization of Test Image Representations'\n",
        ")\n",
        "fig_tsne.show()"
      ]
    },
    {
      "cell_type": "markdown",
      "metadata": {
        "id": "CxIZq1Ofm4Ep"
      },
      "source": [
        "# Q3: Linear Probing.\n",
        "Perform a linear probing (single FC layer) to the encoder’s representation. Train this\n",
        "classifier on the representations of the CIFAR10 train set. Remember to freeze the encoder, i.e. do not update it. Compute the probing’s accuracy on the test set. What is the accuracy you reach with your classifier?\n",
        "Note: classifier accuracy should be at least 60% on the test set."
      ]
    },
    {
      "cell_type": "markdown",
      "metadata": {
        "id": "SVp9vMA2m4Ep"
      },
      "source": [
        "# Q4: Ablation 1 - No Variance Term.\n",
        "Modify the optimized objective, by removing the variance objective term\n",
        "(µ = 0.). Using the representations from the modified encoder, perform the same PCA visualization from Q2, and the linear probing from Q3 (and include them in your report). Is the new accuracy better or worse? Can you see anything different in the representations visualization? Try to explain the difference in the accuracy using the visualizations.\n"
      ]
    },
    {
      "cell_type": "markdown",
      "metadata": {
        "id": "gFOvED5jm4Eq"
      },
      "source": [
        "# Q5: Ablation 2 - No Generated Neighbors.\n",
        "Now, we would like to ablate VICReg by only removing the generated neighbors, using neighbors from the data itself:\n",
        "First, compute the representations of your original VICReg, on all of the training set. In each step of training and for each image in the batch, use these representations to find the top 3 nearest neighbors, and randomly select 1 of them. Use the original image and this neighbor of it as your 2 views for the VICReg algorithm.\n",
        "\n",
        "2 Practical Tips: (i) We find that training this algorithm for only a single epoch is more\n",
        "beneficial. (ii) We recommend you to compute the neighboring indices of each image in advance, and delete the original VICReg model from your (GPU) memory. This will save both run time and GPU space.\n",
        "Compute the linear probing accuracy, and report it. Is the accuracy different from the original linear probing from 3?\n",
        "- If no, explain why do you think this change had no effect (what compensates the things that are missing?).\n",
        "- If yes, explain what added value do you think the generated neighbors adds to the algorithm."
      ]
    },
    {
      "cell_type": "markdown",
      "metadata": {
        "id": "18u4UDsfm4Eq"
      },
      "source": [
        "# Q6: Ablation 3 - Laplacian Eigenmaps.\n",
        "After removing the generated neighbors, we would like to remove both it and the amortization at once. To do so, we will perform Laplacian Eigenmaps representation learning on the training data of CIFAR10. Since this algorithm is difficult to run, we ran it for you on 10K images (due to runtime limitations) and give you the T-SNE plotting of these representations in Fig. 2 3.\n",
        "Compare this to VICReg’s T-SNE plot from Q2. Based on this visual and linear probing comparison, which method (VICReg vs. Laplacian Eigenmaps) seems more effective for downstream object classification?\n",
        "Explain your answer in detail, including what do you think makes one algorithm to be more successful.\n"
      ]
    },
    {
      "cell_type": "markdown",
      "metadata": {
        "id": "NQI_Xd5Bm4Eq"
      },
      "source": [
        "# Q7: Retrieval Evaluation\n",
        "Now that we slowly “pealed” VICReg back to the laplacian eigenmaps algorithm,\n",
        "we wish to evaluate it qualitatively. For the methods Q1 (VICReg) and Q5 (No Generated Neighbors) perform a\n",
        "qualitative retrieval evaluation. That means:\n",
        "- Select 10 random images from the training set, one from each class.\n",
        "- For each selected image, use the representations of each of the evaluated methods, to find its 5 nearest neighbors\n",
        "in the dataset.\n",
        "- Plot the images together with their neighbors.\n",
        "- Using the same images, perform the same visualization for the 5 most distant images in the dataset.\n",
        "\n",
        "Using this visualization, explain what attributes each method attends to. What are the differences you see between\n",
        "the different methods? Which one excels at keeping close images together? Which one excels at keeping distant\n",
        "images far apart? Explain the differences between the methods in detail, as seen by this visualization. You may\n",
        "select more than 1 image for a specific class if you wish to get a better understanding (Although it is not mandatory)."
      ]
    },
    {
      "cell_type": "markdown",
      "metadata": {
        "id": "CGPJzeTrm4Eq"
      },
      "source": [
        "# Q1 - Anomaly Detection.\n",
        "Using the CIFAR10 training data as reference for normal data, compute the kNN\n",
        "density estimation for all the (CIFAR10 + MNIST) test set representations. Do this for both (i) VICReg (ii) VICReg\n",
        "without generated neighbors. Use k = 2.\n"
      ]
    },
    {
      "cell_type": "markdown",
      "metadata": {
        "id": "QHY2S9ALm4Eq"
      },
      "source": [
        "# Q2 - ROC AUC Evaluation\n",
        "Plot the ROC Curve of both methods. Use the sklearn library for creating these\n",
        "figures. In the title / legend incorporate the AUC of each method. Which method is ’better’? In a sentence or two,\n",
        "explain why do you think its better."
      ]
    },
    {
      "cell_type": "markdown",
      "metadata": {
        "id": "rUmDPT5rm4Eq"
      },
      "source": [
        "# Q3 - Qualitative Evaluation - Ambiguity of Anomaly Detection.\n",
        "Plot the 7 most anomalous samples according\n",
        "to VICReg and VICReg without the generated neighbors, in two separate rows (you can split to different plots if\n",
        "more convenient). Look at the results. Explain what aspects each method found to be anomalous. Keeping in mind\n",
        "we did not give either of the methods any clues regarding which anomalies are we looking for, do you still think one\n",
        "is better than the other? Explain your answer."
      ]
    },
    {
      "cell_type": "markdown",
      "metadata": {
        "id": "uxnrN1Ccm4Eq"
      },
      "source": [
        "# Q1 - Clustering using K-Means\n",
        "Use the implementation of sklearn to cluster the CIFAR10 training set to\n",
        "10 clusters. Do this using the representations of VICReg once, and a second time for VICReg without generated\n",
        "neighbors."
      ]
    },
    {
      "cell_type": "markdown",
      "metadata": {
        "id": "6eKGKEzYm4Eq"
      },
      "source": [
        "# Q2 - Visualizing the Clusters in 2D\n",
        "Perform a dimensionality reduction to 2 dimensions using T-SNE, for\n",
        "the representations of both methods (separately). For each method, plot the reduced embeddings in a 2D space twice\n",
        "(side by side): (i) First, colored by their cluster index (according to the matching clustering from Q1). (ii) Second,\n",
        "colored by their actual class index. In each figure, also plot the clusters centers in black color.\n",
        "Look at the results, which method looks more successful at finding clusters? Which method looks more successful\n",
        "at separating between the classes? Explain your answer, keeping in mind that similarly to Anomaly Detection there\n",
        "are no clues for which clusters to look for."
      ]
    },
    {
      "cell_type": "markdown",
      "metadata": {
        "id": "iTaczS0Nm4Er"
      },
      "source": [
        "# Q3 - Quantitative Analysis\n",
        "Use the Silhouette Score on the clusterings of both methods (in their original embedding dimensions). Report the 2 different scores. Is this coherent with what you see in your visual analysis? Explain your answer"
      ]
    },
    {
      "cell_type": "markdown",
      "metadata": {
        "id": "76m0m-Xzm4Er"
      },
      "source": []
    }
  ],
  "metadata": {
    "accelerator": "GPU",
    "colab": {
      "gpuType": "L4",
      "include_colab_link": true,
      "machine_shape": "hm",
      "provenance": []
    },
    "kernelspec": {
      "display_name": "Python 3",
      "name": "python3"
    },
    "language_info": {
      "codemirror_mode": {
        "name": "ipython",
        "version": 3
      },
      "file_extension": ".py",
      "mimetype": "text/x-python",
      "name": "python",
      "nbconvert_exporter": "python",
      "pygments_lexer": "ipython3",
      "version": "3.10.11"
    }
  },
  "nbformat": 4,
  "nbformat_minor": 0
}
