{
  "cells": [
    {
      "cell_type": "markdown",
      "metadata": {
        "id": "view-in-github",
        "colab_type": "text"
      },
      "source": [
        "<a href=\"https://colab.research.google.com/github/avrymi-asraf/AML/blob/main/Ex3/Ex3-interface.ipynb\" target=\"_parent\"><img src=\"https://colab.research.google.com/assets/colab-badge.svg\" alt=\"Open In Colab\"/></a>"
      ]
    },
    {
      "cell_type": "markdown",
      "metadata": {
        "id": "fEGWYdQqm4El"
      },
      "source": [
        "# Imports and tools"
      ]
    },
    {
      "cell_type": "code",
      "execution_count": 1,
      "metadata": {
        "id": "FuyL6J_Gm9XF"
      },
      "outputs": [],
      "source": [
        "import torch\n",
        "import torch.nn as nn\n",
        "import torchvision\n",
        "\n",
        "\n",
        "from sklearn.decomposition import PCA\n",
        "from sklearn.manifold import TSNE\n",
        "\n",
        "import pandas as pd\n",
        "import numpy as np\n",
        "\n",
        "import matplotlib.pyplot as plt\n",
        "import plotly.express as px\n",
        "import plotly.graph_objects as go\n",
        "\n",
        "import re\n",
        "import math\n",
        "from tqdm import tqdm, tqdm_pandas, trange"
      ]
    },
    {
      "cell_type": "code",
      "execution_count": 2,
      "metadata": {
        "id": "aO24QkWioByi"
      },
      "outputs": [],
      "source": [
        "from IPython.display import Markdown, clear_output, display\n",
        "\n",
        "md = lambda x: display(Markdown(x))\n",
        "he_md = lambda x: display(Markdown(f'<div dir=\"rtl\" lang=\"he\" xml:lang=\"he\">{x}</div>'))"
      ]
    },
    {
      "cell_type": "code",
      "execution_count": 3,
      "metadata": {
        "id": "ilJTYwEipFKu"
      },
      "outputs": [],
      "source": [
        "DEVICE = \"cuda\" if torch.cuda.is_available() else \"cpu\""
      ]
    },
    {
      "cell_type": "code",
      "execution_count": 4,
      "metadata": {
        "id": "-B_uSjzGm4Em"
      },
      "outputs": [],
      "source": [
        "# @title Only for colab\n",
        "!pip install -q faiss-gpu\n",
        "!rm -rf /content/sample_data\n",
        "!rm -rf /content/src\n",
        "!mkdir src\n",
        "\n",
        "!wget -O /content/src/data_load.py https://raw.githubusercontent.com/avrymi-asraf/AML/main/Ex3/src/data_load.py\n",
        "!wget -O /content/src/models.py https://raw.githubusercontent.com/avrymi-asraf/AML/main/Ex3/src/models.py\n",
        "!wget -O /content/src/vicreg_objectives.py https://raw.githubusercontent.com/avrymi-asraf/AML/main/Ex3/src/vicreg_objectives.py\n",
        "!wget -O /content/src/train_functoin.py https://raw.githubusercontent.com/avrymi-asraf/AML/main/Ex3/src/train_functoin.py\n",
        "!wget -O /content/src/plot_functoins.py https://raw.githubusercontent.com/avrymi-asraf/AML/main/Ex3/src/plot_functoins.py\n",
        "!wget -O /content/src/utilities.py https://raw.githubusercontent.com/avrymi-asraf/AML/main/Ex3/src/utilities.py\n",
        "clear_output()"
      ]
    },
    {
      "cell_type": "code",
      "execution_count": 5,
      "metadata": {
        "id": "Vo41yKz5m4En"
      },
      "outputs": [],
      "source": [
        "# for local machine\n",
        "from src.models import Encoder, Projector, LinearProbe, VICreg\n",
        "from src.vicreg_objectives import vicreg_loss_detailed, vicreg_loss_performance\n",
        "from src.data_load import (\n",
        "    load_cifar10,\n",
        "    load_vicreg_cifar10,\n",
        "    load_nearest_neighbors_dataloader,\n",
        "    load_dataset_cifar10,\n",
        "    load_combined_test_set,\n",
        "    load_dataset_mnist,\n",
        ")\n",
        "from src.utilities import get_representations, retrieval_evaluation, compute_knn_density\n",
        "from src.train_functoin import train_vicreg,train_linear_probe\n",
        "from src.plot_functoins import (\n",
        "    visualize_linear_probe_predictions,\n",
        "    visualize_representations,\n",
        "    visualize_retrieval_results,\n",
        "    visualize_roc,\n",
        ")"
      ]
    },
    {
      "cell_type": "markdown",
      "metadata": {
        "id": "hO6GlPxvm4Eo",
        "tags": [
          "parameters"
        ]
      },
      "source": [
        "# Q1: Training\n",
        "Train VICReg on the CIFAR10 dataset. Plot the values of each of the 3 objectives (in separate\n",
        "figures) as a function of the training batches. In your figures also include the loss terms values on the test set,computed once every epoch."
      ]
    },
    {
      "cell_type": "code",
      "execution_count": null,
      "metadata": {
        "id": "MW3z1zqToLVc"
      },
      "outputs": [],
      "source": [
        "model = VICreg().to(DEVICE)\n",
        "batch_size = 256\n",
        "lr = 3 * 1e-3\n",
        "optimizer = torch.optim.Adam(\n",
        "    model.parameters(), lr=lr, betas=(0.9, 0.999), weight_decay=10e-6\n",
        ")\n",
        "epochs = 2\n",
        "loss_function = lambda z1, z2: vicreg_loss_performance(z1, z2)\n",
        "loss_function_d = lambda z1, z2: vicreg_loss_detailed(z1, z2)"
      ]
    },
    {
      "cell_type": "code",
      "execution_count": null,
      "metadata": {
        "id": "m60fI3KbMxAL"
      },
      "outputs": [],
      "source": [
        "test_dataset, test_dataset = load_vicreg_cifar10(batch_size=batch_size)"
      ]
    },
    {
      "cell_type": "code",
      "execution_count": null,
      "metadata": {
        "id": "4KY5j9Z9jrwt"
      },
      "outputs": [],
      "source": [
        "recorder = train_vicreg(\n",
        "    model,\n",
        "    test_dataset,\n",
        "    test_dataset,\n",
        "    optimizer,\n",
        "    loss_function,\n",
        "    loss_function_d,\n",
        "    epochs,\n",
        "    DEVICE,\n",
        ")"
      ]
    },
    {
      "cell_type": "code",
      "execution_count": null,
      "metadata": {
        "id": "JIWMPBXxbKfj"
      },
      "outputs": [],
      "source": [
        "torch.save(model.state_dict(), \"vicreg_20_run.pt\")"
      ]
    },
    {
      "cell_type": "markdown",
      "metadata": {
        "id": "nzd3L155m4Ep"
      },
      "source": [
        "# Q2: PCA vs. T-SNE Visualizations.\n",
        "Compute the representations of each test image using your trained encoder.\n",
        "Map (using the sklearn library) the representation to a 2D space using: (i) PCA (ii) T-SNE. Plot the T-SNE and the PCA 2D representations, colored by their classes. Look at both visualizations (PCA vs. T-SNE), which one seems more effective for visualizations to you? Look at the T-SNE visualization. Did VICReg managed to capture the class information accurately? Which classes seem entangled to you? Explain.\n"
      ]
    },
    {
      "cell_type": "code",
      "execution_count": null,
      "metadata": {
        "id": "LdEHG32Bjrwt"
      },
      "outputs": [],
      "source": [
        "batch_size = 256"
      ]
    },
    {
      "cell_type": "code",
      "execution_count": null,
      "metadata": {
        "id": "KsVwvP21jrwt"
      },
      "outputs": [],
      "source": [
        "model = VICreg().to(DEVICE)\n",
        "model.load_state_dict(torch.load(\"vicreg_20_run.pt\", map_location=DEVICE))\n",
        "test_dataset, test_dataset = load_cifar10(batch_size=batch_size)"
      ]
    },
    {
      "cell_type": "code",
      "execution_count": null,
      "metadata": {
        "id": "hr624TMvjrwt"
      },
      "outputs": [],
      "source": [
        "representations, labels = get_representations(model, test_dataset, device=DEVICE)\n",
        "visualize_representations(representations, labels, \"Test Image Representations\")"
      ]
    },
    {
      "cell_type": "markdown",
      "metadata": {
        "id": "CxIZq1Ofm4Ep"
      },
      "source": [
        "# Q3: Linear Probing.\n",
        "Perform a linear probing (single FC layer) to the encoder’s representation. Train this\n",
        "classifier on the representations of the CIFAR10 train set. Remember to freeze the encoder, i.e. do not update it. Compute the probing’s accuracy on the test set. What is the accuracy you reach with your classifier?\n",
        "Note: classifier accuracy should be at least 60% on the test set."
      ]
    },
    {
      "cell_type": "code",
      "execution_count": null,
      "metadata": {
        "id": "w3EqKkErjrwu"
      },
      "outputs": [],
      "source": [
        "# @title Hyperparameters Linear Probe\n",
        "\n",
        "batch_size = 256\n",
        "lr = 0.1\n",
        "epochs = 20\n",
        "test_dataset, test_dataset = load_cifar10(batch_size=batch_size)"
      ]
    },
    {
      "cell_type": "code",
      "execution_count": null,
      "metadata": {
        "id": "SbMYsoZBjrwu"
      },
      "outputs": [],
      "source": [
        "vicreg_model = VICreg().to(DEVICE)\n",
        "vicreg_model.load_state_dict(torch.load(\"vicreg_20_run.pt\", map_location=DEVICE))\n",
        "encoder = vicreg_model.encoder\n",
        "model = LinearProbe(encoder, 128, 10).to(DEVICE)\n",
        "optimizer = torch.optim.SGD(model.parameters(), lr=lr)\n",
        "loss_function = nn.CrossEntropyLoss()"
      ]
    },
    {
      "cell_type": "code",
      "execution_count": null,
      "metadata": {
        "id": "XTSDJkIbjrwu"
      },
      "outputs": [],
      "source": [
        "recorder = train_linear_probe(\n",
        "    model, test_dataset, test_dataset, optimizer, loss_function, epochs, DEVICE\n",
        ")"
      ]
    },
    {
      "cell_type": "markdown",
      "metadata": {
        "id": "SVp9vMA2m4Ep"
      },
      "source": [
        "# Q4: Ablation 1 - No Variance Term.\n",
        "Modify the optimized objective, by removing the variance objective term\n",
        "(µ = 0.). Using the representations from the modified encoder, perform the same PCA visualization from Q2, and the linear probing from Q3 (and include them in your report). Is the new accuracy better or worse? Can you see anything different in the representations visualization? Try to explain the difference in the accuracy using the visualizations.\n"
      ]
    },
    {
      "cell_type": "markdown",
      "metadata": {
        "id": "aWQkSaL9SktC"
      },
      "source": [
        "### NoVar - Train Model"
      ]
    },
    {
      "cell_type": "code",
      "execution_count": null,
      "metadata": {
        "id": "sckdyu_XSktC"
      },
      "outputs": [],
      "source": [
        "model = VICreg().to(DEVICE)\n",
        "batch_size = 256\n",
        "lr = 3 * 1e-3\n",
        "optimizer = torch.optim.Adam(\n",
        "    model.parameters(), lr=lr, betas=(0.9, 0.999), weight_decay=10e-6\n",
        ")\n",
        "epochs = 30\n",
        "loss_function = lambda z1, z2: vicreg_loss_performance(z1, z2, lambda_var=0)\n",
        "loss_function_d = lambda z1, z2: vicreg_loss_detailed(z1, z2, lambda_var=0)"
      ]
    },
    {
      "cell_type": "code",
      "execution_count": null,
      "metadata": {
        "id": "ACFxagGYSktC"
      },
      "outputs": [],
      "source": [
        "test_dataset, test_dataset = load_vicreg_cifar10(batch_size=batch_size)"
      ]
    },
    {
      "cell_type": "code",
      "execution_count": null,
      "metadata": {
        "id": "aWgl5U_mSktC"
      },
      "outputs": [],
      "source": [
        "recorder = train_vicreg(\n",
        "    model,\n",
        "    test_dataset,\n",
        "    test_dataset,\n",
        "    optimizer,\n",
        "    loss_function,\n",
        "    loss_function_d,\n",
        "    epochs,\n",
        "    DEVICE,\n",
        ")"
      ]
    },
    {
      "cell_type": "markdown",
      "metadata": {
        "id": "yOkfvV66SktC"
      },
      "source": [
        "### NoVar - PCA, t-ENS visualisation"
      ]
    },
    {
      "cell_type": "code",
      "execution_count": null,
      "metadata": {
        "id": "LFly1kwdSktC"
      },
      "outputs": [],
      "source": [
        "batch_size = 256"
      ]
    },
    {
      "cell_type": "code",
      "execution_count": null,
      "metadata": {
        "id": "dtKQdAngSktC"
      },
      "outputs": [],
      "source": [
        "model = VICreg().to(DEVICE)\n",
        "model.load_state_dict(torch.load(\"vicreg_20_run.pt\", map_location=DEVICE))\n",
        "test_dataset, test_dataset = load_cifar10(batch_size=batch_size)"
      ]
    },
    {
      "cell_type": "code",
      "execution_count": null,
      "metadata": {
        "id": "oxBGpwTcSktC"
      },
      "outputs": [],
      "source": [
        "representations, labels = get_representations(model, test_dataset, device=DEVICE)\n",
        "visualize_representations(representations, labels, \"Test Image Representations\")"
      ]
    },
    {
      "cell_type": "markdown",
      "metadata": {
        "id": "WN5_uXEZSktD"
      },
      "source": [
        "### NoVar - Linear probing"
      ]
    },
    {
      "cell_type": "code",
      "execution_count": null,
      "metadata": {
        "id": "LapbMgJKSktD"
      },
      "outputs": [],
      "source": [
        "# @title Hyperparameters Linear Probe\n",
        "\n",
        "batch_size = 256\n",
        "lr = 0.1\n",
        "epochs = 20\n",
        "test_dataset, test_dataset = load_cifar10(batch_size=batch_size)\n",
        "vicreg_model = VICreg().to(DEVICE)\n",
        "vicreg_model.load_state_dict(torch.load(\"vicreg_20_run.pt\", map_location=DEVICE))\n",
        "encoder = vicreg_model.encoder\n",
        "model = LinearProbe(encoder, 128, 10).to(DEVICE)\n",
        "optimizer = torch.optim.SGD(model.parameters(), lr=lr)\n",
        "loss_function = nn.CrossEntropyLoss()\n",
        "recorder = train_linear_probe(\n",
        "    model, test_dataset, test_dataset, optimizer, loss_function, epochs, DEVICE\n",
        ")\n",
        "\n",
        "torch.save(model.state_dict(), \"linear_probe_no_var_20_run.pt\")\n",
        "recorder.to_csv(\"linear_probe_no_var_20_run.csv\")"
      ]
    },
    {
      "cell_type": "markdown",
      "metadata": {
        "id": "gFOvED5jm4Eq"
      },
      "source": [
        "# Q5: Ablation 2 - No Generated Neighbors.\n",
        "Now, we would like to ablate VICReg by only removing the generated neighbors, using neighbors from the data itself:\n",
        "First, compute the representations of your original VICReg, on all of the training set. In each step of training and for each image in the batch, use these representations to find the top 3 nearest neighbors, and randomly select 1 of them. Use the original image and this neighbor of it as your 2 views for the VICReg algorithm.\n",
        "\n",
        "2 Practical Tips: (i) We find that training this algorithm for only a single epoch is more\n",
        "beneficial. (ii) We recommend you to compute the neighboring indices of each image in advance, and delete the original VICReg model from your (GPU) memory. This will save both run time and GPU space.\n",
        "Compute the linear probing accuracy, and report it. Is the accuracy different from the original linear probing from 3?\n",
        "- If no, explain why do you think this change had no effect (what compensates the things that are missing?).\n",
        "- If yes, explain what added value do you think the generated neighbors adds to the algorithm."
      ]
    },
    {
      "cell_type": "markdown",
      "metadata": {
        "id": "Pv4TcdrXSktD"
      },
      "source": [
        "### Training NearesNeighborsModel"
      ]
    },
    {
      "cell_type": "code",
      "execution_count": null,
      "metadata": {
        "id": "kOerJOdvSktD"
      },
      "outputs": [],
      "source": [
        "# @title Load VicReg encoder and nearest neighbors data loader\n",
        "\n",
        "\n",
        "batch_size = 256\n",
        "epochs = 30\n",
        "\n",
        "\n",
        "old_viceg = VICreg().to(DEVICE)\n",
        "old_viceg.load_state_dict(torch.load(\"vicreg_30_run.pt\", map_location=DEVICE))\n",
        "encoder = old_viceg.encoder\n",
        "test_dataset, test_dataset = load_nearest_neighbors_dataloader(\n",
        "    encoder, batch_size=batch_size\n",
        ")"
      ]
    },
    {
      "cell_type": "code",
      "execution_count": null,
      "metadata": {
        "id": "MGuMs9sISktD"
      },
      "outputs": [],
      "source": [
        "# @title Hyperparameters Near Neig\n",
        "model = VICreg().to(DEVICE)\n",
        "lr = 3 * 1e-3\n",
        "optimizer = torch.optim.Adam(\n",
        "    model.parameters(), lr=lr, betas=(0.9, 0.999), weight_decay=10e-6\n",
        ")\n",
        "\n",
        "loss_function = lambda z1, z2: vicreg_loss_performance(z1, z2)\n",
        "loss_function_d = lambda z1, z2: vicreg_loss_detailed(z1, z2)"
      ]
    },
    {
      "cell_type": "code",
      "execution_count": null,
      "metadata": {
        "id": "mLeo_GT2SktD"
      },
      "outputs": [],
      "source": [
        "# @title Train\n",
        "recorder = train_vicreg(\n",
        "    model,\n",
        "    test_dataset,\n",
        "    test_dataset,\n",
        "    optimizer,\n",
        "    loss_function,\n",
        "    loss_function_d,\n",
        "    epochs,\n",
        "    DEVICE,\n",
        ")\n",
        "torch.save(model.state_dict(), \"vicreg_near_neig_30_run.pt\")\n",
        "recorder.to_csv(\"vicreg_near_neig_30_run.csv\")"
      ]
    },
    {
      "cell_type": "markdown",
      "metadata": {
        "id": "9iu4dRz9SktD"
      },
      "source": [
        "### NearNei - Linear probing"
      ]
    },
    {
      "cell_type": "code",
      "execution_count": null,
      "metadata": {
        "id": "ZW3l7MhxSktD"
      },
      "outputs": [],
      "source": [
        "# @title Hyperparameters Linear Probe\n",
        "\n",
        "batch_size = 256\n",
        "lr = 0.1\n",
        "epochs = 20\n",
        "test_dataset, test_dataset = load_cifar10(batch_size=batch_size)\n",
        "\n",
        "vicreg_model = VICreg().to(DEVICE)\n",
        "vicreg_model.load_state_dict(\n",
        "    torch.load(\"vicreg_near_neig_30_run.pt\", map_location=DEVICE)\n",
        ")\n",
        "encoder = vicreg_model.encoder\n",
        "\n",
        "model = LinearProbe(encoder, 128, 10).to(DEVICE)\n",
        "optimizer = torch.optim.SGD(model.parameters(), lr=lr)\n",
        "loss_function = nn.CrossEntropyLoss()\n",
        "\n",
        "\n",
        "recorder = train_linear_probe(\n",
        "    model, test_dataset, test_dataset, optimizer, loss_function, epochs, DEVICE\n",
        ")\n",
        "\n",
        "torch.save(model.state_dict(), \"linear_probe_near_neig_20_run.pt\")\n",
        "recorder.to_csv(\"linear_probe_near_neig_20_run.csv\")"
      ]
    },
    {
      "cell_type": "markdown",
      "metadata": {
        "id": "18u4UDsfm4Eq"
      },
      "source": [
        "# Q6: Ablation 3 - Laplacian Eigenmaps.\n",
        "After removing the generated neighbors, we would like to remove both it and the amortization at once. To do so, we will perform Laplacian Eigenmaps representation learning on the training data of CIFAR10. Since this algorithm is difficult to run, we ran it for you on 10K images (due to runtime limitations) and give you the T-SNE plotting of these representations in Fig. 2 3.\n",
        "Compare this to VICReg’s T-SNE plot from Q2. Based on this visual and linear probing comparison, which method (VICReg vs. Laplacian Eigenmaps) seems more effective for downstream object classification?\n",
        "Explain your answer in detail, including what do you think makes one algorithm to be more successful.\n"
      ]
    },
    {
      "cell_type": "markdown",
      "metadata": {
        "id": "NQI_Xd5Bm4Eq"
      },
      "source": [
        "# Q7: Retrieval Evaluation\n",
        "Now that we slowly “pealed” VICReg back to the laplacian eigenmaps algorithm,\n",
        "we wish to evaluate it qualitatively. For the methods Q1 (VICReg) and Q5 (No Generated Neighbors) perform a\n",
        "qualitative retrieval evaluation. That means:\n",
        "- Select 10 random images from the training set, one from each class.\n",
        "- For each selected image, use the representations of each of the evaluated methods, to find its 5 nearest neighbors\n",
        "in the dataset.\n",
        "- Plot the images together with their neighbors.\n",
        "- Using the same images, perform the same visualization for the 5 most distant images in the dataset.\n",
        "\n",
        "Using this visualization, explain what attributes each method attends to. What are the differences you see between\n",
        "the different methods? Which one excels at keeping close images together? Which one excels at keeping distant\n",
        "images far apart? Explain the differences between the methods in detail, as seen by this visualization. You may\n",
        "select more than 1 image for a specific class if you wish to get a better understanding (Although it is not mandatory)."
      ]
    },
    {
      "cell_type": "code",
      "execution_count": null,
      "metadata": {
        "id": "niKSums8SktE"
      },
      "outputs": [],
      "source": [
        "# @title Load VicReg encoder and NearNeig encoder\n",
        "\n",
        "\n",
        "vicreg_model = VICreg().to(DEVICE)\n",
        "vicreg_model.load_state_dict(torch.load(\"vicreg_30_run.pt\", map_location=DEVICE))\n",
        "vic_reg_encoder = vicreg_model.encoder\n",
        "\n",
        "near_neig_model = VICreg().to(DEVICE)\n",
        "near_neig_model.load_state_dict(\n",
        "    torch.load(\"vicreg_near_neig_30_run.pt\", map_location=DEVICE)\n",
        ")\n",
        "near_neig_encoder = near_neig_model.encoder\n",
        "\n",
        "train_dataset, test_dataset = load_dataset_cifar10()"
      ]
    },
    {
      "cell_type": "code",
      "execution_count": null,
      "metadata": {
        "id": "KIhcfBEUSktE"
      },
      "outputs": [],
      "source": [
        "sampels = retrieval_evaluation(\n",
        "    vic_reg_encoder, near_neig_encoder, train_dataset, test_dataset, DEVICE\n",
        ")\n",
        "visualize_retrieval_results(sampels,train_dataset)"
      ]
    },
    {
      "cell_type": "markdown",
      "metadata": {
        "id": "CGPJzeTrm4Eq"
      },
      "source": [
        "# Q1 - Anomaly Detection.\n",
        "Using the CIFAR10 training data as reference for normal data, compute the kNN\n",
        "density estimation for all the (CIFAR10 + MNIST) test set representations. Do this for both (i) VICReg (ii) VICReg\n",
        "without generated neighbors. Use k = 2.\n"
      ]
    },
    {
      "cell_type": "code",
      "execution_count": 17,
      "metadata": {
        "id": "KGkmiwsuSktE",
        "outputId": "58df0945-f762-43c9-a57e-7c92b45bc67e",
        "colab": {
          "base_uri": "https://localhost:8080/"
        }
      },
      "outputs": [
        {
          "output_type": "stream",
          "name": "stdout",
          "text": [
            "Files already downloaded and verified\n",
            "Files already downloaded and verified\n"
          ]
        }
      ],
      "source": [
        "# @title Load VicReg encoder and NearNeig encoder\n",
        "\n",
        "\n",
        "vic_reg_model = VICreg().to(DEVICE)\n",
        "vic_reg_model.load_state_dict(torch.load(\"vicreg_30_run.pt\", map_location=DEVICE))\n",
        "vic_reg_encoder = vic_reg_model.encoder\n",
        "\n",
        "near_neig_model = VICreg().to(DEVICE)\n",
        "near_neig_model.load_state_dict(\n",
        "    torch.load(\"vicreg_near_neig_30_run.pt\", map_location=DEVICE)\n",
        ")\n",
        "near_neig_encoder = near_neig_model.encoder\n",
        "\n",
        "cifar10_train_dataset, cifar10_test_dataset = load_dataset_cifar10()\n",
        "_,mnist_test_dataset = load_dataset_mnist()\n",
        "\n"
      ]
    },
    {
      "cell_type": "code",
      "execution_count": 18,
      "metadata": {
        "id": "TU2zF8rbSktF",
        "outputId": "44fde303-fe74-4584-a973-629740b238d2",
        "colab": {
          "base_uri": "https://localhost:8080/",
          "height": 294
        }
      },
      "outputs": [
        {
          "output_type": "stream",
          "name": "stderr",
          "text": [
            "Extracting representations: 100%|██████████| 49/49 [00:05<00:00,  8.81it/s]\n",
            "Extracting representations: 100%|██████████| 10/10 [00:01<00:00,  7.54it/s]\n",
            "Extracting representations: 100%|██████████| 10/10 [00:02<00:00,  4.49it/s]\n"
          ]
        },
        {
          "output_type": "display_data",
          "data": {
            "text/plain": [
              "<IPython.core.display.Markdown object>"
            ],
            "text/markdown": "# VICreg CIFAR10 Anomaly Detection\n##cifar10 test anomality\n### $372.2926940917969$\n## mnist test anomality\n### $6815.0986328125$"
          },
          "metadata": {}
        }
      ],
      "source": [
        "# @title Anomaly Detection for vicreg model\n",
        "vic_reg_train_repr, _ = get_representations(\n",
        "    vic_reg_encoder, cifar10_train_dataset, DEVICE\n",
        ")\n",
        "vic_reg_test_cifar10_repr,_ = get_representations(\n",
        "    vic_reg_encoder, cifar10_test_dataset, DEVICE\n",
        ")\n",
        "vic_reg_test_mnist_repr,_ = get_representations(\n",
        "    vic_reg_encoder, mnist_test_dataset, DEVICE\n",
        ")\n",
        "\n",
        "mean_knn_density_cifar10_vicreg = compute_knn_density(vic_reg_train_repr, vic_reg_test_cifar10_repr)\n",
        "mean_knn_density_mnist_vicreg = compute_knn_density(vic_reg_train_repr, vic_reg_test_mnist_repr)\n",
        "\n",
        "md(\n",
        "    f\"# VICreg CIFAR10 Anomaly Detection\\n\"\n",
        "    f\"##cifar10 test anomality\\n### ${mean_knn_density_cifar10_vicreg}$\\n\"\n",
        "    f\"## mnist test anomality\\n### ${mean_knn_density_mnist_vicreg}$\"\n",
        ")"
      ]
    },
    {
      "cell_type": "code",
      "execution_count": 20,
      "metadata": {
        "id": "5jxvuXxiSktF",
        "outputId": "f0be89bb-b9bc-47fd-c767-54e9ecab277b",
        "colab": {
          "base_uri": "https://localhost:8080/",
          "height": 294
        }
      },
      "outputs": [
        {
          "output_type": "stream",
          "name": "stderr",
          "text": [
            "Extracting representations: 100%|██████████| 49/49 [00:05<00:00,  8.81it/s]\n",
            "Extracting representations: 100%|██████████| 10/10 [00:01<00:00,  7.48it/s]\n",
            "Extracting representations: 100%|██████████| 10/10 [00:02<00:00,  4.43it/s]\n"
          ]
        },
        {
          "output_type": "display_data",
          "data": {
            "text/plain": [
              "<IPython.core.display.Markdown object>"
            ],
            "text/markdown": "# Nearest Neigbrhood CIFAR10 Anomaly Detection\n##cifar10 test anomality\n### $191.65966796875$\n## mnist test anomality\n### $7672.8486328125$"
          },
          "metadata": {}
        }
      ],
      "source": [
        "# @title Anomaly Detection for near neig model\n",
        "near_neig_reg_train_repr, _ = get_representations(\n",
        "    near_neig_encoder, cifar10_train_dataset, DEVICE\n",
        ")\n",
        "near_neig_reg_test_cifar10_repr,_ = get_representations(\n",
        "    near_neig_encoder, cifar10_test_dataset, DEVICE\n",
        ")\n",
        "near_neig_reg_test_mnist_repr,_ = get_representations(\n",
        "    near_neig_encoder, mnist_test_dataset, DEVICE\n",
        ")\n",
        "\n",
        "mean_knn_density_cifar10_near_neig = compute_knn_density(\n",
        "    near_neig_reg_train_repr, near_neig_reg_test_cifar10_repr\n",
        ")\n",
        "mean_knn_density_mnist_near_neig = compute_knn_density(\n",
        "    near_neig_reg_train_repr, near_neig_reg_test_mnist_repr\n",
        ")\n",
        "\n",
        "md(\n",
        "    f\"# Nearest Neigbrhood CIFAR10 Anomaly Detection\\n\"\n",
        "    f\"##cifar10 test anomality\\n### ${mean_knn_density_cifar10_near_neig}$\\n\"\n",
        "    f\"## mnist test anomality\\n### ${mean_knn_density_mnist_near_neig}$\"\n",
        ")"
      ]
    },
    {
      "cell_type": "markdown",
      "metadata": {
        "id": "QHY2S9ALm4Eq"
      },
      "source": [
        "# Q2 - ROC AUC Evaluation\n",
        "Plot the ROC Curve of both methods. Use the sklearn library for creating these\n",
        "figures. In the title / legend incorporate the AUC of each method. Which method is ’better’? In a sentence or two,\n",
        "explain why do you think its better."
      ]
    },
    {
      "cell_type": "code",
      "execution_count": 21,
      "metadata": {
        "id": "_nCwveOaSktF",
        "outputId": "6c85206c-20ac-4684-f14a-2f3158fb7a71",
        "colab": {
          "base_uri": "https://localhost:8080/",
          "height": 652
        }
      },
      "outputs": [
        {
          "output_type": "display_data",
          "data": {
            "text/html": [
              "<html>\n",
              "<head><meta charset=\"utf-8\" /></head>\n",
              "<body>\n",
              "    <div>            <script src=\"https://cdnjs.cloudflare.com/ajax/libs/mathjax/2.7.5/MathJax.js?config=TeX-AMS-MML_SVG\"></script><script type=\"text/javascript\">if (window.MathJax && window.MathJax.Hub && window.MathJax.Hub.Config) {window.MathJax.Hub.Config({SVG: {font: \"STIX-Web\"}});}</script>                <script type=\"text/javascript\">window.PlotlyConfig = {MathJaxConfig: 'local'};</script>\n",
              "        <script charset=\"utf-8\" src=\"https://cdn.plot.ly/plotly-2.24.1.min.js\"></script>                <div id=\"f69abef5-86ed-479e-9379-4af5d890a3cf\" class=\"plotly-graph-div\" style=\"height:600px; width:800px;\"></div>            <script type=\"text/javascript\">                                    window.PLOTLYENV=window.PLOTLYENV || {};                                    if (document.getElementById(\"f69abef5-86ed-479e-9379-4af5d890a3cf\")) {                    Plotly.newPlot(                        \"f69abef5-86ed-479e-9379-4af5d890a3cf\",                        [{\"line\":{\"color\":\"blue\",\"width\":2},\"mode\":\"lines\",\"name\":\"VICreg (AUC = 1.00)\",\"x\":[0.0,0.0,0.0,0.0,0.0,0.0,0.0,0.0,0.0,0.0,0.0,0.0,0.0,0.0,0.0,0.0,0.0,0.0,0.0,0.0,0.0,0.0,0.0,0.0,0.0,0.0,0.0,0.0,0.0,0.0,0.0,0.0,0.0,0.0,0.0,0.0,0.0,0.0,0.0,0.0,0.0,0.0,0.0,0.0001,0.0001,0.0969,0.0971,0.1164,0.1166,0.2216,0.2218,0.2629,0.2631,0.2692,0.2694,0.3018,0.302,0.3347,0.3349,0.3588,0.359,0.3711,0.3713,0.3972,0.3974,0.4152,0.4154,0.4406,0.4408,0.4451,0.4453,0.4511,0.4513,0.4626,0.4628,0.4839,0.4841,0.5407,0.5409,0.5646,0.5648,0.5706,0.5708,0.5755,0.5757,0.5774,0.5776,0.6027,0.6029,0.6148,0.615,0.6383,0.6385,0.6446,0.6448,0.6464,0.6466,0.6471,0.6473,0.6559,0.6561,0.6675,0.6677,0.6758,0.676,0.6812,0.6814,0.707,0.7072,0.7136,0.7138,0.7399,0.7401,0.77,0.7702,0.7719,0.7721,0.7731,0.7733,0.8336,0.8338,0.8398,0.84,0.8479,0.8481,0.8507,0.8509,0.8534,0.8536,0.9302,0.9304,1.0],\"y\":[0.0,0.0001,0.0862,0.0864,0.1973,0.1975,0.2122,0.2124,0.2246,0.2248,0.2262,0.2264,0.2389,0.2391,0.3016,0.3018,0.3374,0.3376,0.3419,0.3421,0.4936,0.4938,0.5001,0.5003,0.5129,0.5131,0.587,0.5872,0.6423,0.6425,0.758,0.7582,0.7597,0.7599,0.762,0.7622,0.7858,0.786,0.8452,0.8454,0.9755,0.9757,0.9995,0.9995,1.0,1.0,1.0,1.0,1.0,1.0,1.0,1.0,1.0,1.0,1.0,1.0,1.0,1.0,1.0,1.0,1.0,1.0,1.0,1.0,1.0,1.0,1.0,1.0,1.0,1.0,1.0,1.0,1.0,1.0,1.0,1.0,1.0,1.0,1.0,1.0,1.0,1.0,1.0,1.0,1.0,1.0,1.0,1.0,1.0,1.0,1.0,1.0,1.0,1.0,1.0,1.0,1.0,1.0,1.0,1.0,1.0,1.0,1.0,1.0,1.0,1.0,1.0,1.0,1.0,1.0,1.0,1.0,1.0,1.0,1.0,1.0,1.0,1.0,1.0,1.0,1.0,1.0,1.0,1.0,1.0,1.0,1.0,1.0,1.0,1.0,1.0,1.0],\"type\":\"scatter\"},{\"line\":{\"color\":\"gray\",\"dash\":\"dash\",\"width\":2},\"mode\":\"lines\",\"name\":\"Random Classifier\",\"x\":[0,1],\"y\":[0,1],\"type\":\"scatter\"}],                        {\"template\":{\"data\":{\"histogram2dcontour\":[{\"type\":\"histogram2dcontour\",\"colorbar\":{\"outlinewidth\":0,\"ticks\":\"\"},\"colorscale\":[[0.0,\"#0d0887\"],[0.1111111111111111,\"#46039f\"],[0.2222222222222222,\"#7201a8\"],[0.3333333333333333,\"#9c179e\"],[0.4444444444444444,\"#bd3786\"],[0.5555555555555556,\"#d8576b\"],[0.6666666666666666,\"#ed7953\"],[0.7777777777777778,\"#fb9f3a\"],[0.8888888888888888,\"#fdca26\"],[1.0,\"#f0f921\"]]}],\"choropleth\":[{\"type\":\"choropleth\",\"colorbar\":{\"outlinewidth\":0,\"ticks\":\"\"}}],\"histogram2d\":[{\"type\":\"histogram2d\",\"colorbar\":{\"outlinewidth\":0,\"ticks\":\"\"},\"colorscale\":[[0.0,\"#0d0887\"],[0.1111111111111111,\"#46039f\"],[0.2222222222222222,\"#7201a8\"],[0.3333333333333333,\"#9c179e\"],[0.4444444444444444,\"#bd3786\"],[0.5555555555555556,\"#d8576b\"],[0.6666666666666666,\"#ed7953\"],[0.7777777777777778,\"#fb9f3a\"],[0.8888888888888888,\"#fdca26\"],[1.0,\"#f0f921\"]]}],\"heatmap\":[{\"type\":\"heatmap\",\"colorbar\":{\"outlinewidth\":0,\"ticks\":\"\"},\"colorscale\":[[0.0,\"#0d0887\"],[0.1111111111111111,\"#46039f\"],[0.2222222222222222,\"#7201a8\"],[0.3333333333333333,\"#9c179e\"],[0.4444444444444444,\"#bd3786\"],[0.5555555555555556,\"#d8576b\"],[0.6666666666666666,\"#ed7953\"],[0.7777777777777778,\"#fb9f3a\"],[0.8888888888888888,\"#fdca26\"],[1.0,\"#f0f921\"]]}],\"heatmapgl\":[{\"type\":\"heatmapgl\",\"colorbar\":{\"outlinewidth\":0,\"ticks\":\"\"},\"colorscale\":[[0.0,\"#0d0887\"],[0.1111111111111111,\"#46039f\"],[0.2222222222222222,\"#7201a8\"],[0.3333333333333333,\"#9c179e\"],[0.4444444444444444,\"#bd3786\"],[0.5555555555555556,\"#d8576b\"],[0.6666666666666666,\"#ed7953\"],[0.7777777777777778,\"#fb9f3a\"],[0.8888888888888888,\"#fdca26\"],[1.0,\"#f0f921\"]]}],\"contourcarpet\":[{\"type\":\"contourcarpet\",\"colorbar\":{\"outlinewidth\":0,\"ticks\":\"\"}}],\"contour\":[{\"type\":\"contour\",\"colorbar\":{\"outlinewidth\":0,\"ticks\":\"\"},\"colorscale\":[[0.0,\"#0d0887\"],[0.1111111111111111,\"#46039f\"],[0.2222222222222222,\"#7201a8\"],[0.3333333333333333,\"#9c179e\"],[0.4444444444444444,\"#bd3786\"],[0.5555555555555556,\"#d8576b\"],[0.6666666666666666,\"#ed7953\"],[0.7777777777777778,\"#fb9f3a\"],[0.8888888888888888,\"#fdca26\"],[1.0,\"#f0f921\"]]}],\"surface\":[{\"type\":\"surface\",\"colorbar\":{\"outlinewidth\":0,\"ticks\":\"\"},\"colorscale\":[[0.0,\"#0d0887\"],[0.1111111111111111,\"#46039f\"],[0.2222222222222222,\"#7201a8\"],[0.3333333333333333,\"#9c179e\"],[0.4444444444444444,\"#bd3786\"],[0.5555555555555556,\"#d8576b\"],[0.6666666666666666,\"#ed7953\"],[0.7777777777777778,\"#fb9f3a\"],[0.8888888888888888,\"#fdca26\"],[1.0,\"#f0f921\"]]}],\"mesh3d\":[{\"type\":\"mesh3d\",\"colorbar\":{\"outlinewidth\":0,\"ticks\":\"\"}}],\"scatter\":[{\"fillpattern\":{\"fillmode\":\"overlay\",\"size\":10,\"solidity\":0.2},\"type\":\"scatter\"}],\"parcoords\":[{\"type\":\"parcoords\",\"line\":{\"colorbar\":{\"outlinewidth\":0,\"ticks\":\"\"}}}],\"scatterpolargl\":[{\"type\":\"scatterpolargl\",\"marker\":{\"colorbar\":{\"outlinewidth\":0,\"ticks\":\"\"}}}],\"bar\":[{\"error_x\":{\"color\":\"#2a3f5f\"},\"error_y\":{\"color\":\"#2a3f5f\"},\"marker\":{\"line\":{\"color\":\"#E5ECF6\",\"width\":0.5},\"pattern\":{\"fillmode\":\"overlay\",\"size\":10,\"solidity\":0.2}},\"type\":\"bar\"}],\"scattergeo\":[{\"type\":\"scattergeo\",\"marker\":{\"colorbar\":{\"outlinewidth\":0,\"ticks\":\"\"}}}],\"scatterpolar\":[{\"type\":\"scatterpolar\",\"marker\":{\"colorbar\":{\"outlinewidth\":0,\"ticks\":\"\"}}}],\"histogram\":[{\"marker\":{\"pattern\":{\"fillmode\":\"overlay\",\"size\":10,\"solidity\":0.2}},\"type\":\"histogram\"}],\"scattergl\":[{\"type\":\"scattergl\",\"marker\":{\"colorbar\":{\"outlinewidth\":0,\"ticks\":\"\"}}}],\"scatter3d\":[{\"type\":\"scatter3d\",\"line\":{\"colorbar\":{\"outlinewidth\":0,\"ticks\":\"\"}},\"marker\":{\"colorbar\":{\"outlinewidth\":0,\"ticks\":\"\"}}}],\"scattermapbox\":[{\"type\":\"scattermapbox\",\"marker\":{\"colorbar\":{\"outlinewidth\":0,\"ticks\":\"\"}}}],\"scatterternary\":[{\"type\":\"scatterternary\",\"marker\":{\"colorbar\":{\"outlinewidth\":0,\"ticks\":\"\"}}}],\"scattercarpet\":[{\"type\":\"scattercarpet\",\"marker\":{\"colorbar\":{\"outlinewidth\":0,\"ticks\":\"\"}}}],\"carpet\":[{\"aaxis\":{\"endlinecolor\":\"#2a3f5f\",\"gridcolor\":\"white\",\"linecolor\":\"white\",\"minorgridcolor\":\"white\",\"startlinecolor\":\"#2a3f5f\"},\"baxis\":{\"endlinecolor\":\"#2a3f5f\",\"gridcolor\":\"white\",\"linecolor\":\"white\",\"minorgridcolor\":\"white\",\"startlinecolor\":\"#2a3f5f\"},\"type\":\"carpet\"}],\"table\":[{\"cells\":{\"fill\":{\"color\":\"#EBF0F8\"},\"line\":{\"color\":\"white\"}},\"header\":{\"fill\":{\"color\":\"#C8D4E3\"},\"line\":{\"color\":\"white\"}},\"type\":\"table\"}],\"barpolar\":[{\"marker\":{\"line\":{\"color\":\"#E5ECF6\",\"width\":0.5},\"pattern\":{\"fillmode\":\"overlay\",\"size\":10,\"solidity\":0.2}},\"type\":\"barpolar\"}],\"pie\":[{\"automargin\":true,\"type\":\"pie\"}]},\"layout\":{\"autotypenumbers\":\"strict\",\"colorway\":[\"#636efa\",\"#EF553B\",\"#00cc96\",\"#ab63fa\",\"#FFA15A\",\"#19d3f3\",\"#FF6692\",\"#B6E880\",\"#FF97FF\",\"#FECB52\"],\"font\":{\"color\":\"#2a3f5f\"},\"hovermode\":\"closest\",\"hoverlabel\":{\"align\":\"left\"},\"paper_bgcolor\":\"white\",\"plot_bgcolor\":\"#E5ECF6\",\"polar\":{\"bgcolor\":\"#E5ECF6\",\"angularaxis\":{\"gridcolor\":\"white\",\"linecolor\":\"white\",\"ticks\":\"\"},\"radialaxis\":{\"gridcolor\":\"white\",\"linecolor\":\"white\",\"ticks\":\"\"}},\"ternary\":{\"bgcolor\":\"#E5ECF6\",\"aaxis\":{\"gridcolor\":\"white\",\"linecolor\":\"white\",\"ticks\":\"\"},\"baxis\":{\"gridcolor\":\"white\",\"linecolor\":\"white\",\"ticks\":\"\"},\"caxis\":{\"gridcolor\":\"white\",\"linecolor\":\"white\",\"ticks\":\"\"}},\"coloraxis\":{\"colorbar\":{\"outlinewidth\":0,\"ticks\":\"\"}},\"colorscale\":{\"sequential\":[[0.0,\"#0d0887\"],[0.1111111111111111,\"#46039f\"],[0.2222222222222222,\"#7201a8\"],[0.3333333333333333,\"#9c179e\"],[0.4444444444444444,\"#bd3786\"],[0.5555555555555556,\"#d8576b\"],[0.6666666666666666,\"#ed7953\"],[0.7777777777777778,\"#fb9f3a\"],[0.8888888888888888,\"#fdca26\"],[1.0,\"#f0f921\"]],\"sequentialminus\":[[0.0,\"#0d0887\"],[0.1111111111111111,\"#46039f\"],[0.2222222222222222,\"#7201a8\"],[0.3333333333333333,\"#9c179e\"],[0.4444444444444444,\"#bd3786\"],[0.5555555555555556,\"#d8576b\"],[0.6666666666666666,\"#ed7953\"],[0.7777777777777778,\"#fb9f3a\"],[0.8888888888888888,\"#fdca26\"],[1.0,\"#f0f921\"]],\"diverging\":[[0,\"#8e0152\"],[0.1,\"#c51b7d\"],[0.2,\"#de77ae\"],[0.3,\"#f1b6da\"],[0.4,\"#fde0ef\"],[0.5,\"#f7f7f7\"],[0.6,\"#e6f5d0\"],[0.7,\"#b8e186\"],[0.8,\"#7fbc41\"],[0.9,\"#4d9221\"],[1,\"#276419\"]]},\"xaxis\":{\"gridcolor\":\"white\",\"linecolor\":\"white\",\"ticks\":\"\",\"title\":{\"standoff\":15},\"zerolinecolor\":\"white\",\"automargin\":true,\"zerolinewidth\":2},\"yaxis\":{\"gridcolor\":\"white\",\"linecolor\":\"white\",\"ticks\":\"\",\"title\":{\"standoff\":15},\"zerolinecolor\":\"white\",\"automargin\":true,\"zerolinewidth\":2},\"scene\":{\"xaxis\":{\"backgroundcolor\":\"#E5ECF6\",\"gridcolor\":\"white\",\"linecolor\":\"white\",\"showbackground\":true,\"ticks\":\"\",\"zerolinecolor\":\"white\",\"gridwidth\":2},\"yaxis\":{\"backgroundcolor\":\"#E5ECF6\",\"gridcolor\":\"white\",\"linecolor\":\"white\",\"showbackground\":true,\"ticks\":\"\",\"zerolinecolor\":\"white\",\"gridwidth\":2},\"zaxis\":{\"backgroundcolor\":\"#E5ECF6\",\"gridcolor\":\"white\",\"linecolor\":\"white\",\"showbackground\":true,\"ticks\":\"\",\"zerolinecolor\":\"white\",\"gridwidth\":2}},\"shapedefaults\":{\"line\":{\"color\":\"#2a3f5f\"}},\"annotationdefaults\":{\"arrowcolor\":\"#2a3f5f\",\"arrowhead\":0,\"arrowwidth\":1},\"geo\":{\"bgcolor\":\"white\",\"landcolor\":\"#E5ECF6\",\"subunitcolor\":\"white\",\"showland\":true,\"showlakes\":true,\"lakecolor\":\"white\"},\"title\":{\"x\":0.05},\"mapbox\":{\"style\":\"light\"}}},\"legend\":{\"x\":0.7,\"y\":0.1},\"xaxis\":{\"title\":{\"text\":\"False Positive Rate\"},\"range\":[0,1]},\"yaxis\":{\"title\":{\"text\":\"True Positive Rate\"},\"range\":[0,1.05]},\"title\":{\"text\":\"Receiver Operating Characteristic (ROC) Curve - VICreg\"},\"width\":800,\"height\":600},                        {\"responsive\": true}                    ).then(function(){\n",
              "                            \n",
              "var gd = document.getElementById('f69abef5-86ed-479e-9379-4af5d890a3cf');\n",
              "var x = new MutationObserver(function (mutations, observer) {{\n",
              "        var display = window.getComputedStyle(gd).display;\n",
              "        if (!display || display === 'none') {{\n",
              "            console.log([gd, 'removed!']);\n",
              "            Plotly.purge(gd);\n",
              "            observer.disconnect();\n",
              "        }}\n",
              "}});\n",
              "\n",
              "// Listen for the removal of the full notebook cells\n",
              "var notebookContainer = gd.closest('#notebook-container');\n",
              "if (notebookContainer) {{\n",
              "    x.observe(notebookContainer, {childList: true});\n",
              "}}\n",
              "\n",
              "// Listen for the clearing of the current output cell\n",
              "var outputEl = gd.closest('.output');\n",
              "if (outputEl) {{\n",
              "    x.observe(outputEl, {childList: true});\n",
              "}}\n",
              "\n",
              "                        })                };                            </script>        </div>\n",
              "</body>\n",
              "</html>"
            ]
          },
          "metadata": {}
        },
        {
          "output_type": "stream",
          "name": "stdout",
          "text": [
            "VICreg AUC: 1.0000\n"
          ]
        },
        {
          "output_type": "execute_result",
          "data": {
            "text/plain": [
              "0.99999995"
            ]
          },
          "metadata": {},
          "execution_count": 21
        }
      ],
      "source": [
        "# @title Calculate ROC for vicreg model\n",
        "knn_density_cifar10_vicreg = compute_knn_density(vic_reg_train_repr, vic_reg_test_cifar10_repr,reduce=None)\n",
        "knn_density_mnist_vicreg = compute_knn_density(vic_reg_train_repr, vic_reg_test_mnist_repr,reduce=None)\n",
        "\n",
        "max_len = min(len(knn_density_cifar10_vicreg),len(knn_density_mnist_vicreg))\n",
        "\n",
        "\n",
        "visualize_roc(knn_density_cifar10_vicreg[:max_len],knn_density_mnist_vicreg[:max_len],\"VICreg\")\n",
        "\n",
        "\n"
      ]
    },
    {
      "cell_type": "code",
      "execution_count": 22,
      "metadata": {
        "cellView": "form",
        "id": "B3VOTvs4SktF",
        "outputId": "f0c2ed66-fca9-4340-cf67-4f26af0b2559",
        "colab": {
          "base_uri": "https://localhost:8080/",
          "height": 652
        }
      },
      "outputs": [
        {
          "output_type": "display_data",
          "data": {
            "text/html": [
              "<html>\n",
              "<head><meta charset=\"utf-8\" /></head>\n",
              "<body>\n",
              "    <div>            <script src=\"https://cdnjs.cloudflare.com/ajax/libs/mathjax/2.7.5/MathJax.js?config=TeX-AMS-MML_SVG\"></script><script type=\"text/javascript\">if (window.MathJax && window.MathJax.Hub && window.MathJax.Hub.Config) {window.MathJax.Hub.Config({SVG: {font: \"STIX-Web\"}});}</script>                <script type=\"text/javascript\">window.PlotlyConfig = {MathJaxConfig: 'local'};</script>\n",
              "        <script charset=\"utf-8\" src=\"https://cdn.plot.ly/plotly-2.24.1.min.js\"></script>                <div id=\"2db733a0-1c6f-4306-87d4-a65a8e2e3e4e\" class=\"plotly-graph-div\" style=\"height:600px; width:800px;\"></div>            <script type=\"text/javascript\">                                    window.PLOTLYENV=window.PLOTLYENV || {};                                    if (document.getElementById(\"2db733a0-1c6f-4306-87d4-a65a8e2e3e4e\")) {                    Plotly.newPlot(                        \"2db733a0-1c6f-4306-87d4-a65a8e2e3e4e\",                        [{\"line\":{\"color\":\"blue\",\"width\":2},\"mode\":\"lines\",\"name\":\"Nearest Neigbrhood (AUC = 1.00)\",\"x\":[0.0,0.0,0.0,0.0,0.0,0.0,0.0,0.0,0.0,0.0,0.0,0.0,0.0,0.0,0.0,0.0,0.0,0.0,0.0,0.0,0.0,0.0,0.0,0.0001,0.0001,0.0002,0.0002,0.0003,0.0003,0.0004,0.0004,0.0005,0.0005,0.0006,0.0006,0.0007,0.0007,0.0012,0.0012,0.0019,0.0019,0.0021,0.0021,0.0022,0.0022,0.0054,0.0054,0.0811,0.0813,0.1056,0.1058,0.1237,0.1239,0.1355,0.1357,0.1696,0.1698,0.18,0.1802,0.1829,0.1831,0.1952,0.1954,0.1998,0.2,0.2218,0.222,0.2415,0.2417,0.2671,0.2673,0.292,0.2922,0.314,0.3142,0.3288,0.329,0.3589,0.3591,0.3603,0.3605,0.3633,0.3635,0.3684,0.3686,0.3854,0.3856,0.3887,0.3889,0.3928,0.393,0.4165,0.4167,0.4288,0.429,0.4513,0.4515,0.4588,0.459,0.5148,0.515,0.5152,0.5154,0.5263,0.5265,0.5385,0.5387,0.5407,0.5409,0.5431,0.5433,0.5459,0.5461,0.5466,0.5468,0.5584,0.5586,0.5629,0.5631,0.5807,0.5809,0.5909,0.5911,0.6073,0.6075,0.6395,0.6397,0.6568,0.657,0.6608,0.661,0.6648,0.665,0.6884,0.6886,0.6918,0.692,0.7204,0.7206,0.727,0.7272,0.7369,0.7371,0.7445,0.7447,0.7509,0.7511,0.7524,0.7526,0.7531,0.7533,0.7568,0.757,0.7596,0.7598,0.7986,0.7988,0.808,0.8082,0.8158,0.816,0.861,0.8612,0.8787,0.8789,0.8989,0.8991,0.9097,0.9099,0.9123,0.9125,0.9337,0.9339,1.0],\"y\":[0.0,0.0001,0.299,0.2992,0.4112,0.4114,0.4521,0.4523,0.5848,0.585,0.6386,0.6388,0.6717,0.6719,0.6853,0.6855,0.7523,0.7525,0.8388,0.839,0.9045,0.9047,0.9912,0.9912,0.9977,0.9977,0.9978,0.9978,0.9983,0.9983,0.9985,0.9985,0.9993,0.9993,0.9994,0.9994,0.9995,0.9995,0.9996,0.9996,0.9997,0.9997,0.9998,0.9998,0.9999,0.9999,1.0,1.0,1.0,1.0,1.0,1.0,1.0,1.0,1.0,1.0,1.0,1.0,1.0,1.0,1.0,1.0,1.0,1.0,1.0,1.0,1.0,1.0,1.0,1.0,1.0,1.0,1.0,1.0,1.0,1.0,1.0,1.0,1.0,1.0,1.0,1.0,1.0,1.0,1.0,1.0,1.0,1.0,1.0,1.0,1.0,1.0,1.0,1.0,1.0,1.0,1.0,1.0,1.0,1.0,1.0,1.0,1.0,1.0,1.0,1.0,1.0,1.0,1.0,1.0,1.0,1.0,1.0,1.0,1.0,1.0,1.0,1.0,1.0,1.0,1.0,1.0,1.0,1.0,1.0,1.0,1.0,1.0,1.0,1.0,1.0,1.0,1.0,1.0,1.0,1.0,1.0,1.0,1.0,1.0,1.0,1.0,1.0,1.0,1.0,1.0,1.0,1.0,1.0,1.0,1.0,1.0,1.0,1.0,1.0,1.0,1.0,1.0,1.0,1.0,1.0,1.0,1.0,1.0,1.0,1.0,1.0,1.0,1.0,1.0,1.0,1.0,1.0,1.0],\"type\":\"scatter\"},{\"line\":{\"color\":\"gray\",\"dash\":\"dash\",\"width\":2},\"mode\":\"lines\",\"name\":\"Random Classifier\",\"x\":[0,1],\"y\":[0,1],\"type\":\"scatter\"}],                        {\"template\":{\"data\":{\"histogram2dcontour\":[{\"type\":\"histogram2dcontour\",\"colorbar\":{\"outlinewidth\":0,\"ticks\":\"\"},\"colorscale\":[[0.0,\"#0d0887\"],[0.1111111111111111,\"#46039f\"],[0.2222222222222222,\"#7201a8\"],[0.3333333333333333,\"#9c179e\"],[0.4444444444444444,\"#bd3786\"],[0.5555555555555556,\"#d8576b\"],[0.6666666666666666,\"#ed7953\"],[0.7777777777777778,\"#fb9f3a\"],[0.8888888888888888,\"#fdca26\"],[1.0,\"#f0f921\"]]}],\"choropleth\":[{\"type\":\"choropleth\",\"colorbar\":{\"outlinewidth\":0,\"ticks\":\"\"}}],\"histogram2d\":[{\"type\":\"histogram2d\",\"colorbar\":{\"outlinewidth\":0,\"ticks\":\"\"},\"colorscale\":[[0.0,\"#0d0887\"],[0.1111111111111111,\"#46039f\"],[0.2222222222222222,\"#7201a8\"],[0.3333333333333333,\"#9c179e\"],[0.4444444444444444,\"#bd3786\"],[0.5555555555555556,\"#d8576b\"],[0.6666666666666666,\"#ed7953\"],[0.7777777777777778,\"#fb9f3a\"],[0.8888888888888888,\"#fdca26\"],[1.0,\"#f0f921\"]]}],\"heatmap\":[{\"type\":\"heatmap\",\"colorbar\":{\"outlinewidth\":0,\"ticks\":\"\"},\"colorscale\":[[0.0,\"#0d0887\"],[0.1111111111111111,\"#46039f\"],[0.2222222222222222,\"#7201a8\"],[0.3333333333333333,\"#9c179e\"],[0.4444444444444444,\"#bd3786\"],[0.5555555555555556,\"#d8576b\"],[0.6666666666666666,\"#ed7953\"],[0.7777777777777778,\"#fb9f3a\"],[0.8888888888888888,\"#fdca26\"],[1.0,\"#f0f921\"]]}],\"heatmapgl\":[{\"type\":\"heatmapgl\",\"colorbar\":{\"outlinewidth\":0,\"ticks\":\"\"},\"colorscale\":[[0.0,\"#0d0887\"],[0.1111111111111111,\"#46039f\"],[0.2222222222222222,\"#7201a8\"],[0.3333333333333333,\"#9c179e\"],[0.4444444444444444,\"#bd3786\"],[0.5555555555555556,\"#d8576b\"],[0.6666666666666666,\"#ed7953\"],[0.7777777777777778,\"#fb9f3a\"],[0.8888888888888888,\"#fdca26\"],[1.0,\"#f0f921\"]]}],\"contourcarpet\":[{\"type\":\"contourcarpet\",\"colorbar\":{\"outlinewidth\":0,\"ticks\":\"\"}}],\"contour\":[{\"type\":\"contour\",\"colorbar\":{\"outlinewidth\":0,\"ticks\":\"\"},\"colorscale\":[[0.0,\"#0d0887\"],[0.1111111111111111,\"#46039f\"],[0.2222222222222222,\"#7201a8\"],[0.3333333333333333,\"#9c179e\"],[0.4444444444444444,\"#bd3786\"],[0.5555555555555556,\"#d8576b\"],[0.6666666666666666,\"#ed7953\"],[0.7777777777777778,\"#fb9f3a\"],[0.8888888888888888,\"#fdca26\"],[1.0,\"#f0f921\"]]}],\"surface\":[{\"type\":\"surface\",\"colorbar\":{\"outlinewidth\":0,\"ticks\":\"\"},\"colorscale\":[[0.0,\"#0d0887\"],[0.1111111111111111,\"#46039f\"],[0.2222222222222222,\"#7201a8\"],[0.3333333333333333,\"#9c179e\"],[0.4444444444444444,\"#bd3786\"],[0.5555555555555556,\"#d8576b\"],[0.6666666666666666,\"#ed7953\"],[0.7777777777777778,\"#fb9f3a\"],[0.8888888888888888,\"#fdca26\"],[1.0,\"#f0f921\"]]}],\"mesh3d\":[{\"type\":\"mesh3d\",\"colorbar\":{\"outlinewidth\":0,\"ticks\":\"\"}}],\"scatter\":[{\"fillpattern\":{\"fillmode\":\"overlay\",\"size\":10,\"solidity\":0.2},\"type\":\"scatter\"}],\"parcoords\":[{\"type\":\"parcoords\",\"line\":{\"colorbar\":{\"outlinewidth\":0,\"ticks\":\"\"}}}],\"scatterpolargl\":[{\"type\":\"scatterpolargl\",\"marker\":{\"colorbar\":{\"outlinewidth\":0,\"ticks\":\"\"}}}],\"bar\":[{\"error_x\":{\"color\":\"#2a3f5f\"},\"error_y\":{\"color\":\"#2a3f5f\"},\"marker\":{\"line\":{\"color\":\"#E5ECF6\",\"width\":0.5},\"pattern\":{\"fillmode\":\"overlay\",\"size\":10,\"solidity\":0.2}},\"type\":\"bar\"}],\"scattergeo\":[{\"type\":\"scattergeo\",\"marker\":{\"colorbar\":{\"outlinewidth\":0,\"ticks\":\"\"}}}],\"scatterpolar\":[{\"type\":\"scatterpolar\",\"marker\":{\"colorbar\":{\"outlinewidth\":0,\"ticks\":\"\"}}}],\"histogram\":[{\"marker\":{\"pattern\":{\"fillmode\":\"overlay\",\"size\":10,\"solidity\":0.2}},\"type\":\"histogram\"}],\"scattergl\":[{\"type\":\"scattergl\",\"marker\":{\"colorbar\":{\"outlinewidth\":0,\"ticks\":\"\"}}}],\"scatter3d\":[{\"type\":\"scatter3d\",\"line\":{\"colorbar\":{\"outlinewidth\":0,\"ticks\":\"\"}},\"marker\":{\"colorbar\":{\"outlinewidth\":0,\"ticks\":\"\"}}}],\"scattermapbox\":[{\"type\":\"scattermapbox\",\"marker\":{\"colorbar\":{\"outlinewidth\":0,\"ticks\":\"\"}}}],\"scatterternary\":[{\"type\":\"scatterternary\",\"marker\":{\"colorbar\":{\"outlinewidth\":0,\"ticks\":\"\"}}}],\"scattercarpet\":[{\"type\":\"scattercarpet\",\"marker\":{\"colorbar\":{\"outlinewidth\":0,\"ticks\":\"\"}}}],\"carpet\":[{\"aaxis\":{\"endlinecolor\":\"#2a3f5f\",\"gridcolor\":\"white\",\"linecolor\":\"white\",\"minorgridcolor\":\"white\",\"startlinecolor\":\"#2a3f5f\"},\"baxis\":{\"endlinecolor\":\"#2a3f5f\",\"gridcolor\":\"white\",\"linecolor\":\"white\",\"minorgridcolor\":\"white\",\"startlinecolor\":\"#2a3f5f\"},\"type\":\"carpet\"}],\"table\":[{\"cells\":{\"fill\":{\"color\":\"#EBF0F8\"},\"line\":{\"color\":\"white\"}},\"header\":{\"fill\":{\"color\":\"#C8D4E3\"},\"line\":{\"color\":\"white\"}},\"type\":\"table\"}],\"barpolar\":[{\"marker\":{\"line\":{\"color\":\"#E5ECF6\",\"width\":0.5},\"pattern\":{\"fillmode\":\"overlay\",\"size\":10,\"solidity\":0.2}},\"type\":\"barpolar\"}],\"pie\":[{\"automargin\":true,\"type\":\"pie\"}]},\"layout\":{\"autotypenumbers\":\"strict\",\"colorway\":[\"#636efa\",\"#EF553B\",\"#00cc96\",\"#ab63fa\",\"#FFA15A\",\"#19d3f3\",\"#FF6692\",\"#B6E880\",\"#FF97FF\",\"#FECB52\"],\"font\":{\"color\":\"#2a3f5f\"},\"hovermode\":\"closest\",\"hoverlabel\":{\"align\":\"left\"},\"paper_bgcolor\":\"white\",\"plot_bgcolor\":\"#E5ECF6\",\"polar\":{\"bgcolor\":\"#E5ECF6\",\"angularaxis\":{\"gridcolor\":\"white\",\"linecolor\":\"white\",\"ticks\":\"\"},\"radialaxis\":{\"gridcolor\":\"white\",\"linecolor\":\"white\",\"ticks\":\"\"}},\"ternary\":{\"bgcolor\":\"#E5ECF6\",\"aaxis\":{\"gridcolor\":\"white\",\"linecolor\":\"white\",\"ticks\":\"\"},\"baxis\":{\"gridcolor\":\"white\",\"linecolor\":\"white\",\"ticks\":\"\"},\"caxis\":{\"gridcolor\":\"white\",\"linecolor\":\"white\",\"ticks\":\"\"}},\"coloraxis\":{\"colorbar\":{\"outlinewidth\":0,\"ticks\":\"\"}},\"colorscale\":{\"sequential\":[[0.0,\"#0d0887\"],[0.1111111111111111,\"#46039f\"],[0.2222222222222222,\"#7201a8\"],[0.3333333333333333,\"#9c179e\"],[0.4444444444444444,\"#bd3786\"],[0.5555555555555556,\"#d8576b\"],[0.6666666666666666,\"#ed7953\"],[0.7777777777777778,\"#fb9f3a\"],[0.8888888888888888,\"#fdca26\"],[1.0,\"#f0f921\"]],\"sequentialminus\":[[0.0,\"#0d0887\"],[0.1111111111111111,\"#46039f\"],[0.2222222222222222,\"#7201a8\"],[0.3333333333333333,\"#9c179e\"],[0.4444444444444444,\"#bd3786\"],[0.5555555555555556,\"#d8576b\"],[0.6666666666666666,\"#ed7953\"],[0.7777777777777778,\"#fb9f3a\"],[0.8888888888888888,\"#fdca26\"],[1.0,\"#f0f921\"]],\"diverging\":[[0,\"#8e0152\"],[0.1,\"#c51b7d\"],[0.2,\"#de77ae\"],[0.3,\"#f1b6da\"],[0.4,\"#fde0ef\"],[0.5,\"#f7f7f7\"],[0.6,\"#e6f5d0\"],[0.7,\"#b8e186\"],[0.8,\"#7fbc41\"],[0.9,\"#4d9221\"],[1,\"#276419\"]]},\"xaxis\":{\"gridcolor\":\"white\",\"linecolor\":\"white\",\"ticks\":\"\",\"title\":{\"standoff\":15},\"zerolinecolor\":\"white\",\"automargin\":true,\"zerolinewidth\":2},\"yaxis\":{\"gridcolor\":\"white\",\"linecolor\":\"white\",\"ticks\":\"\",\"title\":{\"standoff\":15},\"zerolinecolor\":\"white\",\"automargin\":true,\"zerolinewidth\":2},\"scene\":{\"xaxis\":{\"backgroundcolor\":\"#E5ECF6\",\"gridcolor\":\"white\",\"linecolor\":\"white\",\"showbackground\":true,\"ticks\":\"\",\"zerolinecolor\":\"white\",\"gridwidth\":2},\"yaxis\":{\"backgroundcolor\":\"#E5ECF6\",\"gridcolor\":\"white\",\"linecolor\":\"white\",\"showbackground\":true,\"ticks\":\"\",\"zerolinecolor\":\"white\",\"gridwidth\":2},\"zaxis\":{\"backgroundcolor\":\"#E5ECF6\",\"gridcolor\":\"white\",\"linecolor\":\"white\",\"showbackground\":true,\"ticks\":\"\",\"zerolinecolor\":\"white\",\"gridwidth\":2}},\"shapedefaults\":{\"line\":{\"color\":\"#2a3f5f\"}},\"annotationdefaults\":{\"arrowcolor\":\"#2a3f5f\",\"arrowhead\":0,\"arrowwidth\":1},\"geo\":{\"bgcolor\":\"white\",\"landcolor\":\"#E5ECF6\",\"subunitcolor\":\"white\",\"showland\":true,\"showlakes\":true,\"lakecolor\":\"white\"},\"title\":{\"x\":0.05},\"mapbox\":{\"style\":\"light\"}}},\"legend\":{\"x\":0.7,\"y\":0.1},\"xaxis\":{\"title\":{\"text\":\"False Positive Rate\"},\"range\":[0,1]},\"yaxis\":{\"title\":{\"text\":\"True Positive Rate\"},\"range\":[0,1.05]},\"title\":{\"text\":\"Receiver Operating Characteristic (ROC) Curve - Nearest Neigbrhood\"},\"width\":800,\"height\":600},                        {\"responsive\": true}                    ).then(function(){\n",
              "                            \n",
              "var gd = document.getElementById('2db733a0-1c6f-4306-87d4-a65a8e2e3e4e');\n",
              "var x = new MutationObserver(function (mutations, observer) {{\n",
              "        var display = window.getComputedStyle(gd).display;\n",
              "        if (!display || display === 'none') {{\n",
              "            console.log([gd, 'removed!']);\n",
              "            Plotly.purge(gd);\n",
              "            observer.disconnect();\n",
              "        }}\n",
              "}});\n",
              "\n",
              "// Listen for the removal of the full notebook cells\n",
              "var notebookContainer = gd.closest('#notebook-container');\n",
              "if (notebookContainer) {{\n",
              "    x.observe(notebookContainer, {childList: true});\n",
              "}}\n",
              "\n",
              "// Listen for the clearing of the current output cell\n",
              "var outputEl = gd.closest('.output');\n",
              "if (outputEl) {{\n",
              "    x.observe(outputEl, {childList: true});\n",
              "}}\n",
              "\n",
              "                        })                };                            </script>        </div>\n",
              "</body>\n",
              "</html>"
            ]
          },
          "metadata": {}
        },
        {
          "output_type": "stream",
          "name": "stdout",
          "text": [
            "Nearest Neigbrhood AUC: 1.0000\n"
          ]
        },
        {
          "output_type": "execute_result",
          "data": {
            "text/plain": [
              "0.99999729"
            ]
          },
          "metadata": {},
          "execution_count": 22
        }
      ],
      "source": [
        "# @title Calculate ROC for near neig model\n",
        "knn_density_cifar10_near_neig = compute_knn_density(\n",
        "    near_neig_reg_train_repr, near_neig_reg_test_cifar10_repr, reduce=None\n",
        ")\n",
        "knn_density_mnist_near_neig = compute_knn_density(\n",
        "    near_neig_reg_train_repr, near_neig_reg_test_mnist_repr, reduce=None\n",
        ")\n",
        "\n",
        "max_len = min(len(knn_density_cifar10_near_neig), len(knn_density_mnist_near_neig))\n",
        "\n",
        "\n",
        "visualize_roc(\n",
        "    knn_density_cifar10_near_neig[:max_len],\n",
        "    knn_density_mnist_near_neig[:max_len],\n",
        "    \"Nearest Neigbrhood\",\n",
        ")"
      ]
    },
    {
      "cell_type": "markdown",
      "metadata": {
        "id": "rUmDPT5rm4Eq"
      },
      "source": [
        "# Q3 - Qualitative Evaluation - Ambiguity of Anomaly Detection.\n",
        "Plot the 7 most anomalous samples according\n",
        "to VICReg and VICReg without the generated neighbors, in two separate rows (you can split to different plots if\n",
        "more convenient). Look at the results. Explain what aspects each method found to be anomalous. Keeping in mind\n",
        "we did not give either of the methods any clues regarding which anomalies are we looking for, do you still think one\n",
        "is better than the other? Explain your answer."
      ]
    },
    {
      "cell_type": "code",
      "source": [
        "knn_density_all_vic_reg = np.concatenate([knn_density_cifar10_vicreg,knn_density_mnist_vicreg],axis=0)\n",
        "knn_density_all_near_neig = np.concatenate([knn_density_cifar10_near_neig,knn_density_mnist_near_neig],axis=0)\n",
        "plot_most_anomalous_samples(cifar10_test_dataset, mnist_test_dataset, knn_density_all_vic_reg, knn_density_all_near_neig)"
      ],
      "metadata": {
        "id": "iJ1-9tX2UnXO",
        "outputId": "cce23a07-9089-45b9-a71f-e01a0e6be0a0",
        "colab": {
          "base_uri": "https://localhost:8080/",
          "height": 617
        }
      },
      "execution_count": 26,
      "outputs": [
        {
          "output_type": "display_data",
          "data": {
            "text/html": [
              "<html>\n",
              "<head><meta charset=\"utf-8\" /></head>\n",
              "<body>\n",
              "    <div>            <script src=\"https://cdnjs.cloudflare.com/ajax/libs/mathjax/2.7.5/MathJax.js?config=TeX-AMS-MML_SVG\"></script><script type=\"text/javascript\">if (window.MathJax && window.MathJax.Hub && window.MathJax.Hub.Config) {window.MathJax.Hub.Config({SVG: {font: \"STIX-Web\"}});}</script>                <script type=\"text/javascript\">window.PlotlyConfig = {MathJaxConfig: 'local'};</script>\n",
              "        <script charset=\"utf-8\" src=\"https://cdn.plot.ly/plotly-2.24.1.min.js\"></script>                <div id=\"ff340e7c-3c7c-4051-a151-4e73e8da47ad\" class=\"plotly-graph-div\" style=\"height:600px; width:1200px;\"></div>            <script type=\"text/javascript\">                                    window.PLOTLYENV=window.PLOTLYENV || {};                                    if (document.getElementById(\"ff340e7c-3c7c-4051-a151-4e73e8da47ad\")) {                    Plotly.newPlot(                        \"ff340e7c-3c7c-4051-a151-4e73e8da47ad\",                        [{\"z\":[[[0,0,0],[0,0,0],[0,0,0],[0,0,0],[0,0,0],[0,0,0],[0,0,0],[0,0,0],[0,0,0],[0,0,0],[0,0,0],[0,0,0],[0,0,0],[0,0,0],[0,0,0],[0,0,0],[0,0,0],[0,0,0],[0,0,0],[0,0,0],[0,0,0],[0,0,0],[0,0,0],[0,0,0],[0,0,0],[0,0,0],[0,0,0],[0,0,0],[0,0,0],[0,0,0],[0,0,0],[0,0,0]],[[0,0,0],[0,0,0],[0,0,0],[0,0,0],[0,0,0],[0,0,0],[0,0,0],[0,0,0],[0,0,0],[0,0,0],[0,0,0],[0,0,0],[0,0,0],[0,0,0],[0,0,0],[0,0,0],[0,0,0],[0,0,0],[0,0,0],[0,0,0],[0,0,0],[0,0,0],[0,0,0],[0,0,0],[0,0,0],[0,0,0],[0,0,0],[0,0,0],[0,0,0],[0,0,0],[0,0,0],[0,0,0]],[[0,0,0],[0,0,0],[0,0,0],[0,0,0],[0,0,0],[0,0,0],[0,0,0],[0,0,0],[0,0,0],[0,0,0],[0,0,0],[0,0,0],[0,0,0],[0,0,0],[0,0,0],[0,0,0],[0,0,0],[0,0,0],[0,0,0],[0,0,0],[0,0,0],[0,0,0],[0,0,0],[0,0,0],[0,0,0],[0,0,0],[0,0,0],[0,0,0],[0,0,0],[0,0,0],[0,0,0],[0,0,0]],[[0,0,0],[0,0,0],[0,0,0],[0,0,0],[0,0,0],[0,0,0],[0,0,0],[0,0,0],[0,0,0],[0,0,0],[0,0,0],[0,0,0],[0,0,0],[0,0,0],[0,0,0],[0,0,0],[0,0,0],[0,0,0],[0,0,0],[0,0,0],[0,0,0],[0,0,0],[0,0,0],[0,0,0],[0,0,0],[0,0,0],[0,0,0],[0,0,0],[0,0,0],[0,0,0],[0,0,0],[0,0,0]],[[0,0,0],[0,0,0],[0,0,0],[0,0,0],[0,0,0],[0,0,0],[0,0,0],[0,0,0],[0,0,0],[0,0,0],[0,0,0],[0,0,0],[0,0,0],[0,0,0],[0,0,0],[0,0,0],[0,0,0],[0,0,0],[0,0,0],[0,0,0],[0,0,0],[0,0,0],[0,0,0],[0,0,0],[0,0,0],[0,0,0],[0,0,0],[0,0,0],[0,0,0],[0,0,0],[0,0,0],[0,0,0]],[[0,0,0],[0,0,0],[0,0,0],[0,0,0],[0,0,0],[0,0,0],[0,0,0],[0,0,0],[0,0,0],[0,0,0],[0,0,0],[0,0,0],[0,0,0],[1,1,1],[14,14,14],[47,48,47],[72,72,72],[78,78,78],[80,80,80],[51,52,52],[16,16,16],[0,0,0],[0,0,0],[0,0,0],[0,0,0],[0,0,0],[0,0,0],[0,0,0],[0,0,0],[0,0,0],[0,0,0],[0,0,0]],[[0,0,0],[0,0,0],[0,0,0],[0,0,0],[0,0,0],[0,0,0],[0,0,0],[0,0,0],[0,0,0],[0,0,0],[0,0,0],[0,0,0],[10,10,10],[33,34,33],[81,81,81],[173,173,173],[234,234,234],[251,251,251],[255,255,255],[180,180,180],[79,79,79],[16,16,16],[2,2,2],[0,0,0],[0,0,0],[0,0,0],[0,0,0],[0,0,0],[0,0,0],[0,0,0],[0,0,0],[0,0,0]],[[0,0,0],[0,0,0],[0,0,0],[0,0,0],[0,0,0],[0,0,0],[0,0,0],[0,0,0],[0,0,0],[0,0,0],[0,0,0],[7,7,7],[64,64,64],[158,158,158],[227,227,227],[246,246,246],[240,240,240],[247,247,247],[251,252,252],[243,243,243],[191,191,191],[101,101,101],[20,20,20],[0,0,0],[0,0,0],[0,0,0],[0,0,0],[0,0,0],[0,0,0],[0,0,0],[0,0,0],[0,0,0]],[[0,0,0],[0,0,0],[0,0,0],[0,0,0],[0,0,0],[0,0,0],[0,0,0],[0,0,0],[0,0,0],[0,0,0],[7,7,7],[76,76,76],[179,179,179],[247,247,247],[234,234,234],[152,152,152],[51,52,52],[156,156,156],[231,231,231],[251,252,252],[249,249,249],[206,206,206],[97,97,97],[0,0,0],[0,0,0],[0,0,0],[0,0,0],[0,0,0],[0,0,0],[0,0,0],[0,0,0],[0,0,0]],[[0,0,0],[0,0,0],[0,0,0],[0,0,0],[0,0,0],[0,0,0],[0,0,0],[0,0,0],[0,0,0],[0,0,0],[61,62,62],[169,169,169],[241,241,241],[224,224,224],[134,134,134],[26,26,26],[6,6,6],[55,56,56],[195,195,195],[253,253,253],[253,253,253],[206,206,206],[82,82,82],[0,0,0],[0,0,0],[0,0,0],[0,0,0],[0,0,0],[0,0,0],[0,0,0],[0,0,0],[0,0,0]],[[0,0,0],[0,0,0],[0,0,0],[0,0,0],[0,0,0],[0,0,0],[0,0,0],[0,0,0],[0,0,0],[7,7,7],[128,128,128],[222,222,222],[245,245,245],[181,181,181],[47,48,47],[0,0,0],[0,0,0],[33,34,33],[187,187,187],[253,253,253],[241,241,241],[168,168,168],[31,32,31],[0,0,0],[0,0,0],[0,0,0],[0,0,0],[0,0,0],[0,0,0],[0,0,0],[0,0,0],[0,0,0]],[[0,0,0],[0,0,0],[0,0,0],[0,0,0],[0,0,0],[0,0,0],[0,0,0],[0,0,0],[0,0,0],[16,16,16],[169,169,169],[246,246,246],[248,247,248],[177,177,177],[26,26,26],[0,0,0],[0,0,0],[81,81,81],[205,205,205],[253,253,253],[209,209,209],[107,107,107],[4,4,4],[0,0,0],[0,0,0],[0,0,0],[0,0,0],[0,0,0],[0,0,0],[0,0,0],[0,0,0],[0,0,0]],[[0,0,0],[0,0,0],[0,0,0],[0,0,0],[0,0,0],[0,0,0],[0,0,0],[0,0,0],[0,0,0],[35,36,35],[186,186,186],[251,252,252],[253,253,253],[194,194,194],[53,54,54],[4,4,4],[35,36,35],[163,163,163],[234,234,234],[253,253,253],[182,182,182],[61,62,62],[0,0,0],[0,0,0],[0,0,0],[0,0,0],[0,0,0],[0,0,0],[0,0,0],[0,0,0],[0,0,0],[0,0,0]],[[0,0,0],[0,0,0],[0,0,0],[0,0,0],[0,0,0],[0,0,0],[0,0,0],[0,0,0],[0,0,0],[37,38,37],[155,155,155],[232,232,232],[253,253,253],[219,219,219],[127,127,127],[51,52,52],[112,112,112],[227,227,227],[253,253,253],[245,245,245],[159,159,159],[39,40,39],[0,0,0],[0,0,0],[0,0,0],[0,0,0],[0,0,0],[0,0,0],[0,0,0],[0,0,0],[0,0,0],[0,0,0]],[[0,0,0],[0,0,0],[0,0,0],[0,0,0],[0,0,0],[0,0,0],[0,0,0],[0,0,0],[0,0,0],[0,0,0],[61,62,62],[166,166,166],[237,237,237],[253,253,253],[235,235,235],[160,160,160],[190,190,190],[239,239,239],[233,233,233],[196,196,196],[106,106,106],[13,13,13],[0,0,0],[0,0,0],[0,0,0],[0,0,0],[0,0,0],[0,0,0],[0,0,0],[0,0,0],[0,0,0],[0,0,0]],[[0,0,0],[0,0,0],[0,0,0],[0,0,0],[0,0,0],[0,0,0],[0,0,0],[0,0,0],[0,0,0],[0,0,0],[7,7,7],[55,56,56],[156,156,156],[244,244,244],[251,252,252],[253,253,253],[253,253,253],[239,239,239],[146,146,146],[58,59,59],[12,12,12],[0,0,0],[0,0,0],[0,0,0],[0,0,0],[0,0,0],[0,0,0],[0,0,0],[0,0,0],[0,0,0],[0,0,0],[0,0,0]],[[0,0,0],[0,0,0],[0,0,0],[0,0,0],[0,0,0],[0,0,0],[0,0,0],[0,0,0],[0,0,0],[0,0,0],[0,0,0],[3,3,3],[36,37,36],[125,125,125],[235,235,235],[253,253,253],[253,253,253],[240,240,240],[156,156,156],[53,54,54],[2,2,2],[0,0,0],[0,0,0],[0,0,0],[0,0,0],[0,0,0],[0,0,0],[0,0,0],[0,0,0],[0,0,0],[0,0,0],[0,0,0]],[[0,0,0],[0,0,0],[0,0,0],[0,0,0],[0,0,0],[0,0,0],[0,0,0],[0,0,0],[0,0,0],[0,0,0],[0,0,0],[0,0,0],[13,13,13],[94,94,94],[234,234,234],[253,253,253],[253,253,253],[251,251,251],[235,235,235],[107,107,107],[6,6,6],[0,0,0],[0,0,0],[0,0,0],[0,0,0],[0,0,0],[0,0,0],[0,0,0],[0,0,0],[0,0,0],[0,0,0],[0,0,0]],[[0,0,0],[0,0,0],[0,0,0],[0,0,0],[0,0,0],[0,0,0],[0,0,0],[0,0,0],[0,0,0],[0,0,0],[0,0,0],[0,0,0],[40,41,40],[141,141,141],[246,246,246],[247,247,247],[237,237,237],[250,250,250],[253,253,253],[149,149,149],[37,38,37],[0,0,0],[0,0,0],[0,0,0],[0,0,0],[0,0,0],[0,0,0],[0,0,0],[0,0,0],[0,0,0],[0,0,0],[0,0,0]],[[0,0,0],[0,0,0],[0,0,0],[0,0,0],[0,0,0],[0,0,0],[0,0,0],[0,0,0],[0,0,0],[0,0,0],[0,0,0],[3,3,3],[84,84,84],[206,206,206],[239,239,239],[175,175,175],[157,157,157],[235,235,235],[253,253,253],[207,207,207],[103,103,103],[9,9,9],[0,0,0],[0,0,0],[0,0,0],[0,0,0],[0,0,0],[0,0,0],[0,0,0],[0,0,0],[0,0,0],[0,0,0]],[[0,0,0],[0,0,0],[0,0,0],[0,0,0],[0,0,0],[0,0,0],[0,0,0],[0,0,0],[0,0,0],[0,0,0],[0,0,0],[10,10,10],[116,116,116],[245,245,245],[226,226,226],[104,104,104],[61,62,62],[215,215,215],[253,253,253],[247,247,247],[156,156,156],[31,32,31],[0,0,0],[0,0,0],[0,0,0],[0,0,0],[0,0,0],[0,0,0],[0,0,0],[0,0,0],[0,0,0],[0,0,0]],[[0,0,0],[0,0,0],[0,0,0],[0,0,0],[0,0,0],[0,0,0],[0,0,0],[0,0,0],[0,0,0],[0,0,0],[0,0,0],[31,32,31],[143,143,143],[249,249,249],[208,208,208],[55,56,56],[7,7,7],[193,193,193],[248,247,248],[251,251,251],[169,169,169],[44,45,44],[0,0,0],[0,0,0],[0,0,0],[0,0,0],[0,0,0],[0,0,0],[0,0,0],[0,0,0],[0,0,0],[0,0,0]],[[0,0,0],[0,0,0],[0,0,0],[0,0,0],[0,0,0],[0,0,0],[0,0,0],[0,0,0],[0,0,0],[0,0,0],[0,0,0],[68,68,68],[178,178,178],[234,234,234],[157,157,157],[0,0,0],[1,1,1],[175,175,175],[241,241,241],[231,231,231],[137,137,137],[27,27,27],[0,0,0],[0,0,0],[0,0,0],[0,0,0],[0,0,0],[0,0,0],[0,0,0],[0,0,0],[0,0,0],[0,0,0]],[[0,0,0],[0,0,0],[0,0,0],[0,0,0],[0,0,0],[0,0,0],[0,0,0],[0,0,0],[0,0,0],[0,0,0],[0,0,0],[68,68,68],[178,178,178],[203,203,203],[77,77,77],[0,0,0],[12,12,12],[206,206,206],[251,252,252],[153,153,153],[41,42,41],[0,0,0],[0,0,0],[0,0,0],[0,0,0],[0,0,0],[0,0,0],[0,0,0],[0,0,0],[0,0,0],[0,0,0],[0,0,0]],[[0,0,0],[0,0,0],[0,0,0],[0,0,0],[0,0,0],[0,0,0],[0,0,0],[0,0,0],[0,0,0],[0,0,0],[0,0,0],[68,68,68],[178,178,178],[209,209,209],[89,89,89],[5,5,5],[88,88,88],[223,223,223],[253,253,253],[121,121,121],[9,9,9],[0,0,0],[0,0,0],[0,0,0],[0,0,0],[0,0,0],[0,0,0],[0,0,0],[0,0,0],[0,0,0],[0,0,0],[0,0,0]],[[0,0,0],[0,0,0],[0,0,0],[0,0,0],[0,0,0],[0,0,0],[0,0,0],[0,0,0],[0,0,0],[0,0,0],[0,0,0],[68,68,68],[178,178,178],[219,219,219],[117,117,117],[16,16,16],[130,130,130],[231,231,231],[207,207,207],[85,85,85],[2,2,2],[0,0,0],[0,0,0],[0,0,0],[0,0,0],[0,0,0],[0,0,0],[0,0,0],[0,0,0],[0,0,0],[0,0,0],[0,0,0]],[[0,0,0],[0,0,0],[0,0,0],[0,0,0],[0,0,0],[0,0,0],[0,0,0],[0,0,0],[0,0,0],[0,0,0],[0,0,0],[58,59,59],[169,169,169],[243,243,243],[212,212,212],[180,180,180],[203,203,203],[170,170,170],[87,87,87],[23,23,23],[0,0,0],[0,0,0],[0,0,0],[0,0,0],[0,0,0],[0,0,0],[0,0,0],[0,0,0],[0,0,0],[0,0,0],[0,0,0],[0,0,0]],[[0,0,0],[0,0,0],[0,0,0],[0,0,0],[0,0,0],[0,0,0],[0,0,0],[0,0,0],[0,0,0],[0,0,0],[0,0,0],[26,26,26],[112,112,112],[210,210,210],[234,234,234],[191,191,191],[132,132,132],[67,67,67],[16,16,16],[0,0,0],[0,0,0],[0,0,0],[0,0,0],[0,0,0],[0,0,0],[0,0,0],[0,0,0],[0,0,0],[0,0,0],[0,0,0],[0,0,0],[0,0,0]],[[0,0,0],[0,0,0],[0,0,0],[0,0,0],[0,0,0],[0,0,0],[0,0,0],[0,0,0],[0,0,0],[0,0,0],[0,0,0],[2,2,2],[39,40,39],[99,99,99],[123,123,123],[80,80,80],[30,30,30],[4,4,4],[0,0,0],[0,0,0],[0,0,0],[0,0,0],[0,0,0],[0,0,0],[0,0,0],[0,0,0],[0,0,0],[0,0,0],[0,0,0],[0,0,0],[0,0,0],[0,0,0]],[[0,0,0],[0,0,0],[0,0,0],[0,0,0],[0,0,0],[0,0,0],[0,0,0],[0,0,0],[0,0,0],[0,0,0],[0,0,0],[0,0,0],[0,0,0],[0,0,0],[0,0,0],[0,0,0],[0,0,0],[0,0,0],[0,0,0],[0,0,0],[0,0,0],[0,0,0],[0,0,0],[0,0,0],[0,0,0],[0,0,0],[0,0,0],[0,0,0],[0,0,0],[0,0,0],[0,0,0],[0,0,0]],[[0,0,0],[0,0,0],[0,0,0],[0,0,0],[0,0,0],[0,0,0],[0,0,0],[0,0,0],[0,0,0],[0,0,0],[0,0,0],[0,0,0],[0,0,0],[0,0,0],[0,0,0],[0,0,0],[0,0,0],[0,0,0],[0,0,0],[0,0,0],[0,0,0],[0,0,0],[0,0,0],[0,0,0],[0,0,0],[0,0,0],[0,0,0],[0,0,0],[0,0,0],[0,0,0],[0,0,0],[0,0,0]],[[0,0,0],[0,0,0],[0,0,0],[0,0,0],[0,0,0],[0,0,0],[0,0,0],[0,0,0],[0,0,0],[0,0,0],[0,0,0],[0,0,0],[0,0,0],[0,0,0],[0,0,0],[0,0,0],[0,0,0],[0,0,0],[0,0,0],[0,0,0],[0,0,0],[0,0,0],[0,0,0],[0,0,0],[0,0,0],[0,0,0],[0,0,0],[0,0,0],[0,0,0],[0,0,0],[0,0,0],[0,0,0]]],\"type\":\"image\",\"xaxis\":\"x\",\"yaxis\":\"y\"},{\"z\":[[[0,0,0],[0,0,0],[0,0,0],[0,0,0],[0,0,0],[0,0,0],[0,0,0],[0,0,0],[0,0,0],[0,0,0],[0,0,0],[0,0,0],[0,0,0],[0,0,0],[0,0,0],[0,0,0],[0,0,0],[0,0,0],[0,0,0],[0,0,0],[0,0,0],[0,0,0],[0,0,0],[0,0,0],[0,0,0],[0,0,0],[0,0,0],[0,0,0],[0,0,0],[0,0,0],[0,0,0],[0,0,0]],[[0,0,0],[0,0,0],[0,0,0],[0,0,0],[0,0,0],[0,0,0],[0,0,0],[0,0,0],[0,0,0],[0,0,0],[0,0,0],[0,0,0],[0,0,0],[0,0,0],[0,0,0],[0,0,0],[0,0,0],[0,0,0],[0,0,0],[0,0,0],[0,0,0],[0,0,0],[0,0,0],[0,0,0],[0,0,0],[0,0,0],[0,0,0],[0,0,0],[0,0,0],[0,0,0],[0,0,0],[0,0,0]],[[0,0,0],[0,0,0],[0,0,0],[0,0,0],[0,0,0],[0,0,0],[0,0,0],[0,0,0],[0,0,0],[0,0,0],[0,0,0],[0,0,0],[0,0,0],[0,0,0],[0,0,0],[0,0,0],[0,0,0],[0,0,0],[0,0,0],[0,0,0],[0,0,0],[0,0,0],[0,0,0],[0,0,0],[0,0,0],[0,0,0],[0,0,0],[0,0,0],[0,0,0],[0,0,0],[0,0,0],[0,0,0]],[[0,0,0],[0,0,0],[0,0,0],[0,0,0],[0,0,0],[0,0,0],[0,0,0],[0,0,0],[0,0,0],[0,0,0],[0,0,0],[0,0,0],[0,0,0],[0,0,0],[0,0,0],[0,0,0],[0,0,0],[0,0,0],[0,0,0],[0,0,0],[0,0,0],[0,0,0],[0,0,0],[0,0,0],[0,0,0],[0,0,0],[0,0,0],[0,0,0],[0,0,0],[0,0,0],[0,0,0],[0,0,0]],[[0,0,0],[0,0,0],[0,0,0],[0,0,0],[0,0,0],[0,0,0],[0,0,0],[0,0,0],[0,0,0],[0,0,0],[0,0,0],[0,0,0],[0,0,0],[0,0,0],[0,0,0],[0,0,0],[0,0,0],[0,0,0],[0,0,0],[0,0,0],[0,0,0],[0,0,0],[0,0,0],[0,0,0],[0,0,0],[0,0,0],[0,0,0],[0,0,0],[0,0,0],[0,0,0],[0,0,0],[0,0,0]],[[0,0,0],[0,0,0],[0,0,0],[0,0,0],[0,0,0],[0,0,0],[0,0,0],[0,0,0],[0,0,0],[0,0,0],[0,0,0],[0,0,0],[0,0,0],[0,0,0],[0,0,0],[0,0,0],[0,0,0],[0,0,0],[22,22,22],[55,56,56],[68,68,68],[42,43,42],[0,0,0],[0,0,0],[0,0,0],[0,0,0],[0,0,0],[0,0,0],[0,0,0],[0,0,0],[0,0,0],[0,0,0]],[[0,0,0],[0,0,0],[0,0,0],[0,0,0],[0,0,0],[0,0,0],[0,0,0],[0,0,0],[0,0,0],[0,0,0],[0,0,0],[0,0,0],[0,0,0],[0,0,0],[0,0,0],[0,0,0],[0,0,0],[23,23,23],[102,102,102],[192,192,192],[225,225,225],[147,147,147],[7,7,7],[0,0,0],[0,0,0],[0,0,0],[0,0,0],[0,0,0],[0,0,0],[0,0,0],[0,0,0],[0,0,0]],[[0,0,0],[0,0,0],[0,0,0],[0,0,0],[0,0,0],[0,0,0],[0,0,0],[0,0,0],[0,0,0],[0,0,0],[0,0,0],[0,0,0],[0,0,0],[0,0,0],[0,0,0],[1,1,1],[7,7,7],[134,134,134],[223,223,223],[251,252,252],[253,253,253],[187,187,187],[33,34,33],[0,0,0],[0,0,0],[0,0,0],[0,0,0],[0,0,0],[0,0,0],[0,0,0],[0,0,0],[0,0,0]],[[0,0,0],[0,0,0],[0,0,0],[0,0,0],[0,0,0],[0,0,0],[0,0,0],[0,0,0],[0,0,0],[0,0,0],[0,0,0],[0,0,0],[0,0,0],[0,0,0],[3,3,3],[23,23,23],[123,123,123],[225,225,225],[251,251,251],[253,253,253],[253,253,253],[229,229,229],[144,144,144],[1,1,1],[0,0,0],[0,0,0],[0,0,0],[0,0,0],[0,0,0],[0,0,0],[0,0,0],[0,0,0]],[[0,0,0],[0,0,0],[0,0,0],[0,0,0],[0,0,0],[0,0,0],[0,0,0],[0,0,0],[0,0,0],[0,0,0],[0,0,0],[0,0,0],[0,0,0],[3,3,3],[45,46,45],[191,191,191],[229,229,229],[250,250,250],[253,253,253],[228,228,227],[228,228,227],[249,249,249],[207,207,207],[56,57,57],[3,3,3],[0,0,0],[0,0,0],[0,0,0],[0,0,0],[0,0,0],[0,0,0],[0,0,0]],[[0,0,0],[0,0,0],[0,0,0],[0,0,0],[0,0,0],[0,0,0],[0,0,0],[0,0,0],[0,0,0],[0,0,0],[0,0,0],[0,0,0],[18,18,18],[83,83,83],[182,182,182],[243,243,243],[207,207,207],[113,113,113],[147,147,147],[122,122,122],[142,142,142],[231,231,231],[230,230,230],[123,123,123],[7,7,7],[0,0,0],[0,0,0],[0,0,0],[0,0,0],[0,0,0],[0,0,0],[0,0,0]],[[0,0,0],[0,0,0],[0,0,0],[0,0,0],[0,0,0],[0,0,0],[0,0,0],[0,0,0],[0,0,0],[0,0,0],[0,0,0],[6,6,6],[79,79,79],[188,188,188],[240,240,240],[205,205,205],[95,95,95],[22,22,22],[42,43,42],[32,33,32],[69,69,69],[177,177,177],[243,243,243],[188,188,188],[12,12,12],[0,0,0],[0,0,0],[0,0,0],[0,0,0],[0,0,0],[0,0,0],[0,0,0]],[[0,0,0],[0,0,0],[0,0,0],[0,0,0],[0,0,0],[0,0,0],[0,0,0],[0,0,0],[0,0,0],[0,0,0],[4,4,4],[57,58,58],[163,163,163],[245,245,245],[220,220,220],[106,106,106],[13,13,13],[0,0,0],[0,0,0],[0,0,0],[55,56,56],[166,166,166],[244,244,244],[192,192,192],[12,12,12],[0,0,0],[0,0,0],[0,0,0],[0,0,0],[0,0,0],[0,0,0],[0,0,0]],[[0,0,0],[0,0,0],[0,0,0],[0,0,0],[0,0,0],[0,0,0],[0,0,0],[0,0,0],[0,0,0],[0,0,0],[17,17,17],[131,131,131],[230,230,230],[229,229,229],[147,147,147],[15,15,15],[0,0,0],[0,0,0],[0,0,0],[22,22,22],[108,108,108],[213,213,213],[232,232,232],[133,133,133],[7,7,7],[0,0,0],[0,0,0],[0,0,0],[0,0,0],[0,0,0],[0,0,0],[0,0,0]],[[0,0,0],[0,0,0],[0,0,0],[0,0,0],[0,0,0],[0,0,0],[0,0,0],[0,0,0],[0,0,0],[0,0,0],[32,33,32],[163,163,163],[253,253,253],[191,191,191],[42,43,42],[0,0,0],[0,0,0],[0,0,0],[10,10,10],[89,89,89],[192,192,192],[250,250,250],[211,211,211],[66,66,66],[3,3,3],[0,0,0],[0,0,0],[0,0,0],[0,0,0],[0,0,0],[0,0,0],[0,0,0]],[[0,0,0],[0,0,0],[0,0,0],[0,0,0],[0,0,0],[0,0,0],[0,0,0],[0,0,0],[0,0,0],[0,0,0],[31,32,31],[162,162,162],[251,252,252],[197,197,197],[63,63,63],[5,5,5],[0,0,0],[5,5,5],[70,70,70],[182,182,182],[249,249,249],[233,233,233],[157,157,157],[6,6,6],[0,0,0],[0,0,0],[0,0,0],[0,0,0],[0,0,0],[0,0,0],[0,0,0],[0,0,0]],[[0,0,0],[0,0,0],[0,0,0],[0,0,0],[0,0,0],[0,0,0],[0,0,0],[0,0,0],[0,0,0],[0,0,0],[21,21,21],[146,146,146],[244,244,244],[245,245,245],[202,202,202],[86,86,86],[5,5,5],[91,91,91],[197,197,197],[245,245,245],[242,242,242],[170,170,170],[37,38,37],[0,0,0],[0,0,0],[0,0,0],[0,0,0],[0,0,0],[0,0,0],[0,0,0],[0,0,0],[0,0,0]],[[0,0,0],[0,0,0],[0,0,0],[0,0,0],[0,0,0],[0,0,0],[0,0,0],[0,0,0],[0,0,0],[0,0,0],[3,3,3],[49,50,49],[142,142,142],[229,229,229],[246,246,246],[222,222,222],[181,181,181],[220,220,220],[245,245,245],[241,241,241],[184,184,184],[86,86,86],[4,4,4],[0,0,0],[0,0,0],[0,0,0],[0,0,0],[0,0,0],[0,0,0],[0,0,0],[0,0,0],[0,0,0]],[[0,0,0],[0,0,0],[0,0,0],[0,0,0],[0,0,0],[0,0,0],[0,0,0],[0,0,0],[0,0,0],[0,0,0],[0,0,0],[8,8,8],[39,40,39],[127,127,127],[249,249,249],[253,253,253],[243,243,243],[251,252,252],[238,238,238],[155,155,155],[68,68,68],[20,20,20],[0,0,0],[0,0,0],[0,0,0],[0,0,0],[0,0,0],[0,0,0],[0,0,0],[0,0,0],[0,0,0],[0,0,0]],[[0,0,0],[0,0,0],[0,0,0],[0,0,0],[0,0,0],[0,0,0],[0,0,0],[0,0,0],[0,0,0],[0,0,0],[0,0,0],[2,2,2],[36,37,36],[133,133,133],[249,249,249],[253,253,253],[253,253,253],[232,232,232],[147,147,147],[57,58,58],[8,8,8],[0,0,0],[0,0,0],[0,0,0],[0,0,0],[0,0,0],[0,0,0],[0,0,0],[0,0,0],[0,0,0],[0,0,0],[0,0,0]],[[0,0,0],[0,0,0],[0,0,0],[0,0,0],[0,0,0],[0,0,0],[0,0,0],[0,0,0],[0,0,0],[0,0,0],[0,0,0],[29,29,29],[111,111,111],[207,207,207],[250,250,250],[242,242,242],[251,252,252],[232,232,232],[98,98,98],[17,17,17],[0,0,0],[0,0,0],[0,0,0],[0,0,0],[0,0,0],[0,0,0],[0,0,0],[0,0,0],[0,0,0],[0,0,0],[0,0,0],[0,0,0]],[[0,0,0],[0,0,0],[0,0,0],[0,0,0],[0,0,0],[0,0,0],[0,0,0],[0,0,0],[0,0,0],[0,0,0],[12,12,12],[95,95,95],[197,197,197],[241,241,241],[206,206,206],[170,170,170],[244,244,244],[253,253,253],[132,132,132],[33,34,33],[0,0,0],[0,0,0],[0,0,0],[0,0,0],[0,0,0],[0,0,0],[0,0,0],[0,0,0],[0,0,0],[0,0,0],[0,0,0],[0,0,0]],[[0,0,0],[0,0,0],[0,0,0],[0,0,0],[0,0,0],[0,0,0],[0,0,0],[0,0,0],[0,0,0],[0,0,0],[58,59,59],[177,177,177],[248,247,248],[202,202,202],[92,92,92],[39,40,39],[218,218,218],[250,250,250],[163,163,163],[52,53,53],[0,0,0],[0,0,0],[0,0,0],[0,0,0],[0,0,0],[0,0,0],[0,0,0],[0,0,0],[0,0,0],[0,0,0],[0,0,0],[0,0,0]],[[0,0,0],[0,0,0],[0,0,0],[0,0,0],[0,0,0],[0,0,0],[0,0,0],[0,0,0],[0,0,0],[0,0,0],[128,128,128],[223,223,223],[227,227,227],[137,137,137],[3,3,3],[11,11,11],[176,176,176],[242,242,242],[163,163,163],[52,53,53],[0,0,0],[0,0,0],[0,0,0],[0,0,0],[0,0,0],[0,0,0],[0,0,0],[0,0,0],[0,0,0],[0,0,0],[0,0,0],[0,0,0]],[[0,0,0],[0,0,0],[0,0,0],[0,0,0],[0,0,0],[0,0,0],[0,0,0],[0,0,0],[0,0,0],[0,0,0],[160,160,160],[236,236,236],[150,150,150],[22,22,22],[0,0,0],[11,11,11],[176,176,176],[242,242,242],[163,163,163],[52,53,53],[0,0,0],[0,0,0],[0,0,0],[0,0,0],[0,0,0],[0,0,0],[0,0,0],[0,0,0],[0,0,0],[0,0,0],[0,0,0],[0,0,0]],[[0,0,0],[0,0,0],[0,0,0],[0,0,0],[0,0,0],[0,0,0],[0,0,0],[0,0,0],[0,0,0],[10,10,10],[169,169,169],[236,236,236],[134,134,134],[2,2,2],[0,0,0],[11,11,11],[176,176,176],[242,242,242],[163,163,163],[52,53,53],[0,0,0],[0,0,0],[0,0,0],[0,0,0],[0,0,0],[0,0,0],[0,0,0],[0,0,0],[0,0,0],[0,0,0],[0,0,0],[0,0,0]],[[0,0,0],[0,0,0],[0,0,0],[0,0,0],[0,0,0],[0,0,0],[0,0,0],[0,0,0],[0,0,0],[25,25,25],[177,177,177],[239,239,239],[135,135,135],[3,3,3],[1,1,1],[21,21,21],[197,197,197],[245,245,245],[125,125,125],[28,28,28],[0,0,0],[0,0,0],[0,0,0],[0,0,0],[0,0,0],[0,0,0],[0,0,0],[0,0,0],[0,0,0],[0,0,0],[0,0,0],[0,0,0]],[[0,0,0],[0,0,0],[0,0,0],[0,0,0],[0,0,0],[0,0,0],[0,0,0],[0,0,0],[0,0,0],[13,13,13],[142,142,142],[226,226,226],[183,183,183],[83,83,83],[48,49,48],[91,91,91],[229,229,229],[240,240,240],[95,95,95],[11,11,11],[0,0,0],[0,0,0],[0,0,0],[0,0,0],[0,0,0],[0,0,0],[0,0,0],[0,0,0],[0,0,0],[0,0,0],[0,0,0],[0,0,0]],[[0,0,0],[0,0,0],[0,0,0],[0,0,0],[0,0,0],[0,0,0],[0,0,0],[0,0,0],[0,0,0],[0,0,0],[64,64,64],[121,121,121],[123,123,123],[80,80,80],[47,48,47],[79,79,79],[138,138,138],[132,132,132],[46,47,46],[4,4,4],[0,0,0],[0,0,0],[0,0,0],[0,0,0],[0,0,0],[0,0,0],[0,0,0],[0,0,0],[0,0,0],[0,0,0],[0,0,0],[0,0,0]],[[0,0,0],[0,0,0],[0,0,0],[0,0,0],[0,0,0],[0,0,0],[0,0,0],[0,0,0],[0,0,0],[0,0,0],[0,0,0],[0,0,0],[0,0,0],[0,0,0],[0,0,0],[0,0,0],[0,0,0],[0,0,0],[0,0,0],[0,0,0],[0,0,0],[0,0,0],[0,0,0],[0,0,0],[0,0,0],[0,0,0],[0,0,0],[0,0,0],[0,0,0],[0,0,0],[0,0,0],[0,0,0]],[[0,0,0],[0,0,0],[0,0,0],[0,0,0],[0,0,0],[0,0,0],[0,0,0],[0,0,0],[0,0,0],[0,0,0],[0,0,0],[0,0,0],[0,0,0],[0,0,0],[0,0,0],[0,0,0],[0,0,0],[0,0,0],[0,0,0],[0,0,0],[0,0,0],[0,0,0],[0,0,0],[0,0,0],[0,0,0],[0,0,0],[0,0,0],[0,0,0],[0,0,0],[0,0,0],[0,0,0],[0,0,0]],[[0,0,0],[0,0,0],[0,0,0],[0,0,0],[0,0,0],[0,0,0],[0,0,0],[0,0,0],[0,0,0],[0,0,0],[0,0,0],[0,0,0],[0,0,0],[0,0,0],[0,0,0],[0,0,0],[0,0,0],[0,0,0],[0,0,0],[0,0,0],[0,0,0],[0,0,0],[0,0,0],[0,0,0],[0,0,0],[0,0,0],[0,0,0],[0,0,0],[0,0,0],[0,0,0],[0,0,0],[0,0,0]]],\"type\":\"image\",\"xaxis\":\"x2\",\"yaxis\":\"y2\"},{\"z\":[[[0,0,0],[0,0,0],[0,0,0],[0,0,0],[0,0,0],[0,0,0],[0,0,0],[0,0,0],[0,0,0],[0,0,0],[0,0,0],[0,0,0],[0,0,0],[0,0,0],[0,0,0],[0,0,0],[0,0,0],[0,0,0],[0,0,0],[0,0,0],[0,0,0],[0,0,0],[0,0,0],[0,0,0],[0,0,0],[0,0,0],[0,0,0],[0,0,0],[0,0,0],[0,0,0],[0,0,0],[0,0,0]],[[0,0,0],[0,0,0],[0,0,0],[0,0,0],[0,0,0],[0,0,0],[0,0,0],[0,0,0],[0,0,0],[0,0,0],[0,0,0],[0,0,0],[0,0,0],[0,0,0],[0,0,0],[0,0,0],[0,0,0],[0,0,0],[0,0,0],[0,0,0],[0,0,0],[0,0,0],[0,0,0],[0,0,0],[0,0,0],[0,0,0],[0,0,0],[0,0,0],[0,0,0],[0,0,0],[0,0,0],[0,0,0]],[[0,0,0],[0,0,0],[0,0,0],[0,0,0],[0,0,0],[0,0,0],[0,0,0],[0,0,0],[0,0,0],[0,0,0],[0,0,0],[0,0,0],[0,0,0],[0,0,0],[0,0,0],[0,0,0],[0,0,0],[0,0,0],[0,0,0],[0,0,0],[0,0,0],[0,0,0],[0,0,0],[0,0,0],[0,0,0],[0,0,0],[0,0,0],[0,0,0],[0,0,0],[0,0,0],[0,0,0],[0,0,0]],[[0,0,0],[0,0,0],[0,0,0],[0,0,0],[0,0,0],[0,0,0],[0,0,0],[0,0,0],[0,0,0],[0,0,0],[0,0,0],[0,0,0],[0,0,0],[0,0,0],[0,0,0],[0,0,0],[0,0,0],[0,0,0],[0,0,0],[0,0,0],[0,0,0],[0,0,0],[0,0,0],[0,0,0],[0,0,0],[0,0,0],[0,0,0],[0,0,0],[0,0,0],[0,0,0],[0,0,0],[0,0,0]],[[0,0,0],[0,0,0],[0,0,0],[0,0,0],[0,0,0],[0,0,0],[0,0,0],[0,0,0],[0,0,0],[0,0,0],[0,0,0],[0,0,0],[0,0,0],[0,0,0],[0,0,0],[0,0,0],[0,0,0],[0,0,0],[0,0,0],[0,0,0],[0,0,0],[0,0,0],[0,0,0],[0,0,0],[0,0,0],[0,0,0],[0,0,0],[0,0,0],[0,0,0],[0,0,0],[0,0,0],[0,0,0]],[[0,0,0],[0,0,0],[0,0,0],[0,0,0],[0,0,0],[0,0,0],[0,0,0],[0,0,0],[0,0,0],[0,0,0],[0,0,0],[0,0,0],[0,0,0],[0,0,0],[1,1,1],[11,11,11],[68,68,68],[63,63,63],[36,37,36],[11,11,11],[0,0,0],[0,0,0],[0,0,0],[0,0,0],[0,0,0],[0,0,0],[0,0,0],[0,0,0],[0,0,0],[0,0,0],[0,0,0],[0,0,0]],[[0,0,0],[0,0,0],[0,0,0],[0,0,0],[0,0,0],[0,0,0],[0,0,0],[0,0,0],[0,0,0],[0,0,0],[0,0,0],[0,0,0],[0,0,0],[0,0,0],[11,11,11],[63,63,63],[224,224,224],[211,211,211],[141,141,141],[69,69,69],[27,27,27],[13,13,13],[1,1,1],[0,0,0],[0,0,0],[0,0,0],[0,0,0],[0,0,0],[0,0,0],[0,0,0],[0,0,0],[0,0,0]],[[0,0,0],[0,0,0],[0,0,0],[0,0,0],[0,0,0],[0,0,0],[0,0,0],[0,0,0],[0,0,0],[0,0,0],[0,0,0],[0,0,0],[2,2,2],[11,11,11],[54,55,55],[178,178,178],[248,247,248],[254,254,254],[242,242,242],[209,209,209],[156,156,156],[86,86,86],[22,22,22],[8,8,8],[0,0,0],[0,0,0],[0,0,0],[0,0,0],[0,0,0],[0,0,0],[0,0,0],[0,0,0]],[[0,0,0],[0,0,0],[0,0,0],[0,0,0],[0,0,0],[0,0,0],[0,0,0],[0,0,0],[0,0,0],[0,0,0],[0,0,0],[9,9,9],[44,45,44],[123,123,123],[222,222,222],[248,247,248],[253,253,253],[254,254,254],[251,252,252],[250,250,250],[247,247,247],[233,233,233],[198,198,198],[135,135,135],[19,19,19],[1,1,1],[0,0,0],[0,0,0],[0,0,0],[0,0,0],[0,0,0],[0,0,0]],[[0,0,0],[0,0,0],[0,0,0],[0,0,0],[0,0,0],[0,0,0],[0,0,0],[0,0,0],[0,0,0],[0,0,0],[0,0,0],[59,60,60],[157,157,157],[230,230,230],[228,228,227],[134,134,134],[68,68,68],[103,103,103],[157,157,157],[208,208,208],[241,241,241],[251,251,251],[245,245,245],[224,224,224],[57,58,58],[8,8,8],[0,0,0],[0,0,0],[0,0,0],[0,0,0],[0,0,0],[0,0,0]],[[0,0,0],[0,0,0],[0,0,0],[0,0,0],[0,0,0],[0,0,0],[0,0,0],[0,0,0],[0,0,0],[0,0,0],[0,0,0],[91,91,91],[202,202,202],[246,246,246],[197,197,197],[40,41,40],[8,8,8],[20,20,20],[41,42,41],[80,80,80],[167,167,167],[250,250,250],[253,253,253],[245,245,245],[119,119,119],[19,19,19],[0,0,0],[0,0,0],[0,0,0],[0,0,0],[0,0,0],[0,0,0]],[[0,0,0],[0,0,0],[0,0,0],[0,0,0],[0,0,0],[0,0,0],[0,0,0],[0,0,0],[0,0,0],[0,0,0],[8,8,8],[118,118,118],[223,223,223],[231,231,231],[150,150,150],[4,4,4],[0,0,0],[16,16,16],[49,50,49],[120,120,120],[202,202,202],[251,251,251],[245,245,245],[201,201,201],[96,96,96],[16,16,16],[0,0,0],[0,0,0],[0,0,0],[0,0,0],[0,0,0],[0,0,0]],[[0,0,0],[0,0,0],[0,0,0],[0,0,0],[0,0,0],[0,0,0],[0,0,0],[0,0,0],[0,0,0],[0,0,0],[12,12,12],[139,139,139],[242,242,242],[212,212,212],[97,97,97],[2,2,2],[36,37,36],[109,109,109],[159,159,159],[217,217,217],[245,245,245],[222,222,222],[169,169,169],[93,93,93],[33,34,33],[5,5,5],[0,0,0],[0,0,0],[0,0,0],[0,0,0],[0,0,0],[0,0,0]],[[0,0,0],[0,0,0],[0,0,0],[0,0,0],[0,0,0],[0,0,0],[0,0,0],[0,0,0],[0,0,0],[0,0,0],[6,6,6],[130,130,130],[237,237,237],[210,210,210],[97,97,97],[24,24,24],[122,122,122],[222,222,222],[250,250,250],[232,232,232],[186,186,186],[124,124,124],[54,55,55],[0,0,0],[0,0,0],[0,0,0],[0,0,0],[0,0,0],[0,0,0],[0,0,0],[0,0,0],[0,0,0]],[[0,0,0],[0,0,0],[0,0,0],[0,0,0],[0,0,0],[0,0,0],[0,0,0],[0,0,0],[0,0,0],[0,0,0],[0,0,0],[74,74,74],[184,184,184],[237,237,237],[187,187,187],[100,100,100],[212,212,212],[244,244,244],[235,235,235],[167,167,167],[66,66,66],[0,0,0],[0,0,0],[0,0,0],[0,0,0],[0,0,0],[0,0,0],[0,0,0],[0,0,0],[0,0,0],[0,0,0],[0,0,0]],[[0,0,0],[0,0,0],[0,0,0],[0,0,0],[0,0,0],[0,0,0],[0,0,0],[0,0,0],[0,0,0],[0,0,0],[0,0,0],[20,20,20],[125,125,125],[244,244,244],[251,252,252],[246,246,246],[249,249,249],[223,223,223],[148,148,148],[53,54,54],[2,2,2],[0,0,0],[0,0,0],[0,0,0],[0,0,0],[0,0,0],[0,0,0],[0,0,0],[0,0,0],[0,0,0],[0,0,0],[0,0,0]],[[0,0,0],[0,0,0],[0,0,0],[0,0,0],[0,0,0],[0,0,0],[0,0,0],[0,0,0],[0,0,0],[0,0,0],[0,0,0],[31,32,31],[143,143,143],[251,252,252],[253,253,253],[248,247,248],[186,186,186],[63,63,63],[15,15,15],[3,3,3],[0,0,0],[0,0,0],[0,0,0],[0,0,0],[0,0,0],[0,0,0],[0,0,0],[0,0,0],[0,0,0],[0,0,0],[0,0,0],[0,0,0]],[[0,0,0],[0,0,0],[0,0,0],[0,0,0],[0,0,0],[0,0,0],[0,0,0],[0,0,0],[0,0,0],[0,0,0],[0,0,0],[16,16,16],[120,120,120],[241,241,241],[254,254,254],[246,246,246],[137,137,137],[27,27,27],[0,0,0],[0,0,0],[0,0,0],[0,0,0],[0,0,0],[0,0,0],[0,0,0],[0,0,0],[0,0,0],[0,0,0],[0,0,0],[0,0,0],[0,0,0],[0,0,0]],[[0,0,0],[0,0,0],[0,0,0],[0,0,0],[0,0,0],[0,0,0],[0,0,0],[0,0,0],[0,0,0],[0,0,0],[3,3,3],[45,46,45],[150,150,150],[246,246,246],[253,253,253],[250,250,250],[204,204,204],[63,63,63],[9,9,9],[0,0,0],[0,0,0],[0,0,0],[0,0,0],[0,0,0],[0,0,0],[0,0,0],[0,0,0],[0,0,0],[0,0,0],[0,0,0],[0,0,0],[0,0,0]],[[0,0,0],[0,0,0],[0,0,0],[0,0,0],[0,0,0],[0,0,0],[0,0,0],[0,0,0],[0,0,0],[0,0,0],[51,52,52],[139,139,139],[214,214,214],[239,239,239],[228,228,227],[253,253,253],[247,247,247],[107,107,107],[23,23,23],[0,0,0],[0,0,0],[0,0,0],[0,0,0],[0,0,0],[0,0,0],[0,0,0],[0,0,0],[0,0,0],[0,0,0],[0,0,0],[0,0,0],[0,0,0]],[[0,0,0],[0,0,0],[0,0,0],[0,0,0],[0,0,0],[0,0,0],[0,0,0],[0,0,0],[0,0,0],[0,0,0],[108,108,108],[212,212,212],[228,228,227],[174,174,174],[146,146,146],[227,227,227],[251,251,251],[157,157,157],[48,49,48],[3,3,3],[0,0,0],[0,0,0],[0,0,0],[0,0,0],[0,0,0],[0,0,0],[0,0,0],[0,0,0],[0,0,0],[0,0,0],[0,0,0],[0,0,0]],[[0,0,0],[0,0,0],[0,0,0],[0,0,0],[0,0,0],[0,0,0],[0,0,0],[0,0,0],[0,0,0],[7,7,7],[147,147,147],[234,234,234],[187,187,187],[77,77,77],[47,48,47],[157,157,157],[247,247,247],[213,213,213],[98,98,98],[21,21,21],[0,0,0],[0,0,0],[0,0,0],[0,0,0],[0,0,0],[0,0,0],[0,0,0],[0,0,0],[0,0,0],[0,0,0],[0,0,0],[0,0,0]],[[0,0,0],[0,0,0],[0,0,0],[0,0,0],[0,0,0],[0,0,0],[0,0,0],[0,0,0],[0,0,0],[40,41,40],[182,182,182],[242,242,242],[151,151,151],[21,21,21],[11,11,11],[77,77,77],[241,241,241],[254,254,254],[161,161,161],[51,52,52],[0,0,0],[0,0,0],[0,0,0],[0,0,0],[0,0,0],[0,0,0],[0,0,0],[0,0,0],[0,0,0],[0,0,0],[0,0,0],[0,0,0]],[[0,0,0],[0,0,0],[0,0,0],[0,0,0],[0,0,0],[0,0,0],[0,0,0],[0,0,0],[0,0,0],[109,109,109],[216,216,216],[220,220,220],[109,109,109],[0,0,0],[13,13,13],[89,89,89],[243,243,243],[255,255,255],[175,175,175],[60,61,61],[0,0,0],[0,0,0],[0,0,0],[0,0,0],[0,0,0],[0,0,0],[0,0,0],[0,0,0],[0,0,0],[0,0,0],[0,0,0],[0,0,0]],[[0,0,0],[0,0,0],[0,0,0],[0,0,0],[0,0,0],[0,0,0],[0,0,0],[0,0,0],[0,0,0],[83,83,83],[206,206,206],[200,200,200],[89,89,89],[0,0,0],[15,15,15],[96,96,96],[243,243,243],[254,254,254],[196,196,196],[75,75,75],[0,0,0],[0,0,0],[0,0,0],[0,0,0],[0,0,0],[0,0,0],[0,0,0],[0,0,0],[0,0,0],[0,0,0],[0,0,0],[0,0,0]],[[0,0,0],[0,0,0],[0,0,0],[0,0,0],[0,0,0],[0,0,0],[0,0,0],[0,0,0],[0,0,0],[86,86,86],[207,207,207],[216,216,216],[106,106,106],[0,0,0],[27,27,27],[157,157,157],[247,247,247],[254,254,254],[161,161,161],[51,52,52],[0,0,0],[0,0,0],[0,0,0],[0,0,0],[0,0,0],[0,0,0],[0,0,0],[0,0,0],[0,0,0],[0,0,0],[0,0,0],[0,0,0]],[[0,0,0],[0,0,0],[0,0,0],[0,0,0],[0,0,0],[0,0,0],[0,0,0],[0,0,0],[0,0,0],[99,99,99],[212,212,212],[232,232,232],[166,166,166],[118,118,118],[173,173,173],[226,226,226],[251,251,251],[165,165,165],[70,70,70],[14,14,14],[0,0,0],[0,0,0],[0,0,0],[0,0,0],[0,0,0],[0,0,0],[0,0,0],[0,0,0],[0,0,0],[0,0,0],[0,0,0],[0,0,0]],[[0,0,0],[0,0,0],[0,0,0],[0,0,0],[0,0,0],[0,0,0],[0,0,0],[0,0,0],[0,0,0],[67,67,67],[176,176,176],[232,232,232],[226,226,226],[218,218,218],[246,246,246],[249,249,249],[213,213,213],[73,73,73],[13,13,13],[0,0,0],[0,0,0],[0,0,0],[0,0,0],[0,0,0],[0,0,0],[0,0,0],[0,0,0],[0,0,0],[0,0,0],[0,0,0],[0,0,0],[0,0,0]],[[0,0,0],[0,0,0],[0,0,0],[0,0,0],[0,0,0],[0,0,0],[0,0,0],[0,0,0],[0,0,0],[20,20,20],[83,83,83],[128,128,128],[143,143,143],[142,142,142],[142,142,142],[140,140,140],[102,102,102],[18,18,18],[0,0,0],[0,0,0],[0,0,0],[0,0,0],[0,0,0],[0,0,0],[0,0,0],[0,0,0],[0,0,0],[0,0,0],[0,0,0],[0,0,0],[0,0,0],[0,0,0]],[[0,0,0],[0,0,0],[0,0,0],[0,0,0],[0,0,0],[0,0,0],[0,0,0],[0,0,0],[0,0,0],[0,0,0],[0,0,0],[0,0,0],[0,0,0],[0,0,0],[0,0,0],[0,0,0],[0,0,0],[0,0,0],[0,0,0],[0,0,0],[0,0,0],[0,0,0],[0,0,0],[0,0,0],[0,0,0],[0,0,0],[0,0,0],[0,0,0],[0,0,0],[0,0,0],[0,0,0],[0,0,0]],[[0,0,0],[0,0,0],[0,0,0],[0,0,0],[0,0,0],[0,0,0],[0,0,0],[0,0,0],[0,0,0],[0,0,0],[0,0,0],[0,0,0],[0,0,0],[0,0,0],[0,0,0],[0,0,0],[0,0,0],[0,0,0],[0,0,0],[0,0,0],[0,0,0],[0,0,0],[0,0,0],[0,0,0],[0,0,0],[0,0,0],[0,0,0],[0,0,0],[0,0,0],[0,0,0],[0,0,0],[0,0,0]],[[0,0,0],[0,0,0],[0,0,0],[0,0,0],[0,0,0],[0,0,0],[0,0,0],[0,0,0],[0,0,0],[0,0,0],[0,0,0],[0,0,0],[0,0,0],[0,0,0],[0,0,0],[0,0,0],[0,0,0],[0,0,0],[0,0,0],[0,0,0],[0,0,0],[0,0,0],[0,0,0],[0,0,0],[0,0,0],[0,0,0],[0,0,0],[0,0,0],[0,0,0],[0,0,0],[0,0,0],[0,0,0]]],\"type\":\"image\",\"xaxis\":\"x3\",\"yaxis\":\"y3\"},{\"z\":[[[0,0,0],[0,0,0],[0,0,0],[0,0,0],[0,0,0],[0,0,0],[0,0,0],[0,0,0],[0,0,0],[0,0,0],[0,0,0],[0,0,0],[0,0,0],[0,0,0],[0,0,0],[0,0,0],[0,0,0],[0,0,0],[0,0,0],[0,0,0],[0,0,0],[0,0,0],[0,0,0],[0,0,0],[0,0,0],[0,0,0],[0,0,0],[0,0,0],[0,0,0],[0,0,0],[0,0,0],[0,0,0]],[[0,0,0],[0,0,0],[0,0,0],[0,0,0],[0,0,0],[0,0,0],[0,0,0],[0,0,0],[0,0,0],[0,0,0],[0,0,0],[0,0,0],[0,0,0],[0,0,0],[0,0,0],[0,0,0],[0,0,0],[0,0,0],[0,0,0],[0,0,0],[0,0,0],[0,0,0],[0,0,0],[0,0,0],[0,0,0],[0,0,0],[0,0,0],[0,0,0],[0,0,0],[0,0,0],[0,0,0],[0,0,0]],[[0,0,0],[0,0,0],[0,0,0],[0,0,0],[0,0,0],[0,0,0],[0,0,0],[0,0,0],[0,0,0],[0,0,0],[0,0,0],[0,0,0],[0,0,0],[0,0,0],[0,0,0],[0,0,0],[0,0,0],[0,0,0],[0,0,0],[0,0,0],[0,0,0],[0,0,0],[0,0,0],[0,0,0],[0,0,0],[0,0,0],[0,0,0],[0,0,0],[0,0,0],[0,0,0],[0,0,0],[0,0,0]],[[0,0,0],[0,0,0],[0,0,0],[0,0,0],[0,0,0],[0,0,0],[0,0,0],[0,0,0],[0,0,0],[0,0,0],[0,0,0],[0,0,0],[0,0,0],[0,0,0],[0,0,0],[0,0,0],[0,0,0],[0,0,0],[0,0,0],[0,0,0],[0,0,0],[0,0,0],[0,0,0],[0,0,0],[0,0,0],[0,0,0],[0,0,0],[0,0,0],[0,0,0],[0,0,0],[0,0,0],[0,0,0]],[[0,0,0],[0,0,0],[0,0,0],[0,0,0],[0,0,0],[0,0,0],[0,0,0],[0,0,0],[0,0,0],[0,0,0],[0,0,0],[0,0,0],[0,0,0],[0,0,0],[0,0,0],[0,0,0],[0,0,0],[0,0,0],[0,0,0],[0,0,0],[0,0,0],[0,0,0],[0,0,0],[0,0,0],[0,0,0],[0,0,0],[0,0,0],[0,0,0],[0,0,0],[0,0,0],[0,0,0],[0,0,0]],[[0,0,0],[0,0,0],[0,0,0],[0,0,0],[0,0,0],[0,0,0],[0,0,0],[0,0,0],[0,0,0],[0,0,0],[0,0,0],[0,0,0],[0,0,0],[9,9,9],[31,32,31],[65,65,65],[78,78,78],[59,60,60],[17,17,17],[0,0,0],[0,0,0],[0,0,0],[0,0,0],[0,0,0],[0,0,0],[0,0,0],[0,0,0],[0,0,0],[0,0,0],[0,0,0],[0,0,0],[0,0,0]],[[0,0,0],[0,0,0],[0,0,0],[0,0,0],[0,0,0],[0,0,0],[0,0,0],[0,0,0],[0,0,0],[0,0,0],[0,0,0],[3,3,3],[20,20,20],[63,63,63],[130,130,130],[216,216,216],[250,250,250],[203,203,203],[75,75,75],[9,9,9],[0,0,0],[0,0,0],[0,0,0],[0,0,0],[0,0,0],[0,0,0],[0,0,0],[0,0,0],[0,0,0],[0,0,0],[0,0,0],[0,0,0]],[[0,0,0],[0,0,0],[0,0,0],[0,0,0],[0,0,0],[0,0,0],[0,0,0],[0,0,0],[0,0,0],[0,0,0],[0,0,0],[25,25,25],[104,104,104],[200,200,200],[251,252,252],[253,253,253],[251,252,252],[251,252,252],[155,155,155],[47,48,47],[0,0,0],[0,0,0],[0,0,0],[0,0,0],[0,0,0],[0,0,0],[0,0,0],[0,0,0],[0,0,0],[0,0,0],[0,0,0],[0,0,0]],[[0,0,0],[0,0,0],[0,0,0],[0,0,0],[0,0,0],[0,0,0],[0,0,0],[0,0,0],[0,0,0],[0,0,0],[0,0,0],[90,90,90],[198,198,198],[249,249,249],[251,252,252],[253,253,253],[251,252,252],[251,252,252],[231,231,231],[97,97,97],[0,0,0],[0,0,0],[0,0,0],[0,0,0],[0,0,0],[0,0,0],[0,0,0],[0,0,0],[0,0,0],[0,0,0],[0,0,0],[0,0,0]],[[0,0,0],[0,0,0],[0,0,0],[0,0,0],[0,0,0],[0,0,0],[0,0,0],[0,0,0],[0,0,0],[0,0,0],[14,14,14],[138,138,138],[239,239,239],[251,252,252],[235,235,235],[159,159,159],[123,123,123],[211,211,211],[243,243,243],[166,166,166],[128,128,128],[118,118,118],[15,15,15],[0,0,0],[0,0,0],[0,0,0],[0,0,0],[0,0,0],[0,0,0],[0,0,0],[0,0,0],[0,0,0]],[[0,0,0],[0,0,0],[0,0,0],[0,0,0],[0,0,0],[0,0,0],[0,0,0],[0,0,0],[0,0,0],[0,0,0],[18,18,18],[153,153,153],[251,251,251],[215,215,215],[116,116,116],[42,43,42],[28,28,28],[111,111,111],[215,215,215],[231,231,231],[224,224,224],[201,201,201],[100,100,100],[0,0,0],[0,0,0],[0,0,0],[0,0,0],[0,0,0],[0,0,0],[0,0,0],[0,0,0],[0,0,0]],[[0,0,0],[0,0,0],[0,0,0],[0,0,0],[0,0,0],[0,0,0],[0,0,0],[0,0,0],[0,0,0],[0,0,0],[16,16,16],[147,147,147],[247,247,247],[198,198,198],[63,63,63],[0,0,0],[0,0,0],[69,69,69],[200,200,200],[253,253,253],[253,253,253],[226,226,226],[137,137,137],[0,0,0],[0,0,0],[0,0,0],[0,0,0],[0,0,0],[0,0,0],[0,0,0],[0,0,0],[0,0,0]],[[0,0,0],[0,0,0],[0,0,0],[0,0,0],[0,0,0],[0,0,0],[0,0,0],[0,0,0],[0,0,0],[0,0,0],[7,7,7],[121,121,121],[226,226,226],[222,222,222],[140,140,140],[77,77,77],[16,16,16],[71,71,71],[200,200,200],[253,253,253],[249,249,249],[206,206,206],[99,99,99],[0,0,0],[0,0,0],[0,0,0],[0,0,0],[0,0,0],[0,0,0],[0,0,0],[0,0,0],[0,0,0]],[[0,0,0],[0,0,0],[0,0,0],[0,0,0],[0,0,0],[0,0,0],[0,0,0],[0,0,0],[0,0,0],[0,0,0],[0,0,0],[73,73,73],[180,180,180],[247,247,247],[243,243,243],[199,199,199],[100,100,100],[124,124,124],[214,214,214],[253,253,253],[225,225,225],[144,144,144],[33,34,33],[0,0,0],[0,0,0],[0,0,0],[0,0,0],[0,0,0],[0,0,0],[0,0,0],[0,0,0],[0,0,0]],[[0,0,0],[0,0,0],[0,0,0],[0,0,0],[0,0,0],[0,0,0],[0,0,0],[0,0,0],[0,0,0],[0,0,0],[0,0,0],[19,19,19],[108,108,108],[215,215,215],[248,247,248],[251,252,252],[238,238,238],[238,238,238],[247,247,247],[250,250,250],[177,177,177],[58,59,59],[0,0,0],[0,0,0],[0,0,0],[0,0,0],[0,0,0],[0,0,0],[0,0,0],[0,0,0],[0,0,0],[0,0,0]],[[0,0,0],[0,0,0],[0,0,0],[0,0,0],[0,0,0],[0,0,0],[0,0,0],[0,0,0],[0,0,0],[0,0,0],[0,0,0],[0,0,0],[30,30,30],[115,115,115],[218,218,218],[253,253,253],[253,253,253],[253,253,253],[253,253,253],[232,232,232],[137,137,137],[23,23,23],[0,0,0],[0,0,0],[0,0,0],[0,0,0],[0,0,0],[0,0,0],[0,0,0],[0,0,0],[0,0,0],[0,0,0]],[[0,0,0],[0,0,0],[0,0,0],[0,0,0],[0,0,0],[0,0,0],[0,0,0],[0,0,0],[0,0,0],[0,0,0],[0,0,0],[0,0,0],[1,1,1],[7,7,7],[54,55,55],[232,232,232],[251,251,251],[251,252,252],[251,252,252],[152,152,152],[41,42,41],[1,1,1],[0,0,0],[0,0,0],[0,0,0],[0,0,0],[0,0,0],[0,0,0],[0,0,0],[0,0,0],[0,0,0],[0,0,0]],[[0,0,0],[0,0,0],[0,0,0],[0,0,0],[0,0,0],[0,0,0],[0,0,0],[0,0,0],[0,0,0],[0,0,0],[0,0,0],[0,0,0],[0,0,0],[0,0,0],[42,43,42],[230,230,230],[251,251,251],[251,252,252],[251,252,252],[219,219,219],[132,132,132],[36,37,36],[0,0,0],[0,0,0],[0,0,0],[0,0,0],[0,0,0],[0,0,0],[0,0,0],[0,0,0],[0,0,0],[0,0,0]],[[0,0,0],[0,0,0],[0,0,0],[0,0,0],[0,0,0],[0,0,0],[0,0,0],[0,0,0],[0,0,0],[0,0,0],[0,0,0],[0,0,0],[0,0,0],[31,32,31],[130,130,130],[246,246,246],[251,252,252],[251,252,252],[251,252,252],[248,247,248],[186,186,186],[77,77,77],[0,0,0],[0,0,0],[0,0,0],[0,0,0],[0,0,0],[0,0,0],[0,0,0],[0,0,0],[0,0,0],[0,0,0]],[[0,0,0],[0,0,0],[0,0,0],[0,0,0],[0,0,0],[0,0,0],[0,0,0],[0,0,0],[0,0,0],[0,0,0],[0,0,0],[0,0,0],[20,20,20],[98,98,98],[217,217,217],[253,253,253],[242,242,242],[158,158,158],[177,177,177],[228,228,227],[231,231,231],[150,150,150],[31,32,31],[0,0,0],[0,0,0],[0,0,0],[0,0,0],[0,0,0],[0,0,0],[0,0,0],[0,0,0],[0,0,0]],[[0,0,0],[0,0,0],[0,0,0],[0,0,0],[0,0,0],[0,0,0],[0,0,0],[0,0,0],[0,0,0],[0,0,0],[0,0,0],[0,0,0],[41,42,41],[145,145,145],[251,251,251],[239,239,239],[150,150,150],[49,50,49],[67,67,67],[174,174,174],[247,247,247],[209,209,209],[91,91,91],[0,0,0],[0,0,0],[0,0,0],[0,0,0],[0,0,0],[0,0,0],[0,0,0],[0,0,0],[0,0,0]],[[0,0,0],[0,0,0],[0,0,0],[0,0,0],[0,0,0],[0,0,0],[0,0,0],[0,0,0],[0,0,0],[0,0,0],[0,0,0],[0,0,0],[59,60,60],[173,173,173],[248,247,248],[218,218,218],[32,33,32],[2,2,2],[0,0,0],[113,113,113],[224,224,224],[226,226,226],[137,137,137],[0,0,0],[0,0,0],[0,0,0],[0,0,0],[0,0,0],[0,0,0],[0,0,0],[0,0,0],[0,0,0]],[[0,0,0],[0,0,0],[0,0,0],[0,0,0],[0,0,0],[0,0,0],[0,0,0],[0,0,0],[0,0,0],[0,0,0],[0,0,0],[4,4,4],[95,95,95],[220,220,220],[245,245,245],[202,202,202],[12,12,12],[0,0,0],[0,0,0],[84,84,84],[195,195,195],[226,226,226],[137,137,137],[0,0,0],[0,0,0],[0,0,0],[0,0,0],[0,0,0],[0,0,0],[0,0,0],[0,0,0],[0,0,0]],[[0,0,0],[0,0,0],[0,0,0],[0,0,0],[0,0,0],[0,0,0],[0,0,0],[0,0,0],[0,0,0],[0,0,0],[0,0,0],[28,28,28],[136,136,136],[248,247,248],[237,237,237],[161,161,161],[10,10,10],[1,1,1],[7,7,7],[114,114,114],[220,220,220],[224,224,224],[134,134,134],[0,0,0],[0,0,0],[0,0,0],[0,0,0],[0,0,0],[0,0,0],[0,0,0],[0,0,0],[0,0,0]],[[0,0,0],[0,0,0],[0,0,0],[0,0,0],[0,0,0],[0,0,0],[0,0,0],[0,0,0],[0,0,0],[0,0,0],[0,0,0],[31,32,31],[143,143,143],[253,253,253],[230,230,230],[122,122,122],[13,13,13],[22,22,22],[124,124,124],[214,214,214],[243,243,243],[194,194,194],[85,85,85],[0,0,0],[0,0,0],[0,0,0],[0,0,0],[0,0,0],[0,0,0],[0,0,0],[0,0,0],[0,0,0]],[[0,0,0],[0,0,0],[0,0,0],[0,0,0],[0,0,0],[0,0,0],[0,0,0],[0,0,0],[0,0,0],[0,0,0],[0,0,0],[14,14,14],[112,112,112],[232,232,232],[247,247,247],[217,217,217],[158,158,158],[200,200,200],[230,230,230],[247,247,247],[191,191,191],[83,83,83],[14,14,14],[0,0,0],[0,0,0],[0,0,0],[0,0,0],[0,0,0],[0,0,0],[0,0,0],[0,0,0],[0,0,0]],[[0,0,0],[0,0,0],[0,0,0],[0,0,0],[0,0,0],[0,0,0],[0,0,0],[0,0,0],[0,0,0],[0,0,0],[0,0,0],[2,2,2],[81,81,81],[200,200,200],[251,252,252],[249,249,249],[233,233,233],[248,247,248],[251,252,252],[230,230,230],[136,136,136],[26,26,26],[0,0,0],[0,0,0],[0,0,0],[0,0,0],[0,0,0],[0,0,0],[0,0,0],[0,0,0],[0,0,0],[0,0,0]],[[0,0,0],[0,0,0],[0,0,0],[0,0,0],[0,0,0],[0,0,0],[0,0,0],[0,0,0],[0,0,0],[0,0,0],[0,0,0],[0,0,0],[50,51,51],[159,159,159],[251,252,252],[253,253,253],[251,252,252],[235,235,235],[183,183,183],[122,122,122],[54,55,55],[5,5,5],[0,0,0],[0,0,0],[0,0,0],[0,0,0],[0,0,0],[0,0,0],[0,0,0],[0,0,0],[0,0,0],[0,0,0]],[[0,0,0],[0,0,0],[0,0,0],[0,0,0],[0,0,0],[0,0,0],[0,0,0],[0,0,0],[0,0,0],[0,0,0],[0,0,0],[0,0,0],[20,20,20],[77,77,77],[142,142,142],[142,142,142],[142,142,142],[124,124,124],[73,73,73],[25,25,25],[3,3,3],[0,0,0],[0,0,0],[0,0,0],[0,0,0],[0,0,0],[0,0,0],[0,0,0],[0,0,0],[0,0,0],[0,0,0],[0,0,0]],[[0,0,0],[0,0,0],[0,0,0],[0,0,0],[0,0,0],[0,0,0],[0,0,0],[0,0,0],[0,0,0],[0,0,0],[0,0,0],[0,0,0],[0,0,0],[0,0,0],[0,0,0],[0,0,0],[0,0,0],[0,0,0],[0,0,0],[0,0,0],[0,0,0],[0,0,0],[0,0,0],[0,0,0],[0,0,0],[0,0,0],[0,0,0],[0,0,0],[0,0,0],[0,0,0],[0,0,0],[0,0,0]],[[0,0,0],[0,0,0],[0,0,0],[0,0,0],[0,0,0],[0,0,0],[0,0,0],[0,0,0],[0,0,0],[0,0,0],[0,0,0],[0,0,0],[0,0,0],[0,0,0],[0,0,0],[0,0,0],[0,0,0],[0,0,0],[0,0,0],[0,0,0],[0,0,0],[0,0,0],[0,0,0],[0,0,0],[0,0,0],[0,0,0],[0,0,0],[0,0,0],[0,0,0],[0,0,0],[0,0,0],[0,0,0]],[[0,0,0],[0,0,0],[0,0,0],[0,0,0],[0,0,0],[0,0,0],[0,0,0],[0,0,0],[0,0,0],[0,0,0],[0,0,0],[0,0,0],[0,0,0],[0,0,0],[0,0,0],[0,0,0],[0,0,0],[0,0,0],[0,0,0],[0,0,0],[0,0,0],[0,0,0],[0,0,0],[0,0,0],[0,0,0],[0,0,0],[0,0,0],[0,0,0],[0,0,0],[0,0,0],[0,0,0],[0,0,0]]],\"type\":\"image\",\"xaxis\":\"x4\",\"yaxis\":\"y4\"},{\"z\":[[[0,0,0],[0,0,0],[0,0,0],[0,0,0],[0,0,0],[0,0,0],[0,0,0],[0,0,0],[0,0,0],[0,0,0],[0,0,0],[0,0,0],[0,0,0],[0,0,0],[0,0,0],[0,0,0],[0,0,0],[0,0,0],[0,0,0],[0,0,0],[0,0,0],[0,0,0],[0,0,0],[0,0,0],[0,0,0],[0,0,0],[0,0,0],[0,0,0],[0,0,0],[0,0,0],[0,0,0],[0,0,0]],[[0,0,0],[0,0,0],[0,0,0],[0,0,0],[0,0,0],[0,0,0],[0,0,0],[0,0,0],[0,0,0],[0,0,0],[0,0,0],[0,0,0],[0,0,0],[0,0,0],[0,0,0],[0,0,0],[0,0,0],[0,0,0],[0,0,0],[0,0,0],[0,0,0],[0,0,0],[0,0,0],[0,0,0],[0,0,0],[0,0,0],[0,0,0],[0,0,0],[0,0,0],[0,0,0],[0,0,0],[0,0,0]],[[0,0,0],[0,0,0],[0,0,0],[0,0,0],[0,0,0],[0,0,0],[0,0,0],[0,0,0],[0,0,0],[0,0,0],[0,0,0],[0,0,0],[0,0,0],[0,0,0],[0,0,0],[0,0,0],[0,0,0],[0,0,0],[0,0,0],[0,0,0],[0,0,0],[0,0,0],[0,0,0],[0,0,0],[0,0,0],[0,0,0],[0,0,0],[0,0,0],[0,0,0],[0,0,0],[0,0,0],[0,0,0]],[[0,0,0],[0,0,0],[0,0,0],[0,0,0],[0,0,0],[0,0,0],[0,0,0],[0,0,0],[0,0,0],[0,0,0],[0,0,0],[0,0,0],[0,0,0],[0,0,0],[0,0,0],[0,0,0],[0,0,0],[0,0,0],[0,0,0],[0,0,0],[0,0,0],[0,0,0],[0,0,0],[0,0,0],[0,0,0],[0,0,0],[0,0,0],[0,0,0],[0,0,0],[0,0,0],[0,0,0],[0,0,0]],[[0,0,0],[0,0,0],[0,0,0],[0,0,0],[0,0,0],[0,0,0],[0,0,0],[0,0,0],[0,0,0],[0,0,0],[0,0,0],[0,0,0],[0,0,0],[0,0,0],[0,0,0],[0,0,0],[0,0,0],[0,0,0],[0,0,0],[0,0,0],[0,0,0],[0,0,0],[0,0,0],[0,0,0],[0,0,0],[0,0,0],[0,0,0],[0,0,0],[0,0,0],[0,0,0],[0,0,0],[0,0,0]],[[0,0,0],[0,0,0],[0,0,0],[0,0,0],[0,0,0],[0,0,0],[0,0,0],[0,0,0],[0,0,0],[0,0,0],[0,0,0],[0,0,0],[0,0,0],[0,0,0],[0,0,0],[8,8,8],[50,51,51],[74,74,74],[79,79,79],[63,63,63],[37,38,37],[13,13,13],[0,0,0],[0,0,0],[0,0,0],[0,0,0],[0,0,0],[0,0,0],[0,0,0],[0,0,0],[0,0,0],[0,0,0]],[[0,0,0],[0,0,0],[0,0,0],[0,0,0],[0,0,0],[0,0,0],[0,0,0],[0,0,0],[0,0,0],[0,0,0],[0,0,0],[0,0,0],[0,0,0],[2,2,2],[18,18,18],[68,68,68],[175,175,175],[233,233,233],[245,245,245],[204,204,204],[141,141,141],[75,75,75],[16,16,16],[0,0,0],[0,0,0],[0,0,0],[0,0,0],[0,0,0],[0,0,0],[0,0,0],[0,0,0],[0,0,0]],[[0,0,0],[0,0,0],[0,0,0],[0,0,0],[0,0,0],[0,0,0],[0,0,0],[0,0,0],[0,0,0],[0,0,0],[0,0,0],[2,2,2],[5,5,5],[23,23,23],[93,93,93],[234,234,234],[217,217,217],[198,198,198],[194,194,194],[202,202,202],[225,225,225],[206,206,206],[97,97,97],[2,2,2],[0,0,0],[0,0,0],[0,0,0],[0,0,0],[0,0,0],[0,0,0],[0,0,0],[0,0,0]],[[0,0,0],[0,0,0],[0,0,0],[0,0,0],[0,0,0],[0,0,0],[0,0,0],[0,0,0],[0,0,0],[0,0,0],[0,0,0],[37,38,37],[85,85,85],[134,134,134],[192,192,192],[189,189,189],[43,44,43],[16,16,16],[12,12,12],[19,19,19],[97,97,97],[205,205,205],[205,205,205],[49,50,49],[3,3,3],[0,0,0],[0,0,0],[0,0,0],[0,0,0],[0,0,0],[0,0,0],[0,0,0]],[[0,0,0],[0,0,0],[0,0,0],[0,0,0],[0,0,0],[0,0,0],[0,0,0],[0,0,0],[0,0,0],[0,0,0],[46,47,46],[152,152,152],[209,209,209],[214,214,214],[223,223,223],[125,125,125],[11,11,11],[0,0,0],[0,0,0],[0,0,0],[33,34,33],[129,129,129],[218,218,218],[63,63,63],[3,3,3],[0,0,0],[0,0,0],[0,0,0],[0,0,0],[0,0,0],[0,0,0],[0,0,0]],[[0,0,0],[0,0,0],[0,0,0],[0,0,0],[0,0,0],[0,0,0],[0,0,0],[0,0,0],[0,0,0],[0,0,0],[94,94,94],[202,202,202],[220,220,220],[203,203,203],[222,222,222],[79,79,79],[4,4,4],[0,0,0],[0,0,0],[0,0,0],[37,38,37],[140,140,140],[219,219,219],[65,65,65],[3,3,3],[0,0,0],[0,0,0],[0,0,0],[0,0,0],[0,0,0],[0,0,0],[0,0,0]],[[0,0,0],[0,0,0],[0,0,0],[0,0,0],[0,0,0],[0,0,0],[0,0,0],[0,0,0],[0,0,0],[0,0,0],[87,87,87],[197,197,197],[224,224,224],[210,210,210],[214,214,214],[36,37,36],[1,1,1],[0,0,0],[0,0,0],[0,0,0],[75,75,75],[195,195,195],[209,209,209],[44,45,44],[2,2,2],[0,0,0],[0,0,0],[0,0,0],[0,0,0],[0,0,0],[0,0,0],[0,0,0]],[[0,0,0],[0,0,0],[0,0,0],[0,0,0],[0,0,0],[0,0,0],[0,0,0],[0,0,0],[0,0,0],[0,0,0],[37,38,37],[150,150,150],[226,226,226],[238,238,238],[216,216,216],[46,47,46],[2,2,2],[0,0,0],[0,0,0],[17,17,17],[122,122,122],[229,229,229],[178,178,178],[16,16,16],[0,0,0],[0,0,0],[0,0,0],[0,0,0],[0,0,0],[0,0,0],[0,0,0],[0,0,0]],[[0,0,0],[0,0,0],[0,0,0],[0,0,0],[0,0,0],[0,0,0],[0,0,0],[0,0,0],[0,0,0],[0,0,0],[0,0,0],[83,83,83],[191,191,191],[250,250,250],[226,226,226],[97,97,97],[6,6,6],[0,0,0],[14,14,14],[83,83,83],[182,182,182],[211,211,211],[108,108,108],[0,0,0],[0,0,0],[0,0,0],[0,0,0],[0,0,0],[0,0,0],[0,0,0],[0,0,0],[0,0,0]],[[0,0,0],[0,0,0],[0,0,0],[0,0,0],[0,0,0],[0,0,0],[0,0,0],[0,0,0],[0,0,0],[0,0,0],[0,0,0],[24,24,24],[114,114,114],[216,216,216],[227,227,227],[139,139,139],[28,28,28],[26,26,26],[80,80,80],[186,186,186],[233,233,233],[151,151,151],[19,19,19],[0,0,0],[0,0,0],[0,0,0],[0,0,0],[0,0,0],[0,0,0],[0,0,0],[0,0,0],[0,0,0]],[[0,0,0],[0,0,0],[0,0,0],[0,0,0],[0,0,0],[0,0,0],[0,0,0],[0,0,0],[0,0,0],[0,0,0],[0,0,0],[0,0,0],[20,20,20],[96,96,96],[206,206,206],[224,224,224],[127,127,127],[153,153,153],[224,224,224],[237,237,237],[161,161,161],[53,54,54],[0,0,0],[0,0,0],[0,0,0],[0,0,0],[0,0,0],[0,0,0],[0,0,0],[0,0,0],[0,0,0],[0,0,0]],[[0,0,0],[0,0,0],[0,0,0],[0,0,0],[0,0,0],[0,0,0],[0,0,0],[0,0,0],[0,0,0],[0,0,0],[0,0,0],[0,0,0],[0,0,0],[18,18,18],[87,87,87],[238,238,238],[245,245,245],[247,247,247],[241,241,241],[139,139,139],[37,38,37],[3,3,3],[0,0,0],[0,0,0],[0,0,0],[0,0,0],[0,0,0],[0,0,0],[0,0,0],[0,0,0],[0,0,0],[0,0,0]],[[0,0,0],[0,0,0],[0,0,0],[0,0,0],[0,0,0],[0,0,0],[0,0,0],[0,0,0],[0,0,0],[0,0,0],[0,0,0],[0,0,0],[0,0,0],[4,4,4],[51,52,52],[213,213,213],[251,251,251],[254,254,254],[223,223,223],[97,97,97],[4,4,4],[0,0,0],[0,0,0],[0,0,0],[0,0,0],[0,0,0],[0,0,0],[0,0,0],[0,0,0],[0,0,0],[0,0,0],[0,0,0]],[[0,0,0],[0,0,0],[0,0,0],[0,0,0],[0,0,0],[0,0,0],[0,0,0],[0,0,0],[0,0,0],[0,0,0],[0,0,0],[0,0,0],[0,0,0],[27,27,27],[118,118,118],[239,239,239],[242,242,242],[242,242,242],[240,240,240],[104,104,104],[0,0,0],[0,0,0],[0,0,0],[0,0,0],[0,0,0],[0,0,0],[0,0,0],[0,0,0],[0,0,0],[0,0,0],[0,0,0],[0,0,0]],[[0,0,0],[0,0,0],[0,0,0],[0,0,0],[0,0,0],[0,0,0],[0,0,0],[0,0,0],[0,0,0],[0,0,0],[0,0,0],[0,0,0],[9,9,9],[74,74,74],[195,195,195],[237,237,237],[140,140,140],[136,136,136],[218,218,218],[176,176,176],[66,66,66],[2,2,2],[0,0,0],[0,0,0],[0,0,0],[0,0,0],[0,0,0],[0,0,0],[0,0,0],[0,0,0],[0,0,0],[0,0,0]],[[0,0,0],[0,0,0],[0,0,0],[0,0,0],[0,0,0],[0,0,0],[0,0,0],[0,0,0],[0,0,0],[0,0,0],[0,0,0],[0,0,0],[41,42,41],[141,141,141],[224,224,224],[147,147,147],[36,37,36],[32,33,32],[166,166,166],[226,226,226],[133,133,133],[9,9,9],[0,0,0],[0,0,0],[0,0,0],[0,0,0],[0,0,0],[0,0,0],[0,0,0],[0,0,0],[0,0,0],[0,0,0]],[[0,0,0],[0,0,0],[0,0,0],[0,0,0],[0,0,0],[0,0,0],[0,0,0],[0,0,0],[0,0,0],[0,0,0],[0,0,0],[0,0,0],[79,79,79],[195,195,195],[194,194,194],[32,33,32],[1,1,1],[0,0,0],[129,129,129],[224,224,224],[153,153,153],[15,15,15],[0,0,0],[0,0,0],[0,0,0],[0,0,0],[0,0,0],[0,0,0],[0,0,0],[0,0,0],[0,0,0],[0,0,0]],[[0,0,0],[0,0,0],[0,0,0],[0,0,0],[0,0,0],[0,0,0],[0,0,0],[0,0,0],[0,0,0],[0,0,0],[0,0,0],[1,1,1],[94,94,94],[199,199,199],[142,142,142],[0,0,0],[0,0,0],[0,0,0],[115,115,115],[216,216,216],[153,153,153],[15,15,15],[0,0,0],[0,0,0],[0,0,0],[0,0,0],[0,0,0],[0,0,0],[0,0,0],[0,0,0],[0,0,0],[0,0,0]],[[0,0,0],[0,0,0],[0,0,0],[0,0,0],[0,0,0],[0,0,0],[0,0,0],[0,0,0],[0,0,0],[0,0,0],[0,0,0],[10,10,10],[110,110,110],[206,206,206],[131,131,131],[0,0,0],[0,0,0],[0,0,0],[92,92,92],[198,198,198],[150,150,150],[14,14,14],[0,0,0],[0,0,0],[0,0,0],[0,0,0],[0,0,0],[0,0,0],[0,0,0],[0,0,0],[0,0,0],[0,0,0]],[[0,0,0],[0,0,0],[0,0,0],[0,0,0],[0,0,0],[0,0,0],[0,0,0],[0,0,0],[0,0,0],[0,0,0],[0,0,0],[24,24,24],[136,136,136],[224,224,224],[131,131,131],[0,0,0],[0,0,0],[10,10,10],[157,157,157],[205,205,205],[108,108,108],[0,0,0],[0,0,0],[0,0,0],[0,0,0],[0,0,0],[0,0,0],[0,0,0],[0,0,0],[0,0,0],[0,0,0],[0,0,0]],[[0,0,0],[0,0,0],[0,0,0],[0,0,0],[0,0,0],[0,0,0],[0,0,0],[0,0,0],[0,0,0],[0,0,0],[0,0,0],[14,14,14],[117,117,117],[224,224,224],[170,170,170],[25,25,25],[1,1,1],[50,51,51],[191,191,191],[206,206,206],[97,97,97],[0,0,0],[0,0,0],[0,0,0],[0,0,0],[0,0,0],[0,0,0],[0,0,0],[0,0,0],[0,0,0],[0,0,0],[0,0,0]],[[0,0,0],[0,0,0],[0,0,0],[0,0,0],[0,0,0],[0,0,0],[0,0,0],[0,0,0],[0,0,0],[0,0,0],[0,0,0],[3,3,3],[73,73,73],[183,183,183],[229,229,229],[172,172,172],[101,101,101],[165,165,165],[227,227,227],[145,145,145],[36,37,36],[0,0,0],[0,0,0],[0,0,0],[0,0,0],[0,0,0],[0,0,0],[0,0,0],[0,0,0],[0,0,0],[0,0,0],[0,0,0]],[[0,0,0],[0,0,0],[0,0,0],[0,0,0],[0,0,0],[0,0,0],[0,0,0],[0,0,0],[0,0,0],[0,0,0],[0,0,0],[0,0,0],[25,25,25],[99,99,99],[199,199,199],[247,247,247],[207,207,207],[232,232,232],[175,175,175],[68,68,68],[3,3,3],[0,0,0],[0,0,0],[0,0,0],[0,0,0],[0,0,0],[0,0,0],[0,0,0],[0,0,0],[0,0,0],[0,0,0],[0,0,0]],[[0,0,0],[0,0,0],[0,0,0],[0,0,0],[0,0,0],[0,0,0],[0,0,0],[0,0,0],[0,0,0],[0,0,0],[0,0,0],[0,0,0],[1,1,1],[25,25,25],[89,89,89],[143,143,143],[143,143,143],[139,139,139],[70,70,70],[16,16,16],[0,0,0],[0,0,0],[0,0,0],[0,0,0],[0,0,0],[0,0,0],[0,0,0],[0,0,0],[0,0,0],[0,0,0],[0,0,0],[0,0,0]],[[0,0,0],[0,0,0],[0,0,0],[0,0,0],[0,0,0],[0,0,0],[0,0,0],[0,0,0],[0,0,0],[0,0,0],[0,0,0],[0,0,0],[0,0,0],[0,0,0],[0,0,0],[0,0,0],[0,0,0],[0,0,0],[0,0,0],[0,0,0],[0,0,0],[0,0,0],[0,0,0],[0,0,0],[0,0,0],[0,0,0],[0,0,0],[0,0,0],[0,0,0],[0,0,0],[0,0,0],[0,0,0]],[[0,0,0],[0,0,0],[0,0,0],[0,0,0],[0,0,0],[0,0,0],[0,0,0],[0,0,0],[0,0,0],[0,0,0],[0,0,0],[0,0,0],[0,0,0],[0,0,0],[0,0,0],[0,0,0],[0,0,0],[0,0,0],[0,0,0],[0,0,0],[0,0,0],[0,0,0],[0,0,0],[0,0,0],[0,0,0],[0,0,0],[0,0,0],[0,0,0],[0,0,0],[0,0,0],[0,0,0],[0,0,0]],[[0,0,0],[0,0,0],[0,0,0],[0,0,0],[0,0,0],[0,0,0],[0,0,0],[0,0,0],[0,0,0],[0,0,0],[0,0,0],[0,0,0],[0,0,0],[0,0,0],[0,0,0],[0,0,0],[0,0,0],[0,0,0],[0,0,0],[0,0,0],[0,0,0],[0,0,0],[0,0,0],[0,0,0],[0,0,0],[0,0,0],[0,0,0],[0,0,0],[0,0,0],[0,0,0],[0,0,0],[0,0,0]]],\"type\":\"image\",\"xaxis\":\"x5\",\"yaxis\":\"y5\"},{\"z\":[[[0,0,0],[0,0,0],[0,0,0],[0,0,0],[0,0,0],[0,0,0],[0,0,0],[0,0,0],[0,0,0],[0,0,0],[0,0,0],[0,0,0],[0,0,0],[0,0,0],[0,0,0],[0,0,0],[0,0,0],[0,0,0],[0,0,0],[0,0,0],[0,0,0],[0,0,0],[0,0,0],[0,0,0],[0,0,0],[0,0,0],[0,0,0],[0,0,0],[0,0,0],[0,0,0],[0,0,0],[0,0,0]],[[0,0,0],[0,0,0],[0,0,0],[0,0,0],[0,0,0],[0,0,0],[0,0,0],[0,0,0],[0,0,0],[0,0,0],[0,0,0],[0,0,0],[0,0,0],[0,0,0],[0,0,0],[0,0,0],[0,0,0],[0,0,0],[0,0,0],[0,0,0],[0,0,0],[0,0,0],[0,0,0],[0,0,0],[0,0,0],[0,0,0],[0,0,0],[0,0,0],[0,0,0],[0,0,0],[0,0,0],[0,0,0]],[[0,0,0],[0,0,0],[0,0,0],[0,0,0],[0,0,0],[0,0,0],[0,0,0],[0,0,0],[0,0,0],[0,0,0],[0,0,0],[0,0,0],[0,0,0],[0,0,0],[0,0,0],[0,0,0],[0,0,0],[0,0,0],[0,0,0],[0,0,0],[0,0,0],[0,0,0],[0,0,0],[0,0,0],[0,0,0],[0,0,0],[0,0,0],[0,0,0],[0,0,0],[0,0,0],[0,0,0],[0,0,0]],[[0,0,0],[0,0,0],[0,0,0],[0,0,0],[0,0,0],[0,0,0],[0,0,0],[0,0,0],[0,0,0],[0,0,0],[0,0,0],[0,0,0],[0,0,0],[0,0,0],[0,0,0],[0,0,0],[0,0,0],[0,0,0],[0,0,0],[0,0,0],[0,0,0],[0,0,0],[0,0,0],[0,0,0],[0,0,0],[0,0,0],[0,0,0],[0,0,0],[0,0,0],[0,0,0],[0,0,0],[0,0,0]],[[0,0,0],[0,0,0],[0,0,0],[0,0,0],[0,0,0],[0,0,0],[0,0,0],[0,0,0],[0,0,0],[0,0,0],[0,0,0],[0,0,0],[0,0,0],[0,0,0],[0,0,0],[0,0,0],[0,0,0],[0,0,0],[0,0,0],[0,0,0],[0,0,0],[0,0,0],[0,0,0],[0,0,0],[0,0,0],[0,0,0],[0,0,0],[0,0,0],[0,0,0],[0,0,0],[0,0,0],[0,0,0]],[[0,0,0],[0,0,0],[0,0,0],[0,0,0],[0,0,0],[0,0,0],[0,0,0],[0,0,0],[0,0,0],[0,0,0],[0,0,0],[0,0,0],[1,1,1],[1,1,1],[5,5,5],[21,21,21],[30,30,30],[48,49,48],[53,54,54],[23,23,23],[0,0,0],[0,0,0],[0,0,0],[0,0,0],[0,0,0],[0,0,0],[0,0,0],[0,0,0],[0,0,0],[0,0,0],[0,0,0],[0,0,0]],[[0,0,0],[0,0,0],[0,0,0],[0,0,0],[0,0,0],[0,0,0],[0,0,0],[0,0,0],[0,0,0],[0,0,0],[10,10,10],[31,32,31],[47,48,47],[52,53,53],[61,62,62],[105,105,105],[129,129,129],[174,174,174],[189,189,189],[96,96,96],[13,13,13],[1,1,1],[0,0,0],[0,0,0],[0,0,0],[0,0,0],[0,0,0],[0,0,0],[0,0,0],[0,0,0],[0,0,0],[0,0,0]],[[0,0,0],[0,0,0],[0,0,0],[0,0,0],[0,0,0],[0,0,0],[0,0,0],[0,0,0],[0,0,0],[4,4,4],[68,68,68],[164,164,164],[233,233,233],[254,254,254],[254,254,254],[254,254,254],[254,254,254],[254,254,254],[254,254,254],[181,181,181],[82,82,82],[21,21,21],[6,6,6],[0,0,0],[0,0,0],[0,0,0],[0,0,0],[0,0,0],[0,0,0],[0,0,0],[0,0,0],[0,0,0]],[[0,0,0],[0,0,0],[0,0,0],[0,0,0],[0,0,0],[0,0,0],[0,0,0],[0,0,0],[0,0,0],[68,68,68],[168,168,168],[232,232,232],[253,253,253],[254,254,254],[254,254,254],[254,254,254],[254,254,254],[254,254,254],[254,254,254],[249,249,249],[243,243,243],[194,194,194],[77,77,77],[0,0,0],[0,0,0],[0,0,0],[0,0,0],[0,0,0],[0,0,0],[0,0,0],[0,0,0],[0,0,0]],[[0,0,0],[0,0,0],[0,0,0],[0,0,0],[0,0,0],[0,0,0],[0,0,0],[0,0,0],[10,10,10],[157,157,157],[229,229,229],[251,251,251],[254,254,254],[254,254,254],[253,253,253],[248,247,248],[235,235,235],[247,247,247],[251,252,252],[254,254,254],[254,254,254],[217,217,217],[109,109,109],[0,0,0],[0,0,0],[0,0,0],[0,0,0],[0,0,0],[0,0,0],[0,0,0],[0,0,0],[0,0,0]],[[0,0,0],[0,0,0],[0,0,0],[0,0,0],[0,0,0],[0,0,0],[0,0,0],[1,1,1],[19,19,19],[200,200,200],[250,250,250],[254,254,254],[251,252,252],[225,225,225],[164,164,164],[128,128,128],[112,112,112],[214,214,214],[249,249,249],[254,254,254],[233,233,233],[157,157,157],[42,43,42],[0,0,0],[0,0,0],[0,0,0],[0,0,0],[0,0,0],[0,0,0],[0,0,0],[0,0,0],[0,0,0]],[[0,0,0],[0,0,0],[0,0,0],[0,0,0],[0,0,0],[0,0,0],[0,0,0],[2,2,2],[32,33,32],[213,213,213],[254,254,254],[254,254,254],[248,247,248],[197,197,197],[95,95,95],[77,77,77],[151,151,151],[228,228,227],[251,251,251],[230,230,230],[158,158,158],[61,62,62],[3,3,3],[0,0,0],[0,0,0],[0,0,0],[0,0,0],[0,0,0],[0,0,0],[0,0,0],[0,0,0],[0,0,0]],[[0,0,0],[0,0,0],[0,0,0],[0,0,0],[0,0,0],[0,0,0],[0,0,0],[2,2,2],[50,51,51],[217,217,217],[254,254,254],[254,254,254],[250,250,250],[215,215,215],[152,152,152],[156,156,156],[236,236,236],[247,247,247],[227,227,227],[156,156,156],[64,64,64],[5,5,5],[0,0,0],[0,0,0],[0,0,0],[0,0,0],[0,0,0],[0,0,0],[0,0,0],[0,0,0],[0,0,0],[0,0,0]],[[0,0,0],[0,0,0],[0,0,0],[0,0,0],[0,0,0],[0,0,0],[0,0,0],[2,2,2],[46,47,46],[191,191,191],[241,241,241],[251,252,252],[254,254,254],[254,254,254],[254,254,254],[254,254,254],[254,254,254],[228,228,227],[150,150,150],[56,57,57],[5,5,5],[0,0,0],[0,0,0],[0,0,0],[0,0,0],[0,0,0],[0,0,0],[0,0,0],[0,0,0],[0,0,0],[0,0,0],[0,0,0]],[[0,0,0],[0,0,0],[0,0,0],[0,0,0],[0,0,0],[0,0,0],[0,0,0],[0,0,0],[6,6,6],[104,104,104],[177,177,177],[221,221,221],[245,245,245],[254,254,254],[254,254,254],[254,254,254],[254,254,254],[201,201,201],[64,64,64],[2,2,2],[0,0,0],[0,0,0],[0,0,0],[0,0,0],[0,0,0],[0,0,0],[0,0,0],[0,0,0],[0,0,0],[0,0,0],[0,0,0],[0,0,0]],[[0,0,0],[0,0,0],[0,0,0],[0,0,0],[0,0,0],[0,0,0],[0,0,0],[0,0,0],[0,0,0],[0,0,0],[29,29,29],[107,107,107],[198,198,198],[251,252,252],[254,254,254],[254,254,254],[254,254,254],[238,238,238],[99,99,99],[15,15,15],[0,0,0],[0,0,0],[0,0,0],[0,0,0],[0,0,0],[0,0,0],[0,0,0],[0,0,0],[0,0,0],[0,0,0],[0,0,0],[0,0,0]],[[0,0,0],[0,0,0],[0,0,0],[0,0,0],[0,0,0],[0,0,0],[0,0,0],[0,0,0],[0,0,0],[0,0,0],[1,1,1],[13,13,13],[100,100,100],[217,217,217],[254,254,254],[254,254,254],[254,254,254],[253,253,253],[132,132,132],[33,34,33],[0,0,0],[0,0,0],[0,0,0],[0,0,0],[0,0,0],[0,0,0],[0,0,0],[0,0,0],[0,0,0],[0,0,0],[0,0,0],[0,0,0]],[[0,0,0],[0,0,0],[0,0,0],[0,0,0],[0,0,0],[0,0,0],[0,0,0],[0,0,0],[0,0,0],[0,0,0],[0,0,0],[0,0,0],[79,79,79],[202,202,202],[251,252,252],[239,239,239],[215,215,215],[247,247,247],[221,221,221],[149,149,149],[58,59,59],[0,0,0],[0,0,0],[0,0,0],[0,0,0],[0,0,0],[0,0,0],[0,0,0],[0,0,0],[0,0,0],[0,0,0],[0,0,0]],[[0,0,0],[0,0,0],[0,0,0],[0,0,0],[0,0,0],[0,0,0],[0,0,0],[0,0,0],[0,0,0],[0,0,0],[0,0,0],[13,13,13],[108,108,108],[229,229,229],[240,240,240],[174,174,174],[81,81,81],[176,176,176],[233,233,233],[222,222,222],[134,134,134],[30,30,30],[0,0,0],[0,0,0],[0,0,0],[0,0,0],[0,0,0],[0,0,0],[0,0,0],[0,0,0],[0,0,0],[0,0,0]],[[0,0,0],[0,0,0],[0,0,0],[0,0,0],[0,0,0],[0,0,0],[0,0,0],[0,0,0],[0,0,0],[0,0,0],[0,0,0],[22,22,22],[130,130,130],[241,241,241],[200,200,200],[71,71,71],[10,10,10],[70,70,70],[171,171,171],[230,230,230],[210,210,210],[116,116,116],[10,10,10],[0,0,0],[0,0,0],[0,0,0],[0,0,0],[0,0,0],[0,0,0],[0,0,0],[0,0,0],[0,0,0]],[[0,0,0],[0,0,0],[0,0,0],[0,0,0],[0,0,0],[0,0,0],[0,0,0],[0,0,0],[0,0,0],[0,0,0],[0,0,0],[35,36,35],[147,147,147],[224,224,224],[130,130,130],[6,6,6],[0,0,0],[6,6,6],[87,87,87],[193,193,193],[247,247,247],[182,182,182],[36,37,36],[0,0,0],[0,0,0],[0,0,0],[0,0,0],[0,0,0],[0,0,0],[0,0,0],[0,0,0],[0,0,0]],[[0,0,0],[0,0,0],[0,0,0],[0,0,0],[0,0,0],[0,0,0],[0,0,0],[0,0,0],[0,0,0],[0,0,0],[2,2,2],[71,71,71],[180,180,180],[202,202,202],[72,72,72],[0,0,0],[0,0,0],[0,0,0],[24,24,24],[138,138,138],[233,233,233],[209,209,209],[90,90,90],[2,2,2],[0,0,0],[0,0,0],[0,0,0],[0,0,0],[0,0,0],[0,0,0],[0,0,0],[0,0,0]],[[0,0,0],[0,0,0],[0,0,0],[0,0,0],[0,0,0],[0,0,0],[0,0,0],[0,0,0],[0,0,0],[0,0,0],[12,12,12],[127,127,127],[230,230,230],[198,198,198],[59,60,60],[0,0,0],[0,0,0],[0,0,0],[0,0,0],[90,90,90],[202,202,202],[238,238,238],[167,167,167],[10,10,10],[0,0,0],[0,0,0],[0,0,0],[0,0,0],[0,0,0],[0,0,0],[0,0,0],[0,0,0]],[[0,0,0],[0,0,0],[0,0,0],[0,0,0],[0,0,0],[0,0,0],[0,0,0],[0,0,0],[0,0,0],[0,0,0],[25,25,25],[160,160,160],[254,254,254],[201,201,201],[68,68,68],[6,6,6],[9,9,9],[11,11,11],[13,13,13],[87,87,87],[192,192,192],[254,254,254],[211,211,211],[22,22,22],[1,1,1],[0,0,0],[0,0,0],[0,0,0],[0,0,0],[0,0,0],[0,0,0],[0,0,0]],[[0,0,0],[0,0,0],[0,0,0],[0,0,0],[0,0,0],[0,0,0],[0,0,0],[0,0,0],[0,0,0],[0,0,0],[25,25,25],[160,160,160],[254,254,254],[238,238,238],[183,183,183],[104,104,104],[153,153,153],[185,185,185],[209,209,209],[232,232,232],[248,247,248],[254,254,254],[211,211,211],[22,22,22],[1,1,1],[0,0,0],[0,0,0],[0,0,0],[0,0,0],[0,0,0],[0,0,0],[0,0,0]],[[0,0,0],[0,0,0],[0,0,0],[0,0,0],[0,0,0],[0,0,0],[0,0,0],[0,0,0],[0,0,0],[0,0,0],[15,15,15],[136,136,136],[237,237,237],[251,252,252],[242,242,242],[227,227,227],[237,237,237],[243,243,243],[248,247,248],[251,252,252],[254,254,254],[243,243,243],[180,180,180],[14,14,14],[0,0,0],[0,0,0],[0,0,0],[0,0,0],[0,0,0],[0,0,0],[0,0,0],[0,0,0]],[[0,0,0],[0,0,0],[0,0,0],[0,0,0],[0,0,0],[0,0,0],[0,0,0],[0,0,0],[0,0,0],[0,0,0],[3,3,3],[84,84,84],[192,192,192],[254,254,254],[254,254,254],[254,254,254],[254,254,254],[254,254,254],[254,254,254],[254,254,254],[254,254,254],[216,216,216],[108,108,108],[3,3,3],[0,0,0],[0,0,0],[0,0,0],[0,0,0],[0,0,0],[0,0,0],[0,0,0],[0,0,0]],[[0,0,0],[0,0,0],[0,0,0],[0,0,0],[0,0,0],[0,0,0],[0,0,0],[0,0,0],[0,0,0],[0,0,0],[0,0,0],[33,34,33],[116,116,116],[200,200,200],[238,238,238],[253,253,253],[237,237,237],[239,239,239],[210,210,210],[176,176,176],[140,140,140],[92,92,92],[34,35,34],[0,0,0],[0,0,0],[0,0,0],[0,0,0],[0,0,0],[0,0,0],[0,0,0],[0,0,0],[0,0,0]],[[0,0,0],[0,0,0],[0,0,0],[0,0,0],[0,0,0],[0,0,0],[0,0,0],[0,0,0],[0,0,0],[0,0,0],[0,0,0],[6,6,6],[38,39,38],[89,89,89],[127,127,127],[142,142,142],[125,125,125],[128,128,128],[99,99,99],[65,65,65],[28,28,28],[1,1,1],[0,0,0],[0,0,0],[0,0,0],[0,0,0],[0,0,0],[0,0,0],[0,0,0],[0,0,0],[0,0,0],[0,0,0]],[[0,0,0],[0,0,0],[0,0,0],[0,0,0],[0,0,0],[0,0,0],[0,0,0],[0,0,0],[0,0,0],[0,0,0],[0,0,0],[0,0,0],[0,0,0],[0,0,0],[0,0,0],[0,0,0],[0,0,0],[0,0,0],[0,0,0],[0,0,0],[0,0,0],[0,0,0],[0,0,0],[0,0,0],[0,0,0],[0,0,0],[0,0,0],[0,0,0],[0,0,0],[0,0,0],[0,0,0],[0,0,0]],[[0,0,0],[0,0,0],[0,0,0],[0,0,0],[0,0,0],[0,0,0],[0,0,0],[0,0,0],[0,0,0],[0,0,0],[0,0,0],[0,0,0],[0,0,0],[0,0,0],[0,0,0],[0,0,0],[0,0,0],[0,0,0],[0,0,0],[0,0,0],[0,0,0],[0,0,0],[0,0,0],[0,0,0],[0,0,0],[0,0,0],[0,0,0],[0,0,0],[0,0,0],[0,0,0],[0,0,0],[0,0,0]],[[0,0,0],[0,0,0],[0,0,0],[0,0,0],[0,0,0],[0,0,0],[0,0,0],[0,0,0],[0,0,0],[0,0,0],[0,0,0],[0,0,0],[0,0,0],[0,0,0],[0,0,0],[0,0,0],[0,0,0],[0,0,0],[0,0,0],[0,0,0],[0,0,0],[0,0,0],[0,0,0],[0,0,0],[0,0,0],[0,0,0],[0,0,0],[0,0,0],[0,0,0],[0,0,0],[0,0,0],[0,0,0]]],\"type\":\"image\",\"xaxis\":\"x6\",\"yaxis\":\"y6\"},{\"z\":[[[0,0,0],[0,0,0],[0,0,0],[0,0,0],[0,0,0],[0,0,0],[0,0,0],[0,0,0],[0,0,0],[0,0,0],[0,0,0],[0,0,0],[0,0,0],[0,0,0],[0,0,0],[0,0,0],[0,0,0],[0,0,0],[0,0,0],[0,0,0],[0,0,0],[0,0,0],[0,0,0],[0,0,0],[0,0,0],[0,0,0],[0,0,0],[0,0,0],[0,0,0],[0,0,0],[0,0,0],[0,0,0]],[[0,0,0],[0,0,0],[0,0,0],[0,0,0],[0,0,0],[0,0,0],[0,0,0],[0,0,0],[0,0,0],[0,0,0],[0,0,0],[0,0,0],[0,0,0],[0,0,0],[0,0,0],[0,0,0],[0,0,0],[0,0,0],[0,0,0],[0,0,0],[0,0,0],[0,0,0],[0,0,0],[0,0,0],[0,0,0],[0,0,0],[0,0,0],[0,0,0],[0,0,0],[0,0,0],[0,0,0],[0,0,0]],[[0,0,0],[0,0,0],[0,0,0],[0,0,0],[0,0,0],[0,0,0],[0,0,0],[0,0,0],[0,0,0],[0,0,0],[0,0,0],[0,0,0],[0,0,0],[0,0,0],[0,0,0],[0,0,0],[0,0,0],[0,0,0],[0,0,0],[0,0,0],[0,0,0],[0,0,0],[0,0,0],[0,0,0],[0,0,0],[0,0,0],[0,0,0],[0,0,0],[0,0,0],[0,0,0],[0,0,0],[0,0,0]],[[0,0,0],[0,0,0],[0,0,0],[0,0,0],[0,0,0],[0,0,0],[0,0,0],[0,0,0],[0,0,0],[0,0,0],[0,0,0],[0,0,0],[0,0,0],[0,0,0],[0,0,0],[0,0,0],[0,0,0],[0,0,0],[0,0,0],[0,0,0],[0,0,0],[0,0,0],[0,0,0],[0,0,0],[0,0,0],[0,0,0],[0,0,0],[0,0,0],[0,0,0],[0,0,0],[0,0,0],[0,0,0]],[[0,0,0],[0,0,0],[0,0,0],[0,0,0],[0,0,0],[0,0,0],[0,0,0],[0,0,0],[0,0,0],[0,0,0],[0,0,0],[0,0,0],[0,0,0],[0,0,0],[0,0,0],[0,0,0],[0,0,0],[0,0,0],[0,0,0],[0,0,0],[0,0,0],[0,0,0],[0,0,0],[0,0,0],[0,0,0],[0,0,0],[0,0,0],[0,0,0],[0,0,0],[0,0,0],[0,0,0],[0,0,0]],[[0,0,0],[0,0,0],[0,0,0],[0,0,0],[0,0,0],[0,0,0],[0,0,0],[0,0,0],[0,0,0],[0,0,0],[0,0,0],[14,14,14],[43,44,43],[70,70,70],[74,74,74],[50,51,51],[40,41,40],[16,16,16],[4,4,4],[0,0,0],[0,0,0],[0,0,0],[0,0,0],[0,0,0],[0,0,0],[0,0,0],[0,0,0],[0,0,0],[0,0,0],[0,0,0],[0,0,0],[0,0,0]],[[0,0,0],[0,0,0],[0,0,0],[0,0,0],[0,0,0],[0,0,0],[0,0,0],[0,0,0],[0,0,0],[0,0,0],[1,1,1],[61,62,62],[157,157,157],[230,230,230],[241,241,241],[181,181,181],[155,155,155],[91,91,91],[54,55,55],[29,29,29],[10,10,10],[1,1,1],[0,0,0],[0,0,0],[0,0,0],[0,0,0],[0,0,0],[0,0,0],[0,0,0],[0,0,0],[0,0,0],[0,0,0]],[[0,0,0],[0,0,0],[0,0,0],[0,0,0],[0,0,0],[0,0,0],[0,0,0],[0,0,0],[0,0,0],[0,0,0],[12,12,12],[128,128,128],[231,231,231],[253,253,253],[253,253,253],[251,252,252],[253,253,253],[253,253,253],[231,231,231],[157,157,157],[73,73,73],[22,22,22],[7,7,7],[0,0,0],[0,0,0],[0,0,0],[0,0,0],[0,0,0],[0,0,0],[0,0,0],[0,0,0],[0,0,0]],[[0,0,0],[0,0,0],[0,0,0],[0,0,0],[0,0,0],[0,0,0],[0,0,0],[0,0,0],[0,0,0],[0,0,0],[20,20,20],[154,154,154],[251,252,252],[251,252,252],[247,247,247],[237,237,237],[247,247,247],[251,252,252],[251,252,252],[247,247,247],[241,241,241],[198,198,198],[87,87,87],[2,2,2],[0,0,0],[0,0,0],[0,0,0],[0,0,0],[0,0,0],[0,0,0],[0,0,0],[0,0,0]],[[0,0,0],[0,0,0],[0,0,0],[0,0,0],[0,0,0],[0,0,0],[0,0,0],[0,0,0],[0,0,0],[0,0,0],[10,10,10],[125,125,125],[229,229,229],[248,247,248],[207,207,207],[83,83,83],[131,131,131],[215,215,215],[244,244,244],[251,251,251],[253,253,253],[243,243,243],[182,182,182],[20,20,20],[1,1,1],[0,0,0],[0,0,0],[0,0,0],[0,0,0],[0,0,0],[0,0,0],[0,0,0]],[[0,0,0],[0,0,0],[0,0,0],[0,0,0],[0,0,0],[0,0,0],[0,0,0],[0,0,0],[0,0,0],[0,0,0],[2,2,2],[60,61,61],[149,149,149],[219,219,219],[223,223,223],[117,117,117],[54,55,55],[100,100,100],[198,198,198],[246,246,246],[250,250,250],[210,210,210],[108,108,108],[7,7,7],[0,0,0],[0,0,0],[0,0,0],[0,0,0],[0,0,0],[0,0,0],[0,0,0],[0,0,0]],[[0,0,0],[0,0,0],[0,0,0],[0,0,0],[0,0,0],[0,0,0],[0,0,0],[0,0,0],[0,0,0],[0,0,0],[0,0,0],[14,14,14],[60,61,61],[151,151,151],[245,245,245],[207,207,207],[145,145,145],[153,153,153],[216,216,216],[245,245,245],[205,205,205],[116,116,116],[27,27,27],[0,0,0],[0,0,0],[0,0,0],[0,0,0],[0,0,0],[0,0,0],[0,0,0],[0,0,0],[0,0,0]],[[0,0,0],[0,0,0],[0,0,0],[0,0,0],[0,0,0],[0,0,0],[0,0,0],[0,0,0],[0,0,0],[0,0,0],[0,0,0],[0,0,0],[13,13,13],[82,82,82],[205,205,205],[251,252,252],[241,241,241],[241,241,241],[249,249,249],[224,224,224],[133,133,133],[31,32,31],[0,0,0],[0,0,0],[0,0,0],[0,0,0],[0,0,0],[0,0,0],[0,0,0],[0,0,0],[0,0,0],[0,0,0]],[[0,0,0],[0,0,0],[0,0,0],[0,0,0],[0,0,0],[0,0,0],[0,0,0],[0,0,0],[0,0,0],[0,0,0],[0,0,0],[0,0,0],[4,4,4],[34,35,34],[115,115,115],[238,238,238],[251,252,252],[253,253,253],[242,242,242],[165,165,165],[60,61,61],[0,0,0],[0,0,0],[0,0,0],[0,0,0],[0,0,0],[0,0,0],[0,0,0],[0,0,0],[0,0,0],[0,0,0],[0,0,0]],[[0,0,0],[0,0,0],[0,0,0],[0,0,0],[0,0,0],[0,0,0],[0,0,0],[0,0,0],[0,0,0],[0,0,0],[0,0,0],[0,0,0],[0,0,0],[7,7,7],[58,59,59],[211,211,211],[250,250,250],[253,253,253],[222,222,222],[102,102,102],[10,10,10],[0,0,0],[0,0,0],[0,0,0],[0,0,0],[0,0,0],[0,0,0],[0,0,0],[0,0,0],[0,0,0],[0,0,0],[0,0,0]],[[0,0,0],[0,0,0],[0,0,0],[0,0,0],[0,0,0],[0,0,0],[0,0,0],[0,0,0],[0,0,0],[0,0,0],[0,0,0],[0,0,0],[0,0,0],[24,24,24],[104,104,104],[234,234,234],[251,252,252],[253,253,253],[240,240,240],[123,123,123],[21,21,21],[0,0,0],[0,0,0],[0,0,0],[0,0,0],[0,0,0],[0,0,0],[0,0,0],[0,0,0],[0,0,0],[0,0,0],[0,0,0]],[[0,0,0],[0,0,0],[0,0,0],[0,0,0],[0,0,0],[0,0,0],[0,0,0],[0,0,0],[0,0,0],[0,0,0],[0,0,0],[0,0,0],[12,12,12],[90,90,90],[227,227,227],[251,252,252],[253,253,253],[253,253,253],[251,252,252],[153,153,153],[42,43,42],[0,0,0],[0,0,0],[0,0,0],[0,0,0],[0,0,0],[0,0,0],[0,0,0],[0,0,0],[0,0,0],[0,0,0],[0,0,0]],[[0,0,0],[0,0,0],[0,0,0],[0,0,0],[0,0,0],[0,0,0],[0,0,0],[0,0,0],[0,0,0],[0,0,0],[0,0,0],[0,0,0],[29,29,29],[126,126,126],[247,247,247],[234,234,234],[131,131,131],[199,199,199],[242,242,242],[197,197,197],[87,87,87],[0,0,0],[0,0,0],[0,0,0],[0,0,0],[0,0,0],[0,0,0],[0,0,0],[0,0,0],[0,0,0],[0,0,0],[0,0,0]],[[0,0,0],[0,0,0],[0,0,0],[0,0,0],[0,0,0],[0,0,0],[0,0,0],[0,0,0],[0,0,0],[0,0,0],[0,0,0],[0,0,0],[60,61,61],[175,175,175],[233,233,233],[137,137,137],[35,36,35],[112,112,112],[215,215,215],[232,232,232],[132,132,132],[15,15,15],[0,0,0],[0,0,0],[0,0,0],[0,0,0],[0,0,0],[0,0,0],[0,0,0],[0,0,0],[0,0,0],[0,0,0]],[[0,0,0],[0,0,0],[0,0,0],[0,0,0],[0,0,0],[0,0,0],[0,0,0],[0,0,0],[0,0,0],[0,0,0],[0,0,0],[9,9,9],[100,100,100],[218,218,218],[212,212,212],[69,69,69],[3,3,3],[39,40,39],[173,173,173],[238,238,238],[187,187,187],[78,78,78],[5,5,5],[0,0,0],[0,0,0],[0,0,0],[0,0,0],[0,0,0],[0,0,0],[0,0,0],[0,0,0],[0,0,0]],[[0,0,0],[0,0,0],[0,0,0],[0,0,0],[0,0,0],[0,0,0],[0,0,0],[0,0,0],[0,0,0],[0,0,0],[0,0,0],[28,28,28],[136,136,136],[237,237,237],[186,186,186],[26,26,26],[1,1,1],[5,5,5],[143,143,143],[232,232,232],[233,233,233],[149,149,149],[18,18,18],[0,0,0],[0,0,0],[0,0,0],[0,0,0],[0,0,0],[0,0,0],[0,0,0],[0,0,0],[0,0,0]],[[0,0,0],[0,0,0],[0,0,0],[0,0,0],[0,0,0],[0,0,0],[0,0,0],[0,0,0],[0,0,0],[0,0,0],[0,0,0],[58,59,59],[170,170,170],[237,237,237],[165,165,165],[0,0,0],[0,0,0],[0,0,0],[137,137,137],[229,229,229],[253,253,253],[186,186,186],[29,29,29],[0,0,0],[0,0,0],[0,0,0],[0,0,0],[0,0,0],[0,0,0],[0,0,0],[0,0,0],[0,0,0]],[[0,0,0],[0,0,0],[0,0,0],[0,0,0],[0,0,0],[0,0,0],[0,0,0],[0,0,0],[0,0,0],[0,0,0],[0,0,0],[91,91,91],[201,201,201],[238,238,238],[169,169,169],[4,4,4],[0,0,0],[0,0,0],[123,123,123],[220,220,220],[247,247,247],[174,174,174],[24,24,24],[0,0,0],[0,0,0],[0,0,0],[0,0,0],[0,0,0],[0,0,0],[0,0,0],[0,0,0],[0,0,0]],[[0,0,0],[0,0,0],[0,0,0],[0,0,0],[0,0,0],[0,0,0],[0,0,0],[0,0,0],[0,0,0],[0,0,0],[0,0,0],[91,91,91],[201,201,201],[245,245,245],[191,191,191],[37,38,37],[3,3,3],[0,0,0],[66,66,66],[185,185,185],[217,217,217],[120,120,120],[3,3,3],[0,0,0],[0,0,0],[0,0,0],[0,0,0],[0,0,0],[0,0,0],[0,0,0],[0,0,0],[0,0,0]],[[0,0,0],[0,0,0],[0,0,0],[0,0,0],[0,0,0],[0,0,0],[0,0,0],[0,0,0],[0,0,0],[0,0,0],[0,0,0],[91,91,91],[201,201,201],[251,252,252],[241,241,241],[187,187,187],[36,37,36],[4,4,4],[125,125,125],[221,221,221],[195,195,195],[82,82,82],[0,0,0],[0,0,0],[0,0,0],[0,0,0],[0,0,0],[0,0,0],[0,0,0],[0,0,0],[0,0,0],[0,0,0]],[[0,0,0],[0,0,0],[0,0,0],[0,0,0],[0,0,0],[0,0,0],[0,0,0],[0,0,0],[0,0,0],[0,0,0],[0,0,0],[30,30,30],[108,108,108],[202,202,202],[251,252,252],[240,240,240],[180,180,180],[107,107,107],[177,177,177],[221,221,221],[144,144,144],[28,28,28],[0,0,0],[0,0,0],[0,0,0],[0,0,0],[0,0,0],[0,0,0],[0,0,0],[0,0,0],[0,0,0],[0,0,0]],[[0,0,0],[0,0,0],[0,0,0],[0,0,0],[0,0,0],[0,0,0],[0,0,0],[0,0,0],[0,0,0],[0,0,0],[0,0,0],[4,4,4],[34,35,34],[117,117,117],[232,232,232],[251,252,252],[241,241,241],[215,215,215],[233,233,233],[211,211,211],[108,108,108],[4,4,4],[0,0,0],[0,0,0],[0,0,0],[0,0,0],[0,0,0],[0,0,0],[0,0,0],[0,0,0],[0,0,0],[0,0,0]],[[0,0,0],[0,0,0],[0,0,0],[0,0,0],[0,0,0],[0,0,0],[0,0,0],[0,0,0],[0,0,0],[0,0,0],[0,0,0],[0,0,0],[4,4,4],[41,42,41],[124,124,124],[184,184,184],[199,199,199],[228,228,227],[199,199,199],[131,131,131],[50,51,51],[0,0,0],[0,0,0],[0,0,0],[0,0,0],[0,0,0],[0,0,0],[0,0,0],[0,0,0],[0,0,0],[0,0,0],[0,0,0]],[[0,0,0],[0,0,0],[0,0,0],[0,0,0],[0,0,0],[0,0,0],[0,0,0],[0,0,0],[0,0,0],[0,0,0],[0,0,0],[0,0,0],[0,0,0],[4,4,4],[25,25,25],[74,74,74],[88,88,88],[118,118,118],[88,88,88],[40,41,40],[8,8,8],[0,0,0],[0,0,0],[0,0,0],[0,0,0],[0,0,0],[0,0,0],[0,0,0],[0,0,0],[0,0,0],[0,0,0],[0,0,0]],[[0,0,0],[0,0,0],[0,0,0],[0,0,0],[0,0,0],[0,0,0],[0,0,0],[0,0,0],[0,0,0],[0,0,0],[0,0,0],[0,0,0],[0,0,0],[0,0,0],[0,0,0],[0,0,0],[0,0,0],[0,0,0],[0,0,0],[0,0,0],[0,0,0],[0,0,0],[0,0,0],[0,0,0],[0,0,0],[0,0,0],[0,0,0],[0,0,0],[0,0,0],[0,0,0],[0,0,0],[0,0,0]],[[0,0,0],[0,0,0],[0,0,0],[0,0,0],[0,0,0],[0,0,0],[0,0,0],[0,0,0],[0,0,0],[0,0,0],[0,0,0],[0,0,0],[0,0,0],[0,0,0],[0,0,0],[0,0,0],[0,0,0],[0,0,0],[0,0,0],[0,0,0],[0,0,0],[0,0,0],[0,0,0],[0,0,0],[0,0,0],[0,0,0],[0,0,0],[0,0,0],[0,0,0],[0,0,0],[0,0,0],[0,0,0]],[[0,0,0],[0,0,0],[0,0,0],[0,0,0],[0,0,0],[0,0,0],[0,0,0],[0,0,0],[0,0,0],[0,0,0],[0,0,0],[0,0,0],[0,0,0],[0,0,0],[0,0,0],[0,0,0],[0,0,0],[0,0,0],[0,0,0],[0,0,0],[0,0,0],[0,0,0],[0,0,0],[0,0,0],[0,0,0],[0,0,0],[0,0,0],[0,0,0],[0,0,0],[0,0,0],[0,0,0],[0,0,0]]],\"type\":\"image\",\"xaxis\":\"x7\",\"yaxis\":\"y7\"},{\"z\":[[[0,0,0],[0,0,0],[0,0,0],[0,0,0],[0,0,0],[0,0,0],[0,0,0],[0,0,0],[0,0,0],[0,0,0],[0,0,0],[0,0,0],[0,0,0],[0,0,0],[0,0,0],[0,0,0],[0,0,0],[0,0,0],[0,0,0],[0,0,0],[0,0,0],[0,0,0],[0,0,0],[0,0,0],[0,0,0],[0,0,0],[0,0,0],[0,0,0],[0,0,0],[0,0,0],[0,0,0],[0,0,0]],[[0,0,0],[0,0,0],[0,0,0],[0,0,0],[0,0,0],[0,0,0],[0,0,0],[0,0,0],[0,0,0],[0,0,0],[0,0,0],[0,0,0],[0,0,0],[0,0,0],[0,0,0],[0,0,0],[0,0,0],[0,0,0],[0,0,0],[0,0,0],[0,0,0],[0,0,0],[0,0,0],[0,0,0],[0,0,0],[0,0,0],[0,0,0],[0,0,0],[0,0,0],[0,0,0],[0,0,0],[0,0,0]],[[0,0,0],[0,0,0],[0,0,0],[0,0,0],[0,0,0],[0,0,0],[0,0,0],[0,0,0],[0,0,0],[0,0,0],[0,0,0],[0,0,0],[0,0,0],[0,0,0],[0,0,0],[0,0,0],[0,0,0],[0,0,0],[0,0,0],[0,0,0],[0,0,0],[0,0,0],[0,0,0],[0,0,0],[0,0,0],[0,0,0],[0,0,0],[0,0,0],[0,0,0],[0,0,0],[0,0,0],[0,0,0]],[[0,0,0],[0,0,0],[0,0,0],[0,0,0],[0,0,0],[0,0,0],[0,0,0],[0,0,0],[0,0,0],[0,0,0],[0,0,0],[0,0,0],[0,0,0],[0,0,0],[0,0,0],[0,0,0],[0,0,0],[0,0,0],[0,0,0],[0,0,0],[0,0,0],[0,0,0],[0,0,0],[0,0,0],[0,0,0],[0,0,0],[0,0,0],[0,0,0],[0,0,0],[0,0,0],[0,0,0],[0,0,0]],[[0,0,0],[0,0,0],[0,0,0],[0,0,0],[0,0,0],[0,0,0],[0,0,0],[0,0,0],[0,0,0],[0,0,0],[0,0,0],[0,0,0],[0,0,0],[0,0,0],[0,0,0],[0,0,0],[0,0,0],[0,0,0],[0,0,0],[0,0,0],[0,0,0],[0,0,0],[0,0,0],[0,0,0],[0,0,0],[0,0,0],[0,0,0],[0,0,0],[0,0,0],[0,0,0],[0,0,0],[0,0,0]],[[0,0,0],[0,0,0],[0,0,0],[0,0,0],[0,0,0],[0,0,0],[0,0,0],[0,0,0],[0,0,0],[0,0,0],[0,0,0],[0,0,0],[0,0,0],[0,0,0],[0,0,0],[0,0,0],[0,0,0],[0,0,0],[0,0,0],[0,0,0],[0,0,0],[0,0,0],[0,0,0],[0,0,0],[0,0,0],[0,0,0],[0,0,0],[0,0,0],[0,0,0],[0,0,0],[0,0,0],[0,0,0]],[[0,0,0],[0,0,0],[0,0,0],[0,0,0],[0,0,0],[0,0,0],[0,0,0],[0,0,0],[0,0,0],[0,0,0],[0,0,0],[0,0,0],[0,0,0],[0,0,0],[0,0,0],[0,0,0],[0,0,0],[0,0,0],[0,0,0],[0,0,0],[0,0,0],[0,0,0],[0,0,0],[0,0,0],[0,0,0],[0,0,0],[0,0,0],[0,0,0],[0,0,0],[0,0,0],[0,0,0],[0,0,0]],[[0,0,0],[0,0,0],[0,0,0],[0,0,0],[0,0,0],[0,0,0],[0,0,0],[0,0,0],[0,0,0],[0,0,0],[0,0,0],[0,0,0],[0,0,0],[0,0,0],[0,0,0],[0,0,0],[0,0,0],[1,1,1],[3,3,3],[4,4,4],[7,7,7],[11,11,11],[13,13,13],[9,9,9],[4,4,4],[3,3,3],[0,0,0],[2,2,2],[1,1,1],[0,0,0],[0,0,0],[0,0,0]],[[0,0,0],[0,0,0],[0,0,0],[0,0,0],[0,0,0],[0,0,0],[0,0,0],[0,0,0],[0,0,0],[0,0,0],[0,0,0],[0,0,0],[0,0,0],[0,0,0],[0,0,0],[0,0,0],[0,0,0],[23,23,23],[53,54,54],[79,79,79],[116,116,116],[173,173,173],[209,209,209],[145,145,145],[71,71,71],[54,55,55],[21,21,21],[38,39,38],[36,37,36],[0,0,0],[0,0,0],[0,0,0]],[[0,0,0],[0,0,0],[0,0,0],[0,0,0],[0,0,0],[0,0,0],[0,0,0],[0,0,0],[0,0,0],[0,0,0],[0,0,0],[0,0,0],[0,0,0],[0,0,0],[10,10,10],[63,63,63],[122,122,122],[188,188,188],[213,213,213],[222,222,222],[214,214,214],[194,194,194],[172,172,172],[147,147,147],[186,186,186],[167,167,167],[144,144,144],[183,183,183],[123,123,123],[0,0,0],[0,0,0],[0,0,0]],[[0,0,0],[0,0,0],[0,0,0],[0,0,0],[0,0,0],[0,0,0],[0,0,0],[0,0,0],[0,0,0],[0,0,0],[0,0,0],[0,0,0],[18,18,18],[69,69,69],[136,136,136],[180,180,180],[193,193,193],[205,205,205],[153,153,153],[119,119,119],[93,93,93],[63,63,63],[67,67,67],[140,140,140],[200,200,200],[215,215,215],[223,223,223],[221,221,221],[123,123,123],[0,0,0],[0,0,0],[0,0,0]],[[0,0,0],[0,0,0],[0,0,0],[0,0,0],[0,0,0],[0,0,0],[0,0,0],[0,0,0],[0,0,0],[0,0,0],[9,9,9],[50,51,51],[116,116,116],[181,181,181],[220,220,220],[206,206,206],[158,158,158],[103,103,103],[49,50,49],[24,24,24],[11,11,11],[0,0,0],[13,13,13],[86,86,86],[207,207,207],[239,239,239],[243,243,243],[162,162,162],[55,56,56],[0,0,0],[0,0,0],[0,0,0]],[[0,0,0],[0,0,0],[0,0,0],[0,0,0],[0,0,0],[0,0,0],[0,0,0],[0,0,0],[2,2,2],[37,38,37],[101,101,101],[162,162,162],[208,208,208],[210,210,210],[157,157,157],[107,107,107],[65,65,65],[16,16,16],[1,1,1],[0,0,0],[14,14,14],[51,52,52],[97,97,97],[137,137,137],[234,234,234],[232,232,232],[168,168,168],[67,67,67],[5,5,5],[0,0,0],[0,0,0],[0,0,0]],[[0,0,0],[0,0,0],[0,0,0],[0,0,0],[0,0,0],[0,0,0],[1,1,1],[10,10,10],[53,54,54],[133,133,133],[219,219,219],[238,238,238],[195,195,195],[117,117,117],[32,33,32],[0,0,0],[0,0,0],[0,0,0],[0,0,0],[28,28,28],[87,87,87],[161,161,161],[226,226,226],[251,252,252],[231,231,231],[157,157,157],[51,52,52],[4,4,4],[0,0,0],[0,0,0],[0,0,0],[0,0,0]],[[0,0,0],[0,0,0],[0,0,0],[0,0,0],[0,0,0],[1,1,1],[15,15,15],[65,65,65],[174,174,174],[232,232,232],[220,220,220],[170,170,170],[84,84,84],[7,7,7],[2,2,2],[9,9,9],[20,20,20],[32,33,32],[37,38,37],[110,110,110],[199,199,199],[247,247,247],[251,252,252],[239,239,239],[150,150,150],[33,34,33],[1,1,1],[0,0,0],[0,0,0],[0,0,0],[0,0,0],[0,0,0]],[[0,0,0],[0,0,0],[0,0,0],[0,0,0],[0,0,0],[11,11,11],[68,68,68],[198,198,198],[247,247,247],[203,203,203],[103,103,103],[26,26,26],[0,0,0],[8,8,8],[29,29,29],[66,66,66],[121,121,121],[178,178,178],[197,197,197],[181,181,181],[186,186,186],[224,224,224],[241,241,241],[190,190,190],[26,26,26],[2,2,2],[0,0,0],[0,0,0],[0,0,0],[0,0,0],[0,0,0],[0,0,0]],[[0,0,0],[0,0,0],[0,0,0],[0,0,0],[0,0,0],[40,41,40],[152,152,152],[247,247,247],[216,216,216],[84,84,84],[19,19,19],[1,1,1],[20,20,20],[94,94,94],[205,205,205],[241,241,241],[244,244,244],[190,190,190],[125,125,125],[95,95,95],[158,158,158],[234,234,234],[188,188,188],[73,73,73],[5,5,5],[0,0,0],[0,0,0],[0,0,0],[0,0,0],[0,0,0],[0,0,0],[0,0,0]],[[0,0,0],[0,0,0],[0,0,0],[0,0,0],[0,0,0],[72,72,72],[236,236,236],[248,247,248],[156,156,156],[103,103,103],[120,120,120],[131,131,131],[162,162,162],[215,215,215],[232,232,232],[172,172,172],[87,87,87],[41,42,41],[50,51,51],[136,136,136],[216,216,216],[196,196,196],[78,78,78],[11,11,11],[0,0,0],[0,0,0],[0,0,0],[0,0,0],[0,0,0],[0,0,0],[0,0,0],[0,0,0]],[[0,0,0],[0,0,0],[0,0,0],[0,0,0],[0,0,0],[79,79,79],[254,254,254],[251,251,251],[219,219,219],[208,208,208],[220,220,220],[215,215,215],[186,186,186],[139,139,139],[87,87,87],[47,48,47],[14,14,14],[28,28,28],[126,126,126],[211,211,211],[202,202,202],[109,109,109],[16,16,16],[0,0,0],[0,0,0],[0,0,0],[0,0,0],[0,0,0],[0,0,0],[0,0,0],[0,0,0],[0,0,0]],[[0,0,0],[0,0,0],[0,0,0],[0,0,0],[0,0,0],[52,53,53],[183,183,183],[235,235,235],[235,235,235],[182,182,182],[147,147,147],[123,123,123],[86,86,86],[39,40,39],[7,7,7],[0,0,0],[15,15,15],[124,124,124],[211,211,211],[214,214,214],[130,130,130],[33,34,33],[0,0,0],[0,0,0],[0,0,0],[0,0,0],[0,0,0],[0,0,0],[0,0,0],[0,0,0],[0,0,0],[0,0,0]],[[0,0,0],[0,0,0],[0,0,0],[0,0,0],[0,0,0],[18,18,18],[71,71,71],[124,124,124],[124,124,124],[71,71,71],[35,36,35],[17,17,17],[6,6,6],[0,0,0],[1,1,1],[17,17,17],[104,104,104],[215,215,215],[218,218,218],[137,137,137],[46,47,46],[1,1,1],[0,0,0],[0,0,0],[0,0,0],[0,0,0],[0,0,0],[0,0,0],[0,0,0],[0,0,0],[0,0,0],[0,0,0]],[[0,0,0],[0,0,0],[0,0,0],[0,0,0],[0,0,0],[0,0,0],[0,0,0],[0,0,0],[0,0,0],[0,0,0],[0,0,0],[0,0,0],[0,0,0],[2,2,2],[24,24,24],[106,106,106],[218,218,218],[213,213,213],[137,137,137],[44,45,44],[0,0,0],[0,0,0],[0,0,0],[0,0,0],[0,0,0],[0,0,0],[0,0,0],[0,0,0],[0,0,0],[0,0,0],[0,0,0],[0,0,0]],[[0,0,0],[0,0,0],[0,0,0],[0,0,0],[0,0,0],[0,0,0],[0,0,0],[0,0,0],[0,0,0],[0,0,0],[0,0,0],[0,0,0],[2,2,2],[24,24,24],[101,101,101],[251,252,252],[229,229,229],[117,117,117],[28,28,28],[0,0,0],[0,0,0],[0,0,0],[0,0,0],[0,0,0],[0,0,0],[0,0,0],[0,0,0],[0,0,0],[0,0,0],[0,0,0],[0,0,0],[0,0,0]],[[0,0,0],[0,0,0],[0,0,0],[0,0,0],[0,0,0],[0,0,0],[0,0,0],[0,0,0],[0,0,0],[0,0,0],[0,0,0],[1,1,1],[23,23,23],[109,109,109],[241,241,241],[234,234,234],[112,112,112],[22,22,22],[0,0,0],[0,0,0],[0,0,0],[0,0,0],[0,0,0],[0,0,0],[0,0,0],[0,0,0],[0,0,0],[0,0,0],[0,0,0],[0,0,0],[0,0,0],[0,0,0]],[[0,0,0],[0,0,0],[0,0,0],[0,0,0],[0,0,0],[0,0,0],[0,0,0],[0,0,0],[0,0,0],[0,0,0],[0,0,0],[23,23,23],[119,119,119],[228,228,227],[222,222,222],[86,86,86],[15,15,15],[1,1,1],[0,0,0],[0,0,0],[0,0,0],[0,0,0],[0,0,0],[0,0,0],[0,0,0],[0,0,0],[0,0,0],[0,0,0],[0,0,0],[0,0,0],[0,0,0],[0,0,0]],[[0,0,0],[0,0,0],[0,0,0],[0,0,0],[0,0,0],[0,0,0],[0,0,0],[0,0,0],[0,0,0],[0,0,0],[46,47,46],[137,137,137],[212,212,212],[204,204,204],[103,103,103],[13,13,13],[1,1,1],[0,0,0],[0,0,0],[0,0,0],[0,0,0],[0,0,0],[0,0,0],[0,0,0],[0,0,0],[0,0,0],[0,0,0],[0,0,0],[0,0,0],[0,0,0],[0,0,0],[0,0,0]],[[0,0,0],[0,0,0],[0,0,0],[0,0,0],[0,0,0],[0,0,0],[0,0,0],[0,0,0],[4,4,4],[96,96,96],[175,175,175],[214,214,214],[174,174,174],[86,86,86],[23,23,23],[0,0,0],[0,0,0],[0,0,0],[0,0,0],[0,0,0],[0,0,0],[0,0,0],[0,0,0],[0,0,0],[0,0,0],[0,0,0],[0,0,0],[0,0,0],[0,0,0],[0,0,0],[0,0,0],[0,0,0]],[[0,0,0],[0,0,0],[0,0,0],[0,0,0],[0,0,0],[0,0,0],[2,2,2],[19,19,19],[91,91,91],[194,194,194],[215,215,215],[158,158,158],[73,73,73],[14,14,14],[0,0,0],[0,0,0],[0,0,0],[0,0,0],[0,0,0],[0,0,0],[0,0,0],[0,0,0],[0,0,0],[0,0,0],[0,0,0],[0,0,0],[0,0,0],[0,0,0],[0,0,0],[0,0,0],[0,0,0],[0,0,0]],[[0,0,0],[0,0,0],[0,0,0],[0,0,0],[0,0,0],[3,3,3],[32,33,32],[119,119,119],[198,198,198],[214,214,214],[138,138,138],[52,53,53],[7,7,7],[0,0,0],[0,0,0],[0,0,0],[0,0,0],[0,0,0],[0,0,0],[0,0,0],[0,0,0],[0,0,0],[0,0,0],[0,0,0],[0,0,0],[0,0,0],[0,0,0],[0,0,0],[0,0,0],[0,0,0],[0,0,0],[0,0,0]],[[0,0,0],[0,0,0],[0,0,0],[0,0,0],[0,0,0],[10,10,10],[68,68,68],[204,204,204],[211,211,211],[138,138,138],[37,38,37],[0,0,0],[0,0,0],[0,0,0],[0,0,0],[0,0,0],[0,0,0],[0,0,0],[0,0,0],[0,0,0],[0,0,0],[0,0,0],[0,0,0],[0,0,0],[0,0,0],[0,0,0],[0,0,0],[0,0,0],[0,0,0],[0,0,0],[0,0,0],[0,0,0]],[[0,0,0],[0,0,0],[0,0,0],[0,0,0],[0,0,0],[10,10,10],[53,54,54],[128,128,128],[99,99,99],[30,30,30],[4,4,4],[0,0,0],[0,0,0],[0,0,0],[0,0,0],[0,0,0],[0,0,0],[0,0,0],[0,0,0],[0,0,0],[0,0,0],[0,0,0],[0,0,0],[0,0,0],[0,0,0],[0,0,0],[0,0,0],[0,0,0],[0,0,0],[0,0,0],[0,0,0],[0,0,0]],[[0,0,0],[0,0,0],[0,0,0],[0,0,0],[0,0,0],[0,0,0],[0,0,0],[0,0,0],[0,0,0],[0,0,0],[0,0,0],[0,0,0],[0,0,0],[0,0,0],[0,0,0],[0,0,0],[0,0,0],[0,0,0],[0,0,0],[0,0,0],[0,0,0],[0,0,0],[0,0,0],[0,0,0],[0,0,0],[0,0,0],[0,0,0],[0,0,0],[0,0,0],[0,0,0],[0,0,0],[0,0,0]]],\"type\":\"image\",\"xaxis\":\"x8\",\"yaxis\":\"y8\"},{\"z\":[[[0,0,0],[0,0,0],[0,0,0],[0,0,0],[0,0,0],[0,0,0],[0,0,0],[0,0,0],[0,0,0],[0,0,0],[0,0,0],[0,0,0],[0,0,0],[0,0,0],[0,0,0],[0,0,0],[0,0,0],[0,0,0],[0,0,0],[0,0,0],[0,0,0],[0,0,0],[0,0,0],[0,0,0],[0,0,0],[0,0,0],[0,0,0],[0,0,0],[0,0,0],[0,0,0],[0,0,0],[0,0,0]],[[0,0,0],[0,0,0],[0,0,0],[0,0,0],[0,0,0],[0,0,0],[0,0,0],[0,0,0],[0,0,0],[0,0,0],[0,0,0],[0,0,0],[0,0,0],[0,0,0],[0,0,0],[0,0,0],[0,0,0],[0,0,0],[0,0,0],[0,0,0],[0,0,0],[0,0,0],[0,0,0],[0,0,0],[0,0,0],[0,0,0],[0,0,0],[0,0,0],[0,0,0],[0,0,0],[0,0,0],[0,0,0]],[[0,0,0],[0,0,0],[0,0,0],[0,0,0],[0,0,0],[0,0,0],[0,0,0],[0,0,0],[0,0,0],[0,0,0],[0,0,0],[0,0,0],[0,0,0],[0,0,0],[0,0,0],[0,0,0],[0,0,0],[0,0,0],[0,0,0],[0,0,0],[0,0,0],[0,0,0],[0,0,0],[0,0,0],[0,0,0],[0,0,0],[0,0,0],[0,0,0],[0,0,0],[0,0,0],[0,0,0],[0,0,0]],[[0,0,0],[0,0,0],[0,0,0],[0,0,0],[0,0,0],[0,0,0],[0,0,0],[0,0,0],[0,0,0],[0,0,0],[0,0,0],[0,0,0],[0,0,0],[0,0,0],[0,0,0],[0,0,0],[0,0,0],[0,0,0],[0,0,0],[0,0,0],[0,0,0],[0,0,0],[0,0,0],[0,0,0],[0,0,0],[0,0,0],[0,0,0],[0,0,0],[0,0,0],[0,0,0],[0,0,0],[0,0,0]],[[0,0,0],[0,0,0],[0,0,0],[0,0,0],[0,0,0],[0,0,0],[0,0,0],[0,0,0],[0,0,0],[0,0,0],[0,0,0],[0,0,0],[0,0,0],[0,0,0],[0,0,0],[0,0,0],[0,0,0],[0,0,0],[0,0,0],[0,0,0],[6,6,6],[31,32,31],[75,75,75],[109,109,109],[74,74,74],[41,42,41],[11,11,11],[0,0,0],[0,0,0],[0,0,0],[0,0,0],[0,0,0]],[[0,0,0],[0,0,0],[0,0,0],[0,0,0],[0,0,0],[0,0,0],[0,0,0],[0,0,0],[0,0,0],[0,0,0],[0,0,0],[0,0,0],[0,0,0],[0,0,0],[0,0,0],[0,0,0],[0,0,0],[0,0,0],[0,0,0],[24,24,24],[68,68,68],[126,126,126],[198,198,198],[250,250,250],[195,195,195],[145,145,145],[72,72,72],[18,18,18],[0,0,0],[0,0,0],[0,0,0],[0,0,0]],[[0,0,0],[0,0,0],[0,0,0],[0,0,0],[0,0,0],[0,0,0],[0,0,0],[0,0,0],[0,0,0],[0,0,0],[0,0,0],[0,0,0],[0,0,0],[0,0,0],[0,0,0],[0,0,0],[0,0,0],[7,7,7],[23,23,23],[104,104,104],[196,196,196],[246,246,246],[253,253,253],[249,249,249],[244,244,244],[251,252,252],[185,185,185],[75,75,75],[7,7,7],[0,0,0],[0,0,0],[0,0,0]],[[0,0,0],[0,0,0],[0,0,0],[0,0,0],[0,0,0],[0,0,0],[0,0,0],[0,0,0],[0,0,0],[0,0,0],[0,0,0],[0,0,0],[0,0,0],[0,0,0],[0,0,0],[0,0,0],[5,5,5],[53,54,54],[127,127,127],[211,211,211],[251,252,252],[251,252,252],[248,247,248],[224,224,224],[187,187,187],[238,238,238],[243,243,243],[146,146,146],[40,41,40],[0,0,0],[0,0,0],[0,0,0]],[[0,0,0],[0,0,0],[0,0,0],[0,0,0],[0,0,0],[0,0,0],[0,0,0],[0,0,0],[0,0,0],[0,0,0],[0,0,0],[0,0,0],[0,0,0],[0,0,0],[0,0,0],[5,5,5],[87,87,87],[208,208,208],[244,244,244],[246,246,246],[243,243,243],[242,242,242],[223,223,223],[121,121,121],[23,23,23],[167,167,167],[237,237,237],[142,142,142],[30,30,30],[0,0,0],[0,0,0],[0,0,0]],[[0,0,0],[0,0,0],[0,0,0],[0,0,0],[0,0,0],[0,0,0],[0,0,0],[0,0,0],[0,0,0],[0,0,0],[0,0,0],[0,0,0],[0,0,0],[0,0,0],[8,8,8],[57,58,58],[212,212,212],[247,247,247],[243,243,243],[175,175,175],[98,98,98],[68,68,68],[68,68,68],[21,21,21],[9,9,9],[143,143,143],[229,229,229],[160,160,160],[48,49,48],[0,0,0],[0,0,0],[0,0,0]],[[0,0,0],[0,0,0],[0,0,0],[0,0,0],[0,0,0],[0,0,0],[0,0,0],[0,0,0],[0,0,0],[0,0,0],[0,0,0],[0,0,0],[0,0,0],[20,20,20],[91,91,91],[192,192,192],[249,249,249],[217,217,217],[142,142,142],[67,67,67],[19,19,19],[8,8,8],[9,9,9],[0,0,0],[17,17,17],[173,173,173],[228,228,227],[146,146,146],[41,42,41],[0,0,0],[0,0,0],[0,0,0]],[[0,0,0],[0,0,0],[0,0,0],[0,0,0],[0,0,0],[0,0,0],[0,0,0],[0,0,0],[0,0,0],[0,0,0],[0,0,0],[0,0,0],[32,33,32],[109,109,109],[197,197,197],[248,247,248],[199,199,199],[110,110,110],[44,45,44],[10,10,10],[0,0,0],[0,0,0],[0,0,0],[2,2,2],[45,46,45],[206,206,206],[225,225,225],[112,112,112],[15,15,15],[0,0,0],[0,0,0],[0,0,0]],[[0,0,0],[0,0,0],[0,0,0],[0,0,0],[0,0,0],[0,0,0],[0,0,0],[0,0,0],[0,0,0],[0,0,0],[3,3,3],[27,27,27],[106,106,106],[202,202,202],[235,235,235],[196,196,196],[93,93,93],[22,22,22],[1,1,1],[0,0,0],[0,0,0],[0,0,0],[1,1,1],[20,20,20],[132,132,132],[227,227,227],[187,187,187],[70,70,70],[0,0,0],[0,0,0],[0,0,0],[0,0,0]],[[0,0,0],[0,0,0],[0,0,0],[0,0,0],[0,0,0],[0,0,0],[0,0,0],[0,0,0],[0,0,0],[11,11,11],[39,40,39],[107,107,107],[190,190,190],[222,222,222],[166,166,166],[89,89,89],[6,6,6],[0,0,0],[0,0,0],[0,0,0],[0,0,0],[0,0,0],[15,15,15],[83,83,83],[228,228,227],[220,220,220],[114,114,114],[29,29,29],[0,0,0],[0,0,0],[0,0,0],[0,0,0]],[[0,0,0],[0,0,0],[0,0,0],[0,0,0],[0,0,0],[0,0,0],[0,0,0],[0,0,0],[0,0,0],[50,51,51],[131,131,131],[212,212,212],[226,226,226],[151,151,151],[47,48,47],[0,0,0],[0,0,0],[0,0,0],[0,0,0],[0,0,0],[0,0,0],[6,6,6],[51,52,52],[183,183,183],[246,246,246],[164,164,164],[46,47,46],[1,1,1],[0,0,0],[0,0,0],[0,0,0],[0,0,0]],[[0,0,0],[0,0,0],[0,0,0],[0,0,0],[0,0,0],[0,0,0],[0,0,0],[0,0,0],[2,2,2],[119,119,119],[219,219,219],[238,238,238],[156,156,156],[44,45,44],[0,0,0],[0,0,0],[0,0,0],[0,0,0],[0,0,0],[0,0,0],[0,0,0],[24,24,24],[108,108,108],[226,226,226],[229,229,229],[93,93,93],[19,19,19],[0,0,0],[0,0,0],[0,0,0],[0,0,0],[0,0,0]],[[0,0,0],[0,0,0],[0,0,0],[0,0,0],[0,0,0],[0,0,0],[0,0,0],[2,2,2],[48,49,48],[205,205,205],[249,249,249],[173,173,173],[64,64,64],[2,2,2],[0,0,0],[0,0,0],[0,0,0],[0,0,0],[0,0,0],[0,0,0],[1,1,1],[52,53,53],[177,177,177],[247,247,247],[183,183,183],[36,37,36],[0,0,0],[0,0,0],[0,0,0],[0,0,0],[0,0,0],[0,0,0]],[[0,0,0],[0,0,0],[0,0,0],[0,0,0],[0,0,0],[0,0,0],[4,4,4],[34,35,34],[180,180,180],[241,241,241],[227,227,227],[109,109,109],[14,14,14],[0,0,0],[0,0,0],[0,0,0],[0,0,0],[0,0,0],[0,0,0],[1,1,1],[69,69,69],[180,180,180],[232,232,232],[202,202,202],[49,50,49],[7,7,7],[0,0,0],[0,0,0],[0,0,0],[0,0,0],[0,0,0],[0,0,0]],[[0,0,0],[0,0,0],[0,0,0],[0,0,0],[0,0,0],[0,0,0],[10,10,10],[70,70,70],[232,232,232],[247,247,247],[171,171,171],[60,61,61],[1,1,1],[0,0,0],[0,0,0],[0,0,0],[0,0,0],[0,0,0],[1,1,1],[57,58,58],[159,159,159],[228,228,227],[202,202,202],[122,122,122],[9,9,9],[0,0,0],[0,0,0],[0,0,0],[0,0,0],[0,0,0],[0,0,0],[0,0,0]],[[0,0,0],[0,0,0],[0,0,0],[0,0,0],[0,0,0],[6,6,6],[44,45,44],[153,153,153],[247,247,247],[201,201,201],[101,101,101],[25,25,25],[0,0,0],[0,0,0],[0,0,0],[0,0,0],[0,0,0],[1,1,1],[75,75,75],[163,163,163],[222,222,222],[209,209,209],[121,121,121],[38,39,38],[2,2,2],[0,0,0],[0,0,0],[0,0,0],[0,0,0],[0,0,0],[0,0,0],[0,0,0]],[[0,0,0],[0,0,0],[0,0,0],[0,0,0],[0,0,0],[24,24,24],[107,107,107],[227,227,227],[230,230,230],[113,113,113],[36,37,36],[6,6,6],[0,0,0],[0,0,0],[0,0,0],[0,0,0],[9,9,9],[63,63,63],[173,173,173],[233,233,233],[207,207,207],[122,122,122],[40,41,40],[0,0,0],[0,0,0],[0,0,0],[0,0,0],[0,0,0],[0,0,0],[0,0,0],[0,0,0],[0,0,0]],[[0,0,0],[0,0,0],[0,0,0],[0,0,0],[0,0,0],[40,41,40],[154,154,154],[250,250,250],[198,198,198],[42,43,42],[2,2,2],[0,0,0],[0,0,0],[0,0,0],[5,5,5],[33,34,33],[75,75,75],[172,172,172],[219,219,219],[199,199,199],[115,115,115],[25,25,25],[0,0,0],[0,0,0],[0,0,0],[0,0,0],[0,0,0],[0,0,0],[0,0,0],[0,0,0],[0,0,0],[0,0,0]],[[0,0,0],[0,0,0],[0,0,0],[0,0,0],[0,0,0],[39,40,39],[152,152,152],[247,247,247],[168,168,168],[36,37,36],[1,1,1],[0,0,0],[0,0,0],[9,9,9],[45,46,45],[132,132,132],[200,200,200],[233,233,233],[176,176,176],[83,83,83],[18,18,18],[0,0,0],[0,0,0],[0,0,0],[0,0,0],[0,0,0],[0,0,0],[0,0,0],[0,0,0],[0,0,0],[0,0,0],[0,0,0]],[[0,0,0],[0,0,0],[0,0,0],[0,0,0],[0,0,0],[42,43,42],[160,160,160],[245,245,245],[118,118,118],[22,22,22],[3,3,3],[7,7,7],[16,16,16],[65,65,65],[171,171,171],[249,249,249],[245,245,245],[186,186,186],[57,58,58],[3,3,3],[0,0,0],[0,0,0],[0,0,0],[0,0,0],[0,0,0],[0,0,0],[0,0,0],[0,0,0],[0,0,0],[0,0,0],[0,0,0],[0,0,0]],[[0,0,0],[0,0,0],[0,0,0],[0,0,0],[0,0,0],[30,30,30],[127,127,127],[251,251,251],[209,209,209],[75,75,75],[53,54,54],[121,121,121],[182,182,182],[213,213,213],[248,247,248],[245,245,245],[125,125,125],[40,41,40],[7,7,7],[0,0,0],[0,0,0],[0,0,0],[0,0,0],[0,0,0],[0,0,0],[0,0,0],[0,0,0],[0,0,0],[0,0,0],[0,0,0],[0,0,0],[0,0,0]],[[0,0,0],[0,0,0],[0,0,0],[0,0,0],[0,0,0],[29,29,29],[125,125,125],[253,253,253],[247,247,247],[218,218,218],[214,214,214],[230,230,230],[237,237,237],[213,213,213],[154,154,154],[71,71,71],[23,23,23],[5,5,5],[0,0,0],[0,0,0],[0,0,0],[0,0,0],[0,0,0],[0,0,0],[0,0,0],[0,0,0],[0,0,0],[0,0,0],[0,0,0],[0,0,0],[0,0,0],[0,0,0]],[[0,0,0],[0,0,0],[0,0,0],[0,0,0],[0,0,0],[11,11,11],[69,69,69],[206,206,206],[250,250,250],[251,252,252],[251,252,252],[218,218,218],[160,160,160],[96,96,96],[40,41,40],[9,9,9],[0,0,0],[0,0,0],[0,0,0],[0,0,0],[0,0,0],[0,0,0],[0,0,0],[0,0,0],[0,0,0],[0,0,0],[0,0,0],[0,0,0],[0,0,0],[0,0,0],[0,0,0],[0,0,0]],[[0,0,0],[0,0,0],[0,0,0],[0,0,0],[0,0,0],[1,1,1],[18,18,18],[81,81,81],[109,109,109],[111,111,111],[111,111,111],[88,88,88],[52,53,53],[18,18,18],[0,0,0],[0,0,0],[0,0,0],[0,0,0],[0,0,0],[0,0,0],[0,0,0],[0,0,0],[0,0,0],[0,0,0],[0,0,0],[0,0,0],[0,0,0],[0,0,0],[0,0,0],[0,0,0],[0,0,0],[0,0,0]],[[0,0,0],[0,0,0],[0,0,0],[0,0,0],[0,0,0],[0,0,0],[0,0,0],[0,0,0],[0,0,0],[0,0,0],[0,0,0],[0,0,0],[0,0,0],[0,0,0],[0,0,0],[0,0,0],[0,0,0],[0,0,0],[0,0,0],[0,0,0],[0,0,0],[0,0,0],[0,0,0],[0,0,0],[0,0,0],[0,0,0],[0,0,0],[0,0,0],[0,0,0],[0,0,0],[0,0,0],[0,0,0]],[[0,0,0],[0,0,0],[0,0,0],[0,0,0],[0,0,0],[0,0,0],[0,0,0],[0,0,0],[0,0,0],[0,0,0],[0,0,0],[0,0,0],[0,0,0],[0,0,0],[0,0,0],[0,0,0],[0,0,0],[0,0,0],[0,0,0],[0,0,0],[0,0,0],[0,0,0],[0,0,0],[0,0,0],[0,0,0],[0,0,0],[0,0,0],[0,0,0],[0,0,0],[0,0,0],[0,0,0],[0,0,0]],[[0,0,0],[0,0,0],[0,0,0],[0,0,0],[0,0,0],[0,0,0],[0,0,0],[0,0,0],[0,0,0],[0,0,0],[0,0,0],[0,0,0],[0,0,0],[0,0,0],[0,0,0],[0,0,0],[0,0,0],[0,0,0],[0,0,0],[0,0,0],[0,0,0],[0,0,0],[0,0,0],[0,0,0],[0,0,0],[0,0,0],[0,0,0],[0,0,0],[0,0,0],[0,0,0],[0,0,0],[0,0,0]],[[0,0,0],[0,0,0],[0,0,0],[0,0,0],[0,0,0],[0,0,0],[0,0,0],[0,0,0],[0,0,0],[0,0,0],[0,0,0],[0,0,0],[0,0,0],[0,0,0],[0,0,0],[0,0,0],[0,0,0],[0,0,0],[0,0,0],[0,0,0],[0,0,0],[0,0,0],[0,0,0],[0,0,0],[0,0,0],[0,0,0],[0,0,0],[0,0,0],[0,0,0],[0,0,0],[0,0,0],[0,0,0]]],\"type\":\"image\",\"xaxis\":\"x9\",\"yaxis\":\"y9\"},{\"z\":[[[0,0,0],[0,0,0],[0,0,0],[0,0,0],[0,0,0],[0,0,0],[0,0,0],[0,0,0],[0,0,0],[0,0,0],[0,0,0],[0,0,0],[0,0,0],[0,0,0],[0,0,0],[0,0,0],[0,0,0],[0,0,0],[0,0,0],[0,0,0],[0,0,0],[0,0,0],[0,0,0],[0,0,0],[0,0,0],[0,0,0],[0,0,0],[0,0,0],[0,0,0],[0,0,0],[0,0,0],[0,0,0]],[[0,0,0],[0,0,0],[0,0,0],[0,0,0],[0,0,0],[0,0,0],[0,0,0],[0,0,0],[0,0,0],[0,0,0],[0,0,0],[0,0,0],[0,0,0],[0,0,0],[0,0,0],[0,0,0],[0,0,0],[0,0,0],[0,0,0],[0,0,0],[0,0,0],[0,0,0],[0,0,0],[0,0,0],[0,0,0],[0,0,0],[0,0,0],[0,0,0],[0,0,0],[0,0,0],[0,0,0],[0,0,0]],[[0,0,0],[0,0,0],[0,0,0],[0,0,0],[0,0,0],[0,0,0],[0,0,0],[0,0,0],[0,0,0],[0,0,0],[0,0,0],[0,0,0],[0,0,0],[0,0,0],[0,0,0],[0,0,0],[0,0,0],[0,0,0],[0,0,0],[0,0,0],[0,0,0],[0,0,0],[0,0,0],[0,0,0],[0,0,0],[0,0,0],[0,0,0],[0,0,0],[0,0,0],[0,0,0],[0,0,0],[0,0,0]],[[0,0,0],[0,0,0],[0,0,0],[0,0,0],[0,0,0],[0,0,0],[0,0,0],[0,0,0],[0,0,0],[0,0,0],[0,0,0],[0,0,0],[0,0,0],[0,0,0],[0,0,0],[0,0,0],[0,0,0],[0,0,0],[0,0,0],[0,0,0],[0,0,0],[0,0,0],[0,0,0],[0,0,0],[0,0,0],[0,0,0],[0,0,0],[0,0,0],[0,0,0],[0,0,0],[0,0,0],[0,0,0]],[[0,0,0],[0,0,0],[0,0,0],[0,0,0],[0,0,0],[0,0,0],[0,0,0],[0,0,0],[0,0,0],[0,0,0],[0,0,0],[0,0,0],[0,0,0],[0,0,0],[0,0,0],[0,0,0],[0,0,0],[6,6,6],[44,45,44],[89,89,89],[91,91,91],[52,53,53],[22,22,22],[0,0,0],[0,0,0],[0,0,0],[0,0,0],[0,0,0],[0,0,0],[0,0,0],[0,0,0],[0,0,0]],[[0,0,0],[0,0,0],[0,0,0],[0,0,0],[0,0,0],[0,0,0],[0,0,0],[0,0,0],[0,0,0],[0,0,0],[0,0,0],[0,0,0],[0,0,0],[0,0,0],[0,0,0],[0,0,0],[16,16,16],[70,70,70],[146,146,146],[219,219,219],[222,222,222],[161,161,161],[99,99,99],[10,10,10],[0,0,0],[0,0,0],[0,0,0],[0,0,0],[0,0,0],[0,0,0],[0,0,0],[0,0,0]],[[0,0,0],[0,0,0],[0,0,0],[0,0,0],[0,0,0],[0,0,0],[0,0,0],[0,0,0],[0,0,0],[0,0,0],[0,0,0],[0,0,0],[0,0,0],[0,0,0],[1,1,1],[17,17,17],[89,89,89],[203,203,203],[245,245,245],[253,253,253],[253,253,253],[249,249,249],[208,208,208],[60,61,61],[4,4,4],[0,0,0],[0,0,0],[0,0,0],[0,0,0],[0,0,0],[0,0,0],[0,0,0]],[[0,0,0],[0,0,0],[0,0,0],[0,0,0],[0,0,0],[0,0,0],[0,0,0],[0,0,0],[0,0,0],[0,0,0],[0,0,0],[0,0,0],[0,0,0],[0,0,0],[15,15,15],[85,85,85],[238,238,238],[253,253,253],[253,253,253],[253,253,253],[253,253,253],[251,252,252],[241,241,241],[175,175,175],[33,34,33],[7,7,7],[1,1,1],[0,0,0],[0,0,0],[0,0,0],[0,0,0],[0,0,0]],[[0,0,0],[0,0,0],[0,0,0],[0,0,0],[0,0,0],[0,0,0],[0,0,0],[0,0,0],[0,0,0],[0,0,0],[0,0,0],[0,0,0],[0,0,0],[8,8,8],[65,65,65],[211,211,211],[250,250,250],[255,255,255],[254,254,254],[253,253,253],[246,246,246],[241,241,241],[251,252,252],[247,247,247],[226,226,226],[92,92,92],[22,22,22],[2,2,2],[0,0,0],[0,0,0],[0,0,0],[0,0,0]],[[0,0,0],[0,0,0],[0,0,0],[0,0,0],[0,0,0],[0,0,0],[0,0,0],[0,0,0],[0,0,0],[0,0,0],[0,0,0],[0,0,0],[2,2,2],[61,62,62],[196,196,196],[247,247,247],[253,253,253],[249,249,249],[204,204,204],[147,147,147],[91,91,91],[92,92,92],[186,186,186],[225,225,225],[249,249,249],[224,224,224],[119,119,119],[31,32,31],[0,0,0],[0,0,0],[0,0,0],[0,0,0]],[[0,0,0],[0,0,0],[0,0,0],[0,0,0],[0,0,0],[0,0,0],[0,0,0],[0,0,0],[0,0,0],[0,0,0],[0,0,0],[0,0,0],[42,43,42],[142,142,142],[244,244,244],[253,253,253],[253,253,253],[163,163,163],[81,81,81],[37,38,37],[16,16,16],[17,17,17],[55,56,56],[87,87,87],[176,176,176],[240,240,240],[210,210,210],[108,108,108],[24,24,24],[0,0,0],[0,0,0],[0,0,0]],[[0,0,0],[0,0,0],[0,0,0],[0,0,0],[0,0,0],[0,0,0],[0,0,0],[0,0,0],[0,0,0],[0,0,0],[0,0,0],[41,42,41],[131,131,131],[217,217,217],[253,253,253],[246,246,246],[147,147,147],[59,60,60],[12,12,12],[0,0,0],[0,0,0],[0,0,0],[1,1,1],[11,11,11],[73,73,73],[221,221,221],[248,247,248],[169,169,169],[60,61,61],[0,0,0],[0,0,0],[0,0,0]],[[0,0,0],[0,0,0],[0,0,0],[0,0,0],[0,0,0],[0,0,0],[0,0,0],[0,0,0],[0,0,0],[0,0,0],[15,15,15],[110,110,110],[210,210,210],[251,252,252],[248,247,248],[212,212,212],[46,47,46],[6,6,6],[0,0,0],[0,0,0],[0,0,0],[0,0,0],[0,0,0],[0,0,0],[23,23,23],[210,210,210],[253,253,253],[191,191,191],[80,80,80],[0,0,0],[0,0,0],[0,0,0]],[[0,0,0],[0,0,0],[0,0,0],[0,0,0],[0,0,0],[0,0,0],[0,0,0],[0,0,0],[0,0,0],[1,1,1],[68,68,68],[177,177,177],[245,245,245],[250,250,250],[223,223,223],[126,126,126],[16,16,16],[0,0,0],[0,0,0],[0,0,0],[0,0,0],[0,0,0],[0,0,0],[4,4,4],[65,65,65],[219,219,219],[253,253,253],[191,191,191],[80,80,80],[0,0,0],[0,0,0],[0,0,0]],[[0,0,0],[0,0,0],[0,0,0],[0,0,0],[0,0,0],[0,0,0],[0,0,0],[0,0,0],[0,0,0],[15,15,15],[146,146,146],[232,232,232],[253,253,253],[234,234,234],[159,159,159],[12,12,12],[0,0,0],[0,0,0],[0,0,0],[0,0,0],[0,0,0],[0,0,0],[2,2,2],[24,24,24],[163,163,163],[238,238,238],[253,253,253],[181,181,181],[70,70,70],[0,0,0],[0,0,0],[0,0,0]],[[0,0,0],[0,0,0],[0,0,0],[0,0,0],[0,0,0],[0,0,0],[0,0,0],[0,0,0],[0,0,0],[65,65,65],[199,199,199],[253,253,253],[248,247,248],[186,186,186],[52,53,53],[0,0,0],[0,0,0],[0,0,0],[0,0,0],[0,0,0],[0,0,0],[0,0,0],[18,18,18],[98,98,98],[241,241,241],[253,253,253],[247,247,247],[131,131,131],[23,23,23],[0,0,0],[0,0,0],[0,0,0]],[[0,0,0],[0,0,0],[0,0,0],[0,0,0],[0,0,0],[0,0,0],[0,0,0],[0,0,0],[11,11,11],[156,156,156],[234,234,234],[254,254,254],[199,199,199],[88,88,88],[3,3,3],[0,0,0],[0,0,0],[0,0,0],[0,0,0],[0,0,0],[0,0,0],[12,12,12],[77,77,77],[224,224,224],[253,253,253],[250,250,250],[157,157,157],[51,52,52],[1,1,1],[0,0,0],[0,0,0],[0,0,0]],[[0,0,0],[0,0,0],[0,0,0],[0,0,0],[0,0,0],[0,0,0],[0,0,0],[6,6,6],[100,100,100],[217,217,217],[250,250,250],[225,225,225],[127,127,127],[18,18,18],[0,0,0],[0,0,0],[0,0,0],[0,0,0],[0,0,0],[0,0,0],[15,15,15],[86,86,86],[204,204,204],[249,249,249],[248,247,248],[127,127,127],[44,45,44],[8,8,8],[0,0,0],[0,0,0],[0,0,0],[0,0,0]],[[0,0,0],[0,0,0],[0,0,0],[0,0,0],[0,0,0],[0,0,0],[2,2,2],[29,29,29],[185,185,185],[242,242,242],[253,253,253],[173,173,173],[64,64,64],[1,1,1],[0,0,0],[0,0,0],[0,0,0],[0,0,0],[0,0,0],[31,32,31],[107,107,107],[194,194,194],[242,242,242],[225,225,225],[150,150,150],[43,44,43],[5,5,5],[0,0,0],[0,0,0],[0,0,0],[0,0,0],[0,0,0]],[[0,0,0],[0,0,0],[0,0,0],[0,0,0],[0,0,0],[0,0,0],[19,19,19],[118,118,118],[234,234,234],[250,250,250],[207,207,207],[100,100,100],[19,19,19],[0,0,0],[0,0,0],[0,0,0],[0,0,0],[5,5,5],[51,52,52],[132,132,132],[206,206,206],[245,245,245],[233,233,233],[147,147,147],[49,50,49],[7,7,7],[0,0,0],[0,0,0],[0,0,0],[0,0,0],[0,0,0],[0,0,0]],[[0,0,0],[0,0,0],[0,0,0],[0,0,0],[0,0,0],[2,2,2],[43,44,43],[200,200,200],[249,249,249],[244,244,244],[128,128,128],[33,34,33],[0,0,0],[0,0,0],[0,0,0],[0,0,0],[19,19,19],[87,87,87],[157,157,157],[222,222,222],[251,252,252],[231,231,231],[163,163,163],[54,55,55],[2,2,2],[0,0,0],[0,0,0],[0,0,0],[0,0,0],[0,0,0],[0,0,0],[0,0,0]],[[0,0,0],[0,0,0],[0,0,0],[0,0,0],[0,0,0],[11,11,11],[74,74,74],[237,237,237],[251,252,252],[213,213,213],[64,64,64],[0,0,0],[0,0,0],[1,1,1],[13,13,13],[56,57,57],[107,107,107],[206,206,206],[245,245,245],[247,247,247],[219,219,219],[153,153,153],[59,60,60],[0,0,0],[0,0,0],[0,0,0],[0,0,0],[0,0,0],[0,0,0],[0,0,0],[0,0,0],[0,0,0]],[[0,0,0],[0,0,0],[0,0,0],[0,0,0],[0,0,0],[26,26,26],[117,117,117],[253,253,253],[253,253,253],[161,161,161],[43,44,43],[0,0,0],[0,0,0],[16,16,16],[75,75,75],[190,190,190],[244,244,244],[251,252,252],[238,238,238],[203,203,203],[121,121,121],[29,29,29],[0,0,0],[0,0,0],[0,0,0],[0,0,0],[0,0,0],[0,0,0],[0,0,0],[0,0,0],[0,0,0],[0,0,0]],[[0,0,0],[0,0,0],[0,0,0],[0,0,0],[0,0,0],[44,45,44],[163,163,163],[253,253,253],[253,253,253],[147,147,147],[39,40,39],[5,5,5],[14,14,14],[77,77,77],[207,207,207],[253,253,253],[251,251,251],[238,238,238],[161,161,161],[63,63,63],[6,6,6],[0,0,0],[0,0,0],[0,0,0],[0,0,0],[0,0,0],[0,0,0],[0,0,0],[0,0,0],[0,0,0],[0,0,0],[0,0,0]],[[0,0,0],[0,0,0],[0,0,0],[0,0,0],[0,0,0],[38,39,38],[150,150,150],[253,253,253],[253,253,253],[163,163,163],[74,74,74],[87,87,87],[152,152,152],[209,209,209],[250,250,250],[251,251,251],[219,219,219],[87,87,87],[23,23,23],[3,3,3],[0,0,0],[0,0,0],[0,0,0],[0,0,0],[0,0,0],[0,0,0],[0,0,0],[0,0,0],[0,0,0],[0,0,0],[0,0,0],[0,0,0]],[[0,0,0],[0,0,0],[0,0,0],[0,0,0],[0,0,0],[13,13,13],[79,79,79],[235,235,235],[251,252,252],[236,236,236],[220,220,220],[223,223,223],[236,236,236],[243,243,243],[228,228,227],[156,156,156],[54,55,55],[15,15,15],[2,2,2],[0,0,0],[0,0,0],[0,0,0],[0,0,0],[0,0,0],[0,0,0],[0,0,0],[0,0,0],[0,0,0],[0,0,0],[0,0,0],[0,0,0],[0,0,0]],[[0,0,0],[0,0,0],[0,0,0],[0,0,0],[0,0,0],[2,2,2],[32,33,32],[144,144,144],[203,203,203],[244,244,244],[253,253,253],[239,239,239],[204,204,204],[149,149,149],[85,85,85],[41,42,41],[4,4,4],[0,0,0],[0,0,0],[0,0,0],[0,0,0],[0,0,0],[0,0,0],[0,0,0],[0,0,0],[0,0,0],[0,0,0],[0,0,0],[0,0,0],[0,0,0],[0,0,0],[0,0,0]],[[0,0,0],[0,0,0],[0,0,0],[0,0,0],[0,0,0],[0,0,0],[7,7,7],[45,46,45],[79,79,79],[105,105,105],[111,111,111],[102,102,102],[79,79,79],[44,45,44],[9,9,9],[0,0,0],[0,0,0],[0,0,0],[0,0,0],[0,0,0],[0,0,0],[0,0,0],[0,0,0],[0,0,0],[0,0,0],[0,0,0],[0,0,0],[0,0,0],[0,0,0],[0,0,0],[0,0,0],[0,0,0]],[[0,0,0],[0,0,0],[0,0,0],[0,0,0],[0,0,0],[0,0,0],[0,0,0],[0,0,0],[0,0,0],[0,0,0],[0,0,0],[0,0,0],[0,0,0],[0,0,0],[0,0,0],[0,0,0],[0,0,0],[0,0,0],[0,0,0],[0,0,0],[0,0,0],[0,0,0],[0,0,0],[0,0,0],[0,0,0],[0,0,0],[0,0,0],[0,0,0],[0,0,0],[0,0,0],[0,0,0],[0,0,0]],[[0,0,0],[0,0,0],[0,0,0],[0,0,0],[0,0,0],[0,0,0],[0,0,0],[0,0,0],[0,0,0],[0,0,0],[0,0,0],[0,0,0],[0,0,0],[0,0,0],[0,0,0],[0,0,0],[0,0,0],[0,0,0],[0,0,0],[0,0,0],[0,0,0],[0,0,0],[0,0,0],[0,0,0],[0,0,0],[0,0,0],[0,0,0],[0,0,0],[0,0,0],[0,0,0],[0,0,0],[0,0,0]],[[0,0,0],[0,0,0],[0,0,0],[0,0,0],[0,0,0],[0,0,0],[0,0,0],[0,0,0],[0,0,0],[0,0,0],[0,0,0],[0,0,0],[0,0,0],[0,0,0],[0,0,0],[0,0,0],[0,0,0],[0,0,0],[0,0,0],[0,0,0],[0,0,0],[0,0,0],[0,0,0],[0,0,0],[0,0,0],[0,0,0],[0,0,0],[0,0,0],[0,0,0],[0,0,0],[0,0,0],[0,0,0]],[[0,0,0],[0,0,0],[0,0,0],[0,0,0],[0,0,0],[0,0,0],[0,0,0],[0,0,0],[0,0,0],[0,0,0],[0,0,0],[0,0,0],[0,0,0],[0,0,0],[0,0,0],[0,0,0],[0,0,0],[0,0,0],[0,0,0],[0,0,0],[0,0,0],[0,0,0],[0,0,0],[0,0,0],[0,0,0],[0,0,0],[0,0,0],[0,0,0],[0,0,0],[0,0,0],[0,0,0],[0,0,0]]],\"type\":\"image\",\"xaxis\":\"x10\",\"yaxis\":\"y10\"},{\"z\":[[[0,0,0],[0,0,0],[0,0,0],[0,0,0],[0,0,0],[0,0,0],[0,0,0],[0,0,0],[0,0,0],[0,0,0],[0,0,0],[0,0,0],[0,0,0],[0,0,0],[0,0,0],[0,0,0],[0,0,0],[0,0,0],[0,0,0],[0,0,0],[0,0,0],[0,0,0],[0,0,0],[0,0,0],[0,0,0],[0,0,0],[0,0,0],[0,0,0],[0,0,0],[0,0,0],[0,0,0],[0,0,0]],[[0,0,0],[0,0,0],[0,0,0],[0,0,0],[0,0,0],[0,0,0],[0,0,0],[0,0,0],[0,0,0],[0,0,0],[0,0,0],[0,0,0],[0,0,0],[0,0,0],[0,0,0],[0,0,0],[0,0,0],[0,0,0],[0,0,0],[0,0,0],[0,0,0],[0,0,0],[0,0,0],[0,0,0],[0,0,0],[0,0,0],[0,0,0],[0,0,0],[0,0,0],[0,0,0],[0,0,0],[0,0,0]],[[0,0,0],[0,0,0],[0,0,0],[0,0,0],[0,0,0],[0,0,0],[0,0,0],[0,0,0],[0,0,0],[0,0,0],[0,0,0],[0,0,0],[0,0,0],[0,0,0],[0,0,0],[0,0,0],[0,0,0],[0,0,0],[0,0,0],[0,0,0],[0,0,0],[0,0,0],[0,0,0],[0,0,0],[0,0,0],[0,0,0],[0,0,0],[0,0,0],[0,0,0],[0,0,0],[0,0,0],[0,0,0]],[[0,0,0],[0,0,0],[0,0,0],[0,0,0],[0,0,0],[0,0,0],[0,0,0],[0,0,0],[0,0,0],[0,0,0],[0,0,0],[0,0,0],[0,0,0],[0,0,0],[0,0,0],[0,0,0],[0,0,0],[0,0,0],[0,0,0],[0,0,0],[0,0,0],[0,0,0],[0,0,0],[0,0,0],[0,0,0],[0,0,0],[0,0,0],[0,0,0],[0,0,0],[0,0,0],[0,0,0],[0,0,0]],[[0,0,0],[0,0,0],[0,0,0],[0,0,0],[0,0,0],[0,0,0],[0,0,0],[0,0,0],[0,0,0],[0,0,0],[0,0,0],[0,0,0],[0,0,0],[0,0,0],[0,0,0],[0,0,0],[0,0,0],[0,0,0],[0,0,0],[16,16,16],[51,52,52],[90,90,90],[99,99,99],[44,45,44],[2,2,2],[6,6,6],[34,35,34],[20,20,20],[0,0,0],[0,0,0],[0,0,0],[0,0,0]],[[0,0,0],[0,0,0],[0,0,0],[0,0,0],[0,0,0],[0,0,0],[0,0,0],[0,0,0],[0,0,0],[0,0,0],[0,0,0],[0,0,0],[0,0,0],[0,0,0],[0,0,0],[0,0,0],[0,0,0],[17,17,17],[46,47,46],[95,95,95],[159,159,159],[217,217,217],[212,212,212],[77,77,77],[21,21,21],[74,74,74],[133,133,133],[95,95,95],[27,27,27],[0,0,0],[0,0,0],[0,0,0]],[[0,0,0],[0,0,0],[0,0,0],[0,0,0],[0,0,0],[0,0,0],[0,0,0],[0,0,0],[0,0,0],[0,0,0],[0,0,0],[0,0,0],[0,0,0],[0,0,0],[0,0,0],[0,0,0],[3,3,3],[79,79,79],[167,167,167],[225,225,225],[241,241,241],[216,216,216],[148,148,148],[18,18,18],[56,57,57],[206,206,206],[248,247,248],[206,206,206],[95,95,95],[0,0,0],[0,0,0],[0,0,0]],[[0,0,0],[0,0,0],[0,0,0],[0,0,0],[0,0,0],[0,0,0],[0,0,0],[0,0,0],[0,0,0],[0,0,0],[0,0,0],[0,0,0],[0,0,0],[0,0,0],[0,0,0],[7,7,7],[30,30,30],[176,176,176],[239,239,239],[248,247,248],[200,200,200],[104,104,104],[18,18,18],[3,3,3],[58,59,59],[217,217,217],[253,253,253],[227,227,227],[116,116,116],[0,0,0],[0,0,0],[0,0,0]],[[0,0,0],[0,0,0],[0,0,0],[0,0,0],[0,0,0],[0,0,0],[0,0,0],[0,0,0],[0,0,0],[0,0,0],[0,0,0],[0,0,0],[0,0,0],[0,0,0],[17,17,17],[99,99,99],[191,191,191],[240,240,240],[248,247,248],[181,181,181],[89,89,89],[26,26,26],[0,0,0],[3,3,3],[58,59,59],[217,217,217],[253,253,253],[179,179,179],[68,68,68],[0,0,0],[0,0,0],[0,0,0]],[[0,0,0],[0,0,0],[0,0,0],[0,0,0],[0,0,0],[0,0,0],[0,0,0],[0,0,0],[0,0,0],[0,0,0],[0,0,0],[0,0,0],[0,0,0],[23,23,23],[103,103,103],[220,220,220],[243,243,243],[247,247,247],[177,177,177],[76,76,76],[14,14,14],[3,3,3],[0,0,0],[3,3,3],[58,59,59],[217,217,217],[251,251,251],[168,168,168],[58,59,59],[0,0,0],[0,0,0],[0,0,0]],[[0,0,0],[0,0,0],[0,0,0],[0,0,0],[0,0,0],[0,0,0],[0,0,0],[0,0,0],[0,0,0],[0,0,0],[0,0,0],[2,2,2],[28,28,28],[103,103,103],[211,211,211],[250,250,250],[246,246,246],[176,176,176],[76,76,76],[16,16,16],[0,0,0],[0,0,0],[0,0,0],[6,6,6],[111,111,111],[228,228,227],[239,239,239],[119,119,119],[17,17,17],[0,0,0],[0,0,0],[0,0,0]],[[0,0,0],[0,0,0],[0,0,0],[0,0,0],[0,0,0],[0,0,0],[0,0,0],[0,0,0],[0,0,0],[0,0,0],[0,0,0],[49,50,49],[129,129,129],[202,202,202],[247,247,247],[221,221,221],[126,126,126],[65,65,65],[16,16,16],[0,0,0],[0,0,0],[0,0,0],[4,4,4],[34,35,34],[181,181,181],[241,241,241],[184,184,184],[67,67,67],[0,0,0],[0,0,0],[0,0,0],[0,0,0]],[[0,0,0],[0,0,0],[0,0,0],[0,0,0],[0,0,0],[0,0,0],[0,0,0],[0,0,0],[0,0,0],[0,0,0],[27,27,27],[127,127,127],[221,221,221],[253,253,253],[236,236,236],[153,153,153],[22,22,22],[1,1,1],[0,0,0],[0,0,0],[0,0,0],[0,0,0],[15,15,15],[96,96,96],[229,229,229],[250,250,250],[145,145,145],[41,42,41],[0,0,0],[0,0,0],[0,0,0],[0,0,0]],[[0,0,0],[0,0,0],[0,0,0],[0,0,0],[0,0,0],[0,0,0],[0,0,0],[0,0,0],[0,0,0],[24,24,24],[107,107,107],[203,203,203],[251,252,252],[231,231,231],[163,163,163],[68,68,68],[4,4,4],[0,0,0],[0,0,0],[0,0,0],[0,0,0],[3,3,3],[41,42,41],[175,175,175],[248,247,248],[231,231,231],[118,118,118],[29,29,29],[0,0,0],[0,0,0],[0,0,0],[0,0,0]],[[0,0,0],[0,0,0],[0,0,0],[0,0,0],[0,0,0],[0,0,0],[0,0,0],[0,0,0],[10,10,10],[104,104,104],[209,209,209],[250,250,250],[241,241,241],[164,164,164],[21,21,21],[1,1,1],[0,0,0],[0,0,0],[0,0,0],[0,0,0],[2,2,2],[22,22,22],[91,91,91],[236,236,236],[243,243,243],[158,158,158],[48,49,48],[2,2,2],[0,0,0],[0,0,0],[0,0,0],[0,0,0]],[[0,0,0],[0,0,0],[0,0,0],[0,0,0],[0,0,0],[0,0,0],[0,0,0],[3,3,3],[65,65,65],[210,210,210],[250,250,250],[247,247,247],[183,183,183],[74,74,74],[1,1,1],[0,0,0],[0,0,0],[0,0,0],[0,0,0],[0,0,0],[17,17,17],[75,75,75],[170,170,170],[250,250,250],[199,199,199],[46,47,46],[3,3,3],[0,0,0],[0,0,0],[0,0,0],[0,0,0],[0,0,0]],[[0,0,0],[0,0,0],[0,0,0],[0,0,0],[0,0,0],[0,0,0],[0,0,0],[10,10,10],[158,158,158],[237,237,237],[253,253,253],[192,192,192],[85,85,85],[4,4,4],[0,0,0],[0,0,0],[0,0,0],[0,0,0],[0,0,0],[0,0,0],[63,63,63],[174,174,174],[247,247,247],[243,243,243],[108,108,108],[18,18,18],[0,0,0],[0,0,0],[0,0,0],[0,0,0],[0,0,0],[0,0,0]],[[0,0,0],[0,0,0],[0,0,0],[0,0,0],[0,0,0],[0,0,0],[9,9,9],[61,62,62],[216,216,216],[248,247,248],[233,233,233],[129,129,129],[30,30,30],[0,0,0],[0,0,0],[0,0,0],[0,0,0],[0,0,0],[1,1,1],[50,51,51],[152,152,152],[240,240,240],[242,242,242],[187,187,187],[42,43,42],[5,5,5],[0,0,0],[0,0,0],[0,0,0],[0,0,0],[0,0,0],[0,0,0]],[[0,0,0],[0,0,0],[0,0,0],[0,0,0],[0,0,0],[0,0,0],[28,28,28],[147,147,147],[242,242,242],[251,251,251],[163,163,163],[59,60,60],[5,5,5],[0,0,0],[0,0,0],[0,0,0],[0,0,0],[2,2,2],[53,54,54],[150,150,150],[228,228,227],[239,239,239],[183,183,183],[64,64,64],[9,9,9],[0,0,0],[0,0,0],[0,0,0],[0,0,0],[0,0,0],[0,0,0],[0,0,0]],[[0,0,0],[0,0,0],[0,0,0],[0,0,0],[0,0,0],[20,20,20],[96,96,96],[221,221,221],[251,251,251],[227,227,227],[94,94,94],[14,14,14],[0,0,0],[0,0,0],[0,0,0],[0,0,0],[0,0,0],[87,87,87],[164,164,164],[225,225,225],[238,238,238],[177,177,177],[72,72,72],[5,5,5],[0,0,0],[0,0,0],[0,0,0],[0,0,0],[0,0,0],[0,0,0],[0,0,0],[0,0,0]],[[0,0,0],[0,0,0],[0,0,0],[0,0,0],[0,0,0],[54,55,55],[189,189,189],[253,253,253],[253,253,253],[162,162,162],[43,44,43],[0,0,0],[0,0,0],[0,0,0],[6,6,6],[43,44,43],[91,91,91],[191,191,191],[238,238,238],[225,225,225],[164,164,164],[78,78,78],[2,2,2],[0,0,0],[0,0,0],[0,0,0],[0,0,0],[0,0,0],[0,0,0],[0,0,0],[0,0,0],[0,0,0]],[[0,0,0],[0,0,0],[0,0,0],[0,0,0],[0,0,0],[78,78,78],[251,251,251],[251,252,252],[234,234,234],[84,84,84],[14,14,14],[8,8,8],[29,29,29],[53,54,54],[82,82,82],[148,148,148],[221,221,221],[242,242,242],[224,224,224],[150,150,150],[57,58,58],[2,2,2],[0,0,0],[0,0,0],[0,0,0],[0,0,0],[0,0,0],[0,0,0],[0,0,0],[0,0,0],[0,0,0],[0,0,0]],[[0,0,0],[0,0,0],[0,0,0],[0,0,0],[0,0,0],[79,79,79],[254,254,254],[250,250,250],[200,200,200],[56,57,57],[27,27,27],[59,60,60],[122,122,122],[189,189,189],[231,231,231],[250,250,250],[244,244,244],[215,215,215],[150,150,150],[53,54,54],[0,0,0],[0,0,0],[0,0,0],[0,0,0],[0,0,0],[0,0,0],[0,0,0],[0,0,0],[0,0,0],[0,0,0],[0,0,0],[0,0,0]],[[0,0,0],[0,0,0],[0,0,0],[0,0,0],[0,0,0],[79,79,79],[254,254,254],[251,252,252],[239,239,239],[130,130,130],[143,143,143],[201,201,201],[242,242,242],[253,253,253],[251,251,251],[244,244,244],[195,195,195],[98,98,98],[22,22,22],[0,0,0],[0,0,0],[0,0,0],[0,0,0],[0,0,0],[0,0,0],[0,0,0],[0,0,0],[0,0,0],[0,0,0],[0,0,0],[0,0,0],[0,0,0]],[[0,0,0],[0,0,0],[0,0,0],[0,0,0],[0,0,0],[79,79,79],[254,254,254],[253,253,253],[251,252,252],[245,245,245],[246,246,246],[250,250,250],[251,252,252],[247,247,247],[224,224,224],[160,160,160],[33,34,33],[8,8,8],[1,1,1],[0,0,0],[0,0,0],[0,0,0],[0,0,0],[0,0,0],[0,0,0],[0,0,0],[0,0,0],[0,0,0],[0,0,0],[0,0,0],[0,0,0],[0,0,0]],[[0,0,0],[0,0,0],[0,0,0],[0,0,0],[0,0,0],[54,55,55],[191,191,191],[251,252,252],[253,253,253],[253,253,253],[253,253,253],[247,247,247],[240,240,240],[190,190,190],[79,79,79],[28,28,28],[3,3,3],[0,0,0],[0,0,0],[0,0,0],[0,0,0],[0,0,0],[0,0,0],[0,0,0],[0,0,0],[0,0,0],[0,0,0],[0,0,0],[0,0,0],[0,0,0],[0,0,0],[0,0,0]],[[0,0,0],[0,0,0],[0,0,0],[0,0,0],[0,0,0],[15,15,15],[69,69,69],[158,158,158],[232,232,232],[234,234,234],[182,182,182],[130,130,130],[92,92,92],[54,55,55],[13,13,13],[0,0,0],[0,0,0],[0,0,0],[0,0,0],[0,0,0],[0,0,0],[0,0,0],[0,0,0],[0,0,0],[0,0,0],[0,0,0],[0,0,0],[0,0,0],[0,0,0],[0,0,0],[0,0,0],[0,0,0]],[[0,0,0],[0,0,0],[0,0,0],[0,0,0],[0,0,0],[0,0,0],[8,8,8],[49,50,49],[98,98,98],[98,98,98],[65,65,65],[33,34,33],[10,10,10],[0,0,0],[0,0,0],[0,0,0],[0,0,0],[0,0,0],[0,0,0],[0,0,0],[0,0,0],[0,0,0],[0,0,0],[0,0,0],[0,0,0],[0,0,0],[0,0,0],[0,0,0],[0,0,0],[0,0,0],[0,0,0],[0,0,0]],[[0,0,0],[0,0,0],[0,0,0],[0,0,0],[0,0,0],[0,0,0],[0,0,0],[0,0,0],[0,0,0],[0,0,0],[0,0,0],[0,0,0],[0,0,0],[0,0,0],[0,0,0],[0,0,0],[0,0,0],[0,0,0],[0,0,0],[0,0,0],[0,0,0],[0,0,0],[0,0,0],[0,0,0],[0,0,0],[0,0,0],[0,0,0],[0,0,0],[0,0,0],[0,0,0],[0,0,0],[0,0,0]],[[0,0,0],[0,0,0],[0,0,0],[0,0,0],[0,0,0],[0,0,0],[0,0,0],[0,0,0],[0,0,0],[0,0,0],[0,0,0],[0,0,0],[0,0,0],[0,0,0],[0,0,0],[0,0,0],[0,0,0],[0,0,0],[0,0,0],[0,0,0],[0,0,0],[0,0,0],[0,0,0],[0,0,0],[0,0,0],[0,0,0],[0,0,0],[0,0,0],[0,0,0],[0,0,0],[0,0,0],[0,0,0]],[[0,0,0],[0,0,0],[0,0,0],[0,0,0],[0,0,0],[0,0,0],[0,0,0],[0,0,0],[0,0,0],[0,0,0],[0,0,0],[0,0,0],[0,0,0],[0,0,0],[0,0,0],[0,0,0],[0,0,0],[0,0,0],[0,0,0],[0,0,0],[0,0,0],[0,0,0],[0,0,0],[0,0,0],[0,0,0],[0,0,0],[0,0,0],[0,0,0],[0,0,0],[0,0,0],[0,0,0],[0,0,0]],[[0,0,0],[0,0,0],[0,0,0],[0,0,0],[0,0,0],[0,0,0],[0,0,0],[0,0,0],[0,0,0],[0,0,0],[0,0,0],[0,0,0],[0,0,0],[0,0,0],[0,0,0],[0,0,0],[0,0,0],[0,0,0],[0,0,0],[0,0,0],[0,0,0],[0,0,0],[0,0,0],[0,0,0],[0,0,0],[0,0,0],[0,0,0],[0,0,0],[0,0,0],[0,0,0],[0,0,0],[0,0,0]]],\"type\":\"image\",\"xaxis\":\"x11\",\"yaxis\":\"y11\"},{\"z\":[[[0,0,0],[0,0,0],[0,0,0],[0,0,0],[0,0,0],[0,0,0],[0,0,0],[0,0,0],[0,0,0],[0,0,0],[0,0,0],[0,0,0],[0,0,0],[0,0,0],[0,0,0],[0,0,0],[0,0,0],[0,0,0],[0,0,0],[0,0,0],[0,0,0],[0,0,0],[0,0,0],[0,0,0],[0,0,0],[0,0,0],[0,0,0],[0,0,0],[0,0,0],[0,0,0],[0,0,0],[0,0,0]],[[0,0,0],[0,0,0],[0,0,0],[0,0,0],[0,0,0],[0,0,0],[0,0,0],[0,0,0],[0,0,0],[0,0,0],[0,0,0],[0,0,0],[0,0,0],[0,0,0],[0,0,0],[0,0,0],[0,0,0],[0,0,0],[0,0,0],[0,0,0],[0,0,0],[0,0,0],[0,0,0],[0,0,0],[0,0,0],[0,0,0],[0,0,0],[0,0,0],[0,0,0],[0,0,0],[0,0,0],[0,0,0]],[[0,0,0],[0,0,0],[0,0,0],[0,0,0],[0,0,0],[0,0,0],[0,0,0],[0,0,0],[0,0,0],[0,0,0],[0,0,0],[0,0,0],[0,0,0],[0,0,0],[0,0,0],[0,0,0],[0,0,0],[0,0,0],[0,0,0],[0,0,0],[0,0,0],[0,0,0],[0,0,0],[0,0,0],[0,0,0],[0,0,0],[0,0,0],[0,0,0],[0,0,0],[0,0,0],[0,0,0],[0,0,0]],[[0,0,0],[0,0,0],[0,0,0],[0,0,0],[0,0,0],[0,0,0],[0,0,0],[0,0,0],[0,0,0],[0,0,0],[0,0,0],[0,0,0],[0,0,0],[0,0,0],[0,0,0],[0,0,0],[0,0,0],[0,0,0],[0,0,0],[0,0,0],[0,0,0],[0,0,0],[0,0,0],[0,0,0],[0,0,0],[0,0,0],[0,0,0],[0,0,0],[0,0,0],[0,0,0],[0,0,0],[0,0,0]],[[0,0,0],[0,0,0],[0,0,0],[0,0,0],[0,0,0],[0,0,0],[0,0,0],[0,0,0],[0,0,0],[0,0,0],[0,0,0],[0,0,0],[0,0,0],[0,0,0],[0,0,0],[0,0,0],[0,0,0],[0,0,0],[0,0,0],[0,0,0],[0,0,0],[0,0,0],[9,9,9],[47,48,47],[83,83,83],[98,98,98],[41,42,41],[5,5,5],[0,0,0],[0,0,0],[0,0,0],[0,0,0]],[[0,0,0],[0,0,0],[0,0,0],[0,0,0],[0,0,0],[0,0,0],[0,0,0],[0,0,0],[0,0,0],[0,0,0],[0,0,0],[0,0,0],[0,0,0],[0,0,0],[0,0,0],[0,0,0],[0,0,0],[0,0,0],[0,0,0],[0,0,0],[2,2,2],[26,26,26],[84,84,84],[155,155,155],[209,209,209],[233,233,233],[92,92,92],[10,10,10],[0,0,0],[0,0,0],[0,0,0],[0,0,0]],[[0,0,0],[0,0,0],[0,0,0],[0,0,0],[0,0,0],[0,0,0],[0,0,0],[0,0,0],[0,0,0],[0,0,0],[0,0,0],[0,0,0],[0,0,0],[0,0,0],[0,0,0],[0,0,0],[0,0,0],[0,0,0],[6,6,6],[21,21,21],[44,45,44],[110,110,110],[219,219,219],[234,234,234],[251,252,252],[237,237,237],[78,78,78],[2,2,2],[0,0,0],[0,0,0],[0,0,0],[0,0,0]],[[0,0,0],[0,0,0],[0,0,0],[0,0,0],[0,0,0],[0,0,0],[0,0,0],[0,0,0],[0,0,0],[0,0,0],[0,0,0],[0,0,0],[0,0,0],[0,0,0],[0,0,0],[0,0,0],[0,0,0],[6,6,6],[48,49,48],[126,126,126],[191,191,191],[215,215,215],[199,199,199],[141,141,141],[241,241,241],[169,169,169],[52,53,53],[2,2,2],[0,0,0],[0,0,0],[0,0,0],[0,0,0]],[[0,0,0],[0,0,0],[0,0,0],[0,0,0],[0,0,0],[0,0,0],[0,0,0],[0,0,0],[0,0,0],[0,0,0],[0,0,0],[0,0,0],[0,0,0],[0,0,0],[0,0,0],[0,0,0],[7,7,7],[100,100,100],[197,197,197],[225,225,225],[173,173,173],[93,93,93],[46,47,46],[79,79,79],[223,223,223],[229,229,229],[121,121,121],[31,32,31],[0,0,0],[0,0,0],[0,0,0],[0,0,0]],[[0,0,0],[0,0,0],[0,0,0],[0,0,0],[0,0,0],[0,0,0],[0,0,0],[0,0,0],[0,0,0],[0,0,0],[0,0,0],[0,0,0],[0,0,0],[0,0,0],[2,2,2],[27,27,27],[160,160,160],[219,219,219],[210,210,210],[121,121,121],[40,41,40],[15,15,15],[6,6,6],[13,13,13],[41,42,41],[176,176,176],[216,216,216],[98,98,98],[1,1,1],[0,0,0],[0,0,0],[0,0,0]],[[0,0,0],[0,0,0],[0,0,0],[0,0,0],[0,0,0],[0,0,0],[0,0,0],[0,0,0],[0,0,0],[0,0,0],[0,0,0],[0,0,0],[0,0,0],[2,2,2],[35,36,35],[154,154,154],[234,234,234],[212,212,212],[110,110,110],[31,32,31],[2,2,2],[0,0,0],[0,0,0],[0,0,0],[0,0,0],[89,89,89],[209,209,209],[116,116,116],[4,4,4],[0,0,0],[0,0,0],[0,0,0]],[[0,0,0],[0,0,0],[0,0,0],[0,0,0],[0,0,0],[0,0,0],[0,0,0],[0,0,0],[0,0,0],[0,0,0],[0,0,0],[0,0,0],[5,5,5],[43,44,43],[135,135,135],[232,232,232],[211,211,211],[118,118,118],[32,33,32],[1,1,1],[0,0,0],[0,0,0],[0,0,0],[0,0,0],[0,0,0],[68,68,68],[197,197,197],[119,119,119],[9,9,9],[0,0,0],[0,0,0],[0,0,0]],[[0,0,0],[0,0,0],[0,0,0],[0,0,0],[0,0,0],[0,0,0],[0,0,0],[0,0,0],[0,0,0],[0,0,0],[0,0,0],[5,5,5],[50,51,51],[138,138,138],[217,217,217],[212,212,212],[110,110,110],[31,32,31],[4,4,4],[0,0,0],[0,0,0],[0,0,0],[0,0,0],[0,0,0],[17,17,17],[130,130,130],[181,181,181],[92,92,92],[6,6,6],[0,0,0],[0,0,0],[0,0,0]],[[0,0,0],[0,0,0],[0,0,0],[0,0,0],[0,0,0],[0,0,0],[0,0,0],[0,0,0],[0,0,0],[0,0,0],[2,2,2],[46,47,46],[141,141,141],[219,219,219],[200,200,200],[116,116,116],[13,13,13],[0,0,0],[0,0,0],[0,0,0],[0,0,0],[0,0,0],[2,2,2],[19,19,19],[96,96,96],[201,201,201],[130,130,130],[37,38,37],[0,0,0],[0,0,0],[0,0,0],[0,0,0]],[[0,0,0],[0,0,0],[0,0,0],[0,0,0],[0,0,0],[0,0,0],[0,0,0],[0,0,0],[0,0,0],[0,0,0],[22,22,22],[135,135,135],[225,225,225],[201,201,201],[96,96,96],[6,6,6],[0,0,0],[0,0,0],[0,0,0],[0,0,0],[0,0,0],[0,0,0],[15,15,15],[79,79,79],[220,220,220],[187,187,187],[56,57,57],[1,1,1],[0,0,0],[0,0,0],[0,0,0],[0,0,0]],[[0,0,0],[0,0,0],[0,0,0],[0,0,0],[0,0,0],[0,0,0],[0,0,0],[0,0,0],[0,0,0],[8,8,8],[96,96,96],[201,201,201],[223,223,223],[131,131,131],[13,13,13],[0,0,0],[0,0,0],[0,0,0],[0,0,0],[0,0,0],[0,0,0],[9,9,9],[58,59,59],[179,179,179],[220,220,220],[81,81,81],[14,14,14],[0,0,0],[0,0,0],[0,0,0],[0,0,0],[0,0,0]],[[0,0,0],[0,0,0],[0,0,0],[0,0,0],[0,0,0],[0,0,0],[0,0,0],[0,0,0],[0,0,0],[65,65,65],[187,187,187],[240,240,240],[160,160,160],[35,36,35],[0,0,0],[0,0,0],[0,0,0],[0,0,0],[0,0,0],[0,0,0],[0,0,0],[56,57,57],[194,194,194],[238,238,238],[126,126,126],[25,25,25],[1,1,1],[0,0,0],[0,0,0],[0,0,0],[0,0,0],[0,0,0]],[[0,0,0],[0,0,0],[0,0,0],[0,0,0],[0,0,0],[0,0,0],[0,0,0],[0,0,0],[1,1,1],[136,136,136],[226,226,226],[188,188,188],[81,81,81],[4,4,4],[0,0,0],[0,0,0],[0,0,0],[0,0,0],[0,0,0],[0,0,0],[39,40,39],[137,137,137],[228,228,227],[166,166,166],[35,36,35],[5,5,5],[0,0,0],[0,0,0],[0,0,0],[0,0,0],[0,0,0],[0,0,0]],[[0,0,0],[0,0,0],[0,0,0],[0,0,0],[0,0,0],[0,0,0],[0,0,0],[1,1,1],[32,33,32],[196,196,196],[225,225,225],[128,128,128],[30,30,30],[0,0,0],[0,0,0],[0,0,0],[0,0,0],[0,0,0],[0,0,0],[42,43,42],[134,134,134],[211,211,211],[190,190,190],[56,57,57],[5,5,5],[0,0,0],[0,0,0],[0,0,0],[0,0,0],[0,0,0],[0,0,0],[0,0,0]],[[0,0,0],[0,0,0],[0,0,0],[0,0,0],[0,0,0],[0,0,0],[0,0,0],[8,8,8],[124,124,124],[230,230,230],[161,161,161],[59,60,60],[6,6,6],[0,0,0],[0,0,0],[0,0,0],[0,0,0],[4,4,4],[69,69,69],[149,149,149],[193,193,193],[166,166,166],[79,79,79],[6,6,6],[0,0,0],[0,0,0],[0,0,0],[0,0,0],[0,0,0],[0,0,0],[0,0,0],[0,0,0]],[[0,0,0],[0,0,0],[0,0,0],[0,0,0],[0,0,0],[0,0,0],[8,8,8],[57,58,58],[211,211,211],[197,197,197],[80,80,80],[12,12,12],[0,0,0],[0,0,0],[0,0,0],[0,0,0],[20,20,20],[83,83,83],[170,170,170],[200,200,200],[150,150,150],[63,63,63],[4,4,4],[0,0,0],[0,0,0],[0,0,0],[0,0,0],[0,0,0],[0,0,0],[0,0,0],[0,0,0],[0,0,0]],[[0,0,0],[0,0,0],[0,0,0],[0,0,0],[0,0,0],[0,0,0],[27,27,27],[148,148,148],[245,245,245],[119,119,119],[27,27,27],[0,0,0],[0,0,0],[0,0,0],[5,5,5],[34,35,34],[105,105,105],[198,198,198],[197,197,197],[132,132,132],[49,50,49],[0,0,0],[0,0,0],[0,0,0],[0,0,0],[0,0,0],[0,0,0],[0,0,0],[0,0,0],[0,0,0],[0,0,0],[0,0,0]],[[0,0,0],[0,0,0],[0,0,0],[0,0,0],[0,0,0],[2,2,2],[48,49,48],[228,228,227],[227,227,227],[61,62,62],[6,6,6],[0,0,0],[4,4,4],[18,18,18],[53,54,54],[131,131,131],[226,226,226],[218,218,218],[106,106,106],[23,23,23],[0,0,0],[0,0,0],[0,0,0],[0,0,0],[0,0,0],[0,0,0],[0,0,0],[0,0,0],[0,0,0],[0,0,0],[0,0,0],[0,0,0]],[[0,0,0],[0,0,0],[0,0,0],[0,0,0],[0,0,0],[10,10,10],[76,76,76],[247,247,247],[143,143,143],[25,25,25],[4,4,4],[10,10,10],[37,38,37],[111,111,111],[212,212,212],[239,239,239],[208,208,208],[112,112,112],[27,27,27],[0,0,0],[0,0,0],[0,0,0],[0,0,0],[0,0,0],[0,0,0],[0,0,0],[0,0,0],[0,0,0],[0,0,0],[0,0,0],[0,0,0],[0,0,0]],[[0,0,0],[0,0,0],[0,0,0],[0,0,0],[0,0,0],[41,42,41],[155,155,155],[243,243,243],[90,90,90],[18,18,18],[72,72,72],[162,162,162],[222,222,222],[241,241,241],[218,218,218],[104,104,104],[24,24,24],[7,7,7],[1,1,1],[0,0,0],[0,0,0],[0,0,0],[0,0,0],[0,0,0],[0,0,0],[0,0,0],[0,0,0],[0,0,0],[0,0,0],[0,0,0],[0,0,0],[0,0,0]],[[0,0,0],[0,0,0],[0,0,0],[0,0,0],[0,0,0],[44,45,44],[164,164,164],[249,249,249],[174,174,174],[181,181,181],[214,214,214],[236,236,236],[216,216,216],[145,145,145],[56,57,57],[17,17,17],[1,1,1],[0,0,0],[0,0,0],[0,0,0],[0,0,0],[0,0,0],[0,0,0],[0,0,0],[0,0,0],[0,0,0],[0,0,0],[0,0,0],[0,0,0],[0,0,0],[0,0,0],[0,0,0]],[[0,0,0],[0,0,0],[0,0,0],[0,0,0],[0,0,0],[14,14,14],[81,81,81],[218,218,218],[233,233,233],[224,224,224],[176,176,176],[131,131,131],[86,86,86],[37,38,37],[5,5,5],[0,0,0],[0,0,0],[0,0,0],[0,0,0],[0,0,0],[0,0,0],[0,0,0],[0,0,0],[0,0,0],[0,0,0],[0,0,0],[0,0,0],[0,0,0],[0,0,0],[0,0,0],[0,0,0],[0,0,0]],[[0,0,0],[0,0,0],[0,0,0],[0,0,0],[0,0,0],[0,0,0],[18,18,18],[89,89,89],[110,110,110],[99,99,99],[63,63,63],[33,34,33],[12,12,12],[0,0,0],[0,0,0],[0,0,0],[0,0,0],[0,0,0],[0,0,0],[0,0,0],[0,0,0],[0,0,0],[0,0,0],[0,0,0],[0,0,0],[0,0,0],[0,0,0],[0,0,0],[0,0,0],[0,0,0],[0,0,0],[0,0,0]],[[0,0,0],[0,0,0],[0,0,0],[0,0,0],[0,0,0],[0,0,0],[0,0,0],[0,0,0],[0,0,0],[0,0,0],[0,0,0],[0,0,0],[0,0,0],[0,0,0],[0,0,0],[0,0,0],[0,0,0],[0,0,0],[0,0,0],[0,0,0],[0,0,0],[0,0,0],[0,0,0],[0,0,0],[0,0,0],[0,0,0],[0,0,0],[0,0,0],[0,0,0],[0,0,0],[0,0,0],[0,0,0]],[[0,0,0],[0,0,0],[0,0,0],[0,0,0],[0,0,0],[0,0,0],[0,0,0],[0,0,0],[0,0,0],[0,0,0],[0,0,0],[0,0,0],[0,0,0],[0,0,0],[0,0,0],[0,0,0],[0,0,0],[0,0,0],[0,0,0],[0,0,0],[0,0,0],[0,0,0],[0,0,0],[0,0,0],[0,0,0],[0,0,0],[0,0,0],[0,0,0],[0,0,0],[0,0,0],[0,0,0],[0,0,0]],[[0,0,0],[0,0,0],[0,0,0],[0,0,0],[0,0,0],[0,0,0],[0,0,0],[0,0,0],[0,0,0],[0,0,0],[0,0,0],[0,0,0],[0,0,0],[0,0,0],[0,0,0],[0,0,0],[0,0,0],[0,0,0],[0,0,0],[0,0,0],[0,0,0],[0,0,0],[0,0,0],[0,0,0],[0,0,0],[0,0,0],[0,0,0],[0,0,0],[0,0,0],[0,0,0],[0,0,0],[0,0,0]],[[0,0,0],[0,0,0],[0,0,0],[0,0,0],[0,0,0],[0,0,0],[0,0,0],[0,0,0],[0,0,0],[0,0,0],[0,0,0],[0,0,0],[0,0,0],[0,0,0],[0,0,0],[0,0,0],[0,0,0],[0,0,0],[0,0,0],[0,0,0],[0,0,0],[0,0,0],[0,0,0],[0,0,0],[0,0,0],[0,0,0],[0,0,0],[0,0,0],[0,0,0],[0,0,0],[0,0,0],[0,0,0]]],\"type\":\"image\",\"xaxis\":\"x12\",\"yaxis\":\"y12\"},{\"z\":[[[0,0,0],[0,0,0],[0,0,0],[0,0,0],[0,0,0],[0,0,0],[0,0,0],[0,0,0],[0,0,0],[0,0,0],[0,0,0],[0,0,0],[0,0,0],[0,0,0],[0,0,0],[0,0,0],[0,0,0],[0,0,0],[0,0,0],[0,0,0],[0,0,0],[0,0,0],[0,0,0],[0,0,0],[0,0,0],[0,0,0],[0,0,0],[0,0,0],[0,0,0],[0,0,0],[0,0,0],[0,0,0]],[[0,0,0],[0,0,0],[0,0,0],[0,0,0],[0,0,0],[0,0,0],[0,0,0],[0,0,0],[0,0,0],[0,0,0],[0,0,0],[0,0,0],[0,0,0],[0,0,0],[0,0,0],[0,0,0],[0,0,0],[0,0,0],[0,0,0],[0,0,0],[0,0,0],[0,0,0],[0,0,0],[0,0,0],[0,0,0],[0,0,0],[0,0,0],[0,0,0],[0,0,0],[0,0,0],[0,0,0],[0,0,0]],[[0,0,0],[0,0,0],[0,0,0],[0,0,0],[0,0,0],[0,0,0],[0,0,0],[0,0,0],[0,0,0],[0,0,0],[0,0,0],[0,0,0],[0,0,0],[0,0,0],[0,0,0],[0,0,0],[0,0,0],[0,0,0],[0,0,0],[0,0,0],[0,0,0],[0,0,0],[0,0,0],[0,0,0],[0,0,0],[0,0,0],[0,0,0],[0,0,0],[0,0,0],[0,0,0],[0,0,0],[0,0,0]],[[0,0,0],[0,0,0],[0,0,0],[0,0,0],[0,0,0],[0,0,0],[0,0,0],[0,0,0],[0,0,0],[0,0,0],[0,0,0],[0,0,0],[0,0,0],[0,0,0],[0,0,0],[0,0,0],[0,0,0],[0,0,0],[0,0,0],[0,0,0],[0,0,0],[0,0,0],[0,0,0],[0,0,0],[0,0,0],[0,0,0],[0,0,0],[0,0,0],[0,0,0],[0,0,0],[0,0,0],[0,0,0]],[[0,0,0],[0,0,0],[0,0,0],[0,0,0],[0,0,0],[0,0,0],[0,0,0],[0,0,0],[0,0,0],[0,0,0],[0,0,0],[0,0,0],[0,0,0],[0,0,0],[0,0,0],[0,0,0],[0,0,0],[0,0,0],[0,0,0],[0,0,0],[0,0,0],[0,0,0],[0,0,0],[0,0,0],[0,0,0],[0,0,0],[0,0,0],[0,0,0],[0,0,0],[0,0,0],[0,0,0],[0,0,0]],[[0,0,0],[0,0,0],[0,0,0],[0,0,0],[0,0,0],[0,0,0],[0,0,0],[0,0,0],[0,0,0],[0,0,0],[0,0,0],[0,0,0],[0,0,0],[0,0,0],[0,0,0],[0,0,0],[0,0,0],[0,0,0],[0,0,0],[0,0,0],[0,0,0],[0,0,0],[0,0,0],[0,0,0],[0,0,0],[0,0,0],[0,0,0],[0,0,0],[0,0,0],[0,0,0],[0,0,0],[0,0,0]],[[0,0,0],[0,0,0],[0,0,0],[0,0,0],[0,0,0],[0,0,0],[0,0,0],[0,0,0],[0,0,0],[0,0,0],[0,0,0],[0,0,0],[0,0,0],[0,0,0],[0,0,0],[0,0,0],[0,0,0],[0,0,0],[0,0,0],[0,0,0],[0,0,0],[0,0,0],[0,0,0],[0,0,0],[0,0,0],[0,0,0],[0,0,0],[0,0,0],[0,0,0],[0,0,0],[0,0,0],[0,0,0]],[[0,0,0],[0,0,0],[0,0,0],[0,0,0],[0,0,0],[0,0,0],[0,0,0],[0,0,0],[0,0,0],[0,0,0],[0,0,0],[0,0,0],[0,0,0],[0,0,0],[0,0,0],[0,0,0],[0,0,0],[2,2,2],[6,6,6],[10,10,10],[13,13,13],[15,15,15],[14,14,14],[12,12,12],[3,3,3],[1,1,1],[0,0,0],[0,0,0],[0,0,0],[0,0,0],[0,0,0],[0,0,0]],[[0,0,0],[0,0,0],[0,0,0],[0,0,0],[0,0,0],[0,0,0],[0,0,0],[0,0,0],[0,0,0],[0,0,0],[0,0,0],[0,0,0],[0,0,0],[0,0,0],[0,0,0],[0,0,0],[0,0,0],[37,38,37],[100,100,100],[167,167,167],[217,217,217],[237,237,237],[231,231,231],[190,190,190],[56,57,57],[32,33,32],[8,8,8],[0,0,0],[0,0,0],[0,0,0],[0,0,0],[0,0,0]],[[0,0,0],[0,0,0],[0,0,0],[0,0,0],[0,0,0],[0,0,0],[0,0,0],[0,0,0],[0,0,0],[0,0,0],[0,0,0],[0,0,0],[6,6,6],[47,48,47],[115,115,115],[118,118,118],[146,146,146],[203,203,203],[225,225,225],[239,239,239],[249,249,249],[251,252,252],[251,252,252],[243,243,243],[217,217,217],[198,198,198],[140,140,140],[58,59,59],[8,8,8],[0,0,0],[0,0,0],[0,0,0]],[[0,0,0],[0,0,0],[0,0,0],[0,0,0],[0,0,0],[0,0,0],[0,0,0],[0,0,0],[0,0,0],[0,0,0],[0,0,0],[0,0,0],[54,55,55],[155,155,155],[218,218,218],[220,220,220],[230,230,230],[250,250,250],[215,215,215],[162,162,162],[111,111,111],[84,84,84],[117,117,117],[220,220,220],[251,252,252],[248,247,248],[228,228,227],[150,150,150],[53,54,54],[0,0,0],[0,0,0],[0,0,0]],[[0,0,0],[0,0,0],[0,0,0],[0,0,0],[0,0,0],[0,0,0],[0,0,0],[0,0,0],[0,0,0],[0,0,0],[0,0,0],[38,39,38],[135,135,135],[229,229,229],[251,252,252],[251,251,251],[210,210,210],[152,152,152],[100,100,100],[54,55,55],[19,19,19],[6,6,6],[54,55,55],[206,206,206],[251,251,251],[251,252,252],[206,206,206],[116,116,116],[35,36,35],[0,0,0],[0,0,0],[0,0,0]],[[0,0,0],[0,0,0],[0,0,0],[0,0,0],[0,0,0],[0,0,0],[0,0,0],[0,0,0],[0,0,0],[0,0,0],[21,21,21],[110,110,110],[207,207,207],[250,250,250],[231,231,231],[173,173,173],[101,101,101],[40,41,40],[12,12,12],[1,1,1],[11,11,11],[51,52,52],[128,128,128],[226,226,226],[248,247,248],[191,191,191],[106,106,106],[34,35,34],[2,2,2],[0,0,0],[0,0,0],[0,0,0]],[[0,0,0],[0,0,0],[0,0,0],[0,0,0],[0,0,0],[0,0,0],[0,0,0],[0,0,0],[0,0,0],[9,9,9],[93,93,93],[191,191,191],[237,237,237],[216,216,216],[154,154,154],[52,53,53],[2,2,2],[0,0,0],[0,0,0],[3,3,3],[49,50,49],[144,144,144],[231,231,231],[248,247,248],[185,185,185],[80,80,80],[16,16,16],[0,0,0],[0,0,0],[0,0,0],[0,0,0],[0,0,0]],[[0,0,0],[0,0,0],[0,0,0],[0,0,0],[0,0,0],[0,0,0],[0,0,0],[0,0,0],[12,12,12],[68,68,68],[200,200,200],[248,247,248],[210,210,210],[126,126,126],[32,33,32],[0,0,0],[0,0,0],[0,0,0],[2,2,2],[33,34,33],[125,125,125],[224,224,224],[242,242,242],[205,205,205],[43,44,43],[6,6,6],[0,0,0],[0,0,0],[0,0,0],[0,0,0],[0,0,0],[0,0,0]],[[0,0,0],[0,0,0],[0,0,0],[0,0,0],[0,0,0],[0,0,0],[0,0,0],[4,4,4],[70,70,70],[219,219,219],[253,253,253],[224,224,224],[130,130,130],[25,25,25],[0,0,0],[0,0,0],[0,0,0],[0,0,0],[21,21,21],[136,136,136],[231,231,231],[239,239,239],[185,185,185],[52,53,53],[3,3,3],[0,0,0],[0,0,0],[0,0,0],[0,0,0],[0,0,0],[0,0,0],[0,0,0]],[[0,0,0],[0,0,0],[0,0,0],[0,0,0],[0,0,0],[0,0,0],[0,0,0],[6,6,6],[103,103,103],[226,226,226],[240,240,240],[126,126,126],[24,24,24],[1,1,1],[0,0,0],[0,0,0],[0,0,0],[15,15,15],[138,138,138],[225,225,225],[235,235,235],[176,176,176],[74,74,74],[3,3,3],[0,0,0],[0,0,0],[0,0,0],[0,0,0],[0,0,0],[0,0,0],[0,0,0],[0,0,0]],[[0,0,0],[0,0,0],[0,0,0],[0,0,0],[0,0,0],[0,0,0],[0,0,0],[1,1,1],[35,36,35],[139,139,139],[104,104,104],[36,37,36],[2,2,2],[0,0,0],[1,1,1],[12,12,12],[71,71,71],[185,185,185],[233,233,233],[226,226,226],[144,144,144],[42,43,42],[11,11,11],[0,0,0],[0,0,0],[0,0,0],[0,0,0],[0,0,0],[0,0,0],[0,0,0],[0,0,0],[0,0,0]],[[0,0,0],[0,0,0],[0,0,0],[0,0,0],[0,0,0],[0,0,0],[0,0,0],[0,0,0],[5,5,5],[36,37,36],[22,22,22],[5,5,5],[0,0,0],[0,0,0],[11,11,11],[75,75,75],[194,194,194],[244,244,244],[234,234,234],[142,142,142],[45,46,45],[3,3,3],[0,0,0],[0,0,0],[0,0,0],[0,0,0],[0,0,0],[0,0,0],[0,0,0],[0,0,0],[0,0,0],[0,0,0]],[[0,0,0],[0,0,0],[0,0,0],[0,0,0],[0,0,0],[0,0,0],[0,0,0],[0,0,0],[0,0,0],[0,0,0],[0,0,0],[0,0,0],[2,2,2],[34,35,34],[113,113,113],[188,188,188],[248,247,248],[254,254,254],[163,163,163],[57,58,58],[4,4,4],[0,0,0],[0,0,0],[0,0,0],[0,0,0],[0,0,0],[0,0,0],[0,0,0],[0,0,0],[0,0,0],[0,0,0],[0,0,0]],[[0,0,0],[0,0,0],[0,0,0],[0,0,0],[0,0,0],[0,0,0],[0,0,0],[0,0,0],[0,0,0],[0,0,0],[0,0,0],[0,0,0],[27,27,27],[109,109,109],[216,216,216],[251,252,252],[236,236,236],[178,178,178],[74,74,74],[13,13,13],[0,0,0],[0,0,0],[0,0,0],[0,0,0],[0,0,0],[0,0,0],[0,0,0],[0,0,0],[0,0,0],[0,0,0],[0,0,0],[0,0,0]],[[0,0,0],[0,0,0],[0,0,0],[0,0,0],[0,0,0],[0,0,0],[0,0,0],[0,0,0],[0,0,0],[0,0,0],[0,0,0],[6,6,6],[82,82,82],[196,196,196],[250,250,250],[232,232,232],[158,158,158],[55,56,56],[15,15,15],[2,2,2],[0,0,0],[0,0,0],[0,0,0],[0,0,0],[0,0,0],[0,0,0],[0,0,0],[0,0,0],[0,0,0],[0,0,0],[0,0,0],[0,0,0]],[[0,0,0],[0,0,0],[0,0,0],[0,0,0],[0,0,0],[0,0,0],[0,0,0],[0,0,0],[0,0,0],[0,0,0],[2,2,2],[43,44,43],[153,153,153],[251,251,251],[231,231,231],[160,160,160],[24,24,24],[2,2,2],[0,0,0],[0,0,0],[0,0,0],[0,0,0],[0,0,0],[0,0,0],[0,0,0],[0,0,0],[0,0,0],[0,0,0],[0,0,0],[0,0,0],[0,0,0],[0,0,0]],[[0,0,0],[0,0,0],[0,0,0],[0,0,0],[0,0,0],[0,0,0],[0,0,0],[0,0,0],[0,0,0],[0,0,0],[23,23,23],[142,142,142],[236,236,236],[234,234,234],[166,166,166],[17,17,17],[0,0,0],[0,0,0],[0,0,0],[0,0,0],[0,0,0],[0,0,0],[0,0,0],[0,0,0],[0,0,0],[0,0,0],[0,0,0],[0,0,0],[0,0,0],[0,0,0],[0,0,0],[0,0,0]],[[0,0,0],[0,0,0],[0,0,0],[0,0,0],[0,0,0],[0,0,0],[0,0,0],[0,0,0],[0,0,0],[15,15,15],[171,171,171],[246,246,246],[231,231,231],[152,152,152],[25,25,25],[0,0,0],[0,0,0],[0,0,0],[0,0,0],[0,0,0],[0,0,0],[0,0,0],[0,0,0],[0,0,0],[0,0,0],[0,0,0],[0,0,0],[0,0,0],[0,0,0],[0,0,0],[0,0,0],[0,0,0]],[[0,0,0],[0,0,0],[0,0,0],[0,0,0],[0,0,0],[0,0,0],[0,0,0],[1,1,1],[30,30,30],[157,157,157],[232,232,232],[234,234,234],[147,147,147],[38,39,38],[2,2,2],[0,0,0],[0,0,0],[0,0,0],[0,0,0],[0,0,0],[0,0,0],[0,0,0],[0,0,0],[0,0,0],[0,0,0],[0,0,0],[0,0,0],[0,0,0],[0,0,0],[0,0,0],[0,0,0],[0,0,0]],[[0,0,0],[0,0,0],[0,0,0],[0,0,0],[0,0,0],[0,0,0],[9,9,9],[63,63,63],[154,154,154],[228,228,227],[227,227,227],[141,141,141],[47,48,47],[3,3,3],[0,0,0],[0,0,0],[0,0,0],[0,0,0],[0,0,0],[0,0,0],[0,0,0],[0,0,0],[0,0,0],[0,0,0],[0,0,0],[0,0,0],[0,0,0],[0,0,0],[0,0,0],[0,0,0],[0,0,0],[0,0,0]],[[0,0,0],[0,0,0],[0,0,0],[0,0,0],[0,0,0],[20,20,20],[89,89,89],[177,177,177],[232,232,232],[231,231,231],[141,141,141],[48,49,48],[4,4,4],[0,0,0],[0,0,0],[0,0,0],[0,0,0],[0,0,0],[0,0,0],[0,0,0],[0,0,0],[0,0,0],[0,0,0],[0,0,0],[0,0,0],[0,0,0],[0,0,0],[0,0,0],[0,0,0],[0,0,0],[0,0,0],[0,0,0]],[[0,0,0],[0,0,0],[0,0,0],[0,0,0],[0,0,0],[55,56,56],[193,193,193],[247,247,247],[241,241,241],[164,164,164],[52,53,53],[4,4,4],[0,0,0],[0,0,0],[0,0,0],[0,0,0],[0,0,0],[0,0,0],[0,0,0],[0,0,0],[0,0,0],[0,0,0],[0,0,0],[0,0,0],[0,0,0],[0,0,0],[0,0,0],[0,0,0],[0,0,0],[0,0,0],[0,0,0],[0,0,0]],[[0,0,0],[0,0,0],[0,0,0],[0,0,0],[0,0,0],[75,75,75],[241,241,241],[235,235,235],[171,171,171],[66,66,66],[12,12,12],[0,0,0],[0,0,0],[0,0,0],[0,0,0],[0,0,0],[0,0,0],[0,0,0],[0,0,0],[0,0,0],[0,0,0],[0,0,0],[0,0,0],[0,0,0],[0,0,0],[0,0,0],[0,0,0],[0,0,0],[0,0,0],[0,0,0],[0,0,0],[0,0,0]],[[0,0,0],[0,0,0],[0,0,0],[0,0,0],[0,0,0],[53,54,54],[173,173,173],[163,163,163],[40,41,40],[6,6,6],[0,0,0],[0,0,0],[0,0,0],[0,0,0],[0,0,0],[0,0,0],[0,0,0],[0,0,0],[0,0,0],[0,0,0],[0,0,0],[0,0,0],[0,0,0],[0,0,0],[0,0,0],[0,0,0],[0,0,0],[0,0,0],[0,0,0],[0,0,0],[0,0,0],[0,0,0]],[[0,0,0],[0,0,0],[0,0,0],[0,0,0],[0,0,0],[0,0,0],[0,0,0],[0,0,0],[0,0,0],[0,0,0],[0,0,0],[0,0,0],[0,0,0],[0,0,0],[0,0,0],[0,0,0],[0,0,0],[0,0,0],[0,0,0],[0,0,0],[0,0,0],[0,0,0],[0,0,0],[0,0,0],[0,0,0],[0,0,0],[0,0,0],[0,0,0],[0,0,0],[0,0,0],[0,0,0],[0,0,0]]],\"type\":\"image\",\"xaxis\":\"x13\",\"yaxis\":\"y13\"},{\"z\":[[[0,0,0],[0,0,0],[0,0,0],[0,0,0],[0,0,0],[0,0,0],[0,0,0],[0,0,0],[0,0,0],[0,0,0],[0,0,0],[0,0,0],[0,0,0],[0,0,0],[0,0,0],[0,0,0],[0,0,0],[0,0,0],[0,0,0],[0,0,0],[0,0,0],[0,0,0],[0,0,0],[0,0,0],[0,0,0],[0,0,0],[0,0,0],[0,0,0],[0,0,0],[0,0,0],[0,0,0],[0,0,0]],[[0,0,0],[0,0,0],[0,0,0],[0,0,0],[0,0,0],[0,0,0],[0,0,0],[0,0,0],[0,0,0],[0,0,0],[0,0,0],[0,0,0],[0,0,0],[0,0,0],[0,0,0],[0,0,0],[0,0,0],[0,0,0],[0,0,0],[0,0,0],[0,0,0],[0,0,0],[0,0,0],[0,0,0],[0,0,0],[0,0,0],[0,0,0],[0,0,0],[0,0,0],[0,0,0],[0,0,0],[0,0,0]],[[0,0,0],[0,0,0],[0,0,0],[0,0,0],[0,0,0],[0,0,0],[0,0,0],[0,0,0],[0,0,0],[0,0,0],[0,0,0],[0,0,0],[0,0,0],[0,0,0],[0,0,0],[0,0,0],[0,0,0],[0,0,0],[0,0,0],[0,0,0],[0,0,0],[0,0,0],[0,0,0],[0,0,0],[0,0,0],[0,0,0],[0,0,0],[0,0,0],[0,0,0],[0,0,0],[0,0,0],[0,0,0]],[[0,0,0],[0,0,0],[0,0,0],[0,0,0],[0,0,0],[0,0,0],[0,0,0],[0,0,0],[0,0,0],[0,0,0],[0,0,0],[0,0,0],[0,0,0],[0,0,0],[0,0,0],[0,0,0],[0,0,0],[0,0,0],[0,0,0],[0,0,0],[0,0,0],[0,0,0],[0,0,0],[0,0,0],[0,0,0],[0,0,0],[0,0,0],[0,0,0],[0,0,0],[0,0,0],[0,0,0],[0,0,0]],[[0,0,0],[0,0,0],[0,0,0],[0,0,0],[0,0,0],[0,0,0],[0,0,0],[0,0,0],[0,0,0],[0,0,0],[0,0,0],[0,0,0],[0,0,0],[0,0,0],[0,0,0],[0,0,0],[0,0,0],[0,0,0],[0,0,0],[7,7,7],[36,37,36],[81,81,81],[105,105,105],[74,74,74],[8,8,8],[0,0,0],[0,0,0],[0,0,0],[0,0,0],[0,0,0],[0,0,0],[0,0,0]],[[0,0,0],[0,0,0],[0,0,0],[0,0,0],[0,0,0],[0,0,0],[0,0,0],[0,0,0],[0,0,0],[0,0,0],[0,0,0],[0,0,0],[0,0,0],[0,0,0],[0,0,0],[0,0,0],[0,0,0],[12,12,12],[45,46,45],[81,81,81],[137,137,137],[206,206,206],[243,243,243],[192,192,192],[50,51,51],[7,7,7],[0,0,0],[0,0,0],[0,0,0],[0,0,0],[0,0,0],[0,0,0]],[[0,0,0],[0,0,0],[0,0,0],[0,0,0],[0,0,0],[0,0,0],[0,0,0],[0,0,0],[0,0,0],[0,0,0],[0,0,0],[0,0,0],[0,0,0],[0,0,0],[0,0,0],[4,4,4],[29,29,29],[77,77,77],[160,160,160],[226,226,226],[251,252,252],[251,252,252],[251,252,252],[246,246,246],[141,141,141],[36,37,36],[4,4,4],[0,0,0],[0,0,0],[0,0,0],[0,0,0],[0,0,0]],[[0,0,0],[0,0,0],[0,0,0],[0,0,0],[0,0,0],[0,0,0],[0,0,0],[0,0,0],[0,0,0],[0,0,0],[0,0,0],[0,0,0],[0,0,0],[0,0,0],[6,6,6],[39,40,39],[167,167,167],[233,233,233],[251,251,251],[245,245,245],[243,243,243],[248,247,248],[251,252,252],[251,252,252],[242,242,242],[119,119,119],[30,30,30],[1,1,1],[0,0,0],[0,0,0],[0,0,0],[0,0,0]],[[0,0,0],[0,0,0],[0,0,0],[0,0,0],[0,0,0],[0,0,0],[0,0,0],[0,0,0],[0,0,0],[0,0,0],[0,0,0],[0,0,0],[0,0,0],[3,3,3],[43,44,43],[187,187,187],[243,243,243],[251,251,251],[244,244,244],[149,149,149],[113,113,113],[188,188,188],[251,252,252],[253,253,253],[251,251,251],[237,237,237],[122,122,122],[30,30,30],[0,0,0],[0,0,0],[0,0,0],[0,0,0]],[[0,0,0],[0,0,0],[0,0,0],[0,0,0],[0,0,0],[0,0,0],[0,0,0],[0,0,0],[0,0,0],[0,0,0],[0,0,0],[0,0,0],[4,4,4],[72,72,72],[215,215,215],[243,243,243],[251,252,252],[237,237,237],[103,103,103],[26,26,26],[67,67,67],[174,174,174],[253,253,253],[254,254,254],[253,253,253],[251,252,252],[174,174,174],[60,61,61],[0,0,0],[0,0,0],[0,0,0],[0,0,0]],[[0,0,0],[0,0,0],[0,0,0],[0,0,0],[0,0,0],[0,0,0],[0,0,0],[0,0,0],[0,0,0],[0,0,0],[0,0,0],[31,32,31],[95,95,95],[179,179,179],[253,253,253],[249,249,249],[199,199,199],[100,100,100],[23,23,23],[0,0,0],[26,26,26],[112,112,112],[228,228,227],[253,253,253],[251,252,252],[251,252,252],[231,231,231],[97,97,97],[0,0,0],[0,0,0],[0,0,0],[0,0,0]],[[0,0,0],[0,0,0],[0,0,0],[0,0,0],[0,0,0],[0,0,0],[0,0,0],[0,0,0],[0,0,0],[0,0,0],[50,51,51],[129,129,129],[197,197,197],[238,238,238],[244,244,244],[198,198,198],[90,90,90],[17,17,17],[0,0,0],[0,0,0],[4,4,4],[41,42,41],[129,129,129],[233,233,233],[251,251,251],[251,252,252],[251,252,252],[110,110,110],[0,0,0],[0,0,0],[0,0,0],[0,0,0]],[[0,0,0],[0,0,0],[0,0,0],[0,0,0],[0,0,0],[0,0,0],[0,0,0],[0,0,0],[0,0,0],[26,26,26],[135,135,135],[217,217,217],[248,247,248],[235,235,235],[180,180,180],[94,94,94],[12,12,12],[0,0,0],[0,0,0],[0,0,0],[0,0,0],[4,4,4],[49,50,49],[208,208,208],[249,249,249],[251,252,252],[222,222,222],[91,91,91],[0,0,0],[0,0,0],[0,0,0],[0,0,0]],[[0,0,0],[0,0,0],[0,0,0],[0,0,0],[0,0,0],[0,0,0],[0,0,0],[0,0,0],[3,3,3],[108,108,108],[210,210,210],[248,247,248],[233,233,233],[173,173,173],[73,73,73],[5,5,5],[0,0,0],[0,0,0],[0,0,0],[0,0,0],[0,0,0],[0,0,0],[39,40,39],[213,213,213],[250,250,250],[251,252,252],[178,178,178],[63,63,63],[0,0,0],[0,0,0],[0,0,0],[0,0,0]],[[0,0,0],[0,0,0],[0,0,0],[0,0,0],[0,0,0],[0,0,0],[0,0,0],[5,5,5],[43,44,43],[215,215,215],[251,251,251],[230,230,230],[165,165,165],[70,70,70],[0,0,0],[0,0,0],[0,0,0],[0,0,0],[0,0,0],[0,0,0],[0,0,0],[1,1,1],[51,52,52],[254,254,254],[253,253,253],[244,244,244],[148,148,148],[45,46,45],[0,0,0],[0,0,0],[0,0,0],[0,0,0]],[[0,0,0],[0,0,0],[0,0,0],[0,0,0],[0,0,0],[0,0,0],[4,4,4],[35,36,35],[187,187,187],[243,243,243],[241,241,241],[146,146,146],[42,43,42],[0,0,0],[0,0,0],[0,0,0],[0,0,0],[0,0,0],[0,0,0],[0,0,0],[0,0,0],[9,9,9],[75,75,75],[253,253,253],[251,252,252],[206,206,206],[66,66,66],[3,3,3],[0,0,0],[0,0,0],[0,0,0],[0,0,0]],[[0,0,0],[0,0,0],[0,0,0],[0,0,0],[0,0,0],[0,0,0],[21,21,21],[125,125,125],[240,240,240],[251,252,252],[192,192,192],[74,74,74],[2,2,2],[0,0,0],[0,0,0],[0,0,0],[0,0,0],[0,0,0],[0,0,0],[0,0,0],[0,0,0],[44,45,44],[163,163,163],[253,253,253],[251,252,252],[185,185,185],[53,54,54],[0,0,0],[0,0,0],[0,0,0],[0,0,0],[0,0,0]],[[0,0,0],[0,0,0],[0,0,0],[0,0,0],[0,0,0],[25,25,25],[108,108,108],[224,224,224],[251,251,251],[212,212,212],[110,110,110],[29,29,29],[0,0,0],[0,0,0],[0,0,0],[0,0,0],[0,0,0],[0,0,0],[0,0,0],[0,0,0],[26,26,26],[114,114,114],[235,235,235],[253,253,253],[251,252,252],[151,151,151],[39,40,39],[0,0,0],[0,0,0],[0,0,0],[0,0,0],[0,0,0]],[[0,0,0],[0,0,0],[0,0,0],[0,0,0],[0,0,0],[50,51,51],[173,173,173],[251,251,251],[253,253,253],[95,95,95],[28,28,28],[6,6,6],[0,0,0],[0,0,0],[0,0,0],[0,0,0],[0,0,0],[0,0,0],[0,0,0],[16,16,16],[97,97,97],[204,204,204],[251,252,252],[244,244,244],[138,138,138],[53,54,54],[11,11,11],[0,0,0],[0,0,0],[0,0,0],[0,0,0],[0,0,0]],[[0,0,0],[0,0,0],[0,0,0],[0,0,0],[31,32,31],[120,120,120],[226,226,226],[250,250,250],[213,213,213],[38,39,38],[0,0,0],[0,0,0],[0,0,0],[0,0,0],[0,0,0],[0,0,0],[0,0,0],[0,0,0],[16,16,16],[93,93,93],[188,188,188],[245,245,245],[250,250,250],[224,224,224],[45,46,45],[5,5,5],[0,0,0],[0,0,0],[0,0,0],[0,0,0],[0,0,0],[0,0,0]],[[0,0,0],[0,0,0],[0,0,0],[0,0,0],[80,80,80],[205,205,205],[250,250,250],[232,232,232],[126,126,126],[21,21,21],[0,0,0],[0,0,0],[0,0,0],[0,0,0],[0,0,0],[0,0,0],[0,0,0],[13,13,13],[91,91,91],[188,188,188],[244,244,244],[247,247,247],[219,219,219],[139,139,139],[8,8,8],[0,0,0],[0,0,0],[0,0,0],[0,0,0],[0,0,0],[0,0,0],[0,0,0]],[[0,0,0],[0,0,0],[0,0,0],[0,0,0],[111,111,111],[253,253,253],[244,244,244],[196,196,196],[40,41,40],[5,5,5],[0,0,0],[0,0,0],[0,0,0],[0,0,0],[0,0,0],[2,2,2],[36,37,36],[89,89,89],[194,194,194],[232,232,232],[219,219,219],[189,189,189],[130,130,130],[31,32,31],[1,1,1],[0,0,0],[0,0,0],[0,0,0],[0,0,0],[0,0,0],[0,0,0],[0,0,0]],[[0,0,0],[0,0,0],[0,0,0],[0,0,0],[111,111,111],[253,253,253],[238,238,238],[167,167,167],[18,18,18],[1,1,1],[0,0,0],[0,0,0],[2,2,2],[5,5,5],[13,13,13],[46,47,46],[143,143,143],[223,223,223],[236,236,236],[183,183,183],[118,118,118],[61,62,62],[9,9,9],[0,0,0],[0,0,0],[0,0,0],[0,0,0],[0,0,0],[0,0,0],[0,0,0],[0,0,0],[0,0,0]],[[0,0,0],[0,0,0],[0,0,0],[0,0,0],[110,110,110],[251,251,251],[246,246,246],[208,208,208],[65,65,65],[18,18,18],[10,10,10],[16,16,16],[30,30,30],[46,47,46],[85,85,85],[220,220,220],[251,251,251],[248,247,248],[175,175,175],[61,62,62],[0,0,0],[0,0,0],[0,0,0],[0,0,0],[0,0,0],[0,0,0],[0,0,0],[0,0,0],[0,0,0],[0,0,0],[0,0,0],[0,0,0]],[[0,0,0],[0,0,0],[0,0,0],[0,0,0],[80,80,80],[204,204,204],[251,252,252],[249,249,249],[240,240,240],[174,174,174],[158,158,158],[174,174,174],[208,208,208],[238,238,238],[242,242,242],[250,250,250],[251,252,252],[175,175,175],[55,56,56],[3,3,3],[0,0,0],[0,0,0],[0,0,0],[0,0,0],[0,0,0],[0,0,0],[0,0,0],[0,0,0],[0,0,0],[0,0,0],[0,0,0],[0,0,0]],[[0,0,0],[0,0,0],[0,0,0],[0,0,0],[29,29,29],[119,119,119],[233,233,233],[251,252,252],[251,252,252],[240,240,240],[236,236,236],[239,239,239],[246,246,246],[251,252,252],[244,244,244],[201,201,201],[118,118,118],[47,48,47],[9,9,9],[0,0,0],[0,0,0],[0,0,0],[0,0,0],[0,0,0],[0,0,0],[0,0,0],[0,0,0],[0,0,0],[0,0,0],[0,0,0],[0,0,0],[0,0,0]],[[0,0,0],[0,0,0],[0,0,0],[0,0,0],[5,5,5],[34,35,34],[102,102,102],[188,188,188],[248,247,248],[253,253,253],[251,252,252],[238,238,238],[203,203,203],[150,150,150],[92,92,92],[65,65,65],[27,27,27],[5,5,5],[0,0,0],[0,0,0],[0,0,0],[0,0,0],[0,0,0],[0,0,0],[0,0,0],[0,0,0],[0,0,0],[0,0,0],[0,0,0],[0,0,0],[0,0,0],[0,0,0]],[[0,0,0],[0,0,0],[0,0,0],[0,0,0],[0,0,0],[2,2,2],[18,18,18],[70,70,70],[108,108,108],[111,111,111],[110,110,110],[101,101,101],[79,79,79],[45,46,45],[10,10,10],[3,3,3],[0,0,0],[0,0,0],[0,0,0],[0,0,0],[0,0,0],[0,0,0],[0,0,0],[0,0,0],[0,0,0],[0,0,0],[0,0,0],[0,0,0],[0,0,0],[0,0,0],[0,0,0],[0,0,0]],[[0,0,0],[0,0,0],[0,0,0],[0,0,0],[0,0,0],[0,0,0],[0,0,0],[0,0,0],[0,0,0],[0,0,0],[0,0,0],[0,0,0],[0,0,0],[0,0,0],[0,0,0],[0,0,0],[0,0,0],[0,0,0],[0,0,0],[0,0,0],[0,0,0],[0,0,0],[0,0,0],[0,0,0],[0,0,0],[0,0,0],[0,0,0],[0,0,0],[0,0,0],[0,0,0],[0,0,0],[0,0,0]],[[0,0,0],[0,0,0],[0,0,0],[0,0,0],[0,0,0],[0,0,0],[0,0,0],[0,0,0],[0,0,0],[0,0,0],[0,0,0],[0,0,0],[0,0,0],[0,0,0],[0,0,0],[0,0,0],[0,0,0],[0,0,0],[0,0,0],[0,0,0],[0,0,0],[0,0,0],[0,0,0],[0,0,0],[0,0,0],[0,0,0],[0,0,0],[0,0,0],[0,0,0],[0,0,0],[0,0,0],[0,0,0]],[[0,0,0],[0,0,0],[0,0,0],[0,0,0],[0,0,0],[0,0,0],[0,0,0],[0,0,0],[0,0,0],[0,0,0],[0,0,0],[0,0,0],[0,0,0],[0,0,0],[0,0,0],[0,0,0],[0,0,0],[0,0,0],[0,0,0],[0,0,0],[0,0,0],[0,0,0],[0,0,0],[0,0,0],[0,0,0],[0,0,0],[0,0,0],[0,0,0],[0,0,0],[0,0,0],[0,0,0],[0,0,0]],[[0,0,0],[0,0,0],[0,0,0],[0,0,0],[0,0,0],[0,0,0],[0,0,0],[0,0,0],[0,0,0],[0,0,0],[0,0,0],[0,0,0],[0,0,0],[0,0,0],[0,0,0],[0,0,0],[0,0,0],[0,0,0],[0,0,0],[0,0,0],[0,0,0],[0,0,0],[0,0,0],[0,0,0],[0,0,0],[0,0,0],[0,0,0],[0,0,0],[0,0,0],[0,0,0],[0,0,0],[0,0,0]]],\"type\":\"image\",\"xaxis\":\"x14\",\"yaxis\":\"y14\"}],                        {\"template\":{\"data\":{\"histogram2dcontour\":[{\"type\":\"histogram2dcontour\",\"colorbar\":{\"outlinewidth\":0,\"ticks\":\"\"},\"colorscale\":[[0.0,\"#0d0887\"],[0.1111111111111111,\"#46039f\"],[0.2222222222222222,\"#7201a8\"],[0.3333333333333333,\"#9c179e\"],[0.4444444444444444,\"#bd3786\"],[0.5555555555555556,\"#d8576b\"],[0.6666666666666666,\"#ed7953\"],[0.7777777777777778,\"#fb9f3a\"],[0.8888888888888888,\"#fdca26\"],[1.0,\"#f0f921\"]]}],\"choropleth\":[{\"type\":\"choropleth\",\"colorbar\":{\"outlinewidth\":0,\"ticks\":\"\"}}],\"histogram2d\":[{\"type\":\"histogram2d\",\"colorbar\":{\"outlinewidth\":0,\"ticks\":\"\"},\"colorscale\":[[0.0,\"#0d0887\"],[0.1111111111111111,\"#46039f\"],[0.2222222222222222,\"#7201a8\"],[0.3333333333333333,\"#9c179e\"],[0.4444444444444444,\"#bd3786\"],[0.5555555555555556,\"#d8576b\"],[0.6666666666666666,\"#ed7953\"],[0.7777777777777778,\"#fb9f3a\"],[0.8888888888888888,\"#fdca26\"],[1.0,\"#f0f921\"]]}],\"heatmap\":[{\"type\":\"heatmap\",\"colorbar\":{\"outlinewidth\":0,\"ticks\":\"\"},\"colorscale\":[[0.0,\"#0d0887\"],[0.1111111111111111,\"#46039f\"],[0.2222222222222222,\"#7201a8\"],[0.3333333333333333,\"#9c179e\"],[0.4444444444444444,\"#bd3786\"],[0.5555555555555556,\"#d8576b\"],[0.6666666666666666,\"#ed7953\"],[0.7777777777777778,\"#fb9f3a\"],[0.8888888888888888,\"#fdca26\"],[1.0,\"#f0f921\"]]}],\"heatmapgl\":[{\"type\":\"heatmapgl\",\"colorbar\":{\"outlinewidth\":0,\"ticks\":\"\"},\"colorscale\":[[0.0,\"#0d0887\"],[0.1111111111111111,\"#46039f\"],[0.2222222222222222,\"#7201a8\"],[0.3333333333333333,\"#9c179e\"],[0.4444444444444444,\"#bd3786\"],[0.5555555555555556,\"#d8576b\"],[0.6666666666666666,\"#ed7953\"],[0.7777777777777778,\"#fb9f3a\"],[0.8888888888888888,\"#fdca26\"],[1.0,\"#f0f921\"]]}],\"contourcarpet\":[{\"type\":\"contourcarpet\",\"colorbar\":{\"outlinewidth\":0,\"ticks\":\"\"}}],\"contour\":[{\"type\":\"contour\",\"colorbar\":{\"outlinewidth\":0,\"ticks\":\"\"},\"colorscale\":[[0.0,\"#0d0887\"],[0.1111111111111111,\"#46039f\"],[0.2222222222222222,\"#7201a8\"],[0.3333333333333333,\"#9c179e\"],[0.4444444444444444,\"#bd3786\"],[0.5555555555555556,\"#d8576b\"],[0.6666666666666666,\"#ed7953\"],[0.7777777777777778,\"#fb9f3a\"],[0.8888888888888888,\"#fdca26\"],[1.0,\"#f0f921\"]]}],\"surface\":[{\"type\":\"surface\",\"colorbar\":{\"outlinewidth\":0,\"ticks\":\"\"},\"colorscale\":[[0.0,\"#0d0887\"],[0.1111111111111111,\"#46039f\"],[0.2222222222222222,\"#7201a8\"],[0.3333333333333333,\"#9c179e\"],[0.4444444444444444,\"#bd3786\"],[0.5555555555555556,\"#d8576b\"],[0.6666666666666666,\"#ed7953\"],[0.7777777777777778,\"#fb9f3a\"],[0.8888888888888888,\"#fdca26\"],[1.0,\"#f0f921\"]]}],\"mesh3d\":[{\"type\":\"mesh3d\",\"colorbar\":{\"outlinewidth\":0,\"ticks\":\"\"}}],\"scatter\":[{\"fillpattern\":{\"fillmode\":\"overlay\",\"size\":10,\"solidity\":0.2},\"type\":\"scatter\"}],\"parcoords\":[{\"type\":\"parcoords\",\"line\":{\"colorbar\":{\"outlinewidth\":0,\"ticks\":\"\"}}}],\"scatterpolargl\":[{\"type\":\"scatterpolargl\",\"marker\":{\"colorbar\":{\"outlinewidth\":0,\"ticks\":\"\"}}}],\"bar\":[{\"error_x\":{\"color\":\"#2a3f5f\"},\"error_y\":{\"color\":\"#2a3f5f\"},\"marker\":{\"line\":{\"color\":\"#E5ECF6\",\"width\":0.5},\"pattern\":{\"fillmode\":\"overlay\",\"size\":10,\"solidity\":0.2}},\"type\":\"bar\"}],\"scattergeo\":[{\"type\":\"scattergeo\",\"marker\":{\"colorbar\":{\"outlinewidth\":0,\"ticks\":\"\"}}}],\"scatterpolar\":[{\"type\":\"scatterpolar\",\"marker\":{\"colorbar\":{\"outlinewidth\":0,\"ticks\":\"\"}}}],\"histogram\":[{\"marker\":{\"pattern\":{\"fillmode\":\"overlay\",\"size\":10,\"solidity\":0.2}},\"type\":\"histogram\"}],\"scattergl\":[{\"type\":\"scattergl\",\"marker\":{\"colorbar\":{\"outlinewidth\":0,\"ticks\":\"\"}}}],\"scatter3d\":[{\"type\":\"scatter3d\",\"line\":{\"colorbar\":{\"outlinewidth\":0,\"ticks\":\"\"}},\"marker\":{\"colorbar\":{\"outlinewidth\":0,\"ticks\":\"\"}}}],\"scattermapbox\":[{\"type\":\"scattermapbox\",\"marker\":{\"colorbar\":{\"outlinewidth\":0,\"ticks\":\"\"}}}],\"scatterternary\":[{\"type\":\"scatterternary\",\"marker\":{\"colorbar\":{\"outlinewidth\":0,\"ticks\":\"\"}}}],\"scattercarpet\":[{\"type\":\"scattercarpet\",\"marker\":{\"colorbar\":{\"outlinewidth\":0,\"ticks\":\"\"}}}],\"carpet\":[{\"aaxis\":{\"endlinecolor\":\"#2a3f5f\",\"gridcolor\":\"white\",\"linecolor\":\"white\",\"minorgridcolor\":\"white\",\"startlinecolor\":\"#2a3f5f\"},\"baxis\":{\"endlinecolor\":\"#2a3f5f\",\"gridcolor\":\"white\",\"linecolor\":\"white\",\"minorgridcolor\":\"white\",\"startlinecolor\":\"#2a3f5f\"},\"type\":\"carpet\"}],\"table\":[{\"cells\":{\"fill\":{\"color\":\"#EBF0F8\"},\"line\":{\"color\":\"white\"}},\"header\":{\"fill\":{\"color\":\"#C8D4E3\"},\"line\":{\"color\":\"white\"}},\"type\":\"table\"}],\"barpolar\":[{\"marker\":{\"line\":{\"color\":\"#E5ECF6\",\"width\":0.5},\"pattern\":{\"fillmode\":\"overlay\",\"size\":10,\"solidity\":0.2}},\"type\":\"barpolar\"}],\"pie\":[{\"automargin\":true,\"type\":\"pie\"}]},\"layout\":{\"autotypenumbers\":\"strict\",\"colorway\":[\"#636efa\",\"#EF553B\",\"#00cc96\",\"#ab63fa\",\"#FFA15A\",\"#19d3f3\",\"#FF6692\",\"#B6E880\",\"#FF97FF\",\"#FECB52\"],\"font\":{\"color\":\"#2a3f5f\"},\"hovermode\":\"closest\",\"hoverlabel\":{\"align\":\"left\"},\"paper_bgcolor\":\"white\",\"plot_bgcolor\":\"#E5ECF6\",\"polar\":{\"bgcolor\":\"#E5ECF6\",\"angularaxis\":{\"gridcolor\":\"white\",\"linecolor\":\"white\",\"ticks\":\"\"},\"radialaxis\":{\"gridcolor\":\"white\",\"linecolor\":\"white\",\"ticks\":\"\"}},\"ternary\":{\"bgcolor\":\"#E5ECF6\",\"aaxis\":{\"gridcolor\":\"white\",\"linecolor\":\"white\",\"ticks\":\"\"},\"baxis\":{\"gridcolor\":\"white\",\"linecolor\":\"white\",\"ticks\":\"\"},\"caxis\":{\"gridcolor\":\"white\",\"linecolor\":\"white\",\"ticks\":\"\"}},\"coloraxis\":{\"colorbar\":{\"outlinewidth\":0,\"ticks\":\"\"}},\"colorscale\":{\"sequential\":[[0.0,\"#0d0887\"],[0.1111111111111111,\"#46039f\"],[0.2222222222222222,\"#7201a8\"],[0.3333333333333333,\"#9c179e\"],[0.4444444444444444,\"#bd3786\"],[0.5555555555555556,\"#d8576b\"],[0.6666666666666666,\"#ed7953\"],[0.7777777777777778,\"#fb9f3a\"],[0.8888888888888888,\"#fdca26\"],[1.0,\"#f0f921\"]],\"sequentialminus\":[[0.0,\"#0d0887\"],[0.1111111111111111,\"#46039f\"],[0.2222222222222222,\"#7201a8\"],[0.3333333333333333,\"#9c179e\"],[0.4444444444444444,\"#bd3786\"],[0.5555555555555556,\"#d8576b\"],[0.6666666666666666,\"#ed7953\"],[0.7777777777777778,\"#fb9f3a\"],[0.8888888888888888,\"#fdca26\"],[1.0,\"#f0f921\"]],\"diverging\":[[0,\"#8e0152\"],[0.1,\"#c51b7d\"],[0.2,\"#de77ae\"],[0.3,\"#f1b6da\"],[0.4,\"#fde0ef\"],[0.5,\"#f7f7f7\"],[0.6,\"#e6f5d0\"],[0.7,\"#b8e186\"],[0.8,\"#7fbc41\"],[0.9,\"#4d9221\"],[1,\"#276419\"]]},\"xaxis\":{\"gridcolor\":\"white\",\"linecolor\":\"white\",\"ticks\":\"\",\"title\":{\"standoff\":15},\"zerolinecolor\":\"white\",\"automargin\":true,\"zerolinewidth\":2},\"yaxis\":{\"gridcolor\":\"white\",\"linecolor\":\"white\",\"ticks\":\"\",\"title\":{\"standoff\":15},\"zerolinecolor\":\"white\",\"automargin\":true,\"zerolinewidth\":2},\"scene\":{\"xaxis\":{\"backgroundcolor\":\"#E5ECF6\",\"gridcolor\":\"white\",\"linecolor\":\"white\",\"showbackground\":true,\"ticks\":\"\",\"zerolinecolor\":\"white\",\"gridwidth\":2},\"yaxis\":{\"backgroundcolor\":\"#E5ECF6\",\"gridcolor\":\"white\",\"linecolor\":\"white\",\"showbackground\":true,\"ticks\":\"\",\"zerolinecolor\":\"white\",\"gridwidth\":2},\"zaxis\":{\"backgroundcolor\":\"#E5ECF6\",\"gridcolor\":\"white\",\"linecolor\":\"white\",\"showbackground\":true,\"ticks\":\"\",\"zerolinecolor\":\"white\",\"gridwidth\":2}},\"shapedefaults\":{\"line\":{\"color\":\"#2a3f5f\"}},\"annotationdefaults\":{\"arrowcolor\":\"#2a3f5f\",\"arrowhead\":0,\"arrowwidth\":1},\"geo\":{\"bgcolor\":\"white\",\"landcolor\":\"#E5ECF6\",\"subunitcolor\":\"white\",\"showland\":true,\"showlakes\":true,\"lakecolor\":\"white\"},\"title\":{\"x\":0.05},\"mapbox\":{\"style\":\"light\"}}},\"xaxis\":{\"anchor\":\"y\",\"domain\":[0.0,0.1183673469387755],\"showticklabels\":false},\"yaxis\":{\"anchor\":\"x\",\"domain\":[0.55,1.0],\"showticklabels\":false},\"xaxis2\":{\"anchor\":\"y2\",\"domain\":[0.14693877551020407,0.26530612244897955],\"showticklabels\":false},\"yaxis2\":{\"anchor\":\"x2\",\"domain\":[0.55,1.0],\"showticklabels\":false},\"xaxis3\":{\"anchor\":\"y3\",\"domain\":[0.29387755102040813,0.4122448979591836],\"showticklabels\":false},\"yaxis3\":{\"anchor\":\"x3\",\"domain\":[0.55,1.0],\"showticklabels\":false},\"xaxis4\":{\"anchor\":\"y4\",\"domain\":[0.4408163265306122,0.5591836734693877],\"showticklabels\":false},\"yaxis4\":{\"anchor\":\"x4\",\"domain\":[0.55,1.0],\"showticklabels\":false},\"xaxis5\":{\"anchor\":\"y5\",\"domain\":[0.5877551020408163,0.7061224489795918],\"showticklabels\":false},\"yaxis5\":{\"anchor\":\"x5\",\"domain\":[0.55,1.0],\"showticklabels\":false},\"xaxis6\":{\"anchor\":\"y6\",\"domain\":[0.7346938775510204,0.8530612244897959],\"showticklabels\":false},\"yaxis6\":{\"anchor\":\"x6\",\"domain\":[0.55,1.0],\"showticklabels\":false},\"xaxis7\":{\"anchor\":\"y7\",\"domain\":[0.8816326530612244,0.9999999999999999],\"showticklabels\":false},\"yaxis7\":{\"anchor\":\"x7\",\"domain\":[0.55,1.0],\"showticklabels\":false},\"xaxis8\":{\"anchor\":\"y8\",\"domain\":[0.0,0.1183673469387755],\"showticklabels\":false},\"yaxis8\":{\"anchor\":\"x8\",\"domain\":[0.0,0.45],\"showticklabels\":false},\"xaxis9\":{\"anchor\":\"y9\",\"domain\":[0.14693877551020407,0.26530612244897955],\"showticklabels\":false},\"yaxis9\":{\"anchor\":\"x9\",\"domain\":[0.0,0.45],\"showticklabels\":false},\"xaxis10\":{\"anchor\":\"y10\",\"domain\":[0.29387755102040813,0.4122448979591836],\"showticklabels\":false},\"yaxis10\":{\"anchor\":\"x10\",\"domain\":[0.0,0.45],\"showticklabels\":false},\"xaxis11\":{\"anchor\":\"y11\",\"domain\":[0.4408163265306122,0.5591836734693877],\"showticklabels\":false},\"yaxis11\":{\"anchor\":\"x11\",\"domain\":[0.0,0.45],\"showticklabels\":false},\"xaxis12\":{\"anchor\":\"y12\",\"domain\":[0.5877551020408163,0.7061224489795918],\"showticklabels\":false},\"yaxis12\":{\"anchor\":\"x12\",\"domain\":[0.0,0.45],\"showticklabels\":false},\"xaxis13\":{\"anchor\":\"y13\",\"domain\":[0.7346938775510204,0.8530612244897959],\"showticklabels\":false},\"yaxis13\":{\"anchor\":\"x13\",\"domain\":[0.0,0.45],\"showticklabels\":false},\"xaxis14\":{\"anchor\":\"y14\",\"domain\":[0.8816326530612244,0.9999999999999999],\"showticklabels\":false},\"yaxis14\":{\"anchor\":\"x14\",\"domain\":[0.0,0.45],\"showticklabels\":false},\"annotations\":[{\"font\":{\"size\":16},\"showarrow\":false,\"text\":\"VICReg: 13845.67\",\"x\":0.05918367346938775,\"xanchor\":\"center\",\"xref\":\"paper\",\"y\":1.0,\"yanchor\":\"bottom\",\"yref\":\"paper\"},{\"font\":{\"size\":16},\"showarrow\":false,\"text\":\"VICReg: 13513.20\",\"x\":0.2061224489795918,\"xanchor\":\"center\",\"xref\":\"paper\",\"y\":1.0,\"yanchor\":\"bottom\",\"yref\":\"paper\"},{\"font\":{\"size\":16},\"showarrow\":false,\"text\":\"VICReg: 13418.55\",\"x\":0.3530612244897959,\"xanchor\":\"center\",\"xref\":\"paper\",\"y\":1.0,\"yanchor\":\"bottom\",\"yref\":\"paper\"},{\"font\":{\"size\":16},\"showarrow\":false,\"text\":\"VICReg: 13313.00\",\"x\":0.49999999999999994,\"xanchor\":\"center\",\"xref\":\"paper\",\"y\":1.0,\"yanchor\":\"bottom\",\"yref\":\"paper\"},{\"font\":{\"size\":16},\"showarrow\":false,\"text\":\"VICReg: 13011.57\",\"x\":0.6469387755102041,\"xanchor\":\"center\",\"xref\":\"paper\",\"y\":1.0,\"yanchor\":\"bottom\",\"yref\":\"paper\"},{\"font\":{\"size\":16},\"showarrow\":false,\"text\":\"VICReg: 12979.87\",\"x\":0.7938775510204081,\"xanchor\":\"center\",\"xref\":\"paper\",\"y\":1.0,\"yanchor\":\"bottom\",\"yref\":\"paper\"},{\"font\":{\"size\":16},\"showarrow\":false,\"text\":\"VICReg: 12935.33\",\"x\":0.9408163265306122,\"xanchor\":\"center\",\"xref\":\"paper\",\"y\":1.0,\"yanchor\":\"bottom\",\"yref\":\"paper\"},{\"font\":{\"size\":16},\"showarrow\":false,\"text\":\"Near Neighbor: 40314.61\",\"x\":0.05918367346938775,\"xanchor\":\"center\",\"xref\":\"paper\",\"y\":0.45,\"yanchor\":\"bottom\",\"yref\":\"paper\"},{\"font\":{\"size\":16},\"showarrow\":false,\"text\":\"Near Neighbor: 27641.74\",\"x\":0.2061224489795918,\"xanchor\":\"center\",\"xref\":\"paper\",\"y\":0.45,\"yanchor\":\"bottom\",\"yref\":\"paper\"},{\"font\":{\"size\":16},\"showarrow\":false,\"text\":\"Near Neighbor: 27532.99\",\"x\":0.3530612244897959,\"xanchor\":\"center\",\"xref\":\"paper\",\"y\":0.45,\"yanchor\":\"bottom\",\"yref\":\"paper\"},{\"font\":{\"size\":16},\"showarrow\":false,\"text\":\"Near Neighbor: 27067.71\",\"x\":0.49999999999999994,\"xanchor\":\"center\",\"xref\":\"paper\",\"y\":0.45,\"yanchor\":\"bottom\",\"yref\":\"paper\"},{\"font\":{\"size\":16},\"showarrow\":false,\"text\":\"Near Neighbor: 26873.09\",\"x\":0.6469387755102041,\"xanchor\":\"center\",\"xref\":\"paper\",\"y\":0.45,\"yanchor\":\"bottom\",\"yref\":\"paper\"},{\"font\":{\"size\":16},\"showarrow\":false,\"text\":\"Near Neighbor: 25852.01\",\"x\":0.7938775510204081,\"xanchor\":\"center\",\"xref\":\"paper\",\"y\":0.45,\"yanchor\":\"bottom\",\"yref\":\"paper\"},{\"font\":{\"size\":16},\"showarrow\":false,\"text\":\"Near Neighbor: 25847.00\",\"x\":0.9408163265306122,\"xanchor\":\"center\",\"xref\":\"paper\",\"y\":0.45,\"yanchor\":\"bottom\",\"yref\":\"paper\"}],\"title\":{\"text\":\"Most Anomalous Samples\"},\"height\":600,\"width\":1200},                        {\"responsive\": true}                    ).then(function(){\n",
              "                            \n",
              "var gd = document.getElementById('ff340e7c-3c7c-4051-a151-4e73e8da47ad');\n",
              "var x = new MutationObserver(function (mutations, observer) {{\n",
              "        var display = window.getComputedStyle(gd).display;\n",
              "        if (!display || display === 'none') {{\n",
              "            console.log([gd, 'removed!']);\n",
              "            Plotly.purge(gd);\n",
              "            observer.disconnect();\n",
              "        }}\n",
              "}});\n",
              "\n",
              "// Listen for the removal of the full notebook cells\n",
              "var notebookContainer = gd.closest('#notebook-container');\n",
              "if (notebookContainer) {{\n",
              "    x.observe(notebookContainer, {childList: true});\n",
              "}}\n",
              "\n",
              "// Listen for the clearing of the current output cell\n",
              "var outputEl = gd.closest('.output');\n",
              "if (outputEl) {{\n",
              "    x.observe(outputEl, {childList: true});\n",
              "}}\n",
              "\n",
              "                        })                };                            </script>        </div>\n",
              "</body>\n",
              "</html>"
            ]
          },
          "metadata": {}
        }
      ]
    },
    {
      "cell_type": "markdown",
      "metadata": {
        "id": "uxnrN1Ccm4Eq"
      },
      "source": [
        "# Q1 - Clustering using K-Means\n",
        "Use the implementation of sklearn to cluster the CIFAR10 training set to\n",
        "10 clusters. Do this using the representations of VICReg once, and a second time for VICReg without generated\n",
        "neighbors."
      ]
    },
    {
      "cell_type": "markdown",
      "metadata": {
        "id": "6eKGKEzYm4Eq"
      },
      "source": [
        "# Q2 - Visualizing the Clusters in 2D\n",
        "Perform a dimensionality reduction to 2 dimensions using T-SNE, for\n",
        "the representations of both methods (separately). For each method, plot the reduced embeddings in a 2D space twice\n",
        "(side by side): (i) First, colored by their cluster index (according to the matching clustering from Q1). (ii) Second,\n",
        "colored by their actual class index. In each figure, also plot the clusters centers in black color.\n",
        "Look at the results, which method looks more successful at finding clusters? Which method looks more successful\n",
        "at separating between the classes? Explain your answer, keeping in mind that similarly to Anomaly Detection there\n",
        "are no clues for which clusters to look for."
      ]
    },
    {
      "cell_type": "markdown",
      "metadata": {
        "id": "iTaczS0Nm4Er"
      },
      "source": [
        "# Q3 - Quantitative Analysis\n",
        "Use the Silhouette Score on the clusterings of both methods (in their original embedding dimensions). Report the 2 different scores. Is this coherent with what you see in your visual analysis? Explain your answer"
      ]
    },
    {
      "cell_type": "markdown",
      "metadata": {
        "id": "76m0m-Xzm4Er"
      },
      "source": []
    }
  ],
  "metadata": {
    "accelerator": "GPU",
    "colab": {
      "gpuType": "L4",
      "machine_shape": "hm",
      "provenance": [],
      "toc_visible": true,
      "include_colab_link": true
    },
    "kernelspec": {
      "display_name": "Python 3",
      "name": "python3"
    },
    "language_info": {
      "codemirror_mode": {
        "name": "ipython",
        "version": 3
      },
      "file_extension": ".py",
      "mimetype": "text/x-python",
      "name": "python",
      "nbconvert_exporter": "python",
      "pygments_lexer": "ipython3",
      "version": "3.10.11"
    }
  },
  "nbformat": 4,
  "nbformat_minor": 0
}